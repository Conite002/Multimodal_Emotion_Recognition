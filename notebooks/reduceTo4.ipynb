{
 "cells": [
  {
   "cell_type": "code",
   "execution_count": 1,
   "metadata": {},
   "outputs": [
    {
     "name": "stderr",
     "output_type": "stream",
     "text": [
      "c:\\Users\\admin\\anaconda3\\envs\\mer\\lib\\site-packages\\tqdm\\auto.py:21: TqdmWarning: IProgress not found. Please update jupyter and ipywidgets. See https://ipywidgets.readthedocs.io/en/stable/user_install.html\n",
      "  from .autonotebook import tqdm as notebook_tqdm\n"
     ]
    }
   ],
   "source": [
    "import sys, os\n",
    "sys.path.append(os.path.abspath('..'))\n",
    "from preprocessing.text.preprocess_text import preprocess_text_for_model, load_text_model\n",
    "from preprocessing.audio.preprocess_audio import preprocess_audio_for_model, load_audio_model, extract_audio\n",
    "import torch.nn as nn\n",
    "from pipelines.training.training_pipeline import train_model\n",
    "from models.audio.audio_model import AudioCNNClassifier\n",
    "\n",
    "from pipelines.training.training_pipeline import evaluate_model\n",
    "\n",
    "\n",
    "from pipelines.preprocessing.data_pipeline import generate_metadata\n",
    "# tokenizer, model = load_text_model()\n",
    "# embeddings = preprocess_text_for_model(\"Sample text\", tokenizer, model)\n",
    "# print(embeddings)"
   ]
  },
  {
   "cell_type": "markdown",
   "metadata": {},
   "source": [
    "**2.0 Load Data Loaders**"
   ]
  },
  {
   "cell_type": "code",
   "execution_count": 11,
   "metadata": {},
   "outputs": [
    {
     "name": "stdout",
     "output_type": "stream",
     "text": [
      "Number of samples in ..\\outputs\\preprocessed\\train_data.json: 9988\n",
      "Number of samples in ..\\outputs\\preprocessed\\train_data.json: 8766\n",
      "Unique labels: ['neutral' 'surprise' 'joy' 'anger']\n"
     ]
    },
    {
     "name": "stderr",
     "output_type": "stream",
     "text": [
      "Processing ..\\outputs\\preprocessed\\train_data.json:   2%|▏         | 200/8766 [07:20<5:20:06,  2.24s/it]"
     ]
    },
    {
     "name": "stdout",
     "output_type": "stream",
     "text": [
      "Saved progress after 200 rows.\n"
     ]
    },
    {
     "name": "stderr",
     "output_type": "stream",
     "text": [
      "Processing ..\\outputs\\preprocessed\\train_data.json:   5%|▍         | 400/8766 [14:23<5:19:01,  2.29s/it]"
     ]
    },
    {
     "name": "stdout",
     "output_type": "stream",
     "text": [
      "Saved progress after 400 rows.\n"
     ]
    },
    {
     "name": "stderr",
     "output_type": "stream",
     "text": [
      "Processing ..\\outputs\\preprocessed\\train_data.json:   7%|▋         | 600/8766 [21:15<5:19:41,  2.35s/it]"
     ]
    },
    {
     "name": "stdout",
     "output_type": "stream",
     "text": [
      "Saved progress after 600 rows.\n"
     ]
    },
    {
     "name": "stderr",
     "output_type": "stream",
     "text": [
      "Processing ..\\outputs\\preprocessed\\train_data.json:   9%|▉         | 800/8766 [28:07<5:03:55,  2.29s/it]"
     ]
    },
    {
     "name": "stdout",
     "output_type": "stream",
     "text": [
      "Saved progress after 800 rows.\n"
     ]
    },
    {
     "name": "stderr",
     "output_type": "stream",
     "text": [
      "Processing ..\\outputs\\preprocessed\\train_data.json:  11%|█▏        | 1000/8766 [35:00<5:19:53,  2.47s/it]"
     ]
    },
    {
     "name": "stdout",
     "output_type": "stream",
     "text": [
      "Saved progress after 1000 rows.\n"
     ]
    },
    {
     "name": "stderr",
     "output_type": "stream",
     "text": [
      "Processing ..\\outputs\\preprocessed\\train_data.json:  14%|█▎        | 1200/8766 [41:49<5:17:35,  2.52s/it]"
     ]
    },
    {
     "name": "stdout",
     "output_type": "stream",
     "text": [
      "Saved progress after 1200 rows.\n"
     ]
    },
    {
     "name": "stderr",
     "output_type": "stream",
     "text": [
      "Processing ..\\outputs\\preprocessed\\train_data.json:  16%|█▌        | 1400/8766 [48:41<5:52:02,  2.87s/it]"
     ]
    },
    {
     "name": "stdout",
     "output_type": "stream",
     "text": [
      "Saved progress after 1400 rows.\n"
     ]
    },
    {
     "name": "stderr",
     "output_type": "stream",
     "text": [
      "Processing ..\\outputs\\preprocessed\\train_data.json:  18%|█▊        | 1600/8766 [55:30<5:42:43,  2.87s/it]"
     ]
    },
    {
     "name": "stdout",
     "output_type": "stream",
     "text": [
      "Saved progress after 1600 rows.\n"
     ]
    },
    {
     "name": "stderr",
     "output_type": "stream",
     "text": [
      "Processing ..\\outputs\\preprocessed\\train_data.json:  21%|██        | 1800/8766 [1:02:28<5:47:28,  2.99s/it]"
     ]
    },
    {
     "name": "stdout",
     "output_type": "stream",
     "text": [
      "Saved progress after 1800 rows.\n"
     ]
    },
    {
     "name": "stderr",
     "output_type": "stream",
     "text": [
      "Processing ..\\outputs\\preprocessed\\train_data.json:  23%|██▎       | 2000/8766 [1:09:29<5:54:59,  3.15s/it]"
     ]
    },
    {
     "name": "stdout",
     "output_type": "stream",
     "text": [
      "Saved progress after 2000 rows.\n"
     ]
    },
    {
     "name": "stderr",
     "output_type": "stream",
     "text": [
      "Processing ..\\outputs\\preprocessed\\train_data.json:  25%|██▌       | 2200/8766 [1:16:29<5:47:11,  3.17s/it]"
     ]
    },
    {
     "name": "stdout",
     "output_type": "stream",
     "text": [
      "Saved progress after 2200 rows.\n"
     ]
    },
    {
     "name": "stderr",
     "output_type": "stream",
     "text": [
      "Processing ..\\outputs\\preprocessed\\train_data.json:  27%|██▋       | 2400/8766 [1:23:24<5:51:30,  3.31s/it]"
     ]
    },
    {
     "name": "stdout",
     "output_type": "stream",
     "text": [
      "Saved progress after 2400 rows.\n"
     ]
    },
    {
     "name": "stderr",
     "output_type": "stream",
     "text": [
      "Processing ..\\outputs\\preprocessed\\train_data.json:  30%|██▉       | 2600/8766 [1:30:14<6:16:08,  3.66s/it]"
     ]
    },
    {
     "name": "stdout",
     "output_type": "stream",
     "text": [
      "Saved progress after 2600 rows.\n"
     ]
    },
    {
     "name": "stderr",
     "output_type": "stream",
     "text": [
      "Processing ..\\outputs\\preprocessed\\train_data.json:  32%|███▏      | 2800/8766 [1:37:04<6:14:18,  3.76s/it]"
     ]
    },
    {
     "name": "stdout",
     "output_type": "stream",
     "text": [
      "Saved progress after 2800 rows.\n"
     ]
    },
    {
     "name": "stderr",
     "output_type": "stream",
     "text": [
      "Processing ..\\outputs\\preprocessed\\train_data.json:  34%|███▍      | 3000/8766 [1:44:00<5:55:24,  3.70s/it]"
     ]
    },
    {
     "name": "stdout",
     "output_type": "stream",
     "text": [
      "Saved progress after 3000 rows.\n"
     ]
    },
    {
     "name": "stderr",
     "output_type": "stream",
     "text": [
      "Processing ..\\outputs\\preprocessed\\train_data.json:  37%|███▋      | 3200/8766 [1:50:52<5:45:50,  3.73s/it]"
     ]
    },
    {
     "name": "stdout",
     "output_type": "stream",
     "text": [
      "Saved progress after 3200 rows.\n"
     ]
    },
    {
     "name": "stderr",
     "output_type": "stream",
     "text": [
      "Processing ..\\outputs\\preprocessed\\train_data.json:  39%|███▉      | 3400/8766 [1:57:44<5:59:14,  4.02s/it]"
     ]
    },
    {
     "name": "stdout",
     "output_type": "stream",
     "text": [
      "Saved progress after 3400 rows.\n"
     ]
    },
    {
     "name": "stderr",
     "output_type": "stream",
     "text": [
      "Processing ..\\outputs\\preprocessed\\train_data.json:  41%|████      | 3600/8766 [2:04:39<5:51:52,  4.09s/it]"
     ]
    },
    {
     "name": "stdout",
     "output_type": "stream",
     "text": [
      "Saved progress after 3600 rows.\n"
     ]
    },
    {
     "name": "stderr",
     "output_type": "stream",
     "text": [
      "Processing ..\\outputs\\preprocessed\\train_data.json:  43%|████▎     | 3800/8766 [2:11:40<6:19:17,  4.58s/it]"
     ]
    },
    {
     "name": "stdout",
     "output_type": "stream",
     "text": [
      "Saved progress after 3800 rows.\n"
     ]
    },
    {
     "name": "stderr",
     "output_type": "stream",
     "text": [
      "Processing ..\\outputs\\preprocessed\\train_data.json:  46%|████▌     | 4000/8766 [2:18:49<6:07:25,  4.63s/it]"
     ]
    },
    {
     "name": "stdout",
     "output_type": "stream",
     "text": [
      "Saved progress after 4000 rows.\n"
     ]
    },
    {
     "name": "stderr",
     "output_type": "stream",
     "text": [
      "Processing ..\\outputs\\preprocessed\\train_data.json:  48%|████▊     | 4200/8766 [2:25:47<6:07:22,  4.83s/it]"
     ]
    },
    {
     "name": "stdout",
     "output_type": "stream",
     "text": [
      "Saved progress after 4200 rows.\n"
     ]
    },
    {
     "name": "stderr",
     "output_type": "stream",
     "text": [
      "Processing ..\\outputs\\preprocessed\\train_data.json:  50%|█████     | 4400/8766 [2:32:45<6:00:17,  4.95s/it]"
     ]
    },
    {
     "name": "stdout",
     "output_type": "stream",
     "text": [
      "Saved progress after 4400 rows.\n"
     ]
    },
    {
     "name": "stderr",
     "output_type": "stream",
     "text": [
      "Processing ..\\outputs\\preprocessed\\train_data.json:  52%|█████▏    | 4600/8766 [2:39:45<6:01:41,  5.21s/it]"
     ]
    },
    {
     "name": "stdout",
     "output_type": "stream",
     "text": [
      "Saved progress after 4600 rows.\n"
     ]
    },
    {
     "name": "stderr",
     "output_type": "stream",
     "text": [
      "Processing ..\\outputs\\preprocessed\\train_data.json:  55%|█████▍    | 4800/8766 [2:46:49<5:49:38,  5.29s/it]"
     ]
    },
    {
     "name": "stdout",
     "output_type": "stream",
     "text": [
      "Saved progress after 4800 rows.\n"
     ]
    },
    {
     "name": "stderr",
     "output_type": "stream",
     "text": [
      "Processing ..\\outputs\\preprocessed\\train_data.json:  57%|█████▋    | 5000/8766 [2:53:50<5:45:25,  5.50s/it]"
     ]
    },
    {
     "name": "stdout",
     "output_type": "stream",
     "text": [
      "Saved progress after 5000 rows.\n"
     ]
    },
    {
     "name": "stderr",
     "output_type": "stream",
     "text": [
      "Processing ..\\outputs\\preprocessed\\train_data.json:  59%|█████▉    | 5200/8766 [3:00:54<5:42:34,  5.76s/it]"
     ]
    },
    {
     "name": "stdout",
     "output_type": "stream",
     "text": [
      "Saved progress after 5200 rows.\n"
     ]
    },
    {
     "name": "stderr",
     "output_type": "stream",
     "text": [
      "Processing ..\\outputs\\preprocessed\\train_data.json:  62%|██████▏   | 5400/8766 [3:07:58<5:34:35,  5.96s/it]"
     ]
    },
    {
     "name": "stdout",
     "output_type": "stream",
     "text": [
      "Saved progress after 5400 rows.\n"
     ]
    },
    {
     "name": "stderr",
     "output_type": "stream",
     "text": [
      "Processing ..\\outputs\\preprocessed\\train_data.json:  64%|██████▍   | 5600/8766 [3:15:10<5:28:52,  6.23s/it]"
     ]
    },
    {
     "name": "stdout",
     "output_type": "stream",
     "text": [
      "Saved progress after 5600 rows.\n"
     ]
    },
    {
     "name": "stderr",
     "output_type": "stream",
     "text": [
      "Processing ..\\outputs\\preprocessed\\train_data.json:  66%|██████▌   | 5800/8766 [3:22:25<5:47:48,  7.04s/it]"
     ]
    },
    {
     "name": "stdout",
     "output_type": "stream",
     "text": [
      "Saved progress after 5800 rows.\n"
     ]
    },
    {
     "name": "stderr",
     "output_type": "stream",
     "text": [
      "Processing ..\\outputs\\preprocessed\\train_data.json:  68%|██████▊   | 6000/8766 [3:29:40<5:27:04,  7.10s/it]"
     ]
    },
    {
     "name": "stdout",
     "output_type": "stream",
     "text": [
      "Saved progress after 6000 rows.\n"
     ]
    },
    {
     "name": "stderr",
     "output_type": "stream",
     "text": [
      "Processing ..\\outputs\\preprocessed\\train_data.json:  71%|███████   | 6200/8766 [3:36:56<5:17:15,  7.42s/it]"
     ]
    },
    {
     "name": "stdout",
     "output_type": "stream",
     "text": [
      "Saved progress after 6200 rows.\n"
     ]
    },
    {
     "name": "stderr",
     "output_type": "stream",
     "text": [
      "Processing ..\\outputs\\preprocessed\\train_data.json:  73%|███████▎  | 6400/8766 [3:44:11<5:01:44,  7.65s/it]"
     ]
    },
    {
     "name": "stdout",
     "output_type": "stream",
     "text": [
      "Saved progress after 6400 rows.\n"
     ]
    },
    {
     "name": "stderr",
     "output_type": "stream",
     "text": [
      "Processing ..\\outputs\\preprocessed\\train_data.json:  75%|███████▌  | 6600/8766 [3:51:29<4:48:01,  7.98s/it]"
     ]
    },
    {
     "name": "stdout",
     "output_type": "stream",
     "text": [
      "Saved progress after 6600 rows.\n"
     ]
    },
    {
     "name": "stderr",
     "output_type": "stream",
     "text": [
      "Processing ..\\outputs\\preprocessed\\train_data.json:  78%|███████▊  | 6800/8766 [3:58:46<4:29:35,  8.23s/it]"
     ]
    },
    {
     "name": "stdout",
     "output_type": "stream",
     "text": [
      "Saved progress after 6800 rows.\n"
     ]
    },
    {
     "name": "stderr",
     "output_type": "stream",
     "text": [
      "Processing ..\\outputs\\preprocessed\\train_data.json:  80%|███████▉  | 7000/8766 [4:06:14<4:07:06,  8.40s/it]"
     ]
    },
    {
     "name": "stdout",
     "output_type": "stream",
     "text": [
      "Saved progress after 7000 rows.\n"
     ]
    },
    {
     "name": "stderr",
     "output_type": "stream",
     "text": [
      "Processing ..\\outputs\\preprocessed\\train_data.json:  82%|████████▏ | 7200/8766 [4:15:52<3:39:12,  8.40s/it]"
     ]
    },
    {
     "name": "stdout",
     "output_type": "stream",
     "text": [
      "Saved progress after 7200 rows.\n"
     ]
    },
    {
     "name": "stderr",
     "output_type": "stream",
     "text": [
      "Processing ..\\outputs\\preprocessed\\train_data.json:  84%|████████▍ | 7400/8766 [4:23:40<3:18:01,  8.70s/it]"
     ]
    },
    {
     "name": "stdout",
     "output_type": "stream",
     "text": [
      "Saved progress after 7400 rows.\n"
     ]
    },
    {
     "name": "stderr",
     "output_type": "stream",
     "text": [
      "Processing ..\\outputs\\preprocessed\\train_data.json:  87%|████████▋ | 7600/8766 [4:31:03<3:06:00,  9.57s/it]"
     ]
    },
    {
     "name": "stdout",
     "output_type": "stream",
     "text": [
      "Saved progress after 7600 rows.\n"
     ]
    },
    {
     "name": "stderr",
     "output_type": "stream",
     "text": [
      "Processing ..\\outputs\\preprocessed\\train_data.json:  89%|████████▉ | 7800/8766 [4:38:32<2:28:44,  9.24s/it]"
     ]
    },
    {
     "name": "stdout",
     "output_type": "stream",
     "text": [
      "Saved progress after 7800 rows.\n"
     ]
    },
    {
     "name": "stderr",
     "output_type": "stream",
     "text": [
      "Processing ..\\outputs\\preprocessed\\train_data.json:  91%|█████████▏| 8000/8766 [4:47:36<2:13:21, 10.45s/it]"
     ]
    },
    {
     "name": "stdout",
     "output_type": "stream",
     "text": [
      "Saved progress after 8000 rows.\n"
     ]
    },
    {
     "name": "stderr",
     "output_type": "stream",
     "text": [
      "Processing ..\\outputs\\preprocessed\\train_data.json:  94%|█████████▎| 8200/8766 [4:55:35<1:32:02,  9.76s/it]"
     ]
    },
    {
     "name": "stdout",
     "output_type": "stream",
     "text": [
      "Saved progress after 8200 rows.\n"
     ]
    },
    {
     "name": "stderr",
     "output_type": "stream",
     "text": [
      "Processing ..\\outputs\\preprocessed\\train_data.json:  96%|█████████▌| 8400/8766 [5:02:53<1:01:41, 10.11s/it]"
     ]
    },
    {
     "name": "stdout",
     "output_type": "stream",
     "text": [
      "Saved progress after 8400 rows.\n"
     ]
    },
    {
     "name": "stderr",
     "output_type": "stream",
     "text": [
      "Processing ..\\outputs\\preprocessed\\train_data.json:  98%|█████████▊| 8600/8766 [5:10:22<32:08, 11.62s/it]  "
     ]
    },
    {
     "name": "stdout",
     "output_type": "stream",
     "text": [
      "Saved progress after 8600 rows.\n"
     ]
    },
    {
     "name": "stderr",
     "output_type": "stream",
     "text": [
      "Processing ..\\outputs\\preprocessed\\train_data.json: 100%|██████████| 8766/8766 [5:16:54<00:00,  2.17s/it]"
     ]
    },
    {
     "name": "stdout",
     "output_type": "stream",
     "text": [
      "Saved progress after 8766 rows.\n"
     ]
    },
    {
     "name": "stderr",
     "output_type": "stream",
     "text": [
      "\n"
     ]
    },
    {
     "name": "stdout",
     "output_type": "stream",
     "text": [
      "Number of samples in ..\\outputs\\preprocessed\\dev_data.json: 1108\n",
      "Number of samples in ..\\outputs\\preprocessed\\dev_data.json: 935\n",
      "Unique labels: ['surprise' 'neutral' 'joy' 'anger']\n"
     ]
    },
    {
     "name": "stderr",
     "output_type": "stream",
     "text": [
      "Processing ..\\outputs\\preprocessed\\dev_data.json:  21%|██▏       | 200/935 [06:48<26:14,  2.14s/it]"
     ]
    },
    {
     "name": "stdout",
     "output_type": "stream",
     "text": [
      "Saved progress after 200 rows.\n"
     ]
    },
    {
     "name": "stderr",
     "output_type": "stream",
     "text": [
      "Processing ..\\outputs\\preprocessed\\dev_data.json:  43%|████▎     | 400/935 [13:32<19:19,  2.17s/it]"
     ]
    },
    {
     "name": "stdout",
     "output_type": "stream",
     "text": [
      "Saved progress after 400 rows.\n"
     ]
    },
    {
     "name": "stderr",
     "output_type": "stream",
     "text": [
      "Processing ..\\outputs\\preprocessed\\dev_data.json:  64%|██████▍   | 600/935 [20:30<12:49,  2.30s/it]"
     ]
    },
    {
     "name": "stdout",
     "output_type": "stream",
     "text": [
      "Saved progress after 600 rows.\n"
     ]
    },
    {
     "name": "stderr",
     "output_type": "stream",
     "text": [
      "Processing ..\\outputs\\preprocessed\\dev_data.json:  86%|████████▌ | 800/935 [27:22<05:35,  2.48s/it]"
     ]
    },
    {
     "name": "stdout",
     "output_type": "stream",
     "text": [
      "Saved progress after 800 rows.\n"
     ]
    },
    {
     "name": "stderr",
     "output_type": "stream",
     "text": [
      "Processing ..\\outputs\\preprocessed\\dev_data.json: 100%|██████████| 935/935 [32:01<00:00,  2.06s/it]"
     ]
    },
    {
     "name": "stdout",
     "output_type": "stream",
     "text": [
      "Saved progress after 935 rows.\n"
     ]
    },
    {
     "name": "stderr",
     "output_type": "stream",
     "text": [
      "\n"
     ]
    },
    {
     "name": "stdout",
     "output_type": "stream",
     "text": [
      "Number of samples in ..\\outputs\\preprocessed\\test_data.json: 2610\n",
      "Number of samples in ..\\outputs\\preprocessed\\test_data.json: 2284\n",
      "Unique labels: ['surprise' 'anger' 'neutral' 'joy']\n"
     ]
    },
    {
     "name": "stderr",
     "output_type": "stream",
     "text": [
      "Processing ..\\outputs\\preprocessed\\test_data.json:   9%|▉         | 200/2284 [06:59<1:10:01,  2.02s/it]"
     ]
    },
    {
     "name": "stdout",
     "output_type": "stream",
     "text": [
      "Saved progress after 200 rows.\n"
     ]
    },
    {
     "name": "stderr",
     "output_type": "stream",
     "text": [
      "Processing ..\\outputs\\preprocessed\\test_data.json:  18%|█▊        | 400/2284 [13:55<1:08:05,  2.17s/it]"
     ]
    },
    {
     "name": "stdout",
     "output_type": "stream",
     "text": [
      "Saved progress after 400 rows.\n"
     ]
    },
    {
     "name": "stderr",
     "output_type": "stream",
     "text": [
      "Processing ..\\outputs\\preprocessed\\test_data.json:  26%|██▋       | 600/2284 [20:58<1:08:12,  2.43s/it]"
     ]
    },
    {
     "name": "stdout",
     "output_type": "stream",
     "text": [
      "Saved progress after 600 rows.\n"
     ]
    },
    {
     "name": "stderr",
     "output_type": "stream",
     "text": [
      "Processing ..\\outputs\\preprocessed\\test_data.json:  35%|███▌      | 800/2284 [27:55<1:03:32,  2.57s/it]"
     ]
    },
    {
     "name": "stdout",
     "output_type": "stream",
     "text": [
      "Saved progress after 800 rows.\n"
     ]
    },
    {
     "name": "stderr",
     "output_type": "stream",
     "text": [
      "Processing ..\\outputs\\preprocessed\\test_data.json:  44%|████▍     | 1000/2284 [35:27<1:10:04,  3.27s/it]"
     ]
    },
    {
     "name": "stdout",
     "output_type": "stream",
     "text": [
      "Saved progress after 1000 rows.\n"
     ]
    },
    {
     "name": "stderr",
     "output_type": "stream",
     "text": [
      "Processing ..\\outputs\\preprocessed\\test_data.json:  53%|█████▎    | 1200/2284 [42:19<47:26,  2.63s/it]  "
     ]
    },
    {
     "name": "stdout",
     "output_type": "stream",
     "text": [
      "Saved progress after 1200 rows.\n"
     ]
    },
    {
     "name": "stderr",
     "output_type": "stream",
     "text": [
      "Processing ..\\outputs\\preprocessed\\test_data.json:  61%|██████▏   | 1400/2284 [49:16<38:56,  2.64s/it]"
     ]
    },
    {
     "name": "stdout",
     "output_type": "stream",
     "text": [
      "Saved progress after 1400 rows.\n"
     ]
    },
    {
     "name": "stderr",
     "output_type": "stream",
     "text": [
      "Processing ..\\outputs\\preprocessed\\test_data.json:  70%|███████   | 1600/2284 [56:14<33:19,  2.92s/it]"
     ]
    },
    {
     "name": "stdout",
     "output_type": "stream",
     "text": [
      "Saved progress after 1600 rows.\n"
     ]
    },
    {
     "name": "stderr",
     "output_type": "stream",
     "text": [
      "Processing ..\\outputs\\preprocessed\\test_data.json:  79%|███████▉  | 1800/2284 [1:03:27<24:56,  3.09s/it]"
     ]
    },
    {
     "name": "stdout",
     "output_type": "stream",
     "text": [
      "Saved progress after 1800 rows.\n"
     ]
    },
    {
     "name": "stderr",
     "output_type": "stream",
     "text": [
      "Processing ..\\outputs\\preprocessed\\test_data.json:  88%|████████▊ | 2000/2284 [1:10:24<14:41,  3.11s/it]"
     ]
    },
    {
     "name": "stdout",
     "output_type": "stream",
     "text": [
      "Saved progress after 2000 rows.\n"
     ]
    },
    {
     "name": "stderr",
     "output_type": "stream",
     "text": [
      "Processing ..\\outputs\\preprocessed\\test_data.json:  96%|█████████▋| 2200/2284 [1:17:17<04:28,  3.20s/it]"
     ]
    },
    {
     "name": "stdout",
     "output_type": "stream",
     "text": [
      "Saved progress after 2200 rows.\n"
     ]
    },
    {
     "name": "stderr",
     "output_type": "stream",
     "text": [
      "Processing ..\\outputs\\preprocessed\\test_data.json: 100%|██████████| 2284/2284 [1:20:15<00:00,  2.11s/it]"
     ]
    },
    {
     "name": "stdout",
     "output_type": "stream",
     "text": [
      "Saved progress after 2284 rows.\n"
     ]
    },
    {
     "name": "stderr",
     "output_type": "stream",
     "text": [
      "\n"
     ]
    },
    {
     "name": "stdout",
     "output_type": "stream",
     "text": [
      "Number of samples in ..\\outputs\\preprocessed\\test_data.json: 2610\n",
      "Number of samples in ..\\outputs\\preprocessed\\test_data.json: 2284\n",
      "Unique labels: ['surprise' 'anger' 'neutral' 'joy']\n"
     ]
    },
    {
     "name": "stderr",
     "output_type": "stream",
     "text": [
      "Processing ..\\outputs\\preprocessed\\test_data.json:   9%|▉         | 200/2284 [06:44<1:08:50,  1.98s/it]"
     ]
    },
    {
     "name": "stdout",
     "output_type": "stream",
     "text": [
      "Saved progress after 200 rows.\n"
     ]
    },
    {
     "name": "stderr",
     "output_type": "stream",
     "text": [
      "Processing ..\\outputs\\preprocessed\\test_data.json:  18%|█▊        | 400/2284 [13:29<1:06:12,  2.11s/it]"
     ]
    },
    {
     "name": "stdout",
     "output_type": "stream",
     "text": [
      "Saved progress after 400 rows.\n"
     ]
    },
    {
     "name": "stderr",
     "output_type": "stream",
     "text": [
      "Processing ..\\outputs\\preprocessed\\test_data.json:  26%|██▋       | 600/2284 [20:14<1:05:22,  2.33s/it]"
     ]
    },
    {
     "name": "stdout",
     "output_type": "stream",
     "text": [
      "Saved progress after 600 rows.\n"
     ]
    },
    {
     "name": "stderr",
     "output_type": "stream",
     "text": [
      "Processing ..\\outputs\\preprocessed\\test_data.json:  35%|███▌      | 800/2284 [26:55<59:56,  2.42s/it]  "
     ]
    },
    {
     "name": "stdout",
     "output_type": "stream",
     "text": [
      "Saved progress after 800 rows.\n"
     ]
    },
    {
     "name": "stderr",
     "output_type": "stream",
     "text": [
      "Processing ..\\outputs\\preprocessed\\test_data.json:  44%|████▍     | 1000/2284 [33:36<52:23,  2.45s/it]"
     ]
    },
    {
     "name": "stdout",
     "output_type": "stream",
     "text": [
      "Saved progress after 1000 rows.\n"
     ]
    },
    {
     "name": "stderr",
     "output_type": "stream",
     "text": [
      "Processing ..\\outputs\\preprocessed\\test_data.json:  53%|█████▎    | 1200/2284 [40:11<45:29,  2.52s/it]"
     ]
    },
    {
     "name": "stdout",
     "output_type": "stream",
     "text": [
      "Saved progress after 1200 rows.\n"
     ]
    },
    {
     "name": "stderr",
     "output_type": "stream",
     "text": [
      "Processing ..\\outputs\\preprocessed\\test_data.json:  61%|██████▏   | 1400/2284 [46:52<37:05,  2.52s/it]"
     ]
    },
    {
     "name": "stdout",
     "output_type": "stream",
     "text": [
      "Saved progress after 1400 rows.\n"
     ]
    },
    {
     "name": "stderr",
     "output_type": "stream",
     "text": [
      "Processing ..\\outputs\\preprocessed\\test_data.json:  70%|███████   | 1600/2284 [53:30<33:18,  2.92s/it]"
     ]
    },
    {
     "name": "stdout",
     "output_type": "stream",
     "text": [
      "Saved progress after 1600 rows.\n"
     ]
    },
    {
     "name": "stderr",
     "output_type": "stream",
     "text": [
      "Processing ..\\outputs\\preprocessed\\test_data.json:  79%|███████▉  | 1800/2284 [1:00:21<24:28,  3.03s/it]"
     ]
    },
    {
     "name": "stdout",
     "output_type": "stream",
     "text": [
      "Saved progress after 1800 rows.\n"
     ]
    },
    {
     "name": "stderr",
     "output_type": "stream",
     "text": [
      "Processing ..\\outputs\\preprocessed\\test_data.json:  88%|████████▊ | 2000/2284 [1:07:10<14:47,  3.13s/it]"
     ]
    },
    {
     "name": "stdout",
     "output_type": "stream",
     "text": [
      "Saved progress after 2000 rows.\n"
     ]
    },
    {
     "name": "stderr",
     "output_type": "stream",
     "text": [
      "Processing ..\\outputs\\preprocessed\\test_data.json:  96%|█████████▋| 2200/2284 [1:13:53<04:22,  3.13s/it]"
     ]
    },
    {
     "name": "stdout",
     "output_type": "stream",
     "text": [
      "Saved progress after 2200 rows.\n"
     ]
    },
    {
     "name": "stderr",
     "output_type": "stream",
     "text": [
      "Processing ..\\outputs\\preprocessed\\test_data.json: 100%|██████████| 2284/2284 [1:16:47<00:00,  2.02s/it]"
     ]
    },
    {
     "name": "stdout",
     "output_type": "stream",
     "text": [
      "Saved progress after 2284 rows.\n"
     ]
    },
    {
     "name": "stderr",
     "output_type": "stream",
     "text": [
      "\n"
     ]
    }
   ],
   "source": [
    "from utils.dataloader import create_data_loaders\n",
    "\n",
    "train_data_json_path = os.path.join(\"..\", \"outputs\", \"preprocessed\", \"train_data.json\")\n",
    "dev_data_json_path = os.path.join(\"..\", \"outputs\", \"preprocessed\", \"dev_data.json\")\n",
    "test_data_json_path = os.path.join(\"..\", \"outputs\", \"preprocessed\", \"test_data.json\")\n",
    "\n",
    "dims = {\"audio\": 100, \"text\": 768, \"video\": 512}\n",
    "train_loaders, val_loaders, label_mapping = create_data_loaders(train_data_json_path, dev_data_json_path, dims, batch_size=32, reduce_labels=reduce_labels)\n",
    "test_loaders, _, _ = create_data_loaders(test_data_json_path, test_data_json_path, dims, batch_size=32, reduce_labels=reduce_labels)"
   ]
  },
  {
   "cell_type": "code",
   "execution_count": 4,
   "metadata": {},
   "outputs": [
    {
     "name": "stdout",
     "output_type": "stream",
     "text": [
      "Label Mapping: {'fear': 0, 'joy': 1, 'anger': 2, 'disgust': 3, 'sadness': 4, 'neutral': 5, 'surprise': 6}\n"
     ]
    }
   ],
   "source": [
    "print(\"Label Mapping:\", label_mapping)"
   ]
  },
  {
   "cell_type": "code",
   "execution_count": 12,
   "metadata": {},
   "outputs": [
    {
     "name": "stdout",
     "output_type": "stream",
     "text": [
      "8766\n",
      "8766\n"
     ]
    },
    {
     "data": {
      "text/plain": [
       "tensor([0, 0, 0,  ..., 2, 0, 3])"
      ]
     },
     "execution_count": 12,
     "metadata": {},
     "output_type": "execute_result"
    }
   ],
   "source": [
    "\n",
    "# total length of the dataset\n",
    "print(len(train_loaders[\"audio\"].dataset))\n",
    "# total length of labels\n",
    "print(len(train_loaders[\"audio\"].dataset.tensors[1]))\n",
    "train_loaders[\"audio\"].dataset.tensors[1]\n"
   ]
  },
  {
   "cell_type": "code",
   "execution_count": 13,
   "metadata": {},
   "outputs": [
    {
     "data": {
      "text/plain": [
       "({'audio': <torch.utils.data.dataloader.DataLoader at 0x223118a7e20>,\n",
       "  'text': <torch.utils.data.dataloader.DataLoader at 0x223164c98e0>,\n",
       "  'video': <torch.utils.data.dataloader.DataLoader at 0x223164c99a0>},\n",
       " {'audio': <torch.utils.data.dataloader.DataLoader at 0x223164c9ac0>,\n",
       "  'text': <torch.utils.data.dataloader.DataLoader at 0x223164c9580>,\n",
       "  'video': <torch.utils.data.dataloader.DataLoader at 0x223164c9250>},\n",
       " {'audio': <torch.utils.data.dataloader.DataLoader at 0x2231652ed90>,\n",
       "  'text': <torch.utils.data.dataloader.DataLoader at 0x2231652ee50>,\n",
       "  'video': <torch.utils.data.dataloader.DataLoader at 0x2231652e550>})"
      ]
     },
     "execution_count": 13,
     "metadata": {},
     "output_type": "execute_result"
    }
   ],
   "source": [
    "train_loaders, val_loaders, test_loaders"
   ]
  },
  {
   "cell_type": "markdown",
   "metadata": {},
   "source": [
    "**Saving dataset**"
   ]
  },
  {
   "cell_type": "code",
   "execution_count": 14,
   "metadata": {},
   "outputs": [],
   "source": [
    "# Save train, val, and test datasets\n",
    "saving_dir = os.path.join(\"..\", \"outputs\", \"embeddings\")\n",
    "import torch\n",
    "\n",
    "torch.save({\n",
    "    'train': {\n",
    "        'audio': train_loaders['audio'].dataset,\n",
    "        'text': train_loaders['text'].dataset,\n",
    "        'video': train_loaders['video'].dataset,\n",
    "        'labels': train_loaders['audio'].dataset.tensors[1]\n",
    "    },\n",
    "    'val': {\n",
    "        'audio': val_loaders['audio'].dataset,\n",
    "        'text': val_loaders['text'].dataset,\n",
    "        'video': val_loaders['video'].dataset,\n",
    "        'labels': val_loaders['audio'].dataset.tensors[1]\n",
    "    },\n",
    "    'test': {\n",
    "        'audio': test_loaders['audio'].dataset,\n",
    "        'text': test_loaders['text'].dataset,\n",
    "        'video': test_loaders['video'].dataset,\n",
    "        'labels': test_loaders['audio'].dataset.tensors[1]\n",
    "    }\n",
    "}, os.path.join(saving_dir, \"loaders_datasets_4.pt\"))\n"
   ]
  },
  {
   "cell_type": "markdown",
   "metadata": {},
   "source": [
    "**Loading**"
   ]
  },
  {
   "cell_type": "code",
   "execution_count": 2,
   "metadata": {},
   "outputs": [],
   "source": [
    "import os\n",
    "import torch\n",
    "from torch.utils.data import DataLoader\n",
    "\n",
    "saving_dir = os.path.join(\"..\", \"outputs\", \"embeddings\")\n",
    "saved_data = torch.load(os.path.join(saving_dir, \"loaders_datasets_4.pt\"))\n",
    "\n",
    "train_loaders = {\n",
    "    'audio': DataLoader(saved_data['train']['audio'], batch_size=32, shuffle=True),\n",
    "    'text': DataLoader(saved_data['train']['text'], batch_size=32, shuffle=True),\n",
    "    'video': DataLoader(saved_data['train']['video'], batch_size=32, shuffle=True),\n",
    "    'label': DataLoader(saved_data['train']['labels'], batch_size=32, shuffle=True)\n",
    "}\n",
    "\n",
    "val_loaders = {\n",
    "    'audio': DataLoader(saved_data['val']['audio'], batch_size=32, shuffle=False),\n",
    "    'text': DataLoader(saved_data['val']['text'], batch_size=32, shuffle=False),\n",
    "    'video': DataLoader(saved_data['val']['video'], batch_size=32, shuffle=False),\n",
    "    'label': DataLoader(saved_data['val']['labels'], batch_size=32, shuffle=False)\n",
    "}\n",
    "\n",
    "test_loaders = {\n",
    "    'audio': DataLoader(saved_data['test']['audio'], batch_size=32, shuffle=False),\n",
    "    'text': DataLoader(saved_data['test']['text'], batch_size=32, shuffle=False),\n",
    "    'video': DataLoader(saved_data['test']['video'], batch_size=32, shuffle=False),\n",
    "    'label': DataLoader(saved_data['test']['labels'], batch_size=32, shuffle=False)\n",
    "}\n"
   ]
  },
  {
   "cell_type": "markdown",
   "metadata": {},
   "source": [
    "**3.0 Train and Validate**"
   ]
  },
  {
   "cell_type": "markdown",
   "metadata": {},
   "source": [
    "**Audio**"
   ]
  },
  {
   "cell_type": "code",
   "execution_count": 3,
   "metadata": {},
   "outputs": [
    {
     "name": "stderr",
     "output_type": "stream",
     "text": [
      "Epoch 1/300 - Training:   0%|          | 0/274 [00:00<?, ?it/s]"
     ]
    },
    {
     "name": "stderr",
     "output_type": "stream",
     "text": [
      "Epoch 1/300 - Training: 100%|██████████| 274/274 [00:01<00:00, 191.26it/s]\n",
      "Epoch 2/300 - Training: 100%|██████████| 274/274 [00:01<00:00, 192.43it/s]\n",
      "Epoch 3/300 - Training: 100%|██████████| 274/274 [00:01<00:00, 171.14it/s]\n",
      "Epoch 4/300 - Training: 100%|██████████| 274/274 [00:01<00:00, 172.72it/s]\n",
      "Epoch 5/300 - Training: 100%|██████████| 274/274 [00:01<00:00, 178.52it/s]\n",
      "Epoch 6/300 - Training: 100%|██████████| 274/274 [00:01<00:00, 181.35it/s]\n",
      "Epoch 7/300 - Training: 100%|██████████| 274/274 [00:01<00:00, 178.36it/s]\n",
      "Epoch 8/300 - Training: 100%|██████████| 274/274 [00:01<00:00, 188.38it/s]\n",
      "Epoch 9/300 - Training: 100%|██████████| 274/274 [00:01<00:00, 190.69it/s]\n",
      "Epoch 10/300 - Training: 100%|██████████| 274/274 [00:01<00:00, 179.42it/s]\n",
      "Epoch 11/300 - Training: 100%|██████████| 274/274 [00:01<00:00, 177.29it/s]\n",
      "Epoch 12/300 - Training: 100%|██████████| 274/274 [00:01<00:00, 180.22it/s]\n",
      "Epoch 13/300 - Training: 100%|██████████| 274/274 [00:01<00:00, 183.31it/s]\n",
      "Epoch 14/300 - Training: 100%|██████████| 274/274 [00:01<00:00, 183.05it/s]\n",
      "Epoch 15/300 - Training: 100%|██████████| 274/274 [00:01<00:00, 181.74it/s]\n",
      "Epoch 16/300 - Training: 100%|██████████| 274/274 [00:01<00:00, 193.14it/s]\n",
      "Epoch 17/300 - Training: 100%|██████████| 274/274 [00:01<00:00, 182.11it/s]\n",
      "Epoch 18/300 - Training: 100%|██████████| 274/274 [00:01<00:00, 186.60it/s]\n",
      "Epoch 19/300 - Training: 100%|██████████| 274/274 [00:01<00:00, 189.11it/s]\n",
      "Epoch 20/300 - Training: 100%|██████████| 274/274 [00:01<00:00, 189.67it/s]\n",
      "Epoch 21/300 - Training: 100%|██████████| 274/274 [00:01<00:00, 174.70it/s]\n",
      "Epoch 22/300 - Training: 100%|██████████| 274/274 [00:01<00:00, 173.43it/s]\n",
      "Epoch 23/300 - Training: 100%|██████████| 274/274 [00:01<00:00, 184.08it/s]\n",
      "Epoch 24/300 - Training: 100%|██████████| 274/274 [00:01<00:00, 178.23it/s]\n",
      "Epoch 25/300 - Training: 100%|██████████| 274/274 [00:01<00:00, 183.75it/s]\n",
      "Epoch 26/300 - Training: 100%|██████████| 274/274 [00:01<00:00, 182.28it/s]\n",
      "Epoch 27/300 - Training: 100%|██████████| 274/274 [00:01<00:00, 187.22it/s]\n",
      "Epoch 28/300 - Training: 100%|██████████| 274/274 [00:01<00:00, 186.91it/s]\n",
      "Epoch 29/300 - Training: 100%|██████████| 274/274 [00:01<00:00, 187.00it/s]\n",
      "Epoch 30/300 - Training: 100%|██████████| 274/274 [00:01<00:00, 178.26it/s]\n",
      "Epoch 31/300 - Training: 100%|██████████| 274/274 [00:01<00:00, 186.49it/s]\n",
      "Epoch 32/300 - Training: 100%|██████████| 274/274 [00:01<00:00, 181.06it/s]\n",
      "Epoch 33/300 - Training: 100%|██████████| 274/274 [00:01<00:00, 186.41it/s]\n",
      "Epoch 34/300 - Training: 100%|██████████| 274/274 [00:01<00:00, 191.07it/s]\n",
      "Epoch 35/300 - Training: 100%|██████████| 274/274 [00:01<00:00, 173.76it/s]\n",
      "Epoch 36/300 - Training: 100%|██████████| 274/274 [00:01<00:00, 173.90it/s]\n",
      "Epoch 37/300 - Training: 100%|██████████| 274/274 [00:01<00:00, 179.62it/s]\n",
      "Epoch 38/300 - Training: 100%|██████████| 274/274 [00:01<00:00, 181.95it/s]\n",
      "Epoch 39/300 - Training: 100%|██████████| 274/274 [00:01<00:00, 188.99it/s]\n",
      "Epoch 40/300 - Training: 100%|██████████| 274/274 [00:01<00:00, 186.41it/s]\n",
      "Epoch 41/300 - Training: 100%|██████████| 274/274 [00:01<00:00, 185.87it/s]\n",
      "Epoch 42/300 - Training: 100%|██████████| 274/274 [00:01<00:00, 182.97it/s]\n",
      "Epoch 43/300 - Training: 100%|██████████| 274/274 [00:01<00:00, 175.92it/s]\n",
      "Epoch 44/300 - Training: 100%|██████████| 274/274 [00:01<00:00, 185.01it/s]\n",
      "Epoch 45/300 - Training: 100%|██████████| 274/274 [00:01<00:00, 186.27it/s]\n",
      "Epoch 46/300 - Training: 100%|██████████| 274/274 [00:01<00:00, 190.89it/s]\n",
      "Epoch 47/300 - Training: 100%|██████████| 274/274 [00:01<00:00, 189.02it/s]\n",
      "Epoch 48/300 - Training: 100%|██████████| 274/274 [00:01<00:00, 185.26it/s]\n",
      "Epoch 49/300 - Training: 100%|██████████| 274/274 [00:01<00:00, 192.29it/s]\n",
      "Epoch 50/300 - Training: 100%|██████████| 274/274 [00:01<00:00, 187.60it/s]\n",
      "Epoch 51/300 - Training: 100%|██████████| 274/274 [00:01<00:00, 186.23it/s]\n",
      "Epoch 52/300 - Training: 100%|██████████| 274/274 [00:01<00:00, 175.54it/s]\n",
      "Epoch 53/300 - Training: 100%|██████████| 274/274 [00:01<00:00, 189.44it/s]\n",
      "Epoch 54/300 - Training: 100%|██████████| 274/274 [00:01<00:00, 190.82it/s]\n",
      "Epoch 55/300 - Training: 100%|██████████| 274/274 [00:01<00:00, 181.47it/s]\n",
      "Epoch 56/300 - Training: 100%|██████████| 274/274 [00:01<00:00, 181.52it/s]\n",
      "Epoch 57/300 - Training: 100%|██████████| 274/274 [00:01<00:00, 187.75it/s]\n",
      "Epoch 58/300 - Training: 100%|██████████| 274/274 [00:01<00:00, 192.47it/s]\n",
      "Epoch 59/300 - Training: 100%|██████████| 274/274 [00:01<00:00, 176.25it/s]\n",
      "Epoch 60/300 - Training: 100%|██████████| 274/274 [00:01<00:00, 178.01it/s]\n",
      "Epoch 61/300 - Training: 100%|██████████| 274/274 [00:01<00:00, 160.93it/s]\n",
      "Epoch 62/300 - Training: 100%|██████████| 274/274 [00:01<00:00, 180.54it/s]\n",
      "Epoch 63/300 - Training: 100%|██████████| 274/274 [00:01<00:00, 170.87it/s]\n",
      "Epoch 64/300 - Training: 100%|██████████| 274/274 [00:01<00:00, 170.37it/s]\n",
      "Epoch 65/300 - Training: 100%|██████████| 274/274 [00:01<00:00, 169.72it/s]\n",
      "Epoch 66/300 - Training: 100%|██████████| 274/274 [00:01<00:00, 173.67it/s]\n",
      "Epoch 67/300 - Training: 100%|██████████| 274/274 [00:01<00:00, 177.45it/s]\n",
      "Epoch 68/300 - Training: 100%|██████████| 274/274 [00:01<00:00, 189.36it/s]\n",
      "Epoch 69/300 - Training: 100%|██████████| 274/274 [00:01<00:00, 180.94it/s]\n",
      "Epoch 70/300 - Training: 100%|██████████| 274/274 [00:01<00:00, 179.08it/s]\n",
      "Epoch 71/300 - Training: 100%|██████████| 274/274 [00:01<00:00, 182.02it/s]\n",
      "Epoch 72/300 - Training: 100%|██████████| 274/274 [00:01<00:00, 178.99it/s]\n",
      "Epoch 73/300 - Training: 100%|██████████| 274/274 [00:01<00:00, 169.80it/s]\n",
      "Epoch 74/300 - Training: 100%|██████████| 274/274 [00:01<00:00, 180.93it/s]\n",
      "Epoch 75/300 - Training: 100%|██████████| 274/274 [00:01<00:00, 161.65it/s]\n",
      "Epoch 76/300 - Training: 100%|██████████| 274/274 [00:01<00:00, 175.90it/s]\n",
      "Epoch 77/300 - Training: 100%|██████████| 274/274 [00:01<00:00, 180.31it/s]\n",
      "Epoch 78/300 - Training: 100%|██████████| 274/274 [00:01<00:00, 178.90it/s]\n",
      "Epoch 79/300 - Training: 100%|██████████| 274/274 [00:01<00:00, 175.23it/s]\n",
      "Epoch 80/300 - Training: 100%|██████████| 274/274 [00:01<00:00, 182.42it/s]\n",
      "Epoch 81/300 - Training: 100%|██████████| 274/274 [00:01<00:00, 190.73it/s]\n",
      "Epoch 82/300 - Training: 100%|██████████| 274/274 [00:01<00:00, 181.54it/s]\n",
      "Epoch 83/300 - Training: 100%|██████████| 274/274 [00:01<00:00, 177.65it/s]\n",
      "Epoch 84/300 - Training: 100%|██████████| 274/274 [00:01<00:00, 176.99it/s]\n",
      "Epoch 85/300 - Training: 100%|██████████| 274/274 [00:01<00:00, 176.69it/s]\n",
      "Epoch 86/300 - Training: 100%|██████████| 274/274 [00:01<00:00, 178.87it/s]\n",
      "Epoch 87/300 - Training: 100%|██████████| 274/274 [00:01<00:00, 182.44it/s]\n",
      "Epoch 88/300 - Training: 100%|██████████| 274/274 [00:01<00:00, 180.74it/s]\n",
      "Epoch 89/300 - Training: 100%|██████████| 274/274 [00:01<00:00, 178.75it/s]\n",
      "Epoch 90/300 - Training: 100%|██████████| 274/274 [00:01<00:00, 173.39it/s]\n",
      "Epoch 91/300 - Training: 100%|██████████| 274/274 [00:01<00:00, 182.50it/s]\n",
      "Epoch 92/300 - Training: 100%|██████████| 274/274 [00:01<00:00, 177.67it/s]\n",
      "Epoch 93/300 - Training: 100%|██████████| 274/274 [00:01<00:00, 181.05it/s]\n",
      "Epoch 94/300 - Training: 100%|██████████| 274/274 [00:01<00:00, 179.53it/s]\n",
      "Epoch 95/300 - Training: 100%|██████████| 274/274 [00:01<00:00, 177.25it/s]\n",
      "Epoch 96/300 - Training: 100%|██████████| 274/274 [00:01<00:00, 179.24it/s]\n",
      "Epoch 97/300 - Training: 100%|██████████| 274/274 [00:01<00:00, 179.61it/s]\n",
      "Epoch 98/300 - Training: 100%|██████████| 274/274 [00:01<00:00, 184.91it/s]\n",
      "Epoch 99/300 - Training: 100%|██████████| 274/274 [00:01<00:00, 180.54it/s]\n",
      "Epoch 100/300 - Training: 100%|██████████| 274/274 [00:01<00:00, 180.89it/s]\n",
      "Epoch 101/300 - Training: 100%|██████████| 274/274 [00:01<00:00, 183.16it/s]\n",
      "Epoch 102/300 - Training: 100%|██████████| 274/274 [00:01<00:00, 180.48it/s]\n",
      "Epoch 103/300 - Training: 100%|██████████| 274/274 [00:01<00:00, 184.34it/s]\n",
      "Epoch 104/300 - Training: 100%|██████████| 274/274 [00:01<00:00, 179.91it/s]\n",
      "Epoch 105/300 - Training: 100%|██████████| 274/274 [00:01<00:00, 180.61it/s]\n",
      "Epoch 106/300 - Training: 100%|██████████| 274/274 [00:01<00:00, 172.62it/s]\n",
      "Epoch 107/300 - Training: 100%|██████████| 274/274 [00:01<00:00, 177.37it/s]\n",
      "Epoch 108/300 - Training: 100%|██████████| 274/274 [00:01<00:00, 169.17it/s]\n",
      "Epoch 109/300 - Training: 100%|██████████| 274/274 [00:01<00:00, 177.23it/s]\n",
      "Epoch 110/300 - Training: 100%|██████████| 274/274 [00:01<00:00, 175.11it/s]\n",
      "Epoch 111/300 - Training: 100%|██████████| 274/274 [00:01<00:00, 164.75it/s]\n",
      "Epoch 112/300 - Training: 100%|██████████| 274/274 [00:01<00:00, 163.83it/s]\n",
      "Epoch 113/300 - Training: 100%|██████████| 274/274 [00:01<00:00, 165.70it/s]\n",
      "Epoch 114/300 - Training: 100%|██████████| 274/274 [00:01<00:00, 170.15it/s]\n",
      "Epoch 115/300 - Training: 100%|██████████| 274/274 [00:01<00:00, 172.81it/s]\n",
      "Epoch 116/300 - Training: 100%|██████████| 274/274 [00:01<00:00, 185.46it/s]\n",
      "Epoch 117/300 - Training: 100%|██████████| 274/274 [00:01<00:00, 175.75it/s]\n",
      "Epoch 118/300 - Training: 100%|██████████| 274/274 [00:01<00:00, 191.10it/s]\n",
      "Epoch 119/300 - Training: 100%|██████████| 274/274 [00:01<00:00, 187.90it/s]\n",
      "Epoch 120/300 - Training: 100%|██████████| 274/274 [00:01<00:00, 181.28it/s]\n",
      "Epoch 121/300 - Training: 100%|██████████| 274/274 [00:01<00:00, 184.43it/s]\n",
      "Epoch 122/300 - Training: 100%|██████████| 274/274 [00:01<00:00, 180.67it/s]\n",
      "Epoch 123/300 - Training: 100%|██████████| 274/274 [00:01<00:00, 179.51it/s]\n",
      "Epoch 124/300 - Training: 100%|██████████| 274/274 [00:01<00:00, 175.27it/s]\n",
      "Epoch 125/300 - Training: 100%|██████████| 274/274 [00:01<00:00, 172.39it/s]\n",
      "Epoch 126/300 - Training: 100%|██████████| 274/274 [00:01<00:00, 171.16it/s]\n",
      "Epoch 127/300 - Training: 100%|██████████| 274/274 [00:01<00:00, 181.51it/s]\n",
      "Epoch 128/300 - Training: 100%|██████████| 274/274 [00:01<00:00, 191.51it/s]\n",
      "Epoch 129/300 - Training: 100%|██████████| 274/274 [00:01<00:00, 186.09it/s]\n",
      "Epoch 130/300 - Training: 100%|██████████| 274/274 [00:01<00:00, 189.26it/s]\n",
      "Epoch 131/300 - Training: 100%|██████████| 274/274 [00:01<00:00, 192.50it/s]\n",
      "Epoch 132/300 - Training: 100%|██████████| 274/274 [00:01<00:00, 189.16it/s]\n",
      "Epoch 133/300 - Training: 100%|██████████| 274/274 [00:01<00:00, 177.46it/s]\n",
      "Epoch 134/300 - Training: 100%|██████████| 274/274 [00:01<00:00, 172.95it/s]\n",
      "Epoch 135/300 - Training: 100%|██████████| 274/274 [00:01<00:00, 175.91it/s]\n",
      "Epoch 136/300 - Training: 100%|██████████| 274/274 [00:01<00:00, 191.07it/s]\n",
      "Epoch 137/300 - Training: 100%|██████████| 274/274 [00:01<00:00, 186.76it/s]\n",
      "Epoch 138/300 - Training: 100%|██████████| 274/274 [00:01<00:00, 189.64it/s]\n",
      "Epoch 139/300 - Training: 100%|██████████| 274/274 [00:01<00:00, 186.33it/s]\n",
      "Epoch 140/300 - Training: 100%|██████████| 274/274 [00:01<00:00, 186.05it/s]\n",
      "Epoch 141/300 - Training: 100%|██████████| 274/274 [00:01<00:00, 189.37it/s]\n",
      "Epoch 142/300 - Training: 100%|██████████| 274/274 [00:01<00:00, 174.97it/s]\n",
      "Epoch 143/300 - Training: 100%|██████████| 274/274 [00:01<00:00, 175.03it/s]\n",
      "Epoch 144/300 - Training: 100%|██████████| 274/274 [00:01<00:00, 184.11it/s]\n",
      "Epoch 145/300 - Training: 100%|██████████| 274/274 [00:01<00:00, 190.12it/s]\n",
      "Epoch 146/300 - Training: 100%|██████████| 274/274 [00:01<00:00, 190.36it/s]\n",
      "Epoch 147/300 - Training: 100%|██████████| 274/274 [00:01<00:00, 190.47it/s]\n",
      "Epoch 148/300 - Training: 100%|██████████| 274/274 [00:01<00:00, 193.45it/s]\n",
      "Epoch 149/300 - Training: 100%|██████████| 274/274 [00:01<00:00, 192.06it/s]\n",
      "Epoch 150/300 - Training: 100%|██████████| 274/274 [00:01<00:00, 189.28it/s]\n",
      "Epoch 151/300 - Training: 100%|██████████| 274/274 [00:01<00:00, 196.26it/s]\n",
      "Epoch 152/300 - Training: 100%|██████████| 274/274 [00:01<00:00, 189.60it/s]\n",
      "Epoch 153/300 - Training: 100%|██████████| 274/274 [00:01<00:00, 191.97it/s]\n",
      "Epoch 154/300 - Training: 100%|██████████| 274/274 [00:01<00:00, 184.86it/s]\n",
      "Epoch 155/300 - Training: 100%|██████████| 274/274 [00:01<00:00, 182.31it/s]\n",
      "Epoch 156/300 - Training: 100%|██████████| 274/274 [00:01<00:00, 181.01it/s]\n",
      "Epoch 157/300 - Training: 100%|██████████| 274/274 [00:01<00:00, 178.56it/s]\n",
      "Epoch 158/300 - Training: 100%|██████████| 274/274 [00:01<00:00, 183.79it/s]\n",
      "Epoch 159/300 - Training: 100%|██████████| 274/274 [00:01<00:00, 188.94it/s]\n",
      "Epoch 160/300 - Training: 100%|██████████| 274/274 [00:01<00:00, 184.06it/s]\n",
      "Epoch 161/300 - Training: 100%|██████████| 274/274 [00:01<00:00, 180.31it/s]\n",
      "Epoch 162/300 - Training: 100%|██████████| 274/274 [00:01<00:00, 177.70it/s]\n",
      "Epoch 163/300 - Training: 100%|██████████| 274/274 [00:01<00:00, 175.86it/s]\n",
      "Epoch 164/300 - Training: 100%|██████████| 274/274 [00:01<00:00, 173.23it/s]\n",
      "Epoch 165/300 - Training: 100%|██████████| 274/274 [00:01<00:00, 180.24it/s]\n",
      "Epoch 166/300 - Training: 100%|██████████| 274/274 [00:01<00:00, 183.08it/s]\n",
      "Epoch 167/300 - Training: 100%|██████████| 274/274 [00:01<00:00, 188.70it/s]\n",
      "Epoch 168/300 - Training: 100%|██████████| 274/274 [00:01<00:00, 193.10it/s]\n",
      "Epoch 169/300 - Training: 100%|██████████| 274/274 [00:01<00:00, 181.84it/s]\n",
      "Epoch 170/300 - Training: 100%|██████████| 274/274 [00:01<00:00, 190.13it/s]\n",
      "Epoch 171/300 - Training: 100%|██████████| 274/274 [00:01<00:00, 189.89it/s]\n",
      "Epoch 172/300 - Training: 100%|██████████| 274/274 [00:01<00:00, 181.51it/s]\n",
      "Epoch 173/300 - Training: 100%|██████████| 274/274 [00:01<00:00, 179.70it/s]\n",
      "Epoch 174/300 - Training: 100%|██████████| 274/274 [00:01<00:00, 175.57it/s]\n",
      "Epoch 175/300 - Training: 100%|██████████| 274/274 [00:01<00:00, 173.00it/s]\n",
      "Epoch 176/300 - Training: 100%|██████████| 274/274 [00:01<00:00, 177.61it/s]\n",
      "Epoch 177/300 - Training: 100%|██████████| 274/274 [00:01<00:00, 176.24it/s]\n",
      "Epoch 178/300 - Training: 100%|██████████| 274/274 [00:01<00:00, 177.15it/s]\n",
      "Epoch 179/300 - Training: 100%|██████████| 274/274 [00:01<00:00, 187.03it/s]\n",
      "Epoch 180/300 - Training: 100%|██████████| 274/274 [00:01<00:00, 178.67it/s]\n",
      "Epoch 181/300 - Training: 100%|██████████| 274/274 [00:01<00:00, 184.82it/s]\n",
      "Epoch 182/300 - Training: 100%|██████████| 274/274 [00:01<00:00, 176.33it/s]\n",
      "Epoch 183/300 - Training: 100%|██████████| 274/274 [00:01<00:00, 189.84it/s]\n",
      "Epoch 184/300 - Training: 100%|██████████| 274/274 [00:01<00:00, 188.04it/s]\n",
      "Epoch 185/300 - Training: 100%|██████████| 274/274 [00:01<00:00, 183.28it/s]\n",
      "Epoch 186/300 - Training: 100%|██████████| 274/274 [00:01<00:00, 177.94it/s]\n",
      "Epoch 187/300 - Training: 100%|██████████| 274/274 [00:01<00:00, 174.63it/s]\n",
      "Epoch 188/300 - Training: 100%|██████████| 274/274 [00:01<00:00, 179.78it/s]\n",
      "Epoch 189/300 - Training: 100%|██████████| 274/274 [00:01<00:00, 177.63it/s]\n",
      "Epoch 190/300 - Training: 100%|██████████| 274/274 [00:01<00:00, 175.62it/s]\n",
      "Epoch 191/300 - Training: 100%|██████████| 274/274 [00:01<00:00, 180.30it/s]\n",
      "Epoch 192/300 - Training: 100%|██████████| 274/274 [00:01<00:00, 177.87it/s]\n",
      "Epoch 193/300 - Training: 100%|██████████| 274/274 [00:01<00:00, 175.57it/s]\n",
      "Epoch 194/300 - Training: 100%|██████████| 274/274 [00:01<00:00, 185.73it/s]\n",
      "Epoch 195/300 - Training: 100%|██████████| 274/274 [00:01<00:00, 175.95it/s]\n",
      "Epoch 196/300 - Training: 100%|██████████| 274/274 [00:01<00:00, 175.52it/s]\n",
      "Epoch 197/300 - Training: 100%|██████████| 274/274 [00:01<00:00, 176.13it/s]\n",
      "Epoch 198/300 - Training: 100%|██████████| 274/274 [00:01<00:00, 178.15it/s]\n",
      "Epoch 199/300 - Training: 100%|██████████| 274/274 [00:01<00:00, 176.88it/s]\n",
      "Epoch 200/300 - Training: 100%|██████████| 274/274 [00:01<00:00, 184.50it/s]\n",
      "Epoch 201/300 - Training: 100%|██████████| 274/274 [00:01<00:00, 186.73it/s]\n",
      "Epoch 202/300 - Training: 100%|██████████| 274/274 [00:01<00:00, 180.95it/s]\n",
      "Epoch 203/300 - Training: 100%|██████████| 274/274 [00:01<00:00, 179.77it/s]\n",
      "Epoch 204/300 - Training: 100%|██████████| 274/274 [00:01<00:00, 166.91it/s]\n",
      "Epoch 205/300 - Training: 100%|██████████| 274/274 [00:01<00:00, 182.88it/s]\n",
      "Epoch 206/300 - Training: 100%|██████████| 274/274 [00:01<00:00, 187.12it/s]\n",
      "Epoch 207/300 - Training: 100%|██████████| 274/274 [00:01<00:00, 186.55it/s]\n",
      "Epoch 208/300 - Training: 100%|██████████| 274/274 [00:01<00:00, 190.90it/s]\n",
      "Epoch 209/300 - Training: 100%|██████████| 274/274 [00:01<00:00, 184.93it/s]\n",
      "Epoch 210/300 - Training: 100%|██████████| 274/274 [00:01<00:00, 184.99it/s]\n",
      "Epoch 211/300 - Training: 100%|██████████| 274/274 [00:01<00:00, 181.26it/s]\n",
      "Epoch 212/300 - Training: 100%|██████████| 274/274 [00:01<00:00, 189.02it/s]\n",
      "Epoch 213/300 - Training: 100%|██████████| 274/274 [00:01<00:00, 181.81it/s]\n",
      "Epoch 214/300 - Training: 100%|██████████| 274/274 [00:01<00:00, 184.64it/s]\n",
      "Epoch 215/300 - Training: 100%|██████████| 274/274 [00:01<00:00, 183.16it/s]\n",
      "Epoch 216/300 - Training: 100%|██████████| 274/274 [00:01<00:00, 179.85it/s]\n",
      "Epoch 217/300 - Training: 100%|██████████| 274/274 [00:01<00:00, 176.77it/s]\n",
      "Epoch 218/300 - Training: 100%|██████████| 274/274 [00:01<00:00, 171.39it/s]\n",
      "Epoch 219/300 - Training: 100%|██████████| 274/274 [00:01<00:00, 181.15it/s]\n",
      "Epoch 220/300 - Training: 100%|██████████| 274/274 [00:01<00:00, 178.81it/s]\n",
      "Epoch 221/300 - Training: 100%|██████████| 274/274 [00:01<00:00, 183.50it/s]\n",
      "Epoch 222/300 - Training: 100%|██████████| 274/274 [00:01<00:00, 176.39it/s]\n",
      "Epoch 223/300 - Training: 100%|██████████| 274/274 [00:01<00:00, 191.05it/s]\n",
      "Epoch 224/300 - Training: 100%|██████████| 274/274 [00:01<00:00, 189.75it/s]\n",
      "Epoch 225/300 - Training: 100%|██████████| 274/274 [00:01<00:00, 187.88it/s]\n",
      "Epoch 226/300 - Training: 100%|██████████| 274/274 [00:01<00:00, 184.25it/s]\n",
      "Epoch 227/300 - Training: 100%|██████████| 274/274 [00:01<00:00, 181.72it/s]\n",
      "Epoch 228/300 - Training: 100%|██████████| 274/274 [00:01<00:00, 187.66it/s]\n",
      "Epoch 229/300 - Training: 100%|██████████| 274/274 [00:01<00:00, 181.75it/s]\n",
      "Epoch 230/300 - Training: 100%|██████████| 274/274 [00:01<00:00, 178.75it/s]\n",
      "Epoch 231/300 - Training: 100%|██████████| 274/274 [00:01<00:00, 178.01it/s]\n",
      "Epoch 232/300 - Training: 100%|██████████| 274/274 [00:01<00:00, 175.88it/s]\n",
      "Epoch 233/300 - Training: 100%|██████████| 274/274 [00:01<00:00, 187.99it/s]\n",
      "Epoch 234/300 - Training: 100%|██████████| 274/274 [00:01<00:00, 184.56it/s]\n",
      "Epoch 235/300 - Training: 100%|██████████| 274/274 [00:01<00:00, 183.11it/s]\n",
      "Epoch 236/300 - Training: 100%|██████████| 274/274 [00:01<00:00, 174.38it/s]\n",
      "Epoch 237/300 - Training: 100%|██████████| 274/274 [00:01<00:00, 176.42it/s]\n",
      "Epoch 238/300 - Training: 100%|██████████| 274/274 [00:01<00:00, 176.51it/s]\n",
      "Epoch 239/300 - Training: 100%|██████████| 274/274 [00:01<00:00, 171.82it/s]\n",
      "Epoch 240/300 - Training: 100%|██████████| 274/274 [00:01<00:00, 182.48it/s]\n",
      "Epoch 241/300 - Training: 100%|██████████| 274/274 [00:01<00:00, 173.72it/s]\n",
      "Epoch 242/300 - Training: 100%|██████████| 274/274 [00:01<00:00, 183.44it/s]\n",
      "Epoch 243/300 - Training: 100%|██████████| 274/274 [00:01<00:00, 191.95it/s]\n",
      "Epoch 244/300 - Training: 100%|██████████| 274/274 [00:01<00:00, 172.38it/s]\n",
      "Epoch 245/300 - Training: 100%|██████████| 274/274 [00:01<00:00, 181.52it/s]\n",
      "Epoch 246/300 - Training: 100%|██████████| 274/274 [00:01<00:00, 181.07it/s]\n",
      "Epoch 247/300 - Training: 100%|██████████| 274/274 [00:01<00:00, 179.39it/s]\n",
      "Epoch 248/300 - Training: 100%|██████████| 274/274 [00:01<00:00, 174.87it/s]\n",
      "Epoch 249/300 - Training: 100%|██████████| 274/274 [00:01<00:00, 166.53it/s]\n",
      "Epoch 250/300 - Training: 100%|██████████| 274/274 [00:01<00:00, 167.81it/s]\n",
      "Epoch 251/300 - Training: 100%|██████████| 274/274 [00:01<00:00, 183.13it/s]\n",
      "Epoch 252/300 - Training: 100%|██████████| 274/274 [00:01<00:00, 176.18it/s]\n",
      "Epoch 253/300 - Training: 100%|██████████| 274/274 [00:01<00:00, 173.50it/s]\n",
      "Epoch 254/300 - Training: 100%|██████████| 274/274 [00:01<00:00, 172.35it/s]\n",
      "Epoch 255/300 - Training: 100%|██████████| 274/274 [00:01<00:00, 174.54it/s]\n",
      "Epoch 256/300 - Training: 100%|██████████| 274/274 [00:01<00:00, 179.38it/s]\n",
      "Epoch 257/300 - Training: 100%|██████████| 274/274 [00:01<00:00, 175.98it/s]\n",
      "Epoch 258/300 - Training: 100%|██████████| 274/274 [00:01<00:00, 170.82it/s]\n",
      "Epoch 259/300 - Training: 100%|██████████| 274/274 [00:01<00:00, 171.49it/s]\n",
      "Epoch 260/300 - Training: 100%|██████████| 274/274 [00:01<00:00, 173.28it/s]\n",
      "Epoch 261/300 - Training: 100%|██████████| 274/274 [00:01<00:00, 186.31it/s]\n",
      "Epoch 262/300 - Training: 100%|██████████| 274/274 [00:01<00:00, 187.05it/s]\n",
      "Epoch 263/300 - Training: 100%|██████████| 274/274 [00:01<00:00, 180.21it/s]\n",
      "Epoch 264/300 - Training: 100%|██████████| 274/274 [00:01<00:00, 176.27it/s]\n",
      "Epoch 265/300 - Training: 100%|██████████| 274/274 [00:01<00:00, 163.79it/s]\n",
      "Epoch 266/300 - Training: 100%|██████████| 274/274 [00:01<00:00, 174.21it/s]\n",
      "Epoch 267/300 - Training: 100%|██████████| 274/274 [00:01<00:00, 166.12it/s]\n",
      "Epoch 268/300 - Training: 100%|██████████| 274/274 [00:01<00:00, 171.58it/s]\n",
      "Epoch 269/300 - Training: 100%|██████████| 274/274 [00:01<00:00, 159.74it/s]\n",
      "Epoch 270/300 - Training: 100%|██████████| 274/274 [00:01<00:00, 174.63it/s]\n",
      "Epoch 271/300 - Training: 100%|██████████| 274/274 [00:01<00:00, 169.94it/s]\n",
      "Epoch 272/300 - Training: 100%|██████████| 274/274 [00:01<00:00, 170.28it/s]\n",
      "Epoch 273/300 - Training: 100%|██████████| 274/274 [00:01<00:00, 167.76it/s]\n",
      "Epoch 274/300 - Training: 100%|██████████| 274/274 [00:01<00:00, 172.47it/s]\n",
      "Epoch 275/300 - Training: 100%|██████████| 274/274 [00:01<00:00, 177.24it/s]\n",
      "Epoch 276/300 - Training: 100%|██████████| 274/274 [00:01<00:00, 177.54it/s]\n",
      "Epoch 277/300 - Training: 100%|██████████| 274/274 [00:01<00:00, 172.57it/s]\n",
      "Epoch 278/300 - Training: 100%|██████████| 274/274 [00:01<00:00, 162.07it/s]\n",
      "Epoch 279/300 - Training: 100%|██████████| 274/274 [00:01<00:00, 171.21it/s]\n",
      "Epoch 280/300 - Training: 100%|██████████| 274/274 [00:01<00:00, 172.54it/s]\n",
      "Epoch 281/300 - Training: 100%|██████████| 274/274 [00:01<00:00, 179.79it/s]\n",
      "Epoch 282/300 - Training: 100%|██████████| 274/274 [00:01<00:00, 179.51it/s]\n",
      "Epoch 283/300 - Training: 100%|██████████| 274/274 [00:01<00:00, 176.50it/s]\n",
      "Epoch 284/300 - Training: 100%|██████████| 274/274 [00:01<00:00, 172.86it/s]\n",
      "Epoch 285/300 - Training: 100%|██████████| 274/274 [00:01<00:00, 182.50it/s]\n",
      "Epoch 286/300 - Training: 100%|██████████| 274/274 [00:01<00:00, 178.88it/s]\n",
      "Epoch 287/300 - Training: 100%|██████████| 274/274 [00:01<00:00, 183.13it/s]\n",
      "Epoch 288/300 - Training: 100%|██████████| 274/274 [00:01<00:00, 177.53it/s]\n",
      "Epoch 289/300 - Training: 100%|██████████| 274/274 [00:01<00:00, 164.81it/s]\n",
      "Epoch 290/300 - Training: 100%|██████████| 274/274 [00:01<00:00, 168.21it/s]\n",
      "Epoch 291/300 - Training: 100%|██████████| 274/274 [00:01<00:00, 172.35it/s]\n",
      "Epoch 292/300 - Training: 100%|██████████| 274/274 [00:01<00:00, 170.86it/s]\n",
      "Epoch 293/300 - Training: 100%|██████████| 274/274 [00:01<00:00, 169.35it/s]\n",
      "Epoch 294/300 - Training: 100%|██████████| 274/274 [00:01<00:00, 173.58it/s]\n",
      "Epoch 295/300 - Training: 100%|██████████| 274/274 [00:01<00:00, 159.75it/s]\n",
      "Epoch 296/300 - Training: 100%|██████████| 274/274 [00:01<00:00, 179.74it/s]\n",
      "Epoch 297/300 - Training: 100%|██████████| 274/274 [00:01<00:00, 162.98it/s]\n",
      "Epoch 298/300 - Training: 100%|██████████| 274/274 [00:01<00:00, 172.62it/s]\n",
      "Epoch 299/300 - Training: 100%|██████████| 274/274 [00:01<00:00, 162.76it/s]\n",
      "Epoch 300/300 - Training: 100%|██████████| 274/274 [00:01<00:00, 167.15it/s]\n"
     ]
    }
   ],
   "source": [
    "num_classes = 4\n",
    "audio_model = AudioCNNClassifier(input_dim=100, num_classes=num_classes)\n",
    "train_model_audio = train_model(audio_model, train_loaders[\"audio\"], val_loaders[\"audio\"], num_epochs=300, learning_rate=1e-3, device=\"cpu\", modal=\"audio\", logfile=os.path.join(\"..\", \"logs\", \"training_logs\", \"audio_train.log\"), verbose=False)\n"
   ]
  },
  {
   "cell_type": "code",
   "execution_count": 4,
   "metadata": {},
   "outputs": [
    {
     "name": "stdout",
     "output_type": "stream",
     "text": [
      "Accuracy of class 0: 54.45%\n",
      "Accuracy of class 1: 9.57%\n",
      "Accuracy of class 2: 9.95%\n",
      "Accuracy of class 3: 22.05%\n",
      "Validation Metrics: Loss = 13.6270, Accuracy = 22.02%, Precision = 0.36, Recall = 0.22, F1 = 0.24\n",
      " Test Loss: 13.626956264177958, Test Accuracy: 22.02276707530648\n"
     ]
    }
   ],
   "source": [
    "test_audio_loss, test_audio_acc, precision_audio, recall_audio, f1_audio = evaluate_model(train_model_audio, test_loaders[\"audio\"], device=\"cpu\", criterion=nn.CrossEntropyLoss(), modal=\"audio\", logfile=os.path.join(\"..\", \"logs\", \"training_logs\", \"audio_test.log\"), num_classes=num_classes)\n",
    "print(f\" Test Loss: {test_audio_loss}, Test Accuracy: {test_audio_acc}\")\n",
    "# Save the model\n",
    "saving_dir = os.path.join(\"..\", \"outputs\", \"embeddings\")\n",
    "torch.save(train_model_audio.state_dict(), os.path.join('..', 'outputs', 'models',\"audio_model_4.pt\"))"
   ]
  },
  {
   "cell_type": "code",
   "execution_count": 6,
   "metadata": {},
   "outputs": [
    {
     "name": "stderr",
     "output_type": "stream",
     "text": [
      "Epoch 1/200 - Training:   0%|          | 0/274 [00:00<?, ?it/s]"
     ]
    },
    {
     "name": "stderr",
     "output_type": "stream",
     "text": [
      "Epoch 1/200 - Training: 100%|██████████| 274/274 [00:01<00:00, 152.80it/s]\n",
      "Epoch 2/200 - Training: 100%|██████████| 274/274 [00:01<00:00, 161.03it/s]\n",
      "Epoch 3/200 - Training: 100%|██████████| 274/274 [00:01<00:00, 161.23it/s]\n",
      "Epoch 4/200 - Training: 100%|██████████| 274/274 [00:01<00:00, 160.31it/s]\n",
      "Epoch 5/200 - Training: 100%|██████████| 274/274 [00:01<00:00, 160.64it/s]\n",
      "Epoch 6/200 - Training: 100%|██████████| 274/274 [00:01<00:00, 155.99it/s]\n",
      "Epoch 7/200 - Training: 100%|██████████| 274/274 [00:01<00:00, 164.98it/s]\n",
      "Epoch 8/200 - Training: 100%|██████████| 274/274 [00:01<00:00, 156.73it/s]\n",
      "Epoch 9/200 - Training: 100%|██████████| 274/274 [00:01<00:00, 154.83it/s]\n",
      "Epoch 10/200 - Training: 100%|██████████| 274/274 [00:01<00:00, 160.71it/s]\n",
      "Epoch 11/200 - Training: 100%|██████████| 274/274 [00:01<00:00, 163.00it/s]\n",
      "Epoch 12/200 - Training: 100%|██████████| 274/274 [00:01<00:00, 162.45it/s]\n",
      "Epoch 13/200 - Training: 100%|██████████| 274/274 [00:01<00:00, 165.36it/s]\n",
      "Epoch 14/200 - Training: 100%|██████████| 274/274 [00:01<00:00, 167.68it/s]\n",
      "Epoch 15/200 - Training: 100%|██████████| 274/274 [00:01<00:00, 158.33it/s]\n",
      "Epoch 16/200 - Training: 100%|██████████| 274/274 [00:01<00:00, 157.06it/s]\n",
      "Epoch 17/200 - Training: 100%|██████████| 274/274 [00:01<00:00, 162.31it/s]\n",
      "Epoch 18/200 - Training: 100%|██████████| 274/274 [00:01<00:00, 157.73it/s]\n",
      "Epoch 19/200 - Training: 100%|██████████| 274/274 [00:01<00:00, 157.99it/s]\n",
      "Epoch 20/200 - Training: 100%|██████████| 274/274 [00:01<00:00, 149.79it/s]\n",
      "Epoch 21/200 - Training: 100%|██████████| 274/274 [00:01<00:00, 161.52it/s]\n",
      "Epoch 22/200 - Training: 100%|██████████| 274/274 [00:01<00:00, 157.69it/s]\n",
      "Epoch 23/200 - Training: 100%|██████████| 274/274 [00:01<00:00, 161.61it/s]\n",
      "Epoch 24/200 - Training: 100%|██████████| 274/274 [00:01<00:00, 162.00it/s]\n",
      "Epoch 25/200 - Training: 100%|██████████| 274/274 [00:01<00:00, 163.50it/s]\n",
      "Epoch 26/200 - Training: 100%|██████████| 274/274 [00:01<00:00, 148.58it/s]\n",
      "Epoch 27/200 - Training: 100%|██████████| 274/274 [00:01<00:00, 148.54it/s]\n",
      "Epoch 28/200 - Training: 100%|██████████| 274/274 [00:01<00:00, 160.49it/s]\n",
      "Epoch 29/200 - Training: 100%|██████████| 274/274 [00:01<00:00, 161.01it/s]\n",
      "Epoch 30/200 - Training: 100%|██████████| 274/274 [00:01<00:00, 172.34it/s]\n",
      "Epoch 31/200 - Training: 100%|██████████| 274/274 [00:01<00:00, 167.93it/s]\n",
      "Epoch 32/200 - Training: 100%|██████████| 274/274 [00:01<00:00, 157.20it/s]\n",
      "Epoch 33/200 - Training: 100%|██████████| 274/274 [00:01<00:00, 154.40it/s]\n",
      "Epoch 34/200 - Training: 100%|██████████| 274/274 [00:01<00:00, 157.80it/s]\n",
      "Epoch 35/200 - Training: 100%|██████████| 274/274 [00:01<00:00, 160.59it/s]\n",
      "Epoch 36/200 - Training: 100%|██████████| 274/274 [00:01<00:00, 157.29it/s]\n",
      "Epoch 37/200 - Training: 100%|██████████| 274/274 [00:01<00:00, 159.35it/s]\n",
      "Epoch 38/200 - Training: 100%|██████████| 274/274 [00:01<00:00, 163.05it/s]\n",
      "Epoch 39/200 - Training: 100%|██████████| 274/274 [00:01<00:00, 161.81it/s]\n",
      "Epoch 40/200 - Training: 100%|██████████| 274/274 [00:01<00:00, 162.00it/s]\n",
      "Epoch 41/200 - Training: 100%|██████████| 274/274 [00:01<00:00, 155.54it/s]\n",
      "Epoch 42/200 - Training: 100%|██████████| 274/274 [00:01<00:00, 158.74it/s]\n",
      "Epoch 43/200 - Training: 100%|██████████| 274/274 [00:01<00:00, 161.45it/s]\n",
      "Epoch 44/200 - Training: 100%|██████████| 274/274 [00:01<00:00, 156.10it/s]\n",
      "Epoch 45/200 - Training: 100%|██████████| 274/274 [00:01<00:00, 162.65it/s]\n",
      "Epoch 46/200 - Training: 100%|██████████| 274/274 [00:01<00:00, 167.73it/s]\n",
      "Epoch 47/200 - Training: 100%|██████████| 274/274 [00:01<00:00, 159.89it/s]\n",
      "Epoch 48/200 - Training: 100%|██████████| 274/274 [00:01<00:00, 163.95it/s]\n",
      "Epoch 49/200 - Training: 100%|██████████| 274/274 [00:01<00:00, 162.72it/s]\n",
      "Epoch 50/200 - Training: 100%|██████████| 274/274 [00:01<00:00, 153.73it/s]\n",
      "Epoch 51/200 - Training: 100%|██████████| 274/274 [00:01<00:00, 150.73it/s]\n",
      "Epoch 52/200 - Training: 100%|██████████| 274/274 [00:01<00:00, 156.37it/s]\n",
      "Epoch 53/200 - Training: 100%|██████████| 274/274 [00:01<00:00, 160.08it/s]\n",
      "Epoch 54/200 - Training: 100%|██████████| 274/274 [00:01<00:00, 161.96it/s]\n",
      "Epoch 55/200 - Training: 100%|██████████| 274/274 [00:01<00:00, 151.10it/s]\n",
      "Epoch 56/200 - Training: 100%|██████████| 274/274 [00:01<00:00, 159.03it/s]\n",
      "Epoch 57/200 - Training: 100%|██████████| 274/274 [00:01<00:00, 158.31it/s]\n",
      "Epoch 58/200 - Training: 100%|██████████| 274/274 [00:01<00:00, 153.72it/s]\n",
      "Epoch 59/200 - Training: 100%|██████████| 274/274 [00:01<00:00, 160.44it/s]\n",
      "Epoch 60/200 - Training: 100%|██████████| 274/274 [00:01<00:00, 164.52it/s]\n",
      "Epoch 61/200 - Training: 100%|██████████| 274/274 [00:01<00:00, 160.64it/s]\n",
      "Epoch 62/200 - Training: 100%|██████████| 274/274 [00:01<00:00, 157.89it/s]\n",
      "Epoch 63/200 - Training: 100%|██████████| 274/274 [00:01<00:00, 161.64it/s]\n",
      "Epoch 64/200 - Training: 100%|██████████| 274/274 [00:01<00:00, 166.33it/s]\n",
      "Epoch 65/200 - Training: 100%|██████████| 274/274 [00:01<00:00, 158.34it/s]\n",
      "Epoch 66/200 - Training: 100%|██████████| 274/274 [00:01<00:00, 160.34it/s]\n",
      "Epoch 67/200 - Training: 100%|██████████| 274/274 [00:01<00:00, 160.07it/s]\n",
      "Epoch 68/200 - Training: 100%|██████████| 274/274 [00:01<00:00, 153.93it/s]\n",
      "Epoch 69/200 - Training: 100%|██████████| 274/274 [00:01<00:00, 155.73it/s]\n",
      "Epoch 70/200 - Training: 100%|██████████| 274/274 [00:01<00:00, 160.83it/s]\n",
      "Epoch 71/200 - Training: 100%|██████████| 274/274 [00:01<00:00, 161.98it/s]\n",
      "Epoch 72/200 - Training: 100%|██████████| 274/274 [00:01<00:00, 165.11it/s]\n",
      "Epoch 73/200 - Training: 100%|██████████| 274/274 [00:01<00:00, 160.43it/s]\n",
      "Epoch 74/200 - Training: 100%|██████████| 274/274 [00:01<00:00, 155.36it/s]\n",
      "Epoch 75/200 - Training: 100%|██████████| 274/274 [00:01<00:00, 155.25it/s]\n",
      "Epoch 76/200 - Training: 100%|██████████| 274/274 [00:01<00:00, 163.33it/s]\n",
      "Epoch 77/200 - Training: 100%|██████████| 274/274 [00:01<00:00, 168.32it/s]\n",
      "Epoch 78/200 - Training: 100%|██████████| 274/274 [00:01<00:00, 155.96it/s]\n",
      "Epoch 79/200 - Training: 100%|██████████| 274/274 [00:01<00:00, 169.82it/s]\n",
      "Epoch 80/200 - Training: 100%|██████████| 274/274 [00:01<00:00, 171.31it/s]\n",
      "Epoch 81/200 - Training: 100%|██████████| 274/274 [00:01<00:00, 158.26it/s]\n",
      "Epoch 82/200 - Training: 100%|██████████| 274/274 [00:01<00:00, 163.34it/s]\n",
      "Epoch 83/200 - Training: 100%|██████████| 274/274 [00:01<00:00, 167.20it/s]\n",
      "Epoch 84/200 - Training: 100%|██████████| 274/274 [00:01<00:00, 165.08it/s]\n",
      "Epoch 85/200 - Training: 100%|██████████| 274/274 [00:01<00:00, 158.98it/s]\n",
      "Epoch 86/200 - Training: 100%|██████████| 274/274 [00:01<00:00, 159.09it/s]\n",
      "Epoch 87/200 - Training: 100%|██████████| 274/274 [00:01<00:00, 156.80it/s]\n",
      "Epoch 88/200 - Training: 100%|██████████| 274/274 [00:01<00:00, 158.38it/s]\n",
      "Epoch 89/200 - Training: 100%|██████████| 274/274 [00:01<00:00, 163.20it/s]\n",
      "Epoch 90/200 - Training: 100%|██████████| 274/274 [00:01<00:00, 157.69it/s]\n",
      "Epoch 91/200 - Training: 100%|██████████| 274/274 [00:01<00:00, 156.76it/s]\n",
      "Epoch 92/200 - Training: 100%|██████████| 274/274 [00:01<00:00, 156.14it/s]\n",
      "Epoch 93/200 - Training: 100%|██████████| 274/274 [00:01<00:00, 164.91it/s]\n",
      "Epoch 94/200 - Training: 100%|██████████| 274/274 [00:01<00:00, 164.27it/s]\n",
      "Epoch 95/200 - Training: 100%|██████████| 274/274 [00:01<00:00, 157.51it/s]\n",
      "Epoch 96/200 - Training: 100%|██████████| 274/274 [00:01<00:00, 162.46it/s]\n",
      "Epoch 97/200 - Training: 100%|██████████| 274/274 [00:01<00:00, 161.95it/s]\n",
      "Epoch 98/200 - Training: 100%|██████████| 274/274 [00:01<00:00, 153.99it/s]\n",
      "Epoch 99/200 - Training: 100%|██████████| 274/274 [00:01<00:00, 168.20it/s]\n",
      "Epoch 100/200 - Training: 100%|██████████| 274/274 [00:01<00:00, 159.19it/s]\n",
      "Epoch 101/200 - Training: 100%|██████████| 274/274 [00:01<00:00, 164.99it/s]\n",
      "Epoch 102/200 - Training: 100%|██████████| 274/274 [00:01<00:00, 162.75it/s]\n",
      "Epoch 103/200 - Training: 100%|██████████| 274/274 [00:01<00:00, 161.51it/s]\n",
      "Epoch 104/200 - Training: 100%|██████████| 274/274 [00:01<00:00, 164.43it/s]\n",
      "Epoch 105/200 - Training: 100%|██████████| 274/274 [00:01<00:00, 164.93it/s]\n",
      "Epoch 106/200 - Training: 100%|██████████| 274/274 [00:01<00:00, 153.72it/s]\n",
      "Epoch 107/200 - Training: 100%|██████████| 274/274 [00:01<00:00, 159.43it/s]\n",
      "Epoch 108/200 - Training: 100%|██████████| 274/274 [00:01<00:00, 161.47it/s]\n",
      "Epoch 109/200 - Training: 100%|██████████| 274/274 [00:01<00:00, 164.04it/s]\n",
      "Epoch 110/200 - Training: 100%|██████████| 274/274 [00:01<00:00, 160.19it/s]\n",
      "Epoch 111/200 - Training: 100%|██████████| 274/274 [00:01<00:00, 167.40it/s]\n",
      "Epoch 112/200 - Training: 100%|██████████| 274/274 [00:01<00:00, 161.42it/s]\n",
      "Epoch 113/200 - Training: 100%|██████████| 274/274 [00:01<00:00, 167.43it/s]\n",
      "Epoch 114/200 - Training: 100%|██████████| 274/274 [00:01<00:00, 164.83it/s]\n",
      "Epoch 115/200 - Training: 100%|██████████| 274/274 [00:01<00:00, 162.98it/s]\n",
      "Epoch 116/200 - Training: 100%|██████████| 274/274 [00:01<00:00, 169.82it/s]\n",
      "Epoch 117/200 - Training: 100%|██████████| 274/274 [00:01<00:00, 164.09it/s]\n",
      "Epoch 118/200 - Training: 100%|██████████| 274/274 [00:01<00:00, 158.53it/s]\n",
      "Epoch 119/200 - Training: 100%|██████████| 274/274 [00:01<00:00, 163.68it/s]\n",
      "Epoch 120/200 - Training: 100%|██████████| 274/274 [00:01<00:00, 165.65it/s]\n",
      "Epoch 121/200 - Training: 100%|██████████| 274/274 [00:01<00:00, 162.03it/s]\n",
      "Epoch 122/200 - Training: 100%|██████████| 274/274 [00:01<00:00, 156.61it/s]\n",
      "Epoch 123/200 - Training: 100%|██████████| 274/274 [00:01<00:00, 162.06it/s]\n",
      "Epoch 124/200 - Training: 100%|██████████| 274/274 [00:01<00:00, 162.26it/s]\n",
      "Epoch 125/200 - Training: 100%|██████████| 274/274 [00:01<00:00, 164.76it/s]\n",
      "Epoch 126/200 - Training: 100%|██████████| 274/274 [00:01<00:00, 159.80it/s]\n",
      "Epoch 127/200 - Training: 100%|██████████| 274/274 [00:01<00:00, 159.47it/s]\n",
      "Epoch 128/200 - Training: 100%|██████████| 274/274 [00:01<00:00, 159.10it/s]\n",
      "Epoch 129/200 - Training: 100%|██████████| 274/274 [00:01<00:00, 162.61it/s]\n",
      "Epoch 130/200 - Training: 100%|██████████| 274/274 [00:01<00:00, 165.21it/s]\n",
      "Epoch 131/200 - Training: 100%|██████████| 274/274 [00:01<00:00, 160.60it/s]\n",
      "Epoch 132/200 - Training: 100%|██████████| 274/274 [00:01<00:00, 159.57it/s]\n",
      "Epoch 133/200 - Training: 100%|██████████| 274/274 [00:01<00:00, 162.32it/s]\n",
      "Epoch 134/200 - Training: 100%|██████████| 274/274 [00:01<00:00, 163.67it/s]\n",
      "Epoch 135/200 - Training: 100%|██████████| 274/274 [00:01<00:00, 159.09it/s]\n",
      "Epoch 136/200 - Training: 100%|██████████| 274/274 [00:01<00:00, 158.88it/s]\n",
      "Epoch 137/200 - Training: 100%|██████████| 274/274 [00:01<00:00, 163.47it/s]\n",
      "Epoch 138/200 - Training: 100%|██████████| 274/274 [00:01<00:00, 157.33it/s]\n",
      "Epoch 139/200 - Training: 100%|██████████| 274/274 [00:01<00:00, 166.46it/s]\n",
      "Epoch 140/200 - Training: 100%|██████████| 274/274 [00:01<00:00, 160.40it/s]\n",
      "Epoch 141/200 - Training: 100%|██████████| 274/274 [00:01<00:00, 162.83it/s]\n",
      "Epoch 142/200 - Training: 100%|██████████| 274/274 [00:01<00:00, 161.68it/s]\n",
      "Epoch 143/200 - Training: 100%|██████████| 274/274 [00:01<00:00, 163.62it/s]\n",
      "Epoch 144/200 - Training: 100%|██████████| 274/274 [00:01<00:00, 151.39it/s]\n",
      "Epoch 145/200 - Training: 100%|██████████| 274/274 [00:01<00:00, 164.02it/s]\n",
      "Epoch 146/200 - Training: 100%|██████████| 274/274 [00:01<00:00, 156.41it/s]\n",
      "Epoch 147/200 - Training: 100%|██████████| 274/274 [00:01<00:00, 160.36it/s]\n",
      "Epoch 148/200 - Training: 100%|██████████| 274/274 [00:01<00:00, 167.92it/s]\n",
      "Epoch 149/200 - Training: 100%|██████████| 274/274 [00:01<00:00, 166.84it/s]\n",
      "Epoch 150/200 - Training: 100%|██████████| 274/274 [00:01<00:00, 158.70it/s]\n",
      "Epoch 151/200 - Training: 100%|██████████| 274/274 [00:01<00:00, 161.18it/s]\n",
      "Epoch 152/200 - Training: 100%|██████████| 274/274 [00:01<00:00, 155.46it/s]\n",
      "Epoch 153/200 - Training: 100%|██████████| 274/274 [00:01<00:00, 165.36it/s]\n",
      "Epoch 154/200 - Training: 100%|██████████| 274/274 [00:01<00:00, 159.52it/s]\n",
      "Epoch 155/200 - Training: 100%|██████████| 274/274 [00:01<00:00, 157.89it/s]\n",
      "Epoch 156/200 - Training: 100%|██████████| 274/274 [00:01<00:00, 158.36it/s]\n",
      "Epoch 157/200 - Training: 100%|██████████| 274/274 [00:01<00:00, 160.12it/s]\n",
      "Epoch 158/200 - Training: 100%|██████████| 274/274 [00:01<00:00, 146.36it/s]\n",
      "Epoch 159/200 - Training: 100%|██████████| 274/274 [00:01<00:00, 158.28it/s]\n",
      "Epoch 160/200 - Training: 100%|██████████| 274/274 [00:01<00:00, 157.79it/s]\n",
      "Epoch 161/200 - Training: 100%|██████████| 274/274 [00:01<00:00, 160.19it/s]\n",
      "Epoch 162/200 - Training: 100%|██████████| 274/274 [00:01<00:00, 149.40it/s]\n",
      "Epoch 163/200 - Training: 100%|██████████| 274/274 [00:01<00:00, 155.42it/s]\n",
      "Epoch 164/200 - Training: 100%|██████████| 274/274 [00:01<00:00, 158.52it/s]\n",
      "Epoch 165/200 - Training: 100%|██████████| 274/274 [00:01<00:00, 168.44it/s]\n",
      "Epoch 166/200 - Training: 100%|██████████| 274/274 [00:01<00:00, 170.25it/s]\n",
      "Epoch 167/200 - Training: 100%|██████████| 274/274 [00:01<00:00, 170.24it/s]\n",
      "Epoch 168/200 - Training: 100%|██████████| 274/274 [00:01<00:00, 162.16it/s]\n",
      "Epoch 169/200 - Training: 100%|██████████| 274/274 [00:01<00:00, 161.03it/s]\n",
      "Epoch 170/200 - Training: 100%|██████████| 274/274 [00:01<00:00, 167.85it/s]\n",
      "Epoch 171/200 - Training: 100%|██████████| 274/274 [00:01<00:00, 153.93it/s]\n",
      "Epoch 172/200 - Training: 100%|██████████| 274/274 [00:01<00:00, 160.54it/s]\n",
      "Epoch 173/200 - Training: 100%|██████████| 274/274 [00:01<00:00, 168.57it/s]\n",
      "Epoch 174/200 - Training: 100%|██████████| 274/274 [00:01<00:00, 163.11it/s]\n",
      "Epoch 175/200 - Training: 100%|██████████| 274/274 [00:01<00:00, 156.99it/s]\n",
      "Epoch 176/200 - Training: 100%|██████████| 274/274 [00:01<00:00, 163.57it/s]\n",
      "Epoch 177/200 - Training: 100%|██████████| 274/274 [00:01<00:00, 159.42it/s]\n",
      "Epoch 178/200 - Training: 100%|██████████| 274/274 [00:01<00:00, 165.45it/s]\n",
      "Epoch 179/200 - Training: 100%|██████████| 274/274 [00:01<00:00, 157.75it/s]\n",
      "Epoch 180/200 - Training: 100%|██████████| 274/274 [00:01<00:00, 168.20it/s]\n",
      "Epoch 181/200 - Training: 100%|██████████| 274/274 [00:01<00:00, 151.68it/s]\n",
      "Epoch 182/200 - Training: 100%|██████████| 274/274 [00:01<00:00, 167.96it/s]\n",
      "Epoch 183/200 - Training: 100%|██████████| 274/274 [00:01<00:00, 161.76it/s]\n",
      "Epoch 184/200 - Training: 100%|██████████| 274/274 [00:01<00:00, 168.29it/s]\n",
      "Epoch 185/200 - Training: 100%|██████████| 274/274 [00:01<00:00, 167.90it/s]\n",
      "Epoch 186/200 - Training: 100%|██████████| 274/274 [00:01<00:00, 168.43it/s]\n",
      "Epoch 187/200 - Training: 100%|██████████| 274/274 [00:01<00:00, 163.13it/s]\n",
      "Epoch 188/200 - Training: 100%|██████████| 274/274 [00:01<00:00, 163.54it/s]\n",
      "Epoch 189/200 - Training: 100%|██████████| 274/274 [00:01<00:00, 170.32it/s]\n",
      "Epoch 190/200 - Training: 100%|██████████| 274/274 [00:01<00:00, 165.81it/s]\n",
      "Epoch 191/200 - Training: 100%|██████████| 274/274 [00:01<00:00, 169.20it/s]\n",
      "Epoch 192/200 - Training: 100%|██████████| 274/274 [00:01<00:00, 164.43it/s]\n",
      "Epoch 193/200 - Training: 100%|██████████| 274/274 [00:01<00:00, 168.23it/s]\n",
      "Epoch 194/200 - Training: 100%|██████████| 274/274 [00:01<00:00, 170.06it/s]\n",
      "Epoch 195/200 - Training: 100%|██████████| 274/274 [00:01<00:00, 164.94it/s]\n",
      "Epoch 196/200 - Training: 100%|██████████| 274/274 [00:01<00:00, 163.85it/s]\n",
      "Epoch 197/200 - Training: 100%|██████████| 274/274 [00:01<00:00, 164.93it/s]\n",
      "Epoch 198/200 - Training: 100%|██████████| 274/274 [00:01<00:00, 170.14it/s]\n",
      "Epoch 199/200 - Training: 100%|██████████| 274/274 [00:01<00:00, 167.85it/s]\n",
      "Epoch 200/200 - Training: 100%|██████████| 274/274 [00:01<00:00, 166.65it/s]\n"
     ]
    }
   ],
   "source": [
    "from models.text.text_model import TextLSTMClassifier\n",
    "\n",
    "text_model = TextLSTMClassifier(input_dim=768, num_classes=num_classes)\n",
    "\n",
    "trained_text_model = train_model(\n",
    "    text_model,\n",
    "    train_loaders[\"text\"],\n",
    "    val_loaders[\"text\"],\n",
    "    num_epochs=200,\n",
    "    learning_rate=1e-3,\n",
    "    device=\"cpu\",\n",
    "    modal=\"text\",\n",
    "    logfile=os.path.join(\"..\", \"logs\", \"training_logs\", \"texte_train.log\"),\n",
    "    verbose=False, \n",
    "    num_classes=num_classes\n",
    ")\n"
   ]
  },
  {
   "cell_type": "code",
   "execution_count": 7,
   "metadata": {},
   "outputs": [
    {
     "name": "stdout",
     "output_type": "stream",
     "text": [
      "Accuracy of class 0: 75.80%\n",
      "Accuracy of class 1: 5.22%\n",
      "Accuracy of class 2: 5.97%\n",
      "Accuracy of class 3: 18.63%\n",
      "Validation Metrics: Loss = 12.2799, Accuracy = 21.41%, Precision = 0.32, Recall = 0.21, F1 = 0.20\n",
      "Text Test Loss: 12.2799, Text Test Accuracy: 21.41% Text Precision: 31.77% Text Recall: 21.41% Text F1: 20.33%\n"
     ]
    }
   ],
   "source": [
    "\n",
    "test_loss_text, test_accuracy_text, precision_text, recall_text, f1_text = evaluate_model(\n",
    "    trained_text_model,\n",
    "    test_loaders[\"text\"],\n",
    "    criterion=nn.CrossEntropyLoss(),\n",
    "    device=\"cpu\",\n",
    "    modal=\"text\",\n",
    "    logfile=os.path.join(\"..\", \"logs\", \"training_logs\", \"text_test.log\"), num_classes=num_classes\n",
    ")\n",
    "\n",
    "print(f\"Text Test Loss: {test_loss_text:.4f}, Text Test Accuracy: {test_accuracy_text:.2f}% Text Precision: {precision_text*100:.2f}% Text Recall: {recall_text*100:.2f}% Text F1: {f1_text*100:.2f}%\")\n",
    "# Save the model\n",
    "torch.save(trained_text_model.state_dict(), os.path.join('..', 'outputs', 'models',\"text_model_4.pt\"))"
   ]
  },
  {
   "cell_type": "markdown",
   "metadata": {},
   "source": [
    "**Video**"
   ]
  },
  {
   "cell_type": "code",
   "execution_count": 3,
   "metadata": {},
   "outputs": [
    {
     "name": "stderr",
     "output_type": "stream",
     "text": [
      "Epoch 1/200 - Training:   0%|          | 0/274 [00:00<?, ?it/s]"
     ]
    },
    {
     "name": "stderr",
     "output_type": "stream",
     "text": [
      "Epoch 1/200 - Training: 100%|██████████| 274/274 [00:00<00:00, 398.88it/s]\n",
      "Epoch 2/200 - Training: 100%|██████████| 274/274 [00:00<00:00, 382.07it/s]\n",
      "Epoch 3/200 - Training: 100%|██████████| 274/274 [00:00<00:00, 388.57it/s]\n",
      "Epoch 4/200 - Training: 100%|██████████| 274/274 [00:00<00:00, 388.86it/s]\n",
      "Epoch 5/200 - Training: 100%|██████████| 274/274 [00:00<00:00, 386.16it/s]\n",
      "Epoch 6/200 - Training: 100%|██████████| 274/274 [00:00<00:00, 397.66it/s]\n",
      "Epoch 7/200 - Training: 100%|██████████| 274/274 [00:00<00:00, 410.38it/s]\n",
      "Epoch 8/200 - Training: 100%|██████████| 274/274 [00:00<00:00, 399.11it/s]\n",
      "Epoch 9/200 - Training: 100%|██████████| 274/274 [00:00<00:00, 392.63it/s]\n",
      "Epoch 10/200 - Training: 100%|██████████| 274/274 [00:00<00:00, 406.20it/s]\n",
      "Epoch 11/200 - Training: 100%|██████████| 274/274 [00:00<00:00, 393.99it/s]\n",
      "Epoch 12/200 - Training: 100%|██████████| 274/274 [00:00<00:00, 406.87it/s]\n",
      "Epoch 13/200 - Training: 100%|██████████| 274/274 [00:00<00:00, 400.77it/s]\n",
      "Epoch 14/200 - Training: 100%|██████████| 274/274 [00:00<00:00, 397.46it/s]\n",
      "Epoch 15/200 - Training: 100%|██████████| 274/274 [00:00<00:00, 381.52it/s]\n",
      "Epoch 16/200 - Training: 100%|██████████| 274/274 [00:00<00:00, 404.05it/s]\n",
      "Epoch 17/200 - Training: 100%|██████████| 274/274 [00:00<00:00, 412.22it/s]\n",
      "Epoch 18/200 - Training: 100%|██████████| 274/274 [00:00<00:00, 390.11it/s]\n",
      "Epoch 19/200 - Training: 100%|██████████| 274/274 [00:00<00:00, 416.46it/s]\n",
      "Epoch 20/200 - Training: 100%|██████████| 274/274 [00:00<00:00, 386.61it/s]\n",
      "Epoch 21/200 - Training: 100%|██████████| 274/274 [00:00<00:00, 395.61it/s]\n",
      "Epoch 22/200 - Training: 100%|██████████| 274/274 [00:00<00:00, 389.83it/s]\n",
      "Epoch 23/200 - Training: 100%|██████████| 274/274 [00:00<00:00, 400.56it/s]\n",
      "Epoch 24/200 - Training: 100%|██████████| 274/274 [00:00<00:00, 423.99it/s]\n",
      "Epoch 25/200 - Training: 100%|██████████| 274/274 [00:00<00:00, 401.50it/s]\n",
      "Epoch 26/200 - Training: 100%|██████████| 274/274 [00:00<00:00, 400.09it/s]\n",
      "Epoch 27/200 - Training: 100%|██████████| 274/274 [00:00<00:00, 406.10it/s]\n",
      "Epoch 28/200 - Training: 100%|██████████| 274/274 [00:00<00:00, 406.11it/s]\n",
      "Epoch 29/200 - Training: 100%|██████████| 274/274 [00:00<00:00, 411.36it/s]\n",
      "Epoch 30/200 - Training: 100%|██████████| 274/274 [00:00<00:00, 407.97it/s]\n",
      "Epoch 31/200 - Training: 100%|██████████| 274/274 [00:00<00:00, 407.87it/s]\n",
      "Epoch 32/200 - Training: 100%|██████████| 274/274 [00:00<00:00, 395.22it/s]\n",
      "Epoch 33/200 - Training: 100%|██████████| 274/274 [00:00<00:00, 386.15it/s]\n",
      "Epoch 34/200 - Training: 100%|██████████| 274/274 [00:00<00:00, 369.92it/s]\n",
      "Epoch 35/200 - Training: 100%|██████████| 274/274 [00:00<00:00, 384.90it/s]\n",
      "Epoch 36/200 - Training: 100%|██████████| 274/274 [00:00<00:00, 413.47it/s]\n",
      "Epoch 37/200 - Training: 100%|██████████| 274/274 [00:00<00:00, 411.83it/s]\n",
      "Epoch 38/200 - Training: 100%|██████████| 274/274 [00:00<00:00, 425.21it/s]\n",
      "Epoch 39/200 - Training: 100%|██████████| 274/274 [00:00<00:00, 400.82it/s]\n",
      "Epoch 40/200 - Training: 100%|██████████| 274/274 [00:00<00:00, 421.99it/s]\n",
      "Epoch 41/200 - Training: 100%|██████████| 274/274 [00:00<00:00, 420.94it/s]\n",
      "Epoch 42/200 - Training: 100%|██████████| 274/274 [00:00<00:00, 377.36it/s]\n",
      "Epoch 43/200 - Training: 100%|██████████| 274/274 [00:00<00:00, 415.05it/s]\n",
      "Epoch 44/200 - Training: 100%|██████████| 274/274 [00:00<00:00, 423.76it/s]\n",
      "Epoch 45/200 - Training: 100%|██████████| 274/274 [00:00<00:00, 419.82it/s]\n",
      "Epoch 46/200 - Training: 100%|██████████| 274/274 [00:00<00:00, 429.24it/s]\n",
      "Epoch 47/200 - Training: 100%|██████████| 274/274 [00:00<00:00, 418.36it/s]\n",
      "Epoch 48/200 - Training: 100%|██████████| 274/274 [00:00<00:00, 428.16it/s]\n",
      "Epoch 49/200 - Training: 100%|██████████| 274/274 [00:00<00:00, 433.36it/s]\n",
      "Epoch 50/200 - Training: 100%|██████████| 274/274 [00:00<00:00, 413.11it/s]\n",
      "Epoch 51/200 - Training: 100%|██████████| 274/274 [00:00<00:00, 385.08it/s]\n",
      "Epoch 52/200 - Training: 100%|██████████| 274/274 [00:00<00:00, 329.80it/s]\n",
      "Epoch 53/200 - Training: 100%|██████████| 274/274 [00:00<00:00, 411.98it/s]\n",
      "Epoch 54/200 - Training: 100%|██████████| 274/274 [00:00<00:00, 400.92it/s]\n",
      "Epoch 55/200 - Training: 100%|██████████| 274/274 [00:00<00:00, 408.59it/s]\n",
      "Epoch 56/200 - Training: 100%|██████████| 274/274 [00:00<00:00, 432.32it/s]\n",
      "Epoch 57/200 - Training: 100%|██████████| 274/274 [00:00<00:00, 395.38it/s]\n",
      "Epoch 58/200 - Training: 100%|██████████| 274/274 [00:00<00:00, 405.14it/s]\n",
      "Epoch 59/200 - Training: 100%|██████████| 274/274 [00:00<00:00, 426.16it/s]\n",
      "Epoch 60/200 - Training: 100%|██████████| 274/274 [00:00<00:00, 427.26it/s]\n",
      "Epoch 61/200 - Training: 100%|██████████| 274/274 [00:00<00:00, 428.60it/s]\n",
      "Epoch 62/200 - Training: 100%|██████████| 274/274 [00:00<00:00, 415.03it/s]\n",
      "Epoch 63/200 - Training: 100%|██████████| 274/274 [00:00<00:00, 396.07it/s]\n",
      "Epoch 64/200 - Training: 100%|██████████| 274/274 [00:00<00:00, 426.79it/s]\n",
      "Epoch 65/200 - Training: 100%|██████████| 274/274 [00:00<00:00, 426.60it/s]\n",
      "Epoch 66/200 - Training: 100%|██████████| 274/274 [00:00<00:00, 368.09it/s]\n",
      "Epoch 67/200 - Training: 100%|██████████| 274/274 [00:00<00:00, 398.05it/s]\n",
      "Epoch 68/200 - Training: 100%|██████████| 274/274 [00:00<00:00, 415.01it/s]\n",
      "Epoch 69/200 - Training: 100%|██████████| 274/274 [00:00<00:00, 424.45it/s]\n",
      "Epoch 70/200 - Training: 100%|██████████| 274/274 [00:00<00:00, 419.46it/s]\n",
      "Epoch 71/200 - Training: 100%|██████████| 274/274 [00:00<00:00, 424.47it/s]\n",
      "Epoch 72/200 - Training: 100%|██████████| 274/274 [00:00<00:00, 413.22it/s]\n",
      "Epoch 73/200 - Training: 100%|██████████| 274/274 [00:00<00:00, 407.02it/s]\n",
      "Epoch 74/200 - Training: 100%|██████████| 274/274 [00:00<00:00, 409.33it/s]\n",
      "Epoch 75/200 - Training: 100%|██████████| 274/274 [00:00<00:00, 413.74it/s]\n",
      "Epoch 76/200 - Training: 100%|██████████| 274/274 [00:00<00:00, 396.38it/s]\n",
      "Epoch 77/200 - Training: 100%|██████████| 274/274 [00:00<00:00, 412.99it/s]\n",
      "Epoch 78/200 - Training: 100%|██████████| 274/274 [00:00<00:00, 376.60it/s]\n",
      "Epoch 79/200 - Training: 100%|██████████| 274/274 [00:00<00:00, 399.91it/s]\n",
      "Epoch 80/200 - Training: 100%|██████████| 274/274 [00:00<00:00, 398.54it/s]\n",
      "Epoch 81/200 - Training: 100%|██████████| 274/274 [00:00<00:00, 391.07it/s]\n",
      "Epoch 82/200 - Training: 100%|██████████| 274/274 [00:00<00:00, 419.02it/s]\n",
      "Epoch 83/200 - Training: 100%|██████████| 274/274 [00:00<00:00, 408.07it/s]\n",
      "Epoch 84/200 - Training: 100%|██████████| 274/274 [00:00<00:00, 427.06it/s]\n",
      "Epoch 85/200 - Training: 100%|██████████| 274/274 [00:00<00:00, 423.90it/s]\n",
      "Epoch 86/200 - Training: 100%|██████████| 274/274 [00:00<00:00, 415.33it/s]\n",
      "Epoch 87/200 - Training: 100%|██████████| 274/274 [00:00<00:00, 420.15it/s]\n",
      "Epoch 88/200 - Training: 100%|██████████| 274/274 [00:00<00:00, 429.85it/s]\n",
      "Epoch 89/200 - Training: 100%|██████████| 274/274 [00:00<00:00, 420.77it/s]\n",
      "Epoch 90/200 - Training: 100%|██████████| 274/274 [00:00<00:00, 395.86it/s]\n",
      "Epoch 91/200 - Training: 100%|██████████| 274/274 [00:00<00:00, 419.42it/s]\n",
      "Epoch 92/200 - Training: 100%|██████████| 274/274 [00:00<00:00, 417.90it/s]\n",
      "Epoch 93/200 - Training: 100%|██████████| 274/274 [00:00<00:00, 421.19it/s]\n",
      "Epoch 94/200 - Training: 100%|██████████| 274/274 [00:00<00:00, 419.67it/s]\n",
      "Epoch 95/200 - Training: 100%|██████████| 274/274 [00:00<00:00, 388.06it/s]\n",
      "Epoch 96/200 - Training: 100%|██████████| 274/274 [00:00<00:00, 418.58it/s]\n",
      "Epoch 97/200 - Training: 100%|██████████| 274/274 [00:00<00:00, 412.73it/s]\n",
      "Epoch 98/200 - Training: 100%|██████████| 274/274 [00:00<00:00, 417.49it/s]\n",
      "Epoch 99/200 - Training: 100%|██████████| 274/274 [00:00<00:00, 408.09it/s]\n",
      "Epoch 100/200 - Training: 100%|██████████| 274/274 [00:00<00:00, 418.25it/s]\n",
      "Epoch 101/200 - Training: 100%|██████████| 274/274 [00:00<00:00, 407.02it/s]\n",
      "Epoch 102/200 - Training: 100%|██████████| 274/274 [00:00<00:00, 410.23it/s]\n",
      "Epoch 103/200 - Training: 100%|██████████| 274/274 [00:00<00:00, 401.69it/s]\n",
      "Epoch 104/200 - Training: 100%|██████████| 274/274 [00:00<00:00, 369.64it/s]\n",
      "Epoch 105/200 - Training: 100%|██████████| 274/274 [00:00<00:00, 412.15it/s]\n",
      "Epoch 106/200 - Training: 100%|██████████| 274/274 [00:00<00:00, 398.13it/s]\n",
      "Epoch 107/200 - Training: 100%|██████████| 274/274 [00:00<00:00, 403.21it/s]\n",
      "Epoch 108/200 - Training: 100%|██████████| 274/274 [00:00<00:00, 407.88it/s]\n",
      "Epoch 109/200 - Training: 100%|██████████| 274/274 [00:00<00:00, 405.19it/s]\n",
      "Epoch 110/200 - Training: 100%|██████████| 274/274 [00:00<00:00, 415.94it/s]\n",
      "Epoch 111/200 - Training: 100%|██████████| 274/274 [00:00<00:00, 407.92it/s]\n",
      "Epoch 112/200 - Training: 100%|██████████| 274/274 [00:00<00:00, 415.11it/s]\n",
      "Epoch 113/200 - Training: 100%|██████████| 274/274 [00:00<00:00, 409.96it/s]\n",
      "Epoch 114/200 - Training: 100%|██████████| 274/274 [00:00<00:00, 415.35it/s]\n",
      "Epoch 115/200 - Training: 100%|██████████| 274/274 [00:00<00:00, 401.66it/s]\n",
      "Epoch 116/200 - Training: 100%|██████████| 274/274 [00:00<00:00, 417.09it/s]\n",
      "Epoch 117/200 - Training: 100%|██████████| 274/274 [00:00<00:00, 410.41it/s]\n",
      "Epoch 118/200 - Training: 100%|██████████| 274/274 [00:00<00:00, 414.70it/s]\n",
      "Epoch 119/200 - Training: 100%|██████████| 274/274 [00:00<00:00, 424.45it/s]\n",
      "Epoch 120/200 - Training: 100%|██████████| 274/274 [00:00<00:00, 419.49it/s]\n",
      "Epoch 121/200 - Training: 100%|██████████| 274/274 [00:00<00:00, 428.88it/s]\n",
      "Epoch 122/200 - Training: 100%|██████████| 274/274 [00:00<00:00, 401.86it/s]\n",
      "Epoch 123/200 - Training: 100%|██████████| 274/274 [00:00<00:00, 403.50it/s]\n",
      "Epoch 124/200 - Training: 100%|██████████| 274/274 [00:00<00:00, 416.16it/s]\n",
      "Epoch 125/200 - Training: 100%|██████████| 274/274 [00:00<00:00, 426.58it/s]\n",
      "Epoch 126/200 - Training: 100%|██████████| 274/274 [00:00<00:00, 378.41it/s]\n",
      "Epoch 127/200 - Training: 100%|██████████| 274/274 [00:00<00:00, 420.32it/s]\n",
      "Epoch 128/200 - Training: 100%|██████████| 274/274 [00:00<00:00, 431.78it/s]\n",
      "Epoch 129/200 - Training: 100%|██████████| 274/274 [00:00<00:00, 410.05it/s]\n",
      "Epoch 130/200 - Training: 100%|██████████| 274/274 [00:00<00:00, 432.65it/s]\n",
      "Epoch 131/200 - Training: 100%|██████████| 274/274 [00:00<00:00, 427.93it/s]\n",
      "Epoch 132/200 - Training: 100%|██████████| 274/274 [00:00<00:00, 424.64it/s]\n",
      "Epoch 133/200 - Training: 100%|██████████| 274/274 [00:00<00:00, 422.84it/s]\n",
      "Epoch 134/200 - Training: 100%|██████████| 274/274 [00:00<00:00, 429.43it/s]\n",
      "Epoch 135/200 - Training: 100%|██████████| 274/274 [00:00<00:00, 423.14it/s]\n",
      "Epoch 136/200 - Training: 100%|██████████| 274/274 [00:00<00:00, 433.52it/s]\n",
      "Epoch 137/200 - Training: 100%|██████████| 274/274 [00:00<00:00, 381.72it/s]\n",
      "Epoch 138/200 - Training: 100%|██████████| 274/274 [00:00<00:00, 392.13it/s]\n",
      "Epoch 139/200 - Training: 100%|██████████| 274/274 [00:00<00:00, 363.99it/s]\n",
      "Epoch 140/200 - Training: 100%|██████████| 274/274 [00:00<00:00, 351.39it/s]\n",
      "Epoch 141/200 - Training: 100%|██████████| 274/274 [00:00<00:00, 401.05it/s]\n",
      "Epoch 142/200 - Training: 100%|██████████| 274/274 [00:00<00:00, 404.95it/s]\n",
      "Epoch 143/200 - Training: 100%|██████████| 274/274 [00:00<00:00, 404.71it/s]\n",
      "Epoch 144/200 - Training: 100%|██████████| 274/274 [00:00<00:00, 379.53it/s]\n",
      "Epoch 145/200 - Training: 100%|██████████| 274/274 [00:00<00:00, 396.67it/s]\n",
      "Epoch 146/200 - Training: 100%|██████████| 274/274 [00:00<00:00, 409.22it/s]\n",
      "Epoch 147/200 - Training: 100%|██████████| 274/274 [00:00<00:00, 408.05it/s]\n",
      "Epoch 148/200 - Training: 100%|██████████| 274/274 [00:00<00:00, 414.50it/s]\n",
      "Epoch 149/200 - Training: 100%|██████████| 274/274 [00:00<00:00, 406.77it/s]\n",
      "Epoch 150/200 - Training: 100%|██████████| 274/274 [00:00<00:00, 426.96it/s]\n",
      "Epoch 151/200 - Training: 100%|██████████| 274/274 [00:00<00:00, 405.63it/s]\n",
      "Epoch 152/200 - Training: 100%|██████████| 274/274 [00:00<00:00, 422.96it/s]\n",
      "Epoch 153/200 - Training: 100%|██████████| 274/274 [00:00<00:00, 405.01it/s]\n",
      "Epoch 154/200 - Training: 100%|██████████| 274/274 [00:00<00:00, 414.34it/s]\n",
      "Epoch 155/200 - Training: 100%|██████████| 274/274 [00:00<00:00, 418.35it/s]\n",
      "Epoch 156/200 - Training: 100%|██████████| 274/274 [00:00<00:00, 380.10it/s]\n",
      "Epoch 157/200 - Training: 100%|██████████| 274/274 [00:00<00:00, 410.91it/s]\n",
      "Epoch 158/200 - Training: 100%|██████████| 274/274 [00:00<00:00, 425.72it/s]\n",
      "Epoch 159/200 - Training: 100%|██████████| 274/274 [00:00<00:00, 409.46it/s]\n",
      "Epoch 160/200 - Training: 100%|██████████| 274/274 [00:00<00:00, 408.73it/s]\n",
      "Epoch 161/200 - Training: 100%|██████████| 274/274 [00:00<00:00, 400.31it/s]\n",
      "Epoch 162/200 - Training: 100%|██████████| 274/274 [00:00<00:00, 427.73it/s]\n",
      "Epoch 163/200 - Training: 100%|██████████| 274/274 [00:00<00:00, 412.86it/s]\n",
      "Epoch 164/200 - Training: 100%|██████████| 274/274 [00:00<00:00, 419.83it/s]\n",
      "Epoch 165/200 - Training: 100%|██████████| 274/274 [00:00<00:00, 423.52it/s]\n",
      "Epoch 166/200 - Training: 100%|██████████| 274/274 [00:00<00:00, 417.75it/s]\n",
      "Epoch 167/200 - Training: 100%|██████████| 274/274 [00:00<00:00, 424.18it/s]\n",
      "Epoch 168/200 - Training: 100%|██████████| 274/274 [00:00<00:00, 402.06it/s]\n",
      "Epoch 169/200 - Training: 100%|██████████| 274/274 [00:00<00:00, 435.01it/s]\n",
      "Epoch 170/200 - Training: 100%|██████████| 274/274 [00:00<00:00, 419.72it/s]\n",
      "Epoch 171/200 - Training: 100%|██████████| 274/274 [00:00<00:00, 409.29it/s]\n",
      "Epoch 172/200 - Training: 100%|██████████| 274/274 [00:00<00:00, 392.22it/s]\n",
      "Epoch 173/200 - Training: 100%|██████████| 274/274 [00:00<00:00, 387.54it/s]\n",
      "Epoch 174/200 - Training: 100%|██████████| 274/274 [00:00<00:00, 409.07it/s]\n",
      "Epoch 175/200 - Training: 100%|██████████| 274/274 [00:00<00:00, 416.34it/s]\n",
      "Epoch 176/200 - Training: 100%|██████████| 274/274 [00:00<00:00, 403.90it/s]\n",
      "Epoch 177/200 - Training: 100%|██████████| 274/274 [00:00<00:00, 421.96it/s]\n",
      "Epoch 178/200 - Training: 100%|██████████| 274/274 [00:00<00:00, 408.73it/s]\n",
      "Epoch 179/200 - Training: 100%|██████████| 274/274 [00:00<00:00, 421.74it/s]\n",
      "Epoch 180/200 - Training: 100%|██████████| 274/274 [00:00<00:00, 412.62it/s]\n",
      "Epoch 181/200 - Training: 100%|██████████| 274/274 [00:00<00:00, 390.89it/s]\n",
      "Epoch 182/200 - Training: 100%|██████████| 274/274 [00:00<00:00, 378.97it/s]\n",
      "Epoch 183/200 - Training: 100%|██████████| 274/274 [00:00<00:00, 392.49it/s]\n",
      "Epoch 184/200 - Training: 100%|██████████| 274/274 [00:00<00:00, 386.88it/s]\n",
      "Epoch 185/200 - Training: 100%|██████████| 274/274 [00:00<00:00, 401.72it/s]\n",
      "Epoch 186/200 - Training: 100%|██████████| 274/274 [00:00<00:00, 418.31it/s]\n",
      "Epoch 187/200 - Training: 100%|██████████| 274/274 [00:00<00:00, 411.15it/s]\n",
      "Epoch 188/200 - Training: 100%|██████████| 274/274 [00:00<00:00, 413.22it/s]\n",
      "Epoch 189/200 - Training: 100%|██████████| 274/274 [00:00<00:00, 401.60it/s]\n",
      "Epoch 190/200 - Training: 100%|██████████| 274/274 [00:00<00:00, 395.20it/s]\n",
      "Epoch 191/200 - Training: 100%|██████████| 274/274 [00:00<00:00, 414.08it/s]\n",
      "Epoch 192/200 - Training: 100%|██████████| 274/274 [00:00<00:00, 389.44it/s]\n",
      "Epoch 193/200 - Training: 100%|██████████| 274/274 [00:00<00:00, 412.86it/s]\n",
      "Epoch 194/200 - Training: 100%|██████████| 274/274 [00:00<00:00, 402.17it/s]\n",
      "Epoch 195/200 - Training: 100%|██████████| 274/274 [00:00<00:00, 394.64it/s]\n",
      "Epoch 196/200 - Training: 100%|██████████| 274/274 [00:00<00:00, 408.34it/s]\n",
      "Epoch 197/200 - Training: 100%|██████████| 274/274 [00:00<00:00, 424.64it/s]\n",
      "Epoch 198/200 - Training: 100%|██████████| 274/274 [00:00<00:00, 416.57it/s]\n",
      "Epoch 199/200 - Training: 100%|██████████| 274/274 [00:00<00:00, 403.74it/s]\n",
      "Epoch 200/200 - Training: 100%|██████████| 274/274 [00:00<00:00, 417.13it/s]\n"
     ]
    }
   ],
   "source": [
    "from models.video.video_model import VideoMLPClassifier\n",
    "num_classes = 4\n",
    "video_model = VideoMLPClassifier(input_dim=512, num_classes=num_classes)\n",
    "\n",
    "trained_video_model = train_model(\n",
    "    video_model,\n",
    "    train_loaders[\"video\"],\n",
    "    val_loaders[\"video\"],\n",
    "    num_epochs=200,\n",
    "    learning_rate=1e-3,\n",
    "    device=\"cpu\",\n",
    "    modal=\"video\",\n",
    "    logfile=os.path.join(\"..\", \"logs\", \"training_logs\", \"video_train.log\"),\n",
    "    verbose=False,\n",
    "    num_classes=num_classes\n",
    ")"
   ]
  },
  {
   "cell_type": "code",
   "execution_count": 4,
   "metadata": {},
   "outputs": [
    {
     "name": "stdout",
     "output_type": "stream",
     "text": [
      "Accuracy of class 0: 59.07%\n",
      "Accuracy of class 1: 9.28%\n",
      "Accuracy of class 2: 9.70%\n",
      "Accuracy of class 3: 15.92%\n",
      "Validation Metrics: Loss = 6.6946, Accuracy = 19.13%, Precision = 0.36, Recall = 0.19, F1 = 0.20\n",
      "Video Test Loss: 6.6946, Video Test Accuracy: 19.13% Video Precision: 36.01% Video Recall: 19.13% Video F1: 19.74%\n"
     ]
    }
   ],
   "source": [
    "\n",
    "# Evaluate the video model on the test set\n",
    "test_loss_video, test_accuracy_video, precision_video, recall_video, f1_video = evaluate_model(\n",
    "    trained_video_model,\n",
    "    test_loaders[\"video\"],\n",
    "    criterion=nn.CrossEntropyLoss(),\n",
    "    device=\"cpu\",\n",
    "    modal=\"video\",\n",
    "    logfile=os.path.join(\"..\", \"logs\", \"training_logs\", \"video_test.log\"),\n",
    "    num_classes=num_classes\n",
    ")\n",
    "precision_video = precision_video * 100\n",
    "recall_video = recall_video * 100\n",
    "f1_video = f1_video * 100\n",
    "print(f\"Video Test Loss: {test_loss_video:.4f}, Video Test Accuracy: {test_accuracy_video:.2f}% Video Precision: {precision_video:.2f}% Video Recall: {recall_video:.2f}% Video F1: {f1_video:.2f}%\")\n",
    "# Save the model\n",
    "torch.save(trained_video_model.state_dict(), os.path.join('..', 'outputs', 'models',\"video_model_4.pt\"))\n",
    "\n"
   ]
  },
  {
   "cell_type": "markdown",
   "metadata": {},
   "source": [
    "**Soft Voting**"
   ]
  },
  {
   "cell_type": "code",
   "execution_count": 6,
   "metadata": {},
   "outputs": [],
   "source": [
    "\n",
    "\n",
    "import torch\n",
    "import numpy as np\n",
    "\n",
    "from models.bigru_coattention.multimodal import MultiModalDataset\n",
    "saved_data = torch.load(os.path.join(\"..\", \"outputs\", \"embeddings\", \"loaders_datasets_4.pt\"))\n",
    "\n",
    "\n",
    "train_dataset = MultiModalDataset(\n",
    "    saved_data['train']['audio'],\n",
    "    saved_data['train']['text'],\n",
    "    saved_data['train']['video'],\n",
    "    saved_data['train']['labels']\n",
    ")\n",
    "\n",
    "val_dataset = MultiModalDataset(\n",
    "    saved_data['val']['audio'],\n",
    "    saved_data['val']['text'],\n",
    "    saved_data['val']['video'],\n",
    "    saved_data['val']['labels']\n",
    ")\n",
    "\n",
    "test_dataset = MultiModalDataset(\n",
    "    saved_data['test']['audio'],\n",
    "    saved_data['test']['text'],\n",
    "    saved_data['test']['video'],\n",
    "    saved_data['test']['labels']\n",
    ")\n",
    "\n",
    "# Create DataLoaders\n",
    "train_loader = DataLoader(train_dataset, batch_size=32, shuffle=True)\n",
    "val_loader = DataLoader(val_dataset, batch_size=32, shuffle=False)\n",
    "test_loader = DataLoader(test_dataset, batch_size=32, shuffle=False)\n"
   ]
  },
  {
   "cell_type": "code",
   "execution_count": 9,
   "metadata": {},
   "outputs": [
    {
     "name": "stdout",
     "output_type": "stream",
     "text": [
      "Voting Accuracy: 16.90%, Precision: 33.84%, Recall: 16.90%, F1: 13.29%\n"
     ]
    }
   ],
   "source": [
    "# load the models\n",
    "from models.audio.audio_model import AudioCNNClassifier\n",
    "from models.text.text_model import TextLSTMClassifier\n",
    "from models.video.video_model import VideoMLPClassifier\n",
    "\n",
    "audio_model = AudioCNNClassifier(input_dim=100, num_classes=num_classes)\n",
    "audio_model.load_state_dict(torch.load(os.path.join('..', 'outputs', 'models',\"audio_model_4.pt\")))\n",
    "audio_model.eval()\n",
    "\n",
    "text_model = TextLSTMClassifier(input_dim=768, num_classes=num_classes)\n",
    "text_model.load_state_dict(torch.load(os.path.join('..', 'outputs', 'models',\"text_model_4.pt\")))\n",
    "text_model.eval()\n",
    "\n",
    "video_model = VideoMLPClassifier(input_dim=512, num_classes=num_classes)\n",
    "video_model.load_state_dict(torch.load(os.path.join('..', 'outputs', 'models',\"video_model_4.pt\")))\n",
    "video_model.eval()\n",
    "\n",
    "\n",
    "\n",
    "def majority_voting(audio_model, text_model, video_model, test_loader, device=\"cpu\"):\n",
    "    all_predictions = []\n",
    "    all_labels = []\n",
    "\n",
    "    audio_model.eval()\n",
    "    text_model.eval()\n",
    "    video_model.eval()\n",
    "\n",
    "    with torch.no_grad():\n",
    "        for batch in test_loader:\n",
    "            audio_data, text_data, video_data, labels = batch\n",
    "\n",
    "            # Move data to device\n",
    "            audio_data = audio_data.to(device)\n",
    "            text_data = text_data.to(device)\n",
    "            video_data = video_data.to(device)\n",
    "           \n",
    "            audio_data = audio_data.unsqueeze(1)\n",
    "            text_data = text_data.unsqueeze(1)\n",
    "\n",
    "\n",
    "\n",
    "\n",
    "            audio_preds = audio_model(audio_data).argmax(dim=1).cpu().numpy()\n",
    "            text_preds = text_model(text_data).argmax(dim=1).cpu().numpy()\n",
    "            video_preds = video_model(video_data).argmax(dim=1).cpu().numpy()\n",
    "\n",
    "\n",
    "            # Majority vote\n",
    "            stacked_preds = np.stack([audio_preds, text_preds, video_preds], axis=0)\n",
    "            final_preds = np.apply_along_axis(lambda x: np.bincount(x).argmax(), axis=0, arr=stacked_preds)\n",
    "\n",
    "            all_predictions.extend(final_preds)\n",
    "            all_labels.extend(labels.cpu().numpy())\n",
    "\n",
    "    # Calculate metrics\n",
    "    from sklearn.metrics import accuracy_score, precision_recall_fscore_support\n",
    "\n",
    "    accuracy = accuracy_score(all_labels, all_predictions)\n",
    "    precision, recall, f1, _ = precision_recall_fscore_support(all_labels, all_predictions, average=\"weighted\")\n",
    "\n",
    "    return accuracy, precision, recall, f1\n",
    "\n",
    "\n",
    "\n",
    "\n",
    "accuracy, precision, recall, f1 = majority_voting(audio_model, text_model, video_model, test_loader)\n",
    "print(f\"Voting Accuracy: {accuracy * 100:.2f}%, Precision: {precision * 100:.2f}%, Recall: {recall * 100:.2f}%, F1: {f1 * 100:.2f}%\")\n"
   ]
  },
  {
   "cell_type": "markdown",
   "metadata": {},
   "source": [
    "## Anothers Approach"
   ]
  },
  {
   "cell_type": "markdown",
   "metadata": {},
   "source": [
    "**2.1 BiGRU - Co-Attention Model**"
   ]
  },
  {
   "cell_type": "code",
   "execution_count": 3,
   "metadata": {},
   "outputs": [
    {
     "name": "stderr",
     "output_type": "stream",
     "text": [
      "Epoch 1/500 - Training: 100%|██████████| 245/245 [00:22<00:00, 10.70it/s]\n"
     ]
    },
    {
     "name": "stdout",
     "output_type": "stream",
     "text": [
      "Epoch 1: Train Loss = 0.8805, Val Loss = 0.8331, Val Accuracy = 71.87%, Precision = 0.69, Recall = 0.72, F1 = 0.69\n"
     ]
    },
    {
     "name": "stderr",
     "output_type": "stream",
     "text": [
      "Epoch 2/500 - Training: 100%|██████████| 245/245 [00:23<00:00, 10.36it/s]\n"
     ]
    },
    {
     "name": "stdout",
     "output_type": "stream",
     "text": [
      "Epoch 2: Train Loss = 0.8059, Val Loss = 0.7951, Val Accuracy = 68.90%, Precision = 0.69, Recall = 0.69, F1 = 0.68\n"
     ]
    },
    {
     "name": "stderr",
     "output_type": "stream",
     "text": [
      "Epoch 3/500 - Training: 100%|██████████| 245/245 [00:24<00:00, 10.11it/s]\n"
     ]
    },
    {
     "name": "stdout",
     "output_type": "stream",
     "text": [
      "Epoch 3: Train Loss = 0.7786, Val Loss = 0.7646, Val Accuracy = 72.61%, Precision = 0.70, Recall = 0.73, F1 = 0.70\n"
     ]
    },
    {
     "name": "stderr",
     "output_type": "stream",
     "text": [
      "Epoch 4/500 - Training: 100%|██████████| 245/245 [00:20<00:00, 11.92it/s]\n"
     ]
    },
    {
     "name": "stdout",
     "output_type": "stream",
     "text": [
      "Epoch 4: Train Loss = 0.7625, Val Loss = 0.7840, Val Accuracy = 73.23%, Precision = 0.71, Recall = 0.73, F1 = 0.70\n"
     ]
    },
    {
     "name": "stderr",
     "output_type": "stream",
     "text": [
      "Epoch 5/500 - Training: 100%|██████████| 245/245 [00:24<00:00, 10.08it/s]\n"
     ]
    },
    {
     "name": "stdout",
     "output_type": "stream",
     "text": [
      "Epoch 5: Train Loss = 0.7469, Val Loss = 0.7852, Val Accuracy = 72.86%, Precision = 0.70, Recall = 0.73, F1 = 0.70\n"
     ]
    },
    {
     "name": "stderr",
     "output_type": "stream",
     "text": [
      "Epoch 6/500 - Training: 100%|██████████| 245/245 [00:25<00:00,  9.78it/s]\n"
     ]
    },
    {
     "name": "stdout",
     "output_type": "stream",
     "text": [
      "Epoch 6: Train Loss = 0.7400, Val Loss = 0.8056, Val Accuracy = 73.61%, Precision = 0.71, Recall = 0.74, F1 = 0.71\n"
     ]
    },
    {
     "name": "stderr",
     "output_type": "stream",
     "text": [
      "Epoch 7/500 - Training: 100%|██████████| 245/245 [00:25<00:00,  9.70it/s]\n"
     ]
    },
    {
     "name": "stdout",
     "output_type": "stream",
     "text": [
      "Epoch 7: Train Loss = 0.7261, Val Loss = 0.7613, Val Accuracy = 72.37%, Precision = 0.69, Recall = 0.72, F1 = 0.69\n"
     ]
    },
    {
     "name": "stderr",
     "output_type": "stream",
     "text": [
      "Epoch 8/500 - Training: 100%|██████████| 245/245 [00:22<00:00, 10.99it/s]\n"
     ]
    },
    {
     "name": "stdout",
     "output_type": "stream",
     "text": [
      "Epoch 8: Train Loss = 0.7173, Val Loss = 0.7824, Val Accuracy = 73.11%, Precision = 0.70, Recall = 0.73, F1 = 0.70\n"
     ]
    },
    {
     "name": "stderr",
     "output_type": "stream",
     "text": [
      "Epoch 9/500 - Training: 100%|██████████| 245/245 [00:29<00:00,  8.44it/s]\n"
     ]
    },
    {
     "name": "stdout",
     "output_type": "stream",
     "text": [
      "Epoch 9: Train Loss = 0.7235, Val Loss = 0.7691, Val Accuracy = 72.86%, Precision = 0.70, Recall = 0.73, F1 = 0.70\n"
     ]
    },
    {
     "name": "stderr",
     "output_type": "stream",
     "text": [
      "Epoch 10/500 - Training: 100%|██████████| 245/245 [00:29<00:00,  8.40it/s]\n"
     ]
    },
    {
     "name": "stdout",
     "output_type": "stream",
     "text": [
      "Epoch 10: Train Loss = 0.7053, Val Loss = 0.7976, Val Accuracy = 72.49%, Precision = 0.70, Recall = 0.72, F1 = 0.69\n"
     ]
    },
    {
     "name": "stderr",
     "output_type": "stream",
     "text": [
      "Epoch 11/500 - Training: 100%|██████████| 245/245 [00:24<00:00,  9.87it/s]\n"
     ]
    },
    {
     "name": "stdout",
     "output_type": "stream",
     "text": [
      "Epoch 11: Train Loss = 0.6965, Val Loss = 0.8374, Val Accuracy = 72.24%, Precision = 0.69, Recall = 0.72, F1 = 0.68\n"
     ]
    },
    {
     "name": "stderr",
     "output_type": "stream",
     "text": [
      "Epoch 12/500 - Training: 100%|██████████| 245/245 [00:23<00:00, 10.61it/s]\n"
     ]
    },
    {
     "name": "stdout",
     "output_type": "stream",
     "text": [
      "Epoch 12: Train Loss = 0.6981, Val Loss = 0.8094, Val Accuracy = 71.75%, Precision = 0.69, Recall = 0.72, F1 = 0.69\n"
     ]
    },
    {
     "name": "stderr",
     "output_type": "stream",
     "text": [
      "Epoch 13/500 - Training: 100%|██████████| 245/245 [00:26<00:00,  9.34it/s]\n"
     ]
    },
    {
     "name": "stdout",
     "output_type": "stream",
     "text": [
      "Epoch 13: Train Loss = 0.6937, Val Loss = 0.7900, Val Accuracy = 72.74%, Precision = 0.70, Recall = 0.73, F1 = 0.70\n"
     ]
    },
    {
     "name": "stderr",
     "output_type": "stream",
     "text": [
      "Epoch 14/500 - Training: 100%|██████████| 245/245 [00:25<00:00,  9.54it/s]\n"
     ]
    },
    {
     "name": "stdout",
     "output_type": "stream",
     "text": [
      "Epoch 14: Train Loss = 0.6888, Val Loss = 0.7910, Val Accuracy = 71.75%, Precision = 0.69, Recall = 0.72, F1 = 0.70\n"
     ]
    },
    {
     "name": "stderr",
     "output_type": "stream",
     "text": [
      "Epoch 15/500 - Training: 100%|██████████| 245/245 [00:21<00:00, 11.55it/s]\n"
     ]
    },
    {
     "name": "stdout",
     "output_type": "stream",
     "text": [
      "Epoch 15: Train Loss = 0.6716, Val Loss = 0.7991, Val Accuracy = 72.86%, Precision = 0.70, Recall = 0.73, F1 = 0.70\n"
     ]
    },
    {
     "name": "stderr",
     "output_type": "stream",
     "text": [
      "Epoch 16/500 - Training: 100%|██████████| 245/245 [00:24<00:00,  9.87it/s]\n"
     ]
    },
    {
     "name": "stdout",
     "output_type": "stream",
     "text": [
      "Epoch 16: Train Loss = 0.6552, Val Loss = 0.8194, Val Accuracy = 71.87%, Precision = 0.69, Recall = 0.72, F1 = 0.69\n"
     ]
    },
    {
     "name": "stderr",
     "output_type": "stream",
     "text": [
      "Epoch 17/500 - Training: 100%|██████████| 245/245 [00:24<00:00,  9.93it/s]\n"
     ]
    },
    {
     "name": "stdout",
     "output_type": "stream",
     "text": [
      "Epoch 17: Train Loss = 0.6651, Val Loss = 0.7688, Val Accuracy = 73.11%, Precision = 0.70, Recall = 0.73, F1 = 0.70\n"
     ]
    },
    {
     "name": "stderr",
     "output_type": "stream",
     "text": [
      "Epoch 18/500 - Training: 100%|██████████| 245/245 [00:25<00:00,  9.78it/s]\n"
     ]
    },
    {
     "name": "stdout",
     "output_type": "stream",
     "text": [
      "Epoch 18: Train Loss = 0.6673, Val Loss = 0.8388, Val Accuracy = 72.12%, Precision = 0.69, Recall = 0.72, F1 = 0.70\n"
     ]
    },
    {
     "name": "stderr",
     "output_type": "stream",
     "text": [
      "Epoch 19/500 - Training: 100%|██████████| 245/245 [00:18<00:00, 13.30it/s]\n"
     ]
    },
    {
     "name": "stdout",
     "output_type": "stream",
     "text": [
      "Epoch 19: Train Loss = 0.6528, Val Loss = 0.8085, Val Accuracy = 72.00%, Precision = 0.70, Recall = 0.72, F1 = 0.70\n"
     ]
    },
    {
     "name": "stderr",
     "output_type": "stream",
     "text": [
      "Epoch 20/500 - Training: 100%|██████████| 245/245 [00:25<00:00,  9.74it/s]\n"
     ]
    },
    {
     "name": "stdout",
     "output_type": "stream",
     "text": [
      "Epoch 20: Train Loss = 0.6475, Val Loss = 0.7961, Val Accuracy = 72.86%, Precision = 0.70, Recall = 0.73, F1 = 0.70\n"
     ]
    },
    {
     "name": "stderr",
     "output_type": "stream",
     "text": [
      "Epoch 21/500 - Training: 100%|██████████| 245/245 [00:24<00:00,  9.81it/s]\n"
     ]
    },
    {
     "name": "stdout",
     "output_type": "stream",
     "text": [
      "Epoch 21: Train Loss = 0.6381, Val Loss = 0.8726, Val Accuracy = 72.99%, Precision = 0.70, Recall = 0.73, F1 = 0.71\n"
     ]
    },
    {
     "name": "stderr",
     "output_type": "stream",
     "text": [
      "Epoch 22/500 - Training: 100%|██████████| 245/245 [00:25<00:00,  9.76it/s]\n"
     ]
    },
    {
     "name": "stdout",
     "output_type": "stream",
     "text": [
      "Epoch 22: Train Loss = 0.6200, Val Loss = 0.8099, Val Accuracy = 73.23%, Precision = 0.70, Recall = 0.73, F1 = 0.70\n"
     ]
    },
    {
     "name": "stderr",
     "output_type": "stream",
     "text": [
      "Epoch 23/500 - Training: 100%|██████████| 245/245 [00:19<00:00, 12.50it/s]\n"
     ]
    },
    {
     "name": "stdout",
     "output_type": "stream",
     "text": [
      "Epoch 23: Train Loss = 0.6078, Val Loss = 0.8472, Val Accuracy = 72.37%, Precision = 0.69, Recall = 0.72, F1 = 0.70\n"
     ]
    },
    {
     "name": "stderr",
     "output_type": "stream",
     "text": [
      "Epoch 24/500 - Training: 100%|██████████| 245/245 [00:24<00:00,  9.91it/s]\n"
     ]
    },
    {
     "name": "stdout",
     "output_type": "stream",
     "text": [
      "Epoch 24: Train Loss = 0.6072, Val Loss = 0.8518, Val Accuracy = 72.00%, Precision = 0.69, Recall = 0.72, F1 = 0.69\n"
     ]
    },
    {
     "name": "stderr",
     "output_type": "stream",
     "text": [
      "Epoch 25/500 - Training: 100%|██████████| 245/245 [00:24<00:00,  9.98it/s]\n"
     ]
    },
    {
     "name": "stdout",
     "output_type": "stream",
     "text": [
      "Epoch 25: Train Loss = 0.5948, Val Loss = 0.8857, Val Accuracy = 73.36%, Precision = 0.70, Recall = 0.73, F1 = 0.71\n"
     ]
    },
    {
     "name": "stderr",
     "output_type": "stream",
     "text": [
      "Epoch 26/500 - Training: 100%|██████████| 245/245 [00:26<00:00,  9.31it/s]\n"
     ]
    },
    {
     "name": "stdout",
     "output_type": "stream",
     "text": [
      "Epoch 26: Train Loss = 0.6044, Val Loss = 0.8932, Val Accuracy = 71.13%, Precision = 0.68, Recall = 0.71, F1 = 0.68\n"
     ]
    },
    {
     "name": "stderr",
     "output_type": "stream",
     "text": [
      "Epoch 27/500 - Training: 100%|██████████| 245/245 [00:20<00:00, 12.01it/s]\n"
     ]
    },
    {
     "name": "stdout",
     "output_type": "stream",
     "text": [
      "Epoch 27: Train Loss = 0.5959, Val Loss = 0.8488, Val Accuracy = 71.00%, Precision = 0.69, Recall = 0.71, F1 = 0.67\n"
     ]
    },
    {
     "name": "stderr",
     "output_type": "stream",
     "text": [
      "Epoch 28/500 - Training: 100%|██████████| 245/245 [00:25<00:00,  9.73it/s]\n"
     ]
    },
    {
     "name": "stdout",
     "output_type": "stream",
     "text": [
      "Epoch 28: Train Loss = 0.5898, Val Loss = 0.9018, Val Accuracy = 72.49%, Precision = 0.70, Recall = 0.72, F1 = 0.70\n"
     ]
    },
    {
     "name": "stderr",
     "output_type": "stream",
     "text": [
      "Epoch 29/500 - Training: 100%|██████████| 245/245 [00:24<00:00,  9.84it/s]\n"
     ]
    },
    {
     "name": "stdout",
     "output_type": "stream",
     "text": [
      "Epoch 29: Train Loss = 0.5871, Val Loss = 0.8312, Val Accuracy = 72.61%, Precision = 0.70, Recall = 0.73, F1 = 0.70\n"
     ]
    },
    {
     "name": "stderr",
     "output_type": "stream",
     "text": [
      "Epoch 30/500 - Training: 100%|██████████| 245/245 [00:24<00:00, 10.09it/s]\n"
     ]
    },
    {
     "name": "stdout",
     "output_type": "stream",
     "text": [
      "Epoch 30: Train Loss = 0.5756, Val Loss = 0.8749, Val Accuracy = 71.13%, Precision = 0.68, Recall = 0.71, F1 = 0.68\n"
     ]
    },
    {
     "name": "stderr",
     "output_type": "stream",
     "text": [
      "Epoch 31/500 - Training: 100%|██████████| 245/245 [00:19<00:00, 12.68it/s]\n"
     ]
    },
    {
     "name": "stdout",
     "output_type": "stream",
     "text": [
      "Epoch 31: Train Loss = 0.5868, Val Loss = 0.9388, Val Accuracy = 71.00%, Precision = 0.68, Recall = 0.71, F1 = 0.67\n"
     ]
    },
    {
     "name": "stderr",
     "output_type": "stream",
     "text": [
      "Epoch 32/500 - Training: 100%|██████████| 245/245 [00:24<00:00, 10.06it/s]\n"
     ]
    },
    {
     "name": "stdout",
     "output_type": "stream",
     "text": [
      "Epoch 32: Train Loss = 0.5557, Val Loss = 0.9388, Val Accuracy = 70.88%, Precision = 0.67, Recall = 0.71, F1 = 0.68\n"
     ]
    },
    {
     "name": "stderr",
     "output_type": "stream",
     "text": [
      "Epoch 33/500 - Training: 100%|██████████| 245/245 [00:25<00:00,  9.43it/s]\n"
     ]
    },
    {
     "name": "stdout",
     "output_type": "stream",
     "text": [
      "Epoch 33: Train Loss = 0.5543, Val Loss = 0.9158, Val Accuracy = 70.38%, Precision = 0.68, Recall = 0.70, F1 = 0.67\n"
     ]
    },
    {
     "name": "stderr",
     "output_type": "stream",
     "text": [
      "Epoch 34/500 - Training: 100%|██████████| 245/245 [00:24<00:00, 10.05it/s]\n"
     ]
    },
    {
     "name": "stdout",
     "output_type": "stream",
     "text": [
      "Epoch 34: Train Loss = 0.5698, Val Loss = 0.9553, Val Accuracy = 70.63%, Precision = 0.68, Recall = 0.71, F1 = 0.68\n"
     ]
    },
    {
     "name": "stderr",
     "output_type": "stream",
     "text": [
      "Epoch 35/500 - Training: 100%|██████████| 245/245 [00:20<00:00, 12.21it/s]\n"
     ]
    },
    {
     "name": "stdout",
     "output_type": "stream",
     "text": [
      "Epoch 35: Train Loss = 0.5396, Val Loss = 0.9468, Val Accuracy = 72.49%, Precision = 0.69, Recall = 0.72, F1 = 0.70\n"
     ]
    },
    {
     "name": "stderr",
     "output_type": "stream",
     "text": [
      "Epoch 36/500 - Training: 100%|██████████| 245/245 [00:24<00:00, 10.10it/s]\n"
     ]
    },
    {
     "name": "stdout",
     "output_type": "stream",
     "text": [
      "Epoch 36: Train Loss = 0.5275, Val Loss = 0.9925, Val Accuracy = 70.51%, Precision = 0.67, Recall = 0.71, F1 = 0.68\n"
     ]
    },
    {
     "name": "stderr",
     "output_type": "stream",
     "text": [
      "Epoch 37/500 - Training: 100%|██████████| 245/245 [00:24<00:00,  9.93it/s]\n"
     ]
    },
    {
     "name": "stdout",
     "output_type": "stream",
     "text": [
      "Epoch 37: Train Loss = 0.5225, Val Loss = 0.9649, Val Accuracy = 68.03%, Precision = 0.66, Recall = 0.68, F1 = 0.66\n"
     ]
    },
    {
     "name": "stderr",
     "output_type": "stream",
     "text": [
      "Epoch 38/500 - Training: 100%|██████████| 245/245 [00:23<00:00, 10.26it/s]\n"
     ]
    },
    {
     "name": "stdout",
     "output_type": "stream",
     "text": [
      "Epoch 38: Train Loss = 0.5035, Val Loss = 1.0206, Val Accuracy = 70.88%, Precision = 0.68, Recall = 0.71, F1 = 0.68\n"
     ]
    },
    {
     "name": "stderr",
     "output_type": "stream",
     "text": [
      "Epoch 39/500 - Training: 100%|██████████| 245/245 [00:19<00:00, 12.33it/s]\n"
     ]
    },
    {
     "name": "stdout",
     "output_type": "stream",
     "text": [
      "Epoch 39: Train Loss = 0.5826, Val Loss = 0.8765, Val Accuracy = 72.37%, Precision = 0.70, Recall = 0.72, F1 = 0.70\n"
     ]
    },
    {
     "name": "stderr",
     "output_type": "stream",
     "text": [
      "Epoch 40/500 - Training: 100%|██████████| 245/245 [00:24<00:00, 10.05it/s]\n"
     ]
    },
    {
     "name": "stdout",
     "output_type": "stream",
     "text": [
      "Epoch 40: Train Loss = 0.5424, Val Loss = 0.9690, Val Accuracy = 70.88%, Precision = 0.67, Recall = 0.71, F1 = 0.68\n"
     ]
    },
    {
     "name": "stderr",
     "output_type": "stream",
     "text": [
      "Epoch 41/500 - Training: 100%|██████████| 245/245 [00:24<00:00, 10.03it/s]\n"
     ]
    },
    {
     "name": "stdout",
     "output_type": "stream",
     "text": [
      "Epoch 41: Train Loss = 0.5480, Val Loss = 0.8636, Val Accuracy = 71.75%, Precision = 0.69, Recall = 0.72, F1 = 0.68\n"
     ]
    },
    {
     "name": "stderr",
     "output_type": "stream",
     "text": [
      "Epoch 42/500 - Training: 100%|██████████| 245/245 [00:22<00:00, 10.75it/s]\n"
     ]
    },
    {
     "name": "stdout",
     "output_type": "stream",
     "text": [
      "Epoch 42: Train Loss = 0.5462, Val Loss = 0.9886, Val Accuracy = 71.25%, Precision = 0.68, Recall = 0.71, F1 = 0.69\n"
     ]
    },
    {
     "name": "stderr",
     "output_type": "stream",
     "text": [
      "Epoch 43/500 - Training: 100%|██████████| 245/245 [00:20<00:00, 11.90it/s]\n"
     ]
    },
    {
     "name": "stdout",
     "output_type": "stream",
     "text": [
      "Epoch 43: Train Loss = 0.5089, Val Loss = 1.0521, Val Accuracy = 71.00%, Precision = 0.69, Recall = 0.71, F1 = 0.68\n"
     ]
    },
    {
     "name": "stderr",
     "output_type": "stream",
     "text": [
      "Epoch 44/500 - Training: 100%|██████████| 245/245 [00:24<00:00,  9.88it/s]\n"
     ]
    },
    {
     "name": "stdout",
     "output_type": "stream",
     "text": [
      "Epoch 44: Train Loss = 0.4945, Val Loss = 0.9500, Val Accuracy = 71.62%, Precision = 0.69, Recall = 0.72, F1 = 0.69\n"
     ]
    },
    {
     "name": "stderr",
     "output_type": "stream",
     "text": [
      "Epoch 45/500 - Training: 100%|██████████| 245/245 [00:25<00:00,  9.62it/s]\n"
     ]
    },
    {
     "name": "stdout",
     "output_type": "stream",
     "text": [
      "Epoch 45: Train Loss = 0.5469, Val Loss = 0.8362, Val Accuracy = 72.49%, Precision = 0.70, Recall = 0.72, F1 = 0.69\n"
     ]
    },
    {
     "name": "stderr",
     "output_type": "stream",
     "text": [
      "Epoch 46/500 - Training: 100%|██████████| 245/245 [00:22<00:00, 10.85it/s]\n"
     ]
    },
    {
     "name": "stdout",
     "output_type": "stream",
     "text": [
      "Epoch 46: Train Loss = 0.5067, Val Loss = 1.0644, Val Accuracy = 71.25%, Precision = 0.69, Recall = 0.71, F1 = 0.69\n"
     ]
    },
    {
     "name": "stderr",
     "output_type": "stream",
     "text": [
      "Epoch 47/500 - Training: 100%|██████████| 245/245 [00:20<00:00, 11.69it/s]\n"
     ]
    },
    {
     "name": "stdout",
     "output_type": "stream",
     "text": [
      "Epoch 47: Train Loss = 0.4784, Val Loss = 1.0819, Val Accuracy = 70.38%, Precision = 0.68, Recall = 0.70, F1 = 0.68\n"
     ]
    },
    {
     "name": "stderr",
     "output_type": "stream",
     "text": [
      "Epoch 48/500 - Training: 100%|██████████| 245/245 [00:23<00:00, 10.21it/s]\n"
     ]
    },
    {
     "name": "stdout",
     "output_type": "stream",
     "text": [
      "Epoch 48: Train Loss = 0.5586, Val Loss = 0.8212, Val Accuracy = 72.12%, Precision = 0.69, Recall = 0.72, F1 = 0.70\n"
     ]
    },
    {
     "name": "stderr",
     "output_type": "stream",
     "text": [
      "Epoch 49/500 - Training: 100%|██████████| 245/245 [00:23<00:00, 10.27it/s]\n"
     ]
    },
    {
     "name": "stdout",
     "output_type": "stream",
     "text": [
      "Epoch 49: Train Loss = 0.5576, Val Loss = 0.9047, Val Accuracy = 68.77%, Precision = 0.67, Recall = 0.69, F1 = 0.67\n"
     ]
    },
    {
     "name": "stderr",
     "output_type": "stream",
     "text": [
      "Epoch 50/500 - Training: 100%|██████████| 245/245 [00:21<00:00, 11.43it/s]\n"
     ]
    },
    {
     "name": "stdout",
     "output_type": "stream",
     "text": [
      "Epoch 50: Train Loss = 0.5196, Val Loss = 0.9659, Val Accuracy = 69.39%, Precision = 0.67, Recall = 0.69, F1 = 0.68\n"
     ]
    },
    {
     "name": "stderr",
     "output_type": "stream",
     "text": [
      "Epoch 51/500 - Training: 100%|██████████| 245/245 [00:21<00:00, 11.27it/s]\n"
     ]
    },
    {
     "name": "stdout",
     "output_type": "stream",
     "text": [
      "Epoch 51: Train Loss = 0.4804, Val Loss = 1.0664, Val Accuracy = 71.38%, Precision = 0.70, Recall = 0.71, F1 = 0.70\n"
     ]
    },
    {
     "name": "stderr",
     "output_type": "stream",
     "text": [
      "Epoch 52/500 - Training: 100%|██████████| 245/245 [00:23<00:00, 10.32it/s]\n"
     ]
    },
    {
     "name": "stdout",
     "output_type": "stream",
     "text": [
      "Epoch 52: Train Loss = 0.4504, Val Loss = 1.0231, Val Accuracy = 70.88%, Precision = 0.69, Recall = 0.71, F1 = 0.69\n"
     ]
    },
    {
     "name": "stderr",
     "output_type": "stream",
     "text": [
      "Epoch 53/500 - Training: 100%|██████████| 245/245 [00:23<00:00, 10.29it/s]\n"
     ]
    },
    {
     "name": "stdout",
     "output_type": "stream",
     "text": [
      "Epoch 53: Train Loss = 0.4512, Val Loss = 1.1206, Val Accuracy = 70.51%, Precision = 0.69, Recall = 0.71, F1 = 0.69\n"
     ]
    },
    {
     "name": "stderr",
     "output_type": "stream",
     "text": [
      "Epoch 54/500 - Training: 100%|██████████| 245/245 [00:20<00:00, 11.69it/s]\n"
     ]
    },
    {
     "name": "stdout",
     "output_type": "stream",
     "text": [
      "Epoch 54: Train Loss = 0.4301, Val Loss = 1.0893, Val Accuracy = 71.62%, Precision = 0.70, Recall = 0.72, F1 = 0.70\n"
     ]
    },
    {
     "name": "stderr",
     "output_type": "stream",
     "text": [
      "Epoch 55/500 - Training: 100%|██████████| 245/245 [00:21<00:00, 11.17it/s]\n"
     ]
    },
    {
     "name": "stdout",
     "output_type": "stream",
     "text": [
      "Epoch 55: Train Loss = 0.4255, Val Loss = 0.9891, Val Accuracy = 70.01%, Precision = 0.67, Recall = 0.70, F1 = 0.68\n"
     ]
    },
    {
     "name": "stderr",
     "output_type": "stream",
     "text": [
      "Epoch 56/500 - Training: 100%|██████████| 245/245 [00:24<00:00, 10.20it/s]\n"
     ]
    },
    {
     "name": "stdout",
     "output_type": "stream",
     "text": [
      "Epoch 56: Train Loss = 0.4239, Val Loss = 1.1659, Val Accuracy = 71.00%, Precision = 0.70, Recall = 0.71, F1 = 0.70\n"
     ]
    },
    {
     "name": "stderr",
     "output_type": "stream",
     "text": [
      "Epoch 57/500 - Training: 100%|██████████| 245/245 [00:24<00:00, 10.11it/s]\n"
     ]
    },
    {
     "name": "stdout",
     "output_type": "stream",
     "text": [
      "Epoch 57: Train Loss = 0.3996, Val Loss = 1.1942, Val Accuracy = 69.76%, Precision = 0.68, Recall = 0.70, F1 = 0.68\n"
     ]
    },
    {
     "name": "stderr",
     "output_type": "stream",
     "text": [
      "Epoch 58/500 - Training: 100%|██████████| 245/245 [00:20<00:00, 11.74it/s]\n"
     ]
    },
    {
     "name": "stdout",
     "output_type": "stream",
     "text": [
      "Epoch 58: Train Loss = 0.3817, Val Loss = 1.2290, Val Accuracy = 69.39%, Precision = 0.67, Recall = 0.69, F1 = 0.67\n"
     ]
    },
    {
     "name": "stderr",
     "output_type": "stream",
     "text": [
      "Epoch 59/500 - Training: 100%|██████████| 245/245 [00:21<00:00, 11.39it/s]\n"
     ]
    },
    {
     "name": "stdout",
     "output_type": "stream",
     "text": [
      "Epoch 59: Train Loss = 0.3985, Val Loss = 1.0506, Val Accuracy = 70.14%, Precision = 0.68, Recall = 0.70, F1 = 0.69\n"
     ]
    },
    {
     "name": "stderr",
     "output_type": "stream",
     "text": [
      "Epoch 60/500 - Training: 100%|██████████| 245/245 [00:24<00:00,  9.89it/s]\n"
     ]
    },
    {
     "name": "stdout",
     "output_type": "stream",
     "text": [
      "Epoch 60: Train Loss = 0.4952, Val Loss = 0.8651, Val Accuracy = 72.24%, Precision = 0.70, Recall = 0.72, F1 = 0.70\n"
     ]
    },
    {
     "name": "stderr",
     "output_type": "stream",
     "text": [
      "Epoch 61/500 - Training: 100%|██████████| 245/245 [00:24<00:00,  9.86it/s]\n"
     ]
    },
    {
     "name": "stdout",
     "output_type": "stream",
     "text": [
      "Epoch 61: Train Loss = 0.4781, Val Loss = 1.2673, Val Accuracy = 69.64%, Precision = 0.68, Recall = 0.70, F1 = 0.68\n"
     ]
    },
    {
     "name": "stderr",
     "output_type": "stream",
     "text": [
      "Epoch 62/500 - Training: 100%|██████████| 245/245 [00:21<00:00, 11.58it/s]\n"
     ]
    },
    {
     "name": "stdout",
     "output_type": "stream",
     "text": [
      "Epoch 62: Train Loss = 0.3956, Val Loss = 1.0318, Val Accuracy = 68.77%, Precision = 0.69, Recall = 0.69, F1 = 0.67\n"
     ]
    },
    {
     "name": "stderr",
     "output_type": "stream",
     "text": [
      "Epoch 63/500 - Training: 100%|██████████| 245/245 [00:22<00:00, 10.67it/s]\n"
     ]
    },
    {
     "name": "stdout",
     "output_type": "stream",
     "text": [
      "Epoch 63: Train Loss = 0.4348, Val Loss = 1.0788, Val Accuracy = 71.25%, Precision = 0.69, Recall = 0.71, F1 = 0.69\n"
     ]
    },
    {
     "name": "stderr",
     "output_type": "stream",
     "text": [
      "Epoch 64/500 - Training: 100%|██████████| 245/245 [00:24<00:00,  9.85it/s]\n"
     ]
    },
    {
     "name": "stdout",
     "output_type": "stream",
     "text": [
      "Epoch 64: Train Loss = 0.4104, Val Loss = 1.1894, Val Accuracy = 68.90%, Precision = 0.67, Recall = 0.69, F1 = 0.68\n"
     ]
    },
    {
     "name": "stderr",
     "output_type": "stream",
     "text": [
      "Epoch 65/500 - Training: 100%|██████████| 245/245 [00:24<00:00,  9.92it/s]\n"
     ]
    },
    {
     "name": "stdout",
     "output_type": "stream",
     "text": [
      "Epoch 65: Train Loss = 0.3851, Val Loss = 1.0378, Val Accuracy = 69.52%, Precision = 0.67, Recall = 0.70, F1 = 0.67\n"
     ]
    },
    {
     "name": "stderr",
     "output_type": "stream",
     "text": [
      "Epoch 66/500 - Training: 100%|██████████| 245/245 [00:20<00:00, 12.13it/s]\n"
     ]
    },
    {
     "name": "stdout",
     "output_type": "stream",
     "text": [
      "Epoch 66: Train Loss = 0.4480, Val Loss = 1.1894, Val Accuracy = 68.28%, Precision = 0.69, Recall = 0.68, F1 = 0.66\n"
     ]
    },
    {
     "name": "stderr",
     "output_type": "stream",
     "text": [
      "Epoch 67/500 - Training: 100%|██████████| 245/245 [00:22<00:00, 10.72it/s]\n"
     ]
    },
    {
     "name": "stdout",
     "output_type": "stream",
     "text": [
      "Epoch 67: Train Loss = 0.4682, Val Loss = 0.9128, Val Accuracy = 71.13%, Precision = 0.70, Recall = 0.71, F1 = 0.70\n"
     ]
    },
    {
     "name": "stderr",
     "output_type": "stream",
     "text": [
      "Epoch 68/500 - Training: 100%|██████████| 245/245 [00:24<00:00, 10.18it/s]\n"
     ]
    },
    {
     "name": "stdout",
     "output_type": "stream",
     "text": [
      "Epoch 68: Train Loss = 0.4237, Val Loss = 1.0980, Val Accuracy = 71.00%, Precision = 0.69, Recall = 0.71, F1 = 0.70\n"
     ]
    },
    {
     "name": "stderr",
     "output_type": "stream",
     "text": [
      "Epoch 69/500 - Training: 100%|██████████| 245/245 [00:24<00:00,  9.98it/s]\n"
     ]
    },
    {
     "name": "stdout",
     "output_type": "stream",
     "text": [
      "Epoch 69: Train Loss = 0.5801, Val Loss = 0.8981, Val Accuracy = 68.77%, Precision = 0.65, Recall = 0.69, F1 = 0.66\n"
     ]
    },
    {
     "name": "stderr",
     "output_type": "stream",
     "text": [
      "Epoch 70/500 - Training: 100%|██████████| 245/245 [00:19<00:00, 12.33it/s]\n"
     ]
    },
    {
     "name": "stdout",
     "output_type": "stream",
     "text": [
      "Epoch 70: Train Loss = 0.5877, Val Loss = 0.8872, Val Accuracy = 71.00%, Precision = 0.69, Recall = 0.71, F1 = 0.68\n"
     ]
    },
    {
     "name": "stderr",
     "output_type": "stream",
     "text": [
      "Epoch 71/500 - Training: 100%|██████████| 245/245 [00:24<00:00,  9.93it/s]\n"
     ]
    },
    {
     "name": "stdout",
     "output_type": "stream",
     "text": [
      "Epoch 71: Train Loss = 0.5107, Val Loss = 0.9427, Val Accuracy = 71.00%, Precision = 0.69, Recall = 0.71, F1 = 0.69\n"
     ]
    },
    {
     "name": "stderr",
     "output_type": "stream",
     "text": [
      "Epoch 72/500 - Training: 100%|██████████| 245/245 [00:25<00:00,  9.69it/s]\n"
     ]
    },
    {
     "name": "stdout",
     "output_type": "stream",
     "text": [
      "Epoch 72: Train Loss = 0.5647, Val Loss = 0.8625, Val Accuracy = 70.51%, Precision = 0.67, Recall = 0.71, F1 = 0.67\n"
     ]
    },
    {
     "name": "stderr",
     "output_type": "stream",
     "text": [
      "Epoch 73/500 - Training: 100%|██████████| 245/245 [00:26<00:00,  9.10it/s]\n"
     ]
    },
    {
     "name": "stdout",
     "output_type": "stream",
     "text": [
      "Epoch 73: Train Loss = 0.5912, Val Loss = 0.8564, Val Accuracy = 67.41%, Precision = 0.63, Recall = 0.67, F1 = 0.63\n"
     ]
    },
    {
     "name": "stderr",
     "output_type": "stream",
     "text": [
      "Epoch 74/500 - Training: 100%|██████████| 245/245 [00:20<00:00, 11.98it/s]\n"
     ]
    },
    {
     "name": "stdout",
     "output_type": "stream",
     "text": [
      "Epoch 74: Train Loss = 0.6462, Val Loss = 0.8277, Val Accuracy = 71.62%, Precision = 0.69, Recall = 0.72, F1 = 0.70\n"
     ]
    },
    {
     "name": "stderr",
     "output_type": "stream",
     "text": [
      "Epoch 75/500 - Training: 100%|██████████| 245/245 [00:24<00:00,  9.98it/s]\n"
     ]
    },
    {
     "name": "stdout",
     "output_type": "stream",
     "text": [
      "Epoch 75: Train Loss = 0.6186, Val Loss = 0.8674, Val Accuracy = 71.75%, Precision = 0.69, Recall = 0.72, F1 = 0.70\n"
     ]
    },
    {
     "name": "stderr",
     "output_type": "stream",
     "text": [
      "Epoch 76/500 - Training: 100%|██████████| 245/245 [00:23<00:00, 10.29it/s]\n"
     ]
    },
    {
     "name": "stdout",
     "output_type": "stream",
     "text": [
      "Epoch 76: Train Loss = 0.5904, Val Loss = 0.9200, Val Accuracy = 67.91%, Precision = 0.66, Recall = 0.68, F1 = 0.67\n"
     ]
    },
    {
     "name": "stderr",
     "output_type": "stream",
     "text": [
      "Epoch 77/500 - Training: 100%|██████████| 245/245 [00:23<00:00, 10.21it/s]\n"
     ]
    },
    {
     "name": "stdout",
     "output_type": "stream",
     "text": [
      "Epoch 77: Train Loss = 0.5759, Val Loss = 0.8465, Val Accuracy = 70.88%, Precision = 0.68, Recall = 0.71, F1 = 0.69\n"
     ]
    },
    {
     "name": "stderr",
     "output_type": "stream",
     "text": [
      "Epoch 78/500 - Training: 100%|██████████| 245/245 [00:19<00:00, 12.88it/s]\n"
     ]
    },
    {
     "name": "stdout",
     "output_type": "stream",
     "text": [
      "Epoch 78: Train Loss = 0.5675, Val Loss = 0.8892, Val Accuracy = 72.12%, Precision = 0.69, Recall = 0.72, F1 = 0.69\n"
     ]
    },
    {
     "name": "stderr",
     "output_type": "stream",
     "text": [
      "Epoch 79/500 - Training: 100%|██████████| 245/245 [00:24<00:00, 10.15it/s]\n"
     ]
    },
    {
     "name": "stdout",
     "output_type": "stream",
     "text": [
      "Epoch 79: Train Loss = 0.5874, Val Loss = 0.8699, Val Accuracy = 71.00%, Precision = 0.67, Recall = 0.71, F1 = 0.68\n"
     ]
    },
    {
     "name": "stderr",
     "output_type": "stream",
     "text": [
      "Epoch 80/500 - Training: 100%|██████████| 245/245 [00:24<00:00, 10.13it/s]\n"
     ]
    },
    {
     "name": "stdout",
     "output_type": "stream",
     "text": [
      "Epoch 80: Train Loss = 0.5977, Val Loss = 0.8612, Val Accuracy = 70.63%, Precision = 0.67, Recall = 0.71, F1 = 0.68\n"
     ]
    },
    {
     "name": "stderr",
     "output_type": "stream",
     "text": [
      "Epoch 81/500 - Training: 100%|██████████| 245/245 [00:24<00:00, 10.10it/s]\n"
     ]
    },
    {
     "name": "stdout",
     "output_type": "stream",
     "text": [
      "Epoch 81: Train Loss = 0.5826, Val Loss = 0.9032, Val Accuracy = 72.12%, Precision = 0.69, Recall = 0.72, F1 = 0.70\n"
     ]
    },
    {
     "name": "stderr",
     "output_type": "stream",
     "text": [
      "Epoch 82/500 - Training: 100%|██████████| 245/245 [00:19<00:00, 12.55it/s]\n"
     ]
    },
    {
     "name": "stdout",
     "output_type": "stream",
     "text": [
      "Epoch 82: Train Loss = 0.5829, Val Loss = 0.8595, Val Accuracy = 70.51%, Precision = 0.68, Recall = 0.71, F1 = 0.68\n"
     ]
    },
    {
     "name": "stderr",
     "output_type": "stream",
     "text": [
      "Epoch 83/500 - Training: 100%|██████████| 245/245 [00:24<00:00, 10.07it/s]\n"
     ]
    },
    {
     "name": "stdout",
     "output_type": "stream",
     "text": [
      "Epoch 83: Train Loss = 0.5642, Val Loss = 0.8597, Val Accuracy = 72.24%, Precision = 0.69, Recall = 0.72, F1 = 0.69\n"
     ]
    },
    {
     "name": "stderr",
     "output_type": "stream",
     "text": [
      "Epoch 84/500 - Training: 100%|██████████| 245/245 [00:23<00:00, 10.28it/s]\n"
     ]
    },
    {
     "name": "stdout",
     "output_type": "stream",
     "text": [
      "Epoch 84: Train Loss = 0.5321, Val Loss = 0.8723, Val Accuracy = 71.13%, Precision = 0.68, Recall = 0.71, F1 = 0.69\n"
     ]
    },
    {
     "name": "stderr",
     "output_type": "stream",
     "text": [
      "Epoch 85/500 - Training: 100%|██████████| 245/245 [00:22<00:00, 11.04it/s]\n"
     ]
    },
    {
     "name": "stdout",
     "output_type": "stream",
     "text": [
      "Epoch 85: Train Loss = 0.5302, Val Loss = 0.8607, Val Accuracy = 68.90%, Precision = 0.65, Recall = 0.69, F1 = 0.67\n"
     ]
    },
    {
     "name": "stderr",
     "output_type": "stream",
     "text": [
      "Epoch 86/500 - Training: 100%|██████████| 245/245 [00:19<00:00, 12.76it/s]\n"
     ]
    },
    {
     "name": "stdout",
     "output_type": "stream",
     "text": [
      "Epoch 86: Train Loss = 0.5331, Val Loss = 0.8929, Val Accuracy = 71.25%, Precision = 0.68, Recall = 0.71, F1 = 0.68\n"
     ]
    },
    {
     "name": "stderr",
     "output_type": "stream",
     "text": [
      "Epoch 87/500 - Training: 100%|██████████| 245/245 [00:22<00:00, 11.10it/s]\n"
     ]
    },
    {
     "name": "stdout",
     "output_type": "stream",
     "text": [
      "Epoch 87: Train Loss = 0.5147, Val Loss = 0.9427, Val Accuracy = 68.40%, Precision = 0.64, Recall = 0.68, F1 = 0.65\n"
     ]
    },
    {
     "name": "stderr",
     "output_type": "stream",
     "text": [
      "Epoch 88/500 - Training: 100%|██████████| 245/245 [00:22<00:00, 11.00it/s]\n"
     ]
    },
    {
     "name": "stdout",
     "output_type": "stream",
     "text": [
      "Epoch 88: Train Loss = 0.5890, Val Loss = 0.8333, Val Accuracy = 71.25%, Precision = 0.69, Recall = 0.71, F1 = 0.70\n"
     ]
    },
    {
     "name": "stderr",
     "output_type": "stream",
     "text": [
      "Epoch 89/500 - Training: 100%|██████████| 245/245 [00:22<00:00, 10.98it/s]\n"
     ]
    },
    {
     "name": "stdout",
     "output_type": "stream",
     "text": [
      "Epoch 89: Train Loss = 0.6153, Val Loss = 0.8378, Val Accuracy = 71.13%, Precision = 0.68, Recall = 0.71, F1 = 0.69\n"
     ]
    },
    {
     "name": "stderr",
     "output_type": "stream",
     "text": [
      "Epoch 90/500 - Training: 100%|██████████| 245/245 [00:21<00:00, 11.24it/s]\n"
     ]
    },
    {
     "name": "stdout",
     "output_type": "stream",
     "text": [
      "Epoch 90: Train Loss = 0.5798, Val Loss = 0.9050, Val Accuracy = 71.00%, Precision = 0.68, Recall = 0.71, F1 = 0.69\n"
     ]
    },
    {
     "name": "stderr",
     "output_type": "stream",
     "text": [
      "Epoch 91/500 - Training: 100%|██████████| 245/245 [00:27<00:00,  8.98it/s]\n"
     ]
    },
    {
     "name": "stdout",
     "output_type": "stream",
     "text": [
      "Epoch 91: Train Loss = 0.5700, Val Loss = 0.8705, Val Accuracy = 72.24%, Precision = 0.69, Recall = 0.72, F1 = 0.69\n"
     ]
    },
    {
     "name": "stderr",
     "output_type": "stream",
     "text": [
      "Epoch 92/500 - Training: 100%|██████████| 245/245 [00:26<00:00,  9.27it/s]\n"
     ]
    },
    {
     "name": "stdout",
     "output_type": "stream",
     "text": [
      "Epoch 92: Train Loss = 0.5535, Val Loss = 0.9386, Val Accuracy = 69.89%, Precision = 0.66, Recall = 0.70, F1 = 0.66\n"
     ]
    },
    {
     "name": "stderr",
     "output_type": "stream",
     "text": [
      "Epoch 93/500 - Training: 100%|██████████| 245/245 [00:26<00:00,  9.15it/s]\n"
     ]
    },
    {
     "name": "stdout",
     "output_type": "stream",
     "text": [
      "Epoch 93: Train Loss = 0.6072, Val Loss = 0.8506, Val Accuracy = 69.76%, Precision = 0.66, Recall = 0.70, F1 = 0.67\n"
     ]
    },
    {
     "name": "stderr",
     "output_type": "stream",
     "text": [
      "Epoch 94/500 - Training: 100%|██████████| 245/245 [00:23<00:00, 10.54it/s]\n"
     ]
    },
    {
     "name": "stdout",
     "output_type": "stream",
     "text": [
      "Epoch 94: Train Loss = 0.5723, Val Loss = 0.8971, Val Accuracy = 69.76%, Precision = 0.67, Recall = 0.70, F1 = 0.67\n"
     ]
    },
    {
     "name": "stderr",
     "output_type": "stream",
     "text": [
      "Epoch 95/500 - Training: 100%|██████████| 245/245 [00:28<00:00,  8.72it/s]\n"
     ]
    },
    {
     "name": "stdout",
     "output_type": "stream",
     "text": [
      "Epoch 95: Train Loss = 0.5411, Val Loss = 0.9919, Val Accuracy = 70.14%, Precision = 0.66, Recall = 0.70, F1 = 0.67\n"
     ]
    },
    {
     "name": "stderr",
     "output_type": "stream",
     "text": [
      "Epoch 96/500 - Training: 100%|██████████| 245/245 [00:25<00:00,  9.47it/s]\n"
     ]
    },
    {
     "name": "stdout",
     "output_type": "stream",
     "text": [
      "Epoch 96: Train Loss = 0.5072, Val Loss = 0.9680, Val Accuracy = 68.77%, Precision = 0.65, Recall = 0.69, F1 = 0.66\n"
     ]
    },
    {
     "name": "stderr",
     "output_type": "stream",
     "text": [
      "Epoch 97/500 - Training: 100%|██████████| 245/245 [00:23<00:00, 10.63it/s]\n"
     ]
    },
    {
     "name": "stdout",
     "output_type": "stream",
     "text": [
      "Epoch 97: Train Loss = 0.5206, Val Loss = 1.0231, Val Accuracy = 70.14%, Precision = 0.66, Recall = 0.70, F1 = 0.67\n"
     ]
    },
    {
     "name": "stderr",
     "output_type": "stream",
     "text": [
      "Epoch 98/500 - Training: 100%|██████████| 245/245 [00:24<00:00, 10.05it/s]\n"
     ]
    },
    {
     "name": "stdout",
     "output_type": "stream",
     "text": [
      "Epoch 98: Train Loss = 0.5038, Val Loss = 1.0298, Val Accuracy = 68.65%, Precision = 0.65, Recall = 0.69, F1 = 0.66\n"
     ]
    },
    {
     "name": "stderr",
     "output_type": "stream",
     "text": [
      "Epoch 99/500 - Training: 100%|██████████| 245/245 [00:26<00:00,  9.32it/s]\n"
     ]
    },
    {
     "name": "stdout",
     "output_type": "stream",
     "text": [
      "Epoch 99: Train Loss = 0.4746, Val Loss = 0.9855, Val Accuracy = 70.38%, Precision = 0.67, Recall = 0.70, F1 = 0.68\n"
     ]
    },
    {
     "name": "stderr",
     "output_type": "stream",
     "text": [
      "Epoch 100/500 - Training: 100%|██████████| 245/245 [00:26<00:00,  9.24it/s]\n"
     ]
    },
    {
     "name": "stdout",
     "output_type": "stream",
     "text": [
      "Epoch 100: Train Loss = 0.4478, Val Loss = 1.0736, Val Accuracy = 70.51%, Precision = 0.67, Recall = 0.71, F1 = 0.68\n"
     ]
    },
    {
     "name": "stderr",
     "output_type": "stream",
     "text": [
      "Epoch 101/500 - Training: 100%|██████████| 245/245 [00:22<00:00, 10.67it/s]\n"
     ]
    },
    {
     "name": "stdout",
     "output_type": "stream",
     "text": [
      "Epoch 101: Train Loss = 0.4468, Val Loss = 1.0784, Val Accuracy = 69.27%, Precision = 0.65, Recall = 0.69, F1 = 0.66\n"
     ]
    },
    {
     "name": "stderr",
     "output_type": "stream",
     "text": [
      "Epoch 102/500 - Training: 100%|██████████| 245/245 [00:27<00:00,  8.89it/s]\n"
     ]
    },
    {
     "name": "stdout",
     "output_type": "stream",
     "text": [
      "Epoch 102: Train Loss = 0.4567, Val Loss = 1.0638, Val Accuracy = 68.03%, Precision = 0.66, Recall = 0.68, F1 = 0.67\n"
     ]
    },
    {
     "name": "stderr",
     "output_type": "stream",
     "text": [
      "Epoch 103/500 - Training: 100%|██████████| 245/245 [00:26<00:00,  9.11it/s]\n"
     ]
    },
    {
     "name": "stdout",
     "output_type": "stream",
     "text": [
      "Epoch 103: Train Loss = 0.4330, Val Loss = 1.1653, Val Accuracy = 67.53%, Precision = 0.64, Recall = 0.68, F1 = 0.66\n"
     ]
    },
    {
     "name": "stderr",
     "output_type": "stream",
     "text": [
      "Epoch 104/500 - Training: 100%|██████████| 245/245 [00:25<00:00,  9.54it/s]\n"
     ]
    },
    {
     "name": "stdout",
     "output_type": "stream",
     "text": [
      "Epoch 104: Train Loss = 0.4496, Val Loss = 1.0152, Val Accuracy = 71.00%, Precision = 0.68, Recall = 0.71, F1 = 0.69\n"
     ]
    },
    {
     "name": "stderr",
     "output_type": "stream",
     "text": [
      "Epoch 105/500 - Training: 100%|██████████| 245/245 [00:24<00:00, 10.12it/s]\n"
     ]
    },
    {
     "name": "stdout",
     "output_type": "stream",
     "text": [
      "Epoch 105: Train Loss = 0.4378, Val Loss = 1.1777, Val Accuracy = 65.68%, Precision = 0.62, Recall = 0.66, F1 = 0.61\n"
     ]
    },
    {
     "name": "stderr",
     "output_type": "stream",
     "text": [
      "Epoch 106/500 - Training: 100%|██████████| 245/245 [00:25<00:00,  9.65it/s]\n"
     ]
    },
    {
     "name": "stdout",
     "output_type": "stream",
     "text": [
      "Epoch 106: Train Loss = 0.4779, Val Loss = 0.9280, Val Accuracy = 68.28%, Precision = 0.65, Recall = 0.68, F1 = 0.66\n"
     ]
    },
    {
     "name": "stderr",
     "output_type": "stream",
     "text": [
      "Epoch 107/500 - Training: 100%|██████████| 245/245 [00:25<00:00,  9.67it/s]\n"
     ]
    },
    {
     "name": "stdout",
     "output_type": "stream",
     "text": [
      "Epoch 107: Train Loss = 0.5991, Val Loss = 0.8600, Val Accuracy = 71.62%, Precision = 0.68, Recall = 0.72, F1 = 0.69\n"
     ]
    },
    {
     "name": "stderr",
     "output_type": "stream",
     "text": [
      "Epoch 108/500 - Training: 100%|██████████| 245/245 [00:22<00:00, 10.82it/s]\n"
     ]
    },
    {
     "name": "stdout",
     "output_type": "stream",
     "text": [
      "Epoch 108: Train Loss = 0.5696, Val Loss = 0.9262, Val Accuracy = 69.76%, Precision = 0.66, Recall = 0.70, F1 = 0.66\n"
     ]
    },
    {
     "name": "stderr",
     "output_type": "stream",
     "text": [
      "Epoch 109/500 - Training: 100%|██████████| 245/245 [00:24<00:00, 10.02it/s]\n"
     ]
    },
    {
     "name": "stdout",
     "output_type": "stream",
     "text": [
      "Epoch 109: Train Loss = 0.5490, Val Loss = 0.9337, Val Accuracy = 67.91%, Precision = 0.64, Recall = 0.68, F1 = 0.65\n"
     ]
    },
    {
     "name": "stderr",
     "output_type": "stream",
     "text": [
      "Epoch 110/500 - Training: 100%|██████████| 245/245 [00:25<00:00,  9.79it/s]\n"
     ]
    },
    {
     "name": "stdout",
     "output_type": "stream",
     "text": [
      "Epoch 110: Train Loss = 0.4808, Val Loss = 1.0246, Val Accuracy = 70.38%, Precision = 0.67, Recall = 0.70, F1 = 0.68\n"
     ]
    },
    {
     "name": "stderr",
     "output_type": "stream",
     "text": [
      "Epoch 111/500 - Training: 100%|██████████| 245/245 [00:24<00:00,  9.86it/s]\n"
     ]
    },
    {
     "name": "stdout",
     "output_type": "stream",
     "text": [
      "Epoch 111: Train Loss = 0.4542, Val Loss = 1.0883, Val Accuracy = 69.14%, Precision = 0.66, Recall = 0.69, F1 = 0.67\n"
     ]
    },
    {
     "name": "stderr",
     "output_type": "stream",
     "text": [
      "Epoch 112/500 - Training: 100%|██████████| 245/245 [00:21<00:00, 11.46it/s]\n"
     ]
    },
    {
     "name": "stdout",
     "output_type": "stream",
     "text": [
      "Epoch 112: Train Loss = 0.4696, Val Loss = 1.0319, Val Accuracy = 69.64%, Precision = 0.66, Recall = 0.70, F1 = 0.67\n"
     ]
    },
    {
     "name": "stderr",
     "output_type": "stream",
     "text": [
      "Epoch 113/500 - Training: 100%|██████████| 245/245 [00:24<00:00,  9.80it/s]\n"
     ]
    },
    {
     "name": "stdout",
     "output_type": "stream",
     "text": [
      "Epoch 113: Train Loss = 0.4171, Val Loss = 1.1974, Val Accuracy = 70.01%, Precision = 0.66, Recall = 0.70, F1 = 0.67\n"
     ]
    },
    {
     "name": "stderr",
     "output_type": "stream",
     "text": [
      "Epoch 114/500 - Training: 100%|██████████| 245/245 [00:25<00:00,  9.79it/s]\n"
     ]
    },
    {
     "name": "stdout",
     "output_type": "stream",
     "text": [
      "Epoch 114: Train Loss = 0.3940, Val Loss = 1.1576, Val Accuracy = 68.28%, Precision = 0.64, Recall = 0.68, F1 = 0.65\n"
     ]
    },
    {
     "name": "stderr",
     "output_type": "stream",
     "text": [
      "Epoch 115/500 - Training: 100%|██████████| 245/245 [00:25<00:00,  9.78it/s]\n"
     ]
    },
    {
     "name": "stdout",
     "output_type": "stream",
     "text": [
      "Epoch 115: Train Loss = 0.4125, Val Loss = 1.1353, Val Accuracy = 66.91%, Precision = 0.64, Recall = 0.67, F1 = 0.65\n"
     ]
    },
    {
     "name": "stderr",
     "output_type": "stream",
     "text": [
      "Epoch 116/500 - Training: 100%|██████████| 245/245 [00:21<00:00, 11.22it/s]\n"
     ]
    },
    {
     "name": "stdout",
     "output_type": "stream",
     "text": [
      "Epoch 116: Train Loss = 0.3971, Val Loss = 1.2101, Val Accuracy = 70.26%, Precision = 0.67, Recall = 0.70, F1 = 0.68\n"
     ]
    },
    {
     "name": "stderr",
     "output_type": "stream",
     "text": [
      "Epoch 117/500 - Training: 100%|██████████| 245/245 [00:24<00:00,  9.85it/s]\n"
     ]
    },
    {
     "name": "stdout",
     "output_type": "stream",
     "text": [
      "Epoch 117: Train Loss = 0.3791, Val Loss = 1.1094, Val Accuracy = 68.65%, Precision = 0.65, Recall = 0.69, F1 = 0.66\n"
     ]
    },
    {
     "name": "stderr",
     "output_type": "stream",
     "text": [
      "Epoch 118/500 - Training: 100%|██████████| 245/245 [00:25<00:00,  9.65it/s]\n"
     ]
    },
    {
     "name": "stdout",
     "output_type": "stream",
     "text": [
      "Epoch 118: Train Loss = 0.3738, Val Loss = 1.0424, Val Accuracy = 65.68%, Precision = 0.62, Recall = 0.66, F1 = 0.62\n"
     ]
    },
    {
     "name": "stderr",
     "output_type": "stream",
     "text": [
      "Epoch 119/500 - Training: 100%|██████████| 245/245 [00:24<00:00, 10.12it/s]\n"
     ]
    },
    {
     "name": "stdout",
     "output_type": "stream",
     "text": [
      "Epoch 119: Train Loss = 0.4064, Val Loss = 1.3564, Val Accuracy = 67.16%, Precision = 0.65, Recall = 0.67, F1 = 0.65\n"
     ]
    },
    {
     "name": "stderr",
     "output_type": "stream",
     "text": [
      "Epoch 120/500 - Training: 100%|██████████| 245/245 [00:23<00:00, 10.37it/s]\n"
     ]
    },
    {
     "name": "stdout",
     "output_type": "stream",
     "text": [
      "Epoch 120: Train Loss = 0.3585, Val Loss = 1.1945, Val Accuracy = 65.80%, Precision = 0.62, Recall = 0.66, F1 = 0.64\n"
     ]
    },
    {
     "name": "stderr",
     "output_type": "stream",
     "text": [
      "Epoch 121/500 - Training: 100%|██████████| 245/245 [00:26<00:00,  9.23it/s]\n"
     ]
    },
    {
     "name": "stdout",
     "output_type": "stream",
     "text": [
      "Epoch 121: Train Loss = 0.3832, Val Loss = 1.2303, Val Accuracy = 65.30%, Precision = 0.62, Recall = 0.65, F1 = 0.63\n"
     ]
    },
    {
     "name": "stderr",
     "output_type": "stream",
     "text": [
      "Epoch 122/500 - Training: 100%|██████████| 245/245 [00:25<00:00,  9.64it/s]\n"
     ]
    },
    {
     "name": "stdout",
     "output_type": "stream",
     "text": [
      "Epoch 122: Train Loss = 0.3709, Val Loss = 1.1748, Val Accuracy = 66.79%, Precision = 0.63, Recall = 0.67, F1 = 0.65\n"
     ]
    },
    {
     "name": "stderr",
     "output_type": "stream",
     "text": [
      "Epoch 123/500 - Training: 100%|██████████| 245/245 [00:22<00:00, 11.02it/s]\n"
     ]
    },
    {
     "name": "stdout",
     "output_type": "stream",
     "text": [
      "Epoch 123: Train Loss = 0.3412, Val Loss = 1.2903, Val Accuracy = 67.91%, Precision = 0.65, Recall = 0.68, F1 = 0.66\n"
     ]
    },
    {
     "name": "stderr",
     "output_type": "stream",
     "text": [
      "Epoch 124/500 - Training: 100%|██████████| 245/245 [00:24<00:00, 10.02it/s]\n"
     ]
    },
    {
     "name": "stdout",
     "output_type": "stream",
     "text": [
      "Epoch 124: Train Loss = 0.3613, Val Loss = 1.3197, Val Accuracy = 66.54%, Precision = 0.64, Recall = 0.67, F1 = 0.65\n"
     ]
    },
    {
     "name": "stderr",
     "output_type": "stream",
     "text": [
      "Epoch 125/500 - Training: 100%|██████████| 245/245 [00:25<00:00,  9.60it/s]\n"
     ]
    },
    {
     "name": "stdout",
     "output_type": "stream",
     "text": [
      "Epoch 125: Train Loss = 0.3321, Val Loss = 1.2125, Val Accuracy = 65.80%, Precision = 0.62, Recall = 0.66, F1 = 0.64\n"
     ]
    },
    {
     "name": "stderr",
     "output_type": "stream",
     "text": [
      "Epoch 126/500 - Training: 100%|██████████| 245/245 [00:25<00:00,  9.61it/s]\n"
     ]
    },
    {
     "name": "stdout",
     "output_type": "stream",
     "text": [
      "Epoch 126: Train Loss = 0.3043, Val Loss = 1.3158, Val Accuracy = 67.16%, Precision = 0.63, Recall = 0.67, F1 = 0.64\n"
     ]
    },
    {
     "name": "stderr",
     "output_type": "stream",
     "text": [
      "Epoch 127/500 - Training: 100%|██████████| 245/245 [00:22<00:00, 11.01it/s]\n"
     ]
    },
    {
     "name": "stdout",
     "output_type": "stream",
     "text": [
      "Epoch 127: Train Loss = 0.2862, Val Loss = 1.4679, Val Accuracy = 65.92%, Precision = 0.62, Recall = 0.66, F1 = 0.63\n"
     ]
    },
    {
     "name": "stderr",
     "output_type": "stream",
     "text": [
      "Epoch 128/500 - Training: 100%|██████████| 245/245 [00:25<00:00,  9.71it/s]\n"
     ]
    },
    {
     "name": "stdout",
     "output_type": "stream",
     "text": [
      "Epoch 128: Train Loss = 0.4056, Val Loss = 1.1245, Val Accuracy = 66.67%, Precision = 0.63, Recall = 0.67, F1 = 0.65\n"
     ]
    },
    {
     "name": "stderr",
     "output_type": "stream",
     "text": [
      "Epoch 129/500 - Training: 100%|██████████| 245/245 [00:26<00:00,  9.42it/s]\n"
     ]
    },
    {
     "name": "stdout",
     "output_type": "stream",
     "text": [
      "Epoch 129: Train Loss = 0.4249, Val Loss = 1.3037, Val Accuracy = 65.55%, Precision = 0.62, Recall = 0.66, F1 = 0.63\n"
     ]
    },
    {
     "name": "stderr",
     "output_type": "stream",
     "text": [
      "Epoch 130/500 - Training: 100%|██████████| 245/245 [00:26<00:00,  9.35it/s]\n"
     ]
    },
    {
     "name": "stdout",
     "output_type": "stream",
     "text": [
      "Epoch 130: Train Loss = 0.3136, Val Loss = 1.3411, Val Accuracy = 66.91%, Precision = 0.64, Recall = 0.67, F1 = 0.65\n"
     ]
    },
    {
     "name": "stderr",
     "output_type": "stream",
     "text": [
      "Epoch 131/500 - Training: 100%|██████████| 245/245 [00:21<00:00, 11.22it/s]\n"
     ]
    },
    {
     "name": "stdout",
     "output_type": "stream",
     "text": [
      "Epoch 131: Train Loss = 0.2905, Val Loss = 1.4774, Val Accuracy = 66.05%, Precision = 0.63, Recall = 0.66, F1 = 0.64\n"
     ]
    },
    {
     "name": "stderr",
     "output_type": "stream",
     "text": [
      "Epoch 132/500 - Training: 100%|██████████| 245/245 [00:25<00:00,  9.67it/s]\n"
     ]
    },
    {
     "name": "stdout",
     "output_type": "stream",
     "text": [
      "Epoch 132: Train Loss = 0.2777, Val Loss = 1.4204, Val Accuracy = 66.17%, Precision = 0.63, Recall = 0.66, F1 = 0.64\n"
     ]
    },
    {
     "name": "stderr",
     "output_type": "stream",
     "text": [
      "Epoch 133/500 - Training: 100%|██████████| 245/245 [00:25<00:00,  9.72it/s]\n"
     ]
    },
    {
     "name": "stdout",
     "output_type": "stream",
     "text": [
      "Epoch 133: Train Loss = 0.2860, Val Loss = 1.4346, Val Accuracy = 67.04%, Precision = 0.63, Recall = 0.67, F1 = 0.65\n"
     ]
    },
    {
     "name": "stderr",
     "output_type": "stream",
     "text": [
      "Epoch 134/500 - Training: 100%|██████████| 245/245 [00:23<00:00, 10.25it/s]\n"
     ]
    },
    {
     "name": "stdout",
     "output_type": "stream",
     "text": [
      "Epoch 134: Train Loss = 0.2656, Val Loss = 1.5697, Val Accuracy = 64.93%, Precision = 0.63, Recall = 0.65, F1 = 0.64\n"
     ]
    },
    {
     "name": "stderr",
     "output_type": "stream",
     "text": [
      "Epoch 135/500 - Training: 100%|██████████| 245/245 [00:24<00:00, 10.06it/s]\n"
     ]
    },
    {
     "name": "stdout",
     "output_type": "stream",
     "text": [
      "Epoch 135: Train Loss = 0.2520, Val Loss = 1.5577, Val Accuracy = 65.18%, Precision = 0.63, Recall = 0.65, F1 = 0.63\n"
     ]
    },
    {
     "name": "stderr",
     "output_type": "stream",
     "text": [
      "Epoch 136/500 - Training: 100%|██████████| 245/245 [00:25<00:00,  9.70it/s]\n"
     ]
    },
    {
     "name": "stdout",
     "output_type": "stream",
     "text": [
      "Epoch 136: Train Loss = 0.2616, Val Loss = 1.6256, Val Accuracy = 64.81%, Precision = 0.61, Recall = 0.65, F1 = 0.62\n"
     ]
    },
    {
     "name": "stderr",
     "output_type": "stream",
     "text": [
      "Epoch 137/500 - Training: 100%|██████████| 245/245 [00:25<00:00,  9.67it/s]\n"
     ]
    },
    {
     "name": "stdout",
     "output_type": "stream",
     "text": [
      "Epoch 137: Train Loss = 0.2635, Val Loss = 1.5664, Val Accuracy = 63.57%, Precision = 0.61, Recall = 0.64, F1 = 0.61\n"
     ]
    },
    {
     "name": "stderr",
     "output_type": "stream",
     "text": [
      "Epoch 138/500 - Training: 100%|██████████| 245/245 [00:22<00:00, 10.94it/s]\n"
     ]
    },
    {
     "name": "stdout",
     "output_type": "stream",
     "text": [
      "Epoch 138: Train Loss = 0.2427, Val Loss = 1.6429, Val Accuracy = 64.44%, Precision = 0.61, Recall = 0.64, F1 = 0.61\n"
     ]
    },
    {
     "name": "stderr",
     "output_type": "stream",
     "text": [
      "Epoch 139/500 - Training: 100%|██████████| 245/245 [00:25<00:00,  9.71it/s]\n"
     ]
    },
    {
     "name": "stdout",
     "output_type": "stream",
     "text": [
      "Epoch 139: Train Loss = 0.2352, Val Loss = 1.5368, Val Accuracy = 62.21%, Precision = 0.59, Recall = 0.62, F1 = 0.59\n"
     ]
    },
    {
     "name": "stderr",
     "output_type": "stream",
     "text": [
      "Epoch 140/500 - Training: 100%|██████████| 245/245 [00:25<00:00,  9.63it/s]\n"
     ]
    },
    {
     "name": "stdout",
     "output_type": "stream",
     "text": [
      "Epoch 140: Train Loss = 0.2316, Val Loss = 1.8295, Val Accuracy = 61.21%, Precision = 0.59, Recall = 0.61, F1 = 0.60\n"
     ]
    },
    {
     "name": "stderr",
     "output_type": "stream",
     "text": [
      "Epoch 141/500 - Training: 100%|██████████| 245/245 [00:25<00:00,  9.66it/s]\n"
     ]
    },
    {
     "name": "stdout",
     "output_type": "stream",
     "text": [
      "Epoch 141: Train Loss = 0.2821, Val Loss = 1.6539, Val Accuracy = 66.05%, Precision = 0.63, Recall = 0.66, F1 = 0.64\n"
     ]
    },
    {
     "name": "stderr",
     "output_type": "stream",
     "text": [
      "Epoch 142/500 - Training: 100%|██████████| 245/245 [00:22<00:00, 10.86it/s]\n"
     ]
    },
    {
     "name": "stdout",
     "output_type": "stream",
     "text": [
      "Epoch 142: Train Loss = 0.2444, Val Loss = 1.7452, Val Accuracy = 65.06%, Precision = 0.63, Recall = 0.65, F1 = 0.63\n"
     ]
    },
    {
     "name": "stderr",
     "output_type": "stream",
     "text": [
      "Epoch 143/500 - Training: 100%|██████████| 245/245 [00:25<00:00,  9.54it/s]\n"
     ]
    },
    {
     "name": "stdout",
     "output_type": "stream",
     "text": [
      "Epoch 143: Train Loss = 0.2796, Val Loss = 1.2652, Val Accuracy = 66.17%, Precision = 0.63, Recall = 0.66, F1 = 0.64\n"
     ]
    },
    {
     "name": "stderr",
     "output_type": "stream",
     "text": [
      "Epoch 144/500 - Training: 100%|██████████| 245/245 [00:26<00:00,  9.29it/s]\n"
     ]
    },
    {
     "name": "stdout",
     "output_type": "stream",
     "text": [
      "Epoch 144: Train Loss = 0.2576, Val Loss = 1.6888, Val Accuracy = 64.81%, Precision = 0.62, Recall = 0.65, F1 = 0.63\n"
     ]
    },
    {
     "name": "stderr",
     "output_type": "stream",
     "text": [
      "Epoch 145/500 - Training: 100%|██████████| 245/245 [00:24<00:00, 10.05it/s]\n"
     ]
    },
    {
     "name": "stdout",
     "output_type": "stream",
     "text": [
      "Epoch 145: Train Loss = 0.2224, Val Loss = 1.6998, Val Accuracy = 63.20%, Precision = 0.61, Recall = 0.63, F1 = 0.61\n"
     ]
    },
    {
     "name": "stderr",
     "output_type": "stream",
     "text": [
      "Epoch 146/500 - Training: 100%|██████████| 245/245 [00:26<00:00,  9.34it/s]\n"
     ]
    },
    {
     "name": "stdout",
     "output_type": "stream",
     "text": [
      "Epoch 146: Train Loss = 0.2023, Val Loss = 1.8417, Val Accuracy = 62.58%, Precision = 0.61, Recall = 0.63, F1 = 0.62\n"
     ]
    },
    {
     "name": "stderr",
     "output_type": "stream",
     "text": [
      "Epoch 147/500 - Training: 100%|██████████| 245/245 [00:26<00:00,  9.32it/s]\n"
     ]
    },
    {
     "name": "stdout",
     "output_type": "stream",
     "text": [
      "Epoch 147: Train Loss = 0.2018, Val Loss = 1.5416, Val Accuracy = 67.53%, Precision = 0.64, Recall = 0.68, F1 = 0.64\n"
     ]
    },
    {
     "name": "stderr",
     "output_type": "stream",
     "text": [
      "Epoch 148/500 - Training: 100%|██████████| 245/245 [00:26<00:00,  9.41it/s]\n"
     ]
    },
    {
     "name": "stdout",
     "output_type": "stream",
     "text": [
      "Epoch 148: Train Loss = 0.3059, Val Loss = 1.6632, Val Accuracy = 65.43%, Precision = 0.63, Recall = 0.65, F1 = 0.64\n"
     ]
    },
    {
     "name": "stderr",
     "output_type": "stream",
     "text": [
      "Epoch 149/500 - Training: 100%|██████████| 245/245 [00:23<00:00, 10.43it/s]\n"
     ]
    },
    {
     "name": "stdout",
     "output_type": "stream",
     "text": [
      "Epoch 149: Train Loss = 0.2401, Val Loss = 1.7869, Val Accuracy = 65.55%, Precision = 0.63, Recall = 0.66, F1 = 0.63\n"
     ]
    },
    {
     "name": "stderr",
     "output_type": "stream",
     "text": [
      "Epoch 150/500 - Training: 100%|██████████| 245/245 [00:26<00:00,  9.32it/s]\n"
     ]
    },
    {
     "name": "stdout",
     "output_type": "stream",
     "text": [
      "Epoch 150: Train Loss = 0.2084, Val Loss = 1.9959, Val Accuracy = 65.55%, Precision = 0.62, Recall = 0.66, F1 = 0.62\n"
     ]
    },
    {
     "name": "stderr",
     "output_type": "stream",
     "text": [
      "Epoch 151/500 - Training: 100%|██████████| 245/245 [00:26<00:00,  9.36it/s]\n"
     ]
    },
    {
     "name": "stdout",
     "output_type": "stream",
     "text": [
      "Epoch 151: Train Loss = 0.1994, Val Loss = 1.8241, Val Accuracy = 63.32%, Precision = 0.60, Recall = 0.63, F1 = 0.60\n"
     ]
    },
    {
     "name": "stderr",
     "output_type": "stream",
     "text": [
      "Epoch 152/500 - Training: 100%|██████████| 245/245 [00:25<00:00,  9.64it/s]\n"
     ]
    },
    {
     "name": "stdout",
     "output_type": "stream",
     "text": [
      "Epoch 152: Train Loss = 0.1774, Val Loss = 1.9930, Val Accuracy = 63.07%, Precision = 0.60, Recall = 0.63, F1 = 0.60\n"
     ]
    },
    {
     "name": "stderr",
     "output_type": "stream",
     "text": [
      "Epoch 153/500 - Training: 100%|██████████| 245/245 [00:24<00:00, 10.07it/s]\n"
     ]
    },
    {
     "name": "stdout",
     "output_type": "stream",
     "text": [
      "Epoch 153: Train Loss = 0.2282, Val Loss = 1.7967, Val Accuracy = 63.44%, Precision = 0.60, Recall = 0.63, F1 = 0.61\n"
     ]
    },
    {
     "name": "stderr",
     "output_type": "stream",
     "text": [
      "Epoch 154/500 - Training: 100%|██████████| 245/245 [00:26<00:00,  9.31it/s]\n"
     ]
    },
    {
     "name": "stdout",
     "output_type": "stream",
     "text": [
      "Epoch 154: Train Loss = 0.2189, Val Loss = 1.8143, Val Accuracy = 63.32%, Precision = 0.61, Recall = 0.63, F1 = 0.62\n"
     ]
    },
    {
     "name": "stderr",
     "output_type": "stream",
     "text": [
      "Epoch 155/500 - Training: 100%|██████████| 245/245 [00:26<00:00,  9.41it/s]\n"
     ]
    },
    {
     "name": "stdout",
     "output_type": "stream",
     "text": [
      "Epoch 155: Train Loss = 0.1919, Val Loss = 1.8998, Val Accuracy = 63.57%, Precision = 0.61, Recall = 0.64, F1 = 0.61\n"
     ]
    },
    {
     "name": "stderr",
     "output_type": "stream",
     "text": [
      "Epoch 156/500 - Training: 100%|██████████| 245/245 [00:23<00:00, 10.46it/s]\n"
     ]
    },
    {
     "name": "stdout",
     "output_type": "stream",
     "text": [
      "Epoch 156: Train Loss = 0.2318, Val Loss = 1.8304, Val Accuracy = 62.70%, Precision = 0.62, Recall = 0.63, F1 = 0.62\n"
     ]
    },
    {
     "name": "stderr",
     "output_type": "stream",
     "text": [
      "Epoch 157/500 - Training: 100%|██████████| 245/245 [00:25<00:00,  9.45it/s]\n"
     ]
    },
    {
     "name": "stdout",
     "output_type": "stream",
     "text": [
      "Epoch 157: Train Loss = 0.4441, Val Loss = 1.2146, Val Accuracy = 64.19%, Precision = 0.62, Recall = 0.64, F1 = 0.63\n"
     ]
    },
    {
     "name": "stderr",
     "output_type": "stream",
     "text": [
      "Epoch 158/500 - Training: 100%|██████████| 245/245 [00:25<00:00,  9.48it/s]\n"
     ]
    },
    {
     "name": "stdout",
     "output_type": "stream",
     "text": [
      "Epoch 158: Train Loss = 0.4345, Val Loss = 1.3326, Val Accuracy = 64.68%, Precision = 0.61, Recall = 0.65, F1 = 0.63\n"
     ]
    },
    {
     "name": "stderr",
     "output_type": "stream",
     "text": [
      "Epoch 159/500 - Training: 100%|██████████| 245/245 [00:25<00:00,  9.50it/s]\n"
     ]
    },
    {
     "name": "stdout",
     "output_type": "stream",
     "text": [
      "Epoch 159: Train Loss = 0.3818, Val Loss = 1.3850, Val Accuracy = 67.66%, Precision = 0.64, Recall = 0.68, F1 = 0.65\n"
     ]
    },
    {
     "name": "stderr",
     "output_type": "stream",
     "text": [
      "Epoch 160/500 - Training: 100%|██████████| 245/245 [00:22<00:00, 10.74it/s]\n"
     ]
    },
    {
     "name": "stdout",
     "output_type": "stream",
     "text": [
      "Epoch 160: Train Loss = 0.2842, Val Loss = 1.5620, Val Accuracy = 64.06%, Precision = 0.63, Recall = 0.64, F1 = 0.63\n"
     ]
    },
    {
     "name": "stderr",
     "output_type": "stream",
     "text": [
      "Epoch 161/500 - Training: 100%|██████████| 245/245 [00:25<00:00,  9.47it/s]\n"
     ]
    },
    {
     "name": "stdout",
     "output_type": "stream",
     "text": [
      "Epoch 161: Train Loss = 0.2584, Val Loss = 1.6307, Val Accuracy = 64.19%, Precision = 0.61, Recall = 0.64, F1 = 0.62\n"
     ]
    },
    {
     "name": "stderr",
     "output_type": "stream",
     "text": [
      "Epoch 162/500 - Training: 100%|██████████| 245/245 [00:25<00:00,  9.48it/s]\n"
     ]
    },
    {
     "name": "stdout",
     "output_type": "stream",
     "text": [
      "Epoch 162: Train Loss = 0.2369, Val Loss = 1.5070, Val Accuracy = 67.91%, Precision = 0.64, Recall = 0.68, F1 = 0.65\n"
     ]
    },
    {
     "name": "stderr",
     "output_type": "stream",
     "text": [
      "Epoch 163/500 - Training: 100%|██████████| 245/245 [00:23<00:00, 10.40it/s]\n"
     ]
    },
    {
     "name": "stdout",
     "output_type": "stream",
     "text": [
      "Epoch 163: Train Loss = 0.2734, Val Loss = 1.5940, Val Accuracy = 65.68%, Precision = 0.62, Recall = 0.66, F1 = 0.63\n"
     ]
    },
    {
     "name": "stderr",
     "output_type": "stream",
     "text": [
      "Epoch 164/500 - Training: 100%|██████████| 245/245 [00:25<00:00,  9.46it/s]\n"
     ]
    },
    {
     "name": "stdout",
     "output_type": "stream",
     "text": [
      "Epoch 164: Train Loss = 0.2417, Val Loss = 1.7100, Val Accuracy = 67.41%, Precision = 0.64, Recall = 0.67, F1 = 0.65\n"
     ]
    },
    {
     "name": "stderr",
     "output_type": "stream",
     "text": [
      "Epoch 165/500 - Training: 100%|██████████| 245/245 [00:26<00:00,  9.23it/s]\n"
     ]
    },
    {
     "name": "stdout",
     "output_type": "stream",
     "text": [
      "Epoch 165: Train Loss = 0.2060, Val Loss = 1.9344, Val Accuracy = 59.23%, Precision = 0.57, Recall = 0.59, F1 = 0.58\n"
     ]
    },
    {
     "name": "stderr",
     "output_type": "stream",
     "text": [
      "Epoch 166/500 - Training: 100%|██████████| 245/245 [00:26<00:00,  9.20it/s]\n"
     ]
    },
    {
     "name": "stdout",
     "output_type": "stream",
     "text": [
      "Epoch 166: Train Loss = 0.2840, Val Loss = 1.5931, Val Accuracy = 63.57%, Precision = 0.58, Recall = 0.64, F1 = 0.57\n"
     ]
    },
    {
     "name": "stderr",
     "output_type": "stream",
     "text": [
      "Epoch 167/500 - Training: 100%|██████████| 245/245 [00:22<00:00, 10.78it/s]\n"
     ]
    },
    {
     "name": "stdout",
     "output_type": "stream",
     "text": [
      "Epoch 167: Train Loss = 0.3196, Val Loss = 1.6558, Val Accuracy = 63.32%, Precision = 0.60, Recall = 0.63, F1 = 0.61\n"
     ]
    },
    {
     "name": "stderr",
     "output_type": "stream",
     "text": [
      "Epoch 168/500 - Training: 100%|██████████| 245/245 [00:26<00:00,  9.22it/s]\n"
     ]
    },
    {
     "name": "stdout",
     "output_type": "stream",
     "text": [
      "Epoch 168: Train Loss = 0.2048, Val Loss = 1.8371, Val Accuracy = 62.83%, Precision = 0.61, Recall = 0.63, F1 = 0.62\n"
     ]
    },
    {
     "name": "stderr",
     "output_type": "stream",
     "text": [
      "Epoch 169/500 - Training: 100%|██████████| 245/245 [00:25<00:00,  9.42it/s]\n"
     ]
    },
    {
     "name": "stdout",
     "output_type": "stream",
     "text": [
      "Epoch 169: Train Loss = 0.1901, Val Loss = 1.8265, Val Accuracy = 63.57%, Precision = 0.60, Recall = 0.64, F1 = 0.61\n"
     ]
    },
    {
     "name": "stderr",
     "output_type": "stream",
     "text": [
      "Epoch 170/500 - Training: 100%|██████████| 245/245 [00:24<00:00,  9.94it/s]\n"
     ]
    },
    {
     "name": "stdout",
     "output_type": "stream",
     "text": [
      "Epoch 170: Train Loss = 0.1716, Val Loss = 1.9772, Val Accuracy = 61.59%, Precision = 0.59, Recall = 0.62, F1 = 0.60\n"
     ]
    },
    {
     "name": "stderr",
     "output_type": "stream",
     "text": [
      "Epoch 171/500 - Training: 100%|██████████| 245/245 [00:24<00:00, 10.02it/s]\n"
     ]
    },
    {
     "name": "stdout",
     "output_type": "stream",
     "text": [
      "Epoch 171: Train Loss = 0.2488, Val Loss = 1.7984, Val Accuracy = 64.19%, Precision = 0.61, Recall = 0.64, F1 = 0.62\n"
     ]
    },
    {
     "name": "stderr",
     "output_type": "stream",
     "text": [
      "Epoch 172/500 - Training: 100%|██████████| 245/245 [00:27<00:00,  8.84it/s]\n"
     ]
    },
    {
     "name": "stdout",
     "output_type": "stream",
     "text": [
      "Epoch 172: Train Loss = 0.1749, Val Loss = 2.0608, Val Accuracy = 63.44%, Precision = 0.60, Recall = 0.63, F1 = 0.60\n"
     ]
    },
    {
     "name": "stderr",
     "output_type": "stream",
     "text": [
      "Epoch 173/500 - Training: 100%|██████████| 245/245 [00:27<00:00,  9.04it/s]\n"
     ]
    },
    {
     "name": "stdout",
     "output_type": "stream",
     "text": [
      "Epoch 173: Train Loss = 0.2012, Val Loss = 1.8301, Val Accuracy = 63.07%, Precision = 0.61, Recall = 0.63, F1 = 0.61\n"
     ]
    },
    {
     "name": "stderr",
     "output_type": "stream",
     "text": [
      "Epoch 174/500 - Training: 100%|██████████| 245/245 [00:23<00:00, 10.51it/s]\n"
     ]
    },
    {
     "name": "stdout",
     "output_type": "stream",
     "text": [
      "Epoch 174: Train Loss = 0.2841, Val Loss = 1.7688, Val Accuracy = 63.07%, Precision = 0.60, Recall = 0.63, F1 = 0.61\n"
     ]
    },
    {
     "name": "stderr",
     "output_type": "stream",
     "text": [
      "Epoch 175/500 - Training: 100%|██████████| 245/245 [00:25<00:00,  9.57it/s]\n"
     ]
    },
    {
     "name": "stdout",
     "output_type": "stream",
     "text": [
      "Epoch 175: Train Loss = 0.2188, Val Loss = 1.7586, Val Accuracy = 61.59%, Precision = 0.60, Recall = 0.62, F1 = 0.60\n"
     ]
    },
    {
     "name": "stderr",
     "output_type": "stream",
     "text": [
      "Epoch 176/500 - Training: 100%|██████████| 245/245 [00:25<00:00,  9.52it/s]\n"
     ]
    },
    {
     "name": "stdout",
     "output_type": "stream",
     "text": [
      "Epoch 176: Train Loss = 0.1709, Val Loss = 2.0592, Val Accuracy = 62.45%, Precision = 0.59, Recall = 0.62, F1 = 0.60\n"
     ]
    },
    {
     "name": "stderr",
     "output_type": "stream",
     "text": [
      "Epoch 177/500 - Training: 100%|██████████| 245/245 [00:25<00:00,  9.53it/s]\n"
     ]
    },
    {
     "name": "stdout",
     "output_type": "stream",
     "text": [
      "Epoch 177: Train Loss = 0.1554, Val Loss = 2.1137, Val Accuracy = 63.44%, Precision = 0.60, Recall = 0.63, F1 = 0.61\n"
     ]
    },
    {
     "name": "stderr",
     "output_type": "stream",
     "text": [
      "Epoch 178/500 - Training: 100%|██████████| 245/245 [00:22<00:00, 10.89it/s]\n"
     ]
    },
    {
     "name": "stdout",
     "output_type": "stream",
     "text": [
      "Epoch 178: Train Loss = 0.1540, Val Loss = 2.1699, Val Accuracy = 62.45%, Precision = 0.60, Recall = 0.62, F1 = 0.61\n"
     ]
    },
    {
     "name": "stderr",
     "output_type": "stream",
     "text": [
      "Epoch 179/500 - Training: 100%|██████████| 245/245 [00:26<00:00,  9.40it/s]\n"
     ]
    },
    {
     "name": "stdout",
     "output_type": "stream",
     "text": [
      "Epoch 179: Train Loss = 0.1393, Val Loss = 2.2228, Val Accuracy = 62.83%, Precision = 0.61, Recall = 0.63, F1 = 0.61\n"
     ]
    },
    {
     "name": "stderr",
     "output_type": "stream",
     "text": [
      "Epoch 180/500 - Training: 100%|██████████| 245/245 [00:26<00:00,  9.25it/s]\n"
     ]
    },
    {
     "name": "stdout",
     "output_type": "stream",
     "text": [
      "Epoch 180: Train Loss = 0.1304, Val Loss = 2.3626, Val Accuracy = 63.20%, Precision = 0.60, Recall = 0.63, F1 = 0.61\n"
     ]
    },
    {
     "name": "stderr",
     "output_type": "stream",
     "text": [
      "Epoch 181/500 - Training: 100%|██████████| 245/245 [00:25<00:00,  9.62it/s]\n"
     ]
    },
    {
     "name": "stdout",
     "output_type": "stream",
     "text": [
      "Epoch 181: Train Loss = 0.1412, Val Loss = 2.0257, Val Accuracy = 62.21%, Precision = 0.61, Recall = 0.62, F1 = 0.61\n"
     ]
    },
    {
     "name": "stderr",
     "output_type": "stream",
     "text": [
      "Epoch 182/500 - Training: 100%|██████████| 245/245 [00:25<00:00,  9.55it/s]\n"
     ]
    },
    {
     "name": "stdout",
     "output_type": "stream",
     "text": [
      "Epoch 182: Train Loss = 0.1190, Val Loss = 2.5174, Val Accuracy = 62.33%, Precision = 0.61, Recall = 0.62, F1 = 0.61\n"
     ]
    },
    {
     "name": "stderr",
     "output_type": "stream",
     "text": [
      "Epoch 183/500 - Training: 100%|██████████| 245/245 [00:27<00:00,  9.04it/s]\n"
     ]
    },
    {
     "name": "stdout",
     "output_type": "stream",
     "text": [
      "Epoch 183: Train Loss = 0.1736, Val Loss = 2.0511, Val Accuracy = 60.84%, Precision = 0.59, Recall = 0.61, F1 = 0.60\n"
     ]
    },
    {
     "name": "stderr",
     "output_type": "stream",
     "text": [
      "Epoch 184/500 - Training: 100%|██████████| 245/245 [00:27<00:00,  9.02it/s]\n"
     ]
    },
    {
     "name": "stdout",
     "output_type": "stream",
     "text": [
      "Epoch 184: Train Loss = 0.2081, Val Loss = 1.6398, Val Accuracy = 62.70%, Precision = 0.61, Recall = 0.63, F1 = 0.60\n"
     ]
    },
    {
     "name": "stderr",
     "output_type": "stream",
     "text": [
      "Epoch 185/500 - Training: 100%|██████████| 245/245 [00:23<00:00, 10.48it/s]\n"
     ]
    },
    {
     "name": "stdout",
     "output_type": "stream",
     "text": [
      "Epoch 185: Train Loss = 0.2450, Val Loss = 1.7771, Val Accuracy = 62.33%, Precision = 0.60, Recall = 0.62, F1 = 0.60\n"
     ]
    },
    {
     "name": "stderr",
     "output_type": "stream",
     "text": [
      "Epoch 186/500 - Training: 100%|██████████| 245/245 [00:26<00:00,  9.28it/s]\n"
     ]
    },
    {
     "name": "stdout",
     "output_type": "stream",
     "text": [
      "Epoch 186: Train Loss = 0.1782, Val Loss = 1.8170, Val Accuracy = 60.97%, Precision = 0.60, Recall = 0.61, F1 = 0.60\n"
     ]
    },
    {
     "name": "stderr",
     "output_type": "stream",
     "text": [
      "Epoch 187/500 - Training: 100%|██████████| 245/245 [00:26<00:00,  9.08it/s]\n"
     ]
    },
    {
     "name": "stdout",
     "output_type": "stream",
     "text": [
      "Epoch 187: Train Loss = 0.4409, Val Loss = 1.2901, Val Accuracy = 61.59%, Precision = 0.60, Recall = 0.62, F1 = 0.57\n"
     ]
    },
    {
     "name": "stderr",
     "output_type": "stream",
     "text": [
      "Epoch 188/500 - Training: 100%|██████████| 245/245 [00:25<00:00,  9.74it/s]\n"
     ]
    },
    {
     "name": "stdout",
     "output_type": "stream",
     "text": [
      "Epoch 188: Train Loss = 0.5023, Val Loss = 1.2266, Val Accuracy = 68.03%, Precision = 0.65, Recall = 0.68, F1 = 0.66\n"
     ]
    },
    {
     "name": "stderr",
     "output_type": "stream",
     "text": [
      "Epoch 189/500 - Training: 100%|██████████| 245/245 [00:23<00:00, 10.39it/s]\n"
     ]
    },
    {
     "name": "stdout",
     "output_type": "stream",
     "text": [
      "Epoch 189: Train Loss = 0.3969, Val Loss = 1.3229, Val Accuracy = 68.90%, Precision = 0.65, Recall = 0.69, F1 = 0.66\n"
     ]
    },
    {
     "name": "stderr",
     "output_type": "stream",
     "text": [
      "Epoch 190/500 - Training: 100%|██████████| 245/245 [00:25<00:00,  9.52it/s]\n"
     ]
    },
    {
     "name": "stdout",
     "output_type": "stream",
     "text": [
      "Epoch 190: Train Loss = 0.3471, Val Loss = 1.3736, Val Accuracy = 63.44%, Precision = 0.60, Recall = 0.63, F1 = 0.61\n"
     ]
    },
    {
     "name": "stderr",
     "output_type": "stream",
     "text": [
      "Epoch 191/500 - Training: 100%|██████████| 245/245 [00:26<00:00,  9.19it/s]\n"
     ]
    },
    {
     "name": "stdout",
     "output_type": "stream",
     "text": [
      "Epoch 191: Train Loss = 0.3906, Val Loss = 1.3252, Val Accuracy = 67.29%, Precision = 0.64, Recall = 0.67, F1 = 0.64\n"
     ]
    },
    {
     "name": "stderr",
     "output_type": "stream",
     "text": [
      "Epoch 192/500 - Training: 100%|██████████| 245/245 [00:22<00:00, 10.68it/s]\n"
     ]
    },
    {
     "name": "stdout",
     "output_type": "stream",
     "text": [
      "Epoch 192: Train Loss = 0.3908, Val Loss = 1.2498, Val Accuracy = 65.80%, Precision = 0.62, Recall = 0.66, F1 = 0.64\n"
     ]
    },
    {
     "name": "stderr",
     "output_type": "stream",
     "text": [
      "Epoch 193/500 - Training: 100%|██████████| 245/245 [00:22<00:00, 11.07it/s]\n"
     ]
    },
    {
     "name": "stdout",
     "output_type": "stream",
     "text": [
      "Epoch 193: Train Loss = 0.3380, Val Loss = 1.4715, Val Accuracy = 65.06%, Precision = 0.61, Recall = 0.65, F1 = 0.61\n"
     ]
    },
    {
     "name": "stderr",
     "output_type": "stream",
     "text": [
      "Epoch 194/500 - Training: 100%|██████████| 245/245 [00:23<00:00, 10.60it/s]\n"
     ]
    },
    {
     "name": "stdout",
     "output_type": "stream",
     "text": [
      "Epoch 194: Train Loss = 0.2938, Val Loss = 1.5691, Val Accuracy = 59.73%, Precision = 0.56, Recall = 0.60, F1 = 0.58\n"
     ]
    },
    {
     "name": "stderr",
     "output_type": "stream",
     "text": [
      "Epoch 195/500 - Training: 100%|██████████| 245/245 [00:23<00:00, 10.52it/s]\n"
     ]
    },
    {
     "name": "stdout",
     "output_type": "stream",
     "text": [
      "Epoch 195: Train Loss = 0.3925, Val Loss = 1.4383, Val Accuracy = 66.05%, Precision = 0.63, Recall = 0.66, F1 = 0.64\n"
     ]
    },
    {
     "name": "stderr",
     "output_type": "stream",
     "text": [
      "Epoch 196/500 - Training: 100%|██████████| 245/245 [00:21<00:00, 11.55it/s]\n"
     ]
    },
    {
     "name": "stdout",
     "output_type": "stream",
     "text": [
      "Epoch 196: Train Loss = 0.3251, Val Loss = 1.3994, Val Accuracy = 62.21%, Precision = 0.57, Recall = 0.62, F1 = 0.58\n"
     ]
    },
    {
     "name": "stderr",
     "output_type": "stream",
     "text": [
      "Epoch 197/500 - Training: 100%|██████████| 245/245 [00:22<00:00, 11.08it/s]\n"
     ]
    },
    {
     "name": "stdout",
     "output_type": "stream",
     "text": [
      "Epoch 197: Train Loss = 0.3154, Val Loss = 1.5141, Val Accuracy = 64.56%, Precision = 0.61, Recall = 0.65, F1 = 0.61\n"
     ]
    },
    {
     "name": "stderr",
     "output_type": "stream",
     "text": [
      "Epoch 198/500 - Training: 100%|██████████| 245/245 [00:23<00:00, 10.36it/s]\n"
     ]
    },
    {
     "name": "stdout",
     "output_type": "stream",
     "text": [
      "Epoch 198: Train Loss = 0.2691, Val Loss = 1.6202, Val Accuracy = 64.19%, Precision = 0.61, Recall = 0.64, F1 = 0.62\n"
     ]
    },
    {
     "name": "stderr",
     "output_type": "stream",
     "text": [
      "Epoch 199/500 - Training: 100%|██████████| 245/245 [00:22<00:00, 10.79it/s]\n"
     ]
    },
    {
     "name": "stdout",
     "output_type": "stream",
     "text": [
      "Epoch 199: Train Loss = 0.2030, Val Loss = 1.7369, Val Accuracy = 62.70%, Precision = 0.60, Recall = 0.63, F1 = 0.61\n"
     ]
    },
    {
     "name": "stderr",
     "output_type": "stream",
     "text": [
      "Epoch 200/500 - Training: 100%|██████████| 245/245 [00:20<00:00, 11.89it/s]\n"
     ]
    },
    {
     "name": "stdout",
     "output_type": "stream",
     "text": [
      "Epoch 200: Train Loss = 0.1684, Val Loss = 2.1300, Val Accuracy = 61.59%, Precision = 0.59, Recall = 0.62, F1 = 0.59\n"
     ]
    },
    {
     "name": "stderr",
     "output_type": "stream",
     "text": [
      "Epoch 201/500 - Training: 100%|██████████| 245/245 [00:22<00:00, 10.86it/s]\n"
     ]
    },
    {
     "name": "stdout",
     "output_type": "stream",
     "text": [
      "Epoch 201: Train Loss = 0.2099, Val Loss = 1.8922, Val Accuracy = 62.95%, Precision = 0.59, Recall = 0.63, F1 = 0.60\n"
     ]
    },
    {
     "name": "stderr",
     "output_type": "stream",
     "text": [
      "Epoch 202/500 - Training: 100%|██████████| 245/245 [00:23<00:00, 10.59it/s]\n"
     ]
    },
    {
     "name": "stdout",
     "output_type": "stream",
     "text": [
      "Epoch 202: Train Loss = 0.1959, Val Loss = 1.9296, Val Accuracy = 62.45%, Precision = 0.59, Recall = 0.62, F1 = 0.59\n"
     ]
    },
    {
     "name": "stderr",
     "output_type": "stream",
     "text": [
      "Epoch 203/500 - Training: 100%|██████████| 245/245 [00:23<00:00, 10.61it/s]\n"
     ]
    },
    {
     "name": "stdout",
     "output_type": "stream",
     "text": [
      "Epoch 203: Train Loss = 0.1648, Val Loss = 2.1543, Val Accuracy = 61.59%, Precision = 0.59, Recall = 0.62, F1 = 0.59\n"
     ]
    },
    {
     "name": "stderr",
     "output_type": "stream",
     "text": [
      "Epoch 204/500 - Training: 100%|██████████| 245/245 [00:21<00:00, 11.66it/s]\n"
     ]
    },
    {
     "name": "stdout",
     "output_type": "stream",
     "text": [
      "Epoch 204: Train Loss = 0.1689, Val Loss = 1.9767, Val Accuracy = 61.83%, Precision = 0.58, Recall = 0.62, F1 = 0.59\n"
     ]
    },
    {
     "name": "stderr",
     "output_type": "stream",
     "text": [
      "Epoch 205/500 - Training: 100%|██████████| 245/245 [00:22<00:00, 11.03it/s]\n"
     ]
    },
    {
     "name": "stdout",
     "output_type": "stream",
     "text": [
      "Epoch 205: Train Loss = 0.1876, Val Loss = 2.2361, Val Accuracy = 61.83%, Precision = 0.59, Recall = 0.62, F1 = 0.59\n"
     ]
    },
    {
     "name": "stderr",
     "output_type": "stream",
     "text": [
      "Epoch 206/500 - Training: 100%|██████████| 245/245 [00:22<00:00, 10.97it/s]\n"
     ]
    },
    {
     "name": "stdout",
     "output_type": "stream",
     "text": [
      "Epoch 206: Train Loss = 0.2814, Val Loss = 2.0089, Val Accuracy = 61.46%, Precision = 0.58, Recall = 0.61, F1 = 0.59\n"
     ]
    },
    {
     "name": "stderr",
     "output_type": "stream",
     "text": [
      "Epoch 207/500 - Training: 100%|██████████| 245/245 [00:22<00:00, 10.91it/s]\n"
     ]
    },
    {
     "name": "stdout",
     "output_type": "stream",
     "text": [
      "Epoch 207: Train Loss = 0.2631, Val Loss = 1.5449, Val Accuracy = 63.69%, Precision = 0.60, Recall = 0.64, F1 = 0.61\n"
     ]
    },
    {
     "name": "stderr",
     "output_type": "stream",
     "text": [
      "Epoch 208/500 - Training: 100%|██████████| 245/245 [00:21<00:00, 11.56it/s]\n"
     ]
    },
    {
     "name": "stdout",
     "output_type": "stream",
     "text": [
      "Epoch 208: Train Loss = 0.2018, Val Loss = 1.8044, Val Accuracy = 64.44%, Precision = 0.61, Recall = 0.64, F1 = 0.62\n"
     ]
    },
    {
     "name": "stderr",
     "output_type": "stream",
     "text": [
      "Epoch 209/500 - Training: 100%|██████████| 245/245 [00:23<00:00, 10.49it/s]\n"
     ]
    },
    {
     "name": "stdout",
     "output_type": "stream",
     "text": [
      "Epoch 209: Train Loss = 0.1703, Val Loss = 2.0133, Val Accuracy = 61.59%, Precision = 0.59, Recall = 0.62, F1 = 0.60\n"
     ]
    },
    {
     "name": "stderr",
     "output_type": "stream",
     "text": [
      "Epoch 210/500 - Training: 100%|██████████| 245/245 [00:22<00:00, 10.89it/s]\n"
     ]
    },
    {
     "name": "stdout",
     "output_type": "stream",
     "text": [
      "Epoch 210: Train Loss = 0.1959, Val Loss = 2.0065, Val Accuracy = 63.57%, Precision = 0.60, Recall = 0.64, F1 = 0.60\n"
     ]
    },
    {
     "name": "stderr",
     "output_type": "stream",
     "text": [
      "Epoch 211/500 - Training: 100%|██████████| 245/245 [00:22<00:00, 10.89it/s]\n"
     ]
    },
    {
     "name": "stdout",
     "output_type": "stream",
     "text": [
      "Epoch 211: Train Loss = 0.1758, Val Loss = 2.0073, Val Accuracy = 62.21%, Precision = 0.59, Recall = 0.62, F1 = 0.60\n"
     ]
    },
    {
     "name": "stderr",
     "output_type": "stream",
     "text": [
      "Epoch 212/500 - Training: 100%|██████████| 245/245 [00:19<00:00, 12.72it/s]\n"
     ]
    },
    {
     "name": "stdout",
     "output_type": "stream",
     "text": [
      "Epoch 212: Train Loss = 0.1438, Val Loss = 2.1988, Val Accuracy = 63.07%, Precision = 0.61, Recall = 0.63, F1 = 0.60\n"
     ]
    },
    {
     "name": "stderr",
     "output_type": "stream",
     "text": [
      "Epoch 213/500 - Training: 100%|██████████| 245/245 [00:22<00:00, 10.77it/s]\n"
     ]
    },
    {
     "name": "stdout",
     "output_type": "stream",
     "text": [
      "Epoch 213: Train Loss = 0.1176, Val Loss = 2.5684, Val Accuracy = 63.20%, Precision = 0.62, Recall = 0.63, F1 = 0.61\n"
     ]
    },
    {
     "name": "stderr",
     "output_type": "stream",
     "text": [
      "Epoch 214/500 - Training: 100%|██████████| 245/245 [00:22<00:00, 10.81it/s]\n"
     ]
    },
    {
     "name": "stdout",
     "output_type": "stream",
     "text": [
      "Epoch 214: Train Loss = 0.1403, Val Loss = 2.3621, Val Accuracy = 62.21%, Precision = 0.59, Recall = 0.62, F1 = 0.59\n"
     ]
    },
    {
     "name": "stderr",
     "output_type": "stream",
     "text": [
      "Epoch 215/500 - Training: 100%|██████████| 245/245 [00:22<00:00, 10.79it/s]\n"
     ]
    },
    {
     "name": "stdout",
     "output_type": "stream",
     "text": [
      "Epoch 215: Train Loss = 0.1303, Val Loss = 2.2786, Val Accuracy = 63.44%, Precision = 0.61, Recall = 0.63, F1 = 0.60\n"
     ]
    },
    {
     "name": "stderr",
     "output_type": "stream",
     "text": [
      "Epoch 216/500 - Training: 100%|██████████| 245/245 [00:20<00:00, 11.81it/s]\n"
     ]
    },
    {
     "name": "stdout",
     "output_type": "stream",
     "text": [
      "Epoch 216: Train Loss = 0.2872, Val Loss = 1.6641, Val Accuracy = 65.80%, Precision = 0.63, Recall = 0.66, F1 = 0.63\n"
     ]
    },
    {
     "name": "stderr",
     "output_type": "stream",
     "text": [
      "Epoch 217/500 - Training: 100%|██████████| 245/245 [00:22<00:00, 11.08it/s]\n"
     ]
    },
    {
     "name": "stdout",
     "output_type": "stream",
     "text": [
      "Epoch 217: Train Loss = 0.1739, Val Loss = 2.0423, Val Accuracy = 63.82%, Precision = 0.61, Recall = 0.64, F1 = 0.62\n"
     ]
    },
    {
     "name": "stderr",
     "output_type": "stream",
     "text": [
      "Epoch 218/500 - Training: 100%|██████████| 245/245 [00:24<00:00, 10.14it/s]\n"
     ]
    },
    {
     "name": "stdout",
     "output_type": "stream",
     "text": [
      "Epoch 218: Train Loss = 0.1367, Val Loss = 2.1391, Val Accuracy = 63.20%, Precision = 0.62, Recall = 0.63, F1 = 0.61\n"
     ]
    },
    {
     "name": "stderr",
     "output_type": "stream",
     "text": [
      "Epoch 219/500 - Training: 100%|██████████| 245/245 [00:23<00:00, 10.52it/s]\n"
     ]
    },
    {
     "name": "stdout",
     "output_type": "stream",
     "text": [
      "Epoch 219: Train Loss = 0.1942, Val Loss = 2.1245, Val Accuracy = 62.45%, Precision = 0.62, Recall = 0.62, F1 = 0.62\n"
     ]
    },
    {
     "name": "stderr",
     "output_type": "stream",
     "text": [
      "Epoch 220/500 - Training: 100%|██████████| 245/245 [00:21<00:00, 11.62it/s]\n"
     ]
    },
    {
     "name": "stdout",
     "output_type": "stream",
     "text": [
      "Epoch 220: Train Loss = 0.1237, Val Loss = 2.4105, Val Accuracy = 63.20%, Precision = 0.59, Recall = 0.63, F1 = 0.60\n"
     ]
    },
    {
     "name": "stderr",
     "output_type": "stream",
     "text": [
      "Epoch 221/500 - Training: 100%|██████████| 245/245 [00:22<00:00, 10.78it/s]\n"
     ]
    },
    {
     "name": "stdout",
     "output_type": "stream",
     "text": [
      "Epoch 221: Train Loss = 0.1110, Val Loss = 2.3734, Val Accuracy = 60.10%, Precision = 0.59, Recall = 0.60, F1 = 0.59\n"
     ]
    },
    {
     "name": "stderr",
     "output_type": "stream",
     "text": [
      "Epoch 222/500 - Training: 100%|██████████| 245/245 [00:23<00:00, 10.60it/s]\n"
     ]
    },
    {
     "name": "stdout",
     "output_type": "stream",
     "text": [
      "Epoch 222: Train Loss = 0.0989, Val Loss = 2.6816, Val Accuracy = 61.34%, Precision = 0.61, Recall = 0.61, F1 = 0.61\n"
     ]
    },
    {
     "name": "stderr",
     "output_type": "stream",
     "text": [
      "Epoch 223/500 - Training: 100%|██████████| 245/245 [00:22<00:00, 10.72it/s]\n"
     ]
    },
    {
     "name": "stdout",
     "output_type": "stream",
     "text": [
      "Epoch 223: Train Loss = 0.1109, Val Loss = 2.6142, Val Accuracy = 61.96%, Precision = 0.58, Recall = 0.62, F1 = 0.59\n"
     ]
    },
    {
     "name": "stderr",
     "output_type": "stream",
     "text": [
      "Epoch 224/500 - Training: 100%|██████████| 245/245 [00:20<00:00, 12.20it/s]\n"
     ]
    },
    {
     "name": "stdout",
     "output_type": "stream",
     "text": [
      "Epoch 224: Train Loss = 0.1471, Val Loss = 2.4703, Val Accuracy = 64.44%, Precision = 0.60, Recall = 0.64, F1 = 0.61\n"
     ]
    },
    {
     "name": "stderr",
     "output_type": "stream",
     "text": [
      "Epoch 225/500 - Training: 100%|██████████| 245/245 [00:22<00:00, 10.87it/s]\n"
     ]
    },
    {
     "name": "stdout",
     "output_type": "stream",
     "text": [
      "Epoch 225: Train Loss = 0.1033, Val Loss = 2.4377, Val Accuracy = 62.70%, Precision = 0.61, Recall = 0.63, F1 = 0.61\n"
     ]
    },
    {
     "name": "stderr",
     "output_type": "stream",
     "text": [
      "Epoch 226/500 - Training: 100%|██████████| 245/245 [00:22<00:00, 10.74it/s]\n"
     ]
    },
    {
     "name": "stdout",
     "output_type": "stream",
     "text": [
      "Epoch 226: Train Loss = 0.0865, Val Loss = 2.8140, Val Accuracy = 59.48%, Precision = 0.59, Recall = 0.59, F1 = 0.58\n"
     ]
    },
    {
     "name": "stderr",
     "output_type": "stream",
     "text": [
      "Epoch 227/500 - Training: 100%|██████████| 245/245 [00:22<00:00, 10.99it/s]\n"
     ]
    },
    {
     "name": "stdout",
     "output_type": "stream",
     "text": [
      "Epoch 227: Train Loss = 0.1107, Val Loss = 2.2476, Val Accuracy = 61.59%, Precision = 0.60, Recall = 0.62, F1 = 0.60\n"
     ]
    },
    {
     "name": "stderr",
     "output_type": "stream",
     "text": [
      "Epoch 228/500 - Training: 100%|██████████| 245/245 [00:20<00:00, 11.87it/s]\n"
     ]
    },
    {
     "name": "stdout",
     "output_type": "stream",
     "text": [
      "Epoch 228: Train Loss = 0.1529, Val Loss = 2.1342, Val Accuracy = 60.35%, Precision = 0.58, Recall = 0.60, F1 = 0.58\n"
     ]
    },
    {
     "name": "stderr",
     "output_type": "stream",
     "text": [
      "Epoch 229/500 - Training: 100%|██████████| 245/245 [00:22<00:00, 11.06it/s]\n"
     ]
    },
    {
     "name": "stdout",
     "output_type": "stream",
     "text": [
      "Epoch 229: Train Loss = 0.1502, Val Loss = 2.0434, Val Accuracy = 59.73%, Precision = 0.58, Recall = 0.60, F1 = 0.58\n"
     ]
    },
    {
     "name": "stderr",
     "output_type": "stream",
     "text": [
      "Epoch 230/500 - Training: 100%|██████████| 245/245 [00:22<00:00, 11.00it/s]\n"
     ]
    },
    {
     "name": "stdout",
     "output_type": "stream",
     "text": [
      "Epoch 230: Train Loss = 0.1448, Val Loss = 2.1827, Val Accuracy = 62.95%, Precision = 0.61, Recall = 0.63, F1 = 0.61\n"
     ]
    },
    {
     "name": "stderr",
     "output_type": "stream",
     "text": [
      "Epoch 231/500 - Training: 100%|██████████| 245/245 [00:22<00:00, 11.07it/s]\n"
     ]
    },
    {
     "name": "stdout",
     "output_type": "stream",
     "text": [
      "Epoch 231: Train Loss = 0.1541, Val Loss = 2.2324, Val Accuracy = 61.34%, Precision = 0.61, Recall = 0.61, F1 = 0.60\n"
     ]
    },
    {
     "name": "stderr",
     "output_type": "stream",
     "text": [
      "Epoch 232/500 - Training: 100%|██████████| 245/245 [00:20<00:00, 11.94it/s]\n"
     ]
    },
    {
     "name": "stdout",
     "output_type": "stream",
     "text": [
      "Epoch 232: Train Loss = 0.3670, Val Loss = 1.3130, Val Accuracy = 65.80%, Precision = 0.62, Recall = 0.66, F1 = 0.63\n"
     ]
    },
    {
     "name": "stderr",
     "output_type": "stream",
     "text": [
      "Epoch 233/500 - Training: 100%|██████████| 245/245 [00:21<00:00, 11.16it/s]\n"
     ]
    },
    {
     "name": "stdout",
     "output_type": "stream",
     "text": [
      "Epoch 233: Train Loss = 0.2489, Val Loss = 1.9325, Val Accuracy = 63.07%, Precision = 0.61, Recall = 0.63, F1 = 0.61\n"
     ]
    },
    {
     "name": "stderr",
     "output_type": "stream",
     "text": [
      "Epoch 234/500 - Training: 100%|██████████| 245/245 [00:22<00:00, 11.14it/s]\n"
     ]
    },
    {
     "name": "stdout",
     "output_type": "stream",
     "text": [
      "Epoch 234: Train Loss = 0.1692, Val Loss = 2.3111, Val Accuracy = 64.93%, Precision = 0.62, Recall = 0.65, F1 = 0.62\n"
     ]
    },
    {
     "name": "stderr",
     "output_type": "stream",
     "text": [
      "Epoch 235/500 - Training: 100%|██████████| 245/245 [00:22<00:00, 11.07it/s]\n"
     ]
    },
    {
     "name": "stdout",
     "output_type": "stream",
     "text": [
      "Epoch 235: Train Loss = 0.1369, Val Loss = 1.8847, Val Accuracy = 64.81%, Precision = 0.61, Recall = 0.65, F1 = 0.62\n"
     ]
    },
    {
     "name": "stderr",
     "output_type": "stream",
     "text": [
      "Epoch 236/500 - Training: 100%|██████████| 245/245 [00:20<00:00, 12.05it/s]\n"
     ]
    },
    {
     "name": "stdout",
     "output_type": "stream",
     "text": [
      "Epoch 236: Train Loss = 0.1382, Val Loss = 2.2764, Val Accuracy = 64.81%, Precision = 0.63, Recall = 0.65, F1 = 0.63\n"
     ]
    },
    {
     "name": "stderr",
     "output_type": "stream",
     "text": [
      "Epoch 237/500 - Training: 100%|██████████| 245/245 [00:22<00:00, 11.12it/s]\n"
     ]
    },
    {
     "name": "stdout",
     "output_type": "stream",
     "text": [
      "Epoch 237: Train Loss = 0.1553, Val Loss = 2.1980, Val Accuracy = 63.44%, Precision = 0.62, Recall = 0.63, F1 = 0.61\n"
     ]
    },
    {
     "name": "stderr",
     "output_type": "stream",
     "text": [
      "Epoch 238/500 - Training: 100%|██████████| 245/245 [00:22<00:00, 11.04it/s]\n"
     ]
    },
    {
     "name": "stdout",
     "output_type": "stream",
     "text": [
      "Epoch 238: Train Loss = 0.1265, Val Loss = 2.3437, Val Accuracy = 62.45%, Precision = 0.60, Recall = 0.62, F1 = 0.60\n"
     ]
    },
    {
     "name": "stderr",
     "output_type": "stream",
     "text": [
      "Epoch 239/500 - Training: 100%|██████████| 245/245 [00:22<00:00, 11.02it/s]\n"
     ]
    },
    {
     "name": "stdout",
     "output_type": "stream",
     "text": [
      "Epoch 239: Train Loss = 0.0979, Val Loss = 2.4696, Val Accuracy = 62.21%, Precision = 0.60, Recall = 0.62, F1 = 0.60\n"
     ]
    },
    {
     "name": "stderr",
     "output_type": "stream",
     "text": [
      "Epoch 240/500 - Training: 100%|██████████| 245/245 [00:20<00:00, 12.09it/s]\n"
     ]
    },
    {
     "name": "stdout",
     "output_type": "stream",
     "text": [
      "Epoch 240: Train Loss = 0.1278, Val Loss = 1.9559, Val Accuracy = 62.45%, Precision = 0.60, Recall = 0.62, F1 = 0.59\n"
     ]
    },
    {
     "name": "stderr",
     "output_type": "stream",
     "text": [
      "Epoch 241/500 - Training: 100%|██████████| 245/245 [00:22<00:00, 11.07it/s]\n"
     ]
    },
    {
     "name": "stdout",
     "output_type": "stream",
     "text": [
      "Epoch 241: Train Loss = 0.1206, Val Loss = 2.5530, Val Accuracy = 59.85%, Precision = 0.61, Recall = 0.60, F1 = 0.60\n"
     ]
    },
    {
     "name": "stderr",
     "output_type": "stream",
     "text": [
      "Epoch 242/500 - Training: 100%|██████████| 245/245 [00:22<00:00, 11.04it/s]\n"
     ]
    },
    {
     "name": "stdout",
     "output_type": "stream",
     "text": [
      "Epoch 242: Train Loss = 0.0932, Val Loss = 2.4085, Val Accuracy = 63.32%, Precision = 0.61, Recall = 0.63, F1 = 0.61\n"
     ]
    },
    {
     "name": "stderr",
     "output_type": "stream",
     "text": [
      "Epoch 243/500 - Training: 100%|██████████| 245/245 [00:22<00:00, 11.00it/s]\n"
     ]
    },
    {
     "name": "stdout",
     "output_type": "stream",
     "text": [
      "Epoch 243: Train Loss = 0.0806, Val Loss = 2.4793, Val Accuracy = 62.21%, Precision = 0.60, Recall = 0.62, F1 = 0.60\n"
     ]
    },
    {
     "name": "stderr",
     "output_type": "stream",
     "text": [
      "Epoch 244/500 - Training: 100%|██████████| 245/245 [00:20<00:00, 12.23it/s]\n"
     ]
    },
    {
     "name": "stdout",
     "output_type": "stream",
     "text": [
      "Epoch 244: Train Loss = 0.1175, Val Loss = 2.3697, Val Accuracy = 62.33%, Precision = 0.59, Recall = 0.62, F1 = 0.59\n"
     ]
    },
    {
     "name": "stderr",
     "output_type": "stream",
     "text": [
      "Epoch 245/500 - Training: 100%|██████████| 245/245 [00:22<00:00, 10.66it/s]\n"
     ]
    },
    {
     "name": "stdout",
     "output_type": "stream",
     "text": [
      "Epoch 245: Train Loss = 0.0831, Val Loss = 2.6666, Val Accuracy = 60.22%, Precision = 0.59, Recall = 0.60, F1 = 0.59\n"
     ]
    },
    {
     "name": "stderr",
     "output_type": "stream",
     "text": [
      "Epoch 246/500 - Training: 100%|██████████| 245/245 [00:22<00:00, 10.93it/s]\n"
     ]
    },
    {
     "name": "stdout",
     "output_type": "stream",
     "text": [
      "Epoch 246: Train Loss = 0.1179, Val Loss = 2.2170, Val Accuracy = 64.31%, Precision = 0.60, Recall = 0.64, F1 = 0.60\n"
     ]
    },
    {
     "name": "stderr",
     "output_type": "stream",
     "text": [
      "Epoch 247/500 - Training: 100%|██████████| 245/245 [00:22<00:00, 10.78it/s]\n"
     ]
    },
    {
     "name": "stdout",
     "output_type": "stream",
     "text": [
      "Epoch 247: Train Loss = 0.1052, Val Loss = 2.5626, Val Accuracy = 60.59%, Precision = 0.57, Recall = 0.61, F1 = 0.57\n"
     ]
    },
    {
     "name": "stderr",
     "output_type": "stream",
     "text": [
      "Epoch 248/500 - Training: 100%|██████████| 245/245 [00:20<00:00, 11.85it/s]\n"
     ]
    },
    {
     "name": "stdout",
     "output_type": "stream",
     "text": [
      "Epoch 248: Train Loss = 0.0687, Val Loss = 2.9022, Val Accuracy = 59.23%, Precision = 0.57, Recall = 0.59, F1 = 0.57\n"
     ]
    },
    {
     "name": "stderr",
     "output_type": "stream",
     "text": [
      "Epoch 249/500 - Training: 100%|██████████| 245/245 [00:22<00:00, 10.86it/s]\n"
     ]
    },
    {
     "name": "stdout",
     "output_type": "stream",
     "text": [
      "Epoch 249: Train Loss = 0.0696, Val Loss = 2.3961, Val Accuracy = 61.83%, Precision = 0.58, Recall = 0.62, F1 = 0.58\n"
     ]
    },
    {
     "name": "stderr",
     "output_type": "stream",
     "text": [
      "Epoch 250/500 - Training: 100%|██████████| 245/245 [00:22<00:00, 10.99it/s]\n"
     ]
    },
    {
     "name": "stdout",
     "output_type": "stream",
     "text": [
      "Epoch 250: Train Loss = 0.0707, Val Loss = 2.9891, Val Accuracy = 62.45%, Precision = 0.58, Recall = 0.62, F1 = 0.59\n"
     ]
    },
    {
     "name": "stderr",
     "output_type": "stream",
     "text": [
      "Epoch 251/500 - Training: 100%|██████████| 245/245 [00:22<00:00, 11.02it/s]\n"
     ]
    },
    {
     "name": "stdout",
     "output_type": "stream",
     "text": [
      "Epoch 251: Train Loss = 0.1337, Val Loss = 1.4454, Val Accuracy = 62.83%, Precision = 0.59, Recall = 0.63, F1 = 0.59\n"
     ]
    },
    {
     "name": "stderr",
     "output_type": "stream",
     "text": [
      "Epoch 252/500 - Training: 100%|██████████| 245/245 [00:21<00:00, 11.44it/s]\n"
     ]
    },
    {
     "name": "stdout",
     "output_type": "stream",
     "text": [
      "Epoch 252: Train Loss = 0.2010, Val Loss = 2.1342, Val Accuracy = 62.58%, Precision = 0.61, Recall = 0.63, F1 = 0.61\n"
     ]
    },
    {
     "name": "stderr",
     "output_type": "stream",
     "text": [
      "Epoch 253/500 - Training: 100%|██████████| 245/245 [00:22<00:00, 11.02it/s]\n"
     ]
    },
    {
     "name": "stdout",
     "output_type": "stream",
     "text": [
      "Epoch 253: Train Loss = 0.2131, Val Loss = 1.8432, Val Accuracy = 63.44%, Precision = 0.62, Recall = 0.63, F1 = 0.62\n"
     ]
    },
    {
     "name": "stderr",
     "output_type": "stream",
     "text": [
      "Epoch 254/500 - Training: 100%|██████████| 245/245 [00:22<00:00, 11.06it/s]\n"
     ]
    },
    {
     "name": "stdout",
     "output_type": "stream",
     "text": [
      "Epoch 254: Train Loss = 0.1683, Val Loss = 2.2844, Val Accuracy = 63.57%, Precision = 0.62, Recall = 0.64, F1 = 0.62\n"
     ]
    },
    {
     "name": "stderr",
     "output_type": "stream",
     "text": [
      "Epoch 255/500 - Training: 100%|██████████| 245/245 [00:22<00:00, 10.78it/s]\n"
     ]
    },
    {
     "name": "stdout",
     "output_type": "stream",
     "text": [
      "Epoch 255: Train Loss = 0.0983, Val Loss = 2.4074, Val Accuracy = 61.96%, Precision = 0.60, Recall = 0.62, F1 = 0.60\n"
     ]
    },
    {
     "name": "stderr",
     "output_type": "stream",
     "text": [
      "Epoch 256/500 - Training: 100%|██████████| 245/245 [00:21<00:00, 11.51it/s]\n"
     ]
    },
    {
     "name": "stdout",
     "output_type": "stream",
     "text": [
      "Epoch 256: Train Loss = 0.0857, Val Loss = 2.7526, Val Accuracy = 62.83%, Precision = 0.61, Recall = 0.63, F1 = 0.61\n"
     ]
    },
    {
     "name": "stderr",
     "output_type": "stream",
     "text": [
      "Epoch 257/500 - Training: 100%|██████████| 245/245 [00:22<00:00, 10.76it/s]\n"
     ]
    },
    {
     "name": "stdout",
     "output_type": "stream",
     "text": [
      "Epoch 257: Train Loss = 0.0991, Val Loss = 1.8369, Val Accuracy = 64.06%, Precision = 0.62, Recall = 0.64, F1 = 0.62\n"
     ]
    },
    {
     "name": "stderr",
     "output_type": "stream",
     "text": [
      "Epoch 258/500 - Training: 100%|██████████| 245/245 [00:23<00:00, 10.23it/s]\n"
     ]
    },
    {
     "name": "stdout",
     "output_type": "stream",
     "text": [
      "Epoch 258: Train Loss = 0.1354, Val Loss = 2.1535, Val Accuracy = 59.36%, Precision = 0.59, Recall = 0.59, F1 = 0.59\n"
     ]
    },
    {
     "name": "stderr",
     "output_type": "stream",
     "text": [
      "Epoch 259/500 - Training: 100%|██████████| 245/245 [00:23<00:00, 10.38it/s]\n"
     ]
    },
    {
     "name": "stdout",
     "output_type": "stream",
     "text": [
      "Epoch 259: Train Loss = 0.0976, Val Loss = 2.4734, Val Accuracy = 62.21%, Precision = 0.61, Recall = 0.62, F1 = 0.61\n"
     ]
    },
    {
     "name": "stderr",
     "output_type": "stream",
     "text": [
      "Epoch 260/500 - Training: 100%|██████████| 245/245 [00:21<00:00, 11.35it/s]\n"
     ]
    },
    {
     "name": "stdout",
     "output_type": "stream",
     "text": [
      "Epoch 260: Train Loss = 0.0709, Val Loss = 2.6884, Val Accuracy = 61.71%, Precision = 0.59, Recall = 0.62, F1 = 0.60\n"
     ]
    },
    {
     "name": "stderr",
     "output_type": "stream",
     "text": [
      "Epoch 261/500 - Training: 100%|██████████| 245/245 [00:22<00:00, 10.78it/s]\n"
     ]
    },
    {
     "name": "stdout",
     "output_type": "stream",
     "text": [
      "Epoch 261: Train Loss = 0.0714, Val Loss = 2.5728, Val Accuracy = 63.20%, Precision = 0.60, Recall = 0.63, F1 = 0.61\n"
     ]
    },
    {
     "name": "stderr",
     "output_type": "stream",
     "text": [
      "Epoch 262/500 - Training: 100%|██████████| 245/245 [00:22<00:00, 10.72it/s]\n"
     ]
    },
    {
     "name": "stdout",
     "output_type": "stream",
     "text": [
      "Epoch 262: Train Loss = 0.0701, Val Loss = 2.5752, Val Accuracy = 61.09%, Precision = 0.59, Recall = 0.61, F1 = 0.60\n"
     ]
    },
    {
     "name": "stderr",
     "output_type": "stream",
     "text": [
      "Epoch 263/500 - Training: 100%|██████████| 245/245 [00:23<00:00, 10.59it/s]\n"
     ]
    },
    {
     "name": "stdout",
     "output_type": "stream",
     "text": [
      "Epoch 263: Train Loss = 0.1082, Val Loss = 2.2209, Val Accuracy = 61.09%, Precision = 0.60, Recall = 0.61, F1 = 0.60\n"
     ]
    },
    {
     "name": "stderr",
     "output_type": "stream",
     "text": [
      "Epoch 264/500 - Training: 100%|██████████| 245/245 [00:20<00:00, 11.98it/s]\n"
     ]
    },
    {
     "name": "stdout",
     "output_type": "stream",
     "text": [
      "Epoch 264: Train Loss = 0.0813, Val Loss = 2.5335, Val Accuracy = 62.58%, Precision = 0.61, Recall = 0.63, F1 = 0.61\n"
     ]
    },
    {
     "name": "stderr",
     "output_type": "stream",
     "text": [
      "Epoch 265/500 - Training: 100%|██████████| 245/245 [00:23<00:00, 10.48it/s]\n"
     ]
    },
    {
     "name": "stdout",
     "output_type": "stream",
     "text": [
      "Epoch 265: Train Loss = 0.0576, Val Loss = 2.8245, Val Accuracy = 63.44%, Precision = 0.62, Recall = 0.63, F1 = 0.62\n"
     ]
    },
    {
     "name": "stderr",
     "output_type": "stream",
     "text": [
      "Epoch 266/500 - Training: 100%|██████████| 245/245 [00:23<00:00, 10.40it/s]\n"
     ]
    },
    {
     "name": "stdout",
     "output_type": "stream",
     "text": [
      "Epoch 266: Train Loss = 0.0591, Val Loss = 2.7395, Val Accuracy = 62.33%, Precision = 0.61, Recall = 0.62, F1 = 0.61\n"
     ]
    },
    {
     "name": "stderr",
     "output_type": "stream",
     "text": [
      "Epoch 267/500 - Training: 100%|██████████| 245/245 [00:23<00:00, 10.45it/s]\n"
     ]
    },
    {
     "name": "stdout",
     "output_type": "stream",
     "text": [
      "Epoch 267: Train Loss = 0.0750, Val Loss = 2.5140, Val Accuracy = 61.46%, Precision = 0.59, Recall = 0.61, F1 = 0.60\n"
     ]
    },
    {
     "name": "stderr",
     "output_type": "stream",
     "text": [
      "Epoch 268/500 - Training: 100%|██████████| 245/245 [00:19<00:00, 12.30it/s]\n"
     ]
    },
    {
     "name": "stdout",
     "output_type": "stream",
     "text": [
      "Epoch 268: Train Loss = 0.0665, Val Loss = 2.9406, Val Accuracy = 61.09%, Precision = 0.60, Recall = 0.61, F1 = 0.59\n"
     ]
    },
    {
     "name": "stderr",
     "output_type": "stream",
     "text": [
      "Epoch 269/500 - Training: 100%|██████████| 245/245 [00:22<00:00, 10.78it/s]\n"
     ]
    },
    {
     "name": "stdout",
     "output_type": "stream",
     "text": [
      "Epoch 269: Train Loss = 0.1176, Val Loss = 1.9037, Val Accuracy = 61.83%, Precision = 0.61, Recall = 0.62, F1 = 0.61\n"
     ]
    },
    {
     "name": "stderr",
     "output_type": "stream",
     "text": [
      "Epoch 270/500 - Training: 100%|██████████| 245/245 [00:23<00:00, 10.50it/s]\n"
     ]
    },
    {
     "name": "stdout",
     "output_type": "stream",
     "text": [
      "Epoch 270: Train Loss = 0.1139, Val Loss = 2.3849, Val Accuracy = 63.94%, Precision = 0.61, Recall = 0.64, F1 = 0.62\n"
     ]
    },
    {
     "name": "stderr",
     "output_type": "stream",
     "text": [
      "Epoch 271/500 - Training: 100%|██████████| 245/245 [00:23<00:00, 10.40it/s]\n"
     ]
    },
    {
     "name": "stdout",
     "output_type": "stream",
     "text": [
      "Epoch 271: Train Loss = 0.0744, Val Loss = 2.7184, Val Accuracy = 62.95%, Precision = 0.61, Recall = 0.63, F1 = 0.62\n"
     ]
    },
    {
     "name": "stderr",
     "output_type": "stream",
     "text": [
      "Epoch 272/500 - Training: 100%|██████████| 245/245 [00:20<00:00, 11.76it/s]\n"
     ]
    },
    {
     "name": "stdout",
     "output_type": "stream",
     "text": [
      "Epoch 272: Train Loss = 0.0796, Val Loss = 2.4582, Val Accuracy = 62.21%, Precision = 0.60, Recall = 0.62, F1 = 0.61\n"
     ]
    },
    {
     "name": "stderr",
     "output_type": "stream",
     "text": [
      "Epoch 273/500 - Training: 100%|██████████| 245/245 [00:24<00:00, 10.20it/s]\n"
     ]
    },
    {
     "name": "stdout",
     "output_type": "stream",
     "text": [
      "Epoch 273: Train Loss = 0.0771, Val Loss = 2.4395, Val Accuracy = 61.46%, Precision = 0.59, Recall = 0.61, F1 = 0.60\n"
     ]
    },
    {
     "name": "stderr",
     "output_type": "stream",
     "text": [
      "Epoch 274/500 - Training: 100%|██████████| 245/245 [00:27<00:00,  8.92it/s]\n"
     ]
    },
    {
     "name": "stdout",
     "output_type": "stream",
     "text": [
      "Epoch 274: Train Loss = 0.0787, Val Loss = 2.5331, Val Accuracy = 61.71%, Precision = 0.60, Recall = 0.62, F1 = 0.60\n"
     ]
    },
    {
     "name": "stderr",
     "output_type": "stream",
     "text": [
      "Epoch 275/500 - Training: 100%|██████████| 245/245 [00:24<00:00,  9.86it/s]\n"
     ]
    },
    {
     "name": "stdout",
     "output_type": "stream",
     "text": [
      "Epoch 275: Train Loss = 0.0721, Val Loss = 2.5234, Val Accuracy = 62.33%, Precision = 0.61, Recall = 0.62, F1 = 0.61\n"
     ]
    },
    {
     "name": "stderr",
     "output_type": "stream",
     "text": [
      "Epoch 276/500 - Training: 100%|██████████| 245/245 [00:22<00:00, 10.86it/s]\n"
     ]
    },
    {
     "name": "stdout",
     "output_type": "stream",
     "text": [
      "Epoch 276: Train Loss = 0.0680, Val Loss = 2.7321, Val Accuracy = 60.22%, Precision = 0.59, Recall = 0.60, F1 = 0.60\n"
     ]
    },
    {
     "name": "stderr",
     "output_type": "stream",
     "text": [
      "Epoch 277/500 - Training: 100%|██████████| 245/245 [00:24<00:00,  9.97it/s]\n"
     ]
    },
    {
     "name": "stdout",
     "output_type": "stream",
     "text": [
      "Epoch 277: Train Loss = 0.0550, Val Loss = 2.7183, Val Accuracy = 60.35%, Precision = 0.60, Recall = 0.60, F1 = 0.60\n"
     ]
    },
    {
     "name": "stderr",
     "output_type": "stream",
     "text": [
      "Epoch 278/500 - Training: 100%|██████████| 245/245 [00:25<00:00,  9.69it/s]\n"
     ]
    },
    {
     "name": "stdout",
     "output_type": "stream",
     "text": [
      "Epoch 278: Train Loss = 0.0569, Val Loss = 2.8499, Val Accuracy = 62.45%, Precision = 0.60, Recall = 0.62, F1 = 0.60\n"
     ]
    },
    {
     "name": "stderr",
     "output_type": "stream",
     "text": [
      "Epoch 279/500 - Training: 100%|██████████| 245/245 [00:23<00:00, 10.55it/s]\n"
     ]
    },
    {
     "name": "stdout",
     "output_type": "stream",
     "text": [
      "Epoch 279: Train Loss = 0.0616, Val Loss = 2.6111, Val Accuracy = 64.93%, Precision = 0.64, Recall = 0.65, F1 = 0.63\n"
     ]
    },
    {
     "name": "stderr",
     "output_type": "stream",
     "text": [
      "Epoch 280/500 - Training: 100%|██████████| 245/245 [00:23<00:00, 10.41it/s]\n"
     ]
    },
    {
     "name": "stdout",
     "output_type": "stream",
     "text": [
      "Epoch 280: Train Loss = 0.0633, Val Loss = 2.6580, Val Accuracy = 62.08%, Precision = 0.60, Recall = 0.62, F1 = 0.60\n"
     ]
    },
    {
     "name": "stderr",
     "output_type": "stream",
     "text": [
      "Epoch 281/500 - Training: 100%|██████████| 245/245 [00:24<00:00,  9.94it/s]\n"
     ]
    },
    {
     "name": "stdout",
     "output_type": "stream",
     "text": [
      "Epoch 281: Train Loss = 0.0431, Val Loss = 2.9525, Val Accuracy = 62.58%, Precision = 0.62, Recall = 0.63, F1 = 0.62\n"
     ]
    },
    {
     "name": "stderr",
     "output_type": "stream",
     "text": [
      "Epoch 282/500 - Training: 100%|██████████| 245/245 [00:24<00:00,  9.93it/s]\n"
     ]
    },
    {
     "name": "stdout",
     "output_type": "stream",
     "text": [
      "Epoch 282: Train Loss = 0.0513, Val Loss = 3.1073, Val Accuracy = 61.34%, Precision = 0.59, Recall = 0.61, F1 = 0.60\n"
     ]
    },
    {
     "name": "stderr",
     "output_type": "stream",
     "text": [
      "Epoch 283/500 - Training: 100%|██████████| 245/245 [00:21<00:00, 11.23it/s]\n"
     ]
    },
    {
     "name": "stdout",
     "output_type": "stream",
     "text": [
      "Epoch 283: Train Loss = 0.0646, Val Loss = 2.5004, Val Accuracy = 61.46%, Precision = 0.60, Recall = 0.61, F1 = 0.60\n"
     ]
    },
    {
     "name": "stderr",
     "output_type": "stream",
     "text": [
      "Epoch 284/500 - Training: 100%|██████████| 245/245 [00:24<00:00,  9.96it/s]\n"
     ]
    },
    {
     "name": "stdout",
     "output_type": "stream",
     "text": [
      "Epoch 284: Train Loss = 0.0726, Val Loss = 2.6120, Val Accuracy = 62.70%, Precision = 0.59, Recall = 0.63, F1 = 0.60\n"
     ]
    },
    {
     "name": "stderr",
     "output_type": "stream",
     "text": [
      "Epoch 285/500 - Training: 100%|██████████| 245/245 [00:25<00:00,  9.73it/s]\n"
     ]
    },
    {
     "name": "stdout",
     "output_type": "stream",
     "text": [
      "Epoch 285: Train Loss = 0.1008, Val Loss = 2.4346, Val Accuracy = 61.09%, Precision = 0.60, Recall = 0.61, F1 = 0.60\n"
     ]
    },
    {
     "name": "stderr",
     "output_type": "stream",
     "text": [
      "Epoch 286/500 - Training: 100%|██████████| 245/245 [00:25<00:00,  9.57it/s]\n"
     ]
    },
    {
     "name": "stdout",
     "output_type": "stream",
     "text": [
      "Epoch 286: Train Loss = 0.0514, Val Loss = 2.8501, Val Accuracy = 64.06%, Precision = 0.61, Recall = 0.64, F1 = 0.62\n"
     ]
    },
    {
     "name": "stderr",
     "output_type": "stream",
     "text": [
      "Epoch 287/500 - Training: 100%|██████████| 245/245 [00:23<00:00, 10.56it/s]\n"
     ]
    },
    {
     "name": "stdout",
     "output_type": "stream",
     "text": [
      "Epoch 287: Train Loss = 0.0543, Val Loss = 2.8024, Val Accuracy = 61.46%, Precision = 0.62, Recall = 0.61, F1 = 0.62\n"
     ]
    },
    {
     "name": "stderr",
     "output_type": "stream",
     "text": [
      "Epoch 288/500 - Training: 100%|██████████| 245/245 [00:25<00:00,  9.62it/s]\n"
     ]
    },
    {
     "name": "stdout",
     "output_type": "stream",
     "text": [
      "Epoch 288: Train Loss = 0.0701, Val Loss = 2.8624, Val Accuracy = 62.58%, Precision = 0.60, Recall = 0.63, F1 = 0.60\n"
     ]
    },
    {
     "name": "stderr",
     "output_type": "stream",
     "text": [
      "Epoch 289/500 - Training: 100%|██████████| 245/245 [00:24<00:00,  9.98it/s]\n"
     ]
    },
    {
     "name": "stdout",
     "output_type": "stream",
     "text": [
      "Epoch 289: Train Loss = 0.0480, Val Loss = 3.2064, Val Accuracy = 60.59%, Precision = 0.58, Recall = 0.61, F1 = 0.58\n"
     ]
    },
    {
     "name": "stderr",
     "output_type": "stream",
     "text": [
      "Epoch 290/500 - Training: 100%|██████████| 245/245 [00:24<00:00, 10.06it/s]\n"
     ]
    },
    {
     "name": "stdout",
     "output_type": "stream",
     "text": [
      "Epoch 290: Train Loss = 0.1178, Val Loss = 2.1754, Val Accuracy = 58.49%, Precision = 0.58, Recall = 0.58, F1 = 0.58\n"
     ]
    },
    {
     "name": "stderr",
     "output_type": "stream",
     "text": [
      "Epoch 291/500 - Training: 100%|██████████| 245/245 [00:23<00:00, 10.49it/s]\n"
     ]
    },
    {
     "name": "stdout",
     "output_type": "stream",
     "text": [
      "Epoch 291: Train Loss = 0.0933, Val Loss = 2.4632, Val Accuracy = 63.82%, Precision = 0.61, Recall = 0.64, F1 = 0.61\n"
     ]
    },
    {
     "name": "stderr",
     "output_type": "stream",
     "text": [
      "Epoch 292/500 - Training: 100%|██████████| 245/245 [00:25<00:00,  9.66it/s]\n"
     ]
    },
    {
     "name": "stdout",
     "output_type": "stream",
     "text": [
      "Epoch 292: Train Loss = 0.0688, Val Loss = 2.8243, Val Accuracy = 63.82%, Precision = 0.60, Recall = 0.64, F1 = 0.60\n"
     ]
    },
    {
     "name": "stderr",
     "output_type": "stream",
     "text": [
      "Epoch 293/500 - Training: 100%|██████████| 245/245 [00:26<00:00,  9.41it/s]\n"
     ]
    },
    {
     "name": "stdout",
     "output_type": "stream",
     "text": [
      "Epoch 293: Train Loss = 0.0534, Val Loss = 2.6240, Val Accuracy = 62.33%, Precision = 0.59, Recall = 0.62, F1 = 0.60\n"
     ]
    },
    {
     "name": "stderr",
     "output_type": "stream",
     "text": [
      "Epoch 294/500 - Training: 100%|██████████| 245/245 [00:23<00:00, 10.46it/s]\n"
     ]
    },
    {
     "name": "stdout",
     "output_type": "stream",
     "text": [
      "Epoch 294: Train Loss = 0.0457, Val Loss = 3.2612, Val Accuracy = 63.44%, Precision = 0.59, Recall = 0.63, F1 = 0.59\n"
     ]
    },
    {
     "name": "stderr",
     "output_type": "stream",
     "text": [
      "Epoch 295/500 - Training: 100%|██████████| 245/245 [00:26<00:00,  9.26it/s]\n"
     ]
    },
    {
     "name": "stdout",
     "output_type": "stream",
     "text": [
      "Epoch 295: Train Loss = 0.0670, Val Loss = 2.7313, Val Accuracy = 61.83%, Precision = 0.59, Recall = 0.62, F1 = 0.59\n"
     ]
    },
    {
     "name": "stderr",
     "output_type": "stream",
     "text": [
      "Epoch 296/500 - Training: 100%|██████████| 245/245 [00:27<00:00,  9.05it/s]\n"
     ]
    },
    {
     "name": "stdout",
     "output_type": "stream",
     "text": [
      "Epoch 296: Train Loss = 0.0456, Val Loss = 3.2129, Val Accuracy = 62.08%, Precision = 0.58, Recall = 0.62, F1 = 0.58\n"
     ]
    },
    {
     "name": "stderr",
     "output_type": "stream",
     "text": [
      "Epoch 297/500 - Training: 100%|██████████| 245/245 [00:24<00:00,  9.90it/s]\n"
     ]
    },
    {
     "name": "stdout",
     "output_type": "stream",
     "text": [
      "Epoch 297: Train Loss = 0.1673, Val Loss = 1.5575, Val Accuracy = 64.56%, Precision = 0.62, Recall = 0.65, F1 = 0.63\n"
     ]
    },
    {
     "name": "stderr",
     "output_type": "stream",
     "text": [
      "Epoch 298/500 - Training: 100%|██████████| 245/245 [00:21<00:00, 11.22it/s]\n"
     ]
    },
    {
     "name": "stdout",
     "output_type": "stream",
     "text": [
      "Epoch 298: Train Loss = 0.2538, Val Loss = 1.5499, Val Accuracy = 63.44%, Precision = 0.61, Recall = 0.63, F1 = 0.61\n"
     ]
    },
    {
     "name": "stderr",
     "output_type": "stream",
     "text": [
      "Epoch 299/500 - Training: 100%|██████████| 245/245 [00:24<00:00, 10.08it/s]\n"
     ]
    },
    {
     "name": "stdout",
     "output_type": "stream",
     "text": [
      "Epoch 299: Train Loss = 0.3036, Val Loss = 1.5042, Val Accuracy = 65.30%, Precision = 0.63, Recall = 0.65, F1 = 0.63\n"
     ]
    },
    {
     "name": "stderr",
     "output_type": "stream",
     "text": [
      "Epoch 300/500 - Training: 100%|██████████| 245/245 [00:26<00:00,  9.13it/s]\n"
     ]
    },
    {
     "name": "stdout",
     "output_type": "stream",
     "text": [
      "Epoch 300: Train Loss = 0.1983, Val Loss = 1.9762, Val Accuracy = 62.95%, Precision = 0.60, Recall = 0.63, F1 = 0.61\n"
     ]
    },
    {
     "name": "stderr",
     "output_type": "stream",
     "text": [
      "Epoch 301/500 - Training: 100%|██████████| 245/245 [00:25<00:00,  9.55it/s]\n"
     ]
    },
    {
     "name": "stdout",
     "output_type": "stream",
     "text": [
      "Epoch 301: Train Loss = 0.1789, Val Loss = 1.3964, Val Accuracy = 64.19%, Precision = 0.61, Recall = 0.64, F1 = 0.62\n"
     ]
    },
    {
     "name": "stderr",
     "output_type": "stream",
     "text": [
      "Epoch 302/500 - Training: 100%|██████████| 245/245 [00:25<00:00,  9.78it/s]\n"
     ]
    },
    {
     "name": "stdout",
     "output_type": "stream",
     "text": [
      "Epoch 302: Train Loss = 0.2084, Val Loss = 1.7770, Val Accuracy = 60.59%, Precision = 0.58, Recall = 0.61, F1 = 0.59\n"
     ]
    },
    {
     "name": "stderr",
     "output_type": "stream",
     "text": [
      "Epoch 303/500 - Training: 100%|██████████| 245/245 [00:25<00:00,  9.64it/s]\n"
     ]
    },
    {
     "name": "stdout",
     "output_type": "stream",
     "text": [
      "Epoch 303: Train Loss = 0.1854, Val Loss = 1.9795, Val Accuracy = 61.59%, Precision = 0.58, Recall = 0.62, F1 = 0.59\n"
     ]
    },
    {
     "name": "stderr",
     "output_type": "stream",
     "text": [
      "Epoch 304/500 - Training: 100%|██████████| 245/245 [00:26<00:00,  9.36it/s]\n"
     ]
    },
    {
     "name": "stdout",
     "output_type": "stream",
     "text": [
      "Epoch 304: Train Loss = 0.0923, Val Loss = 2.3616, Val Accuracy = 61.09%, Precision = 0.57, Recall = 0.61, F1 = 0.58\n"
     ]
    },
    {
     "name": "stderr",
     "output_type": "stream",
     "text": [
      "Epoch 305/500 - Training: 100%|██████████| 245/245 [00:22<00:00, 10.65it/s]\n"
     ]
    },
    {
     "name": "stdout",
     "output_type": "stream",
     "text": [
      "Epoch 305: Train Loss = 0.0797, Val Loss = 2.1285, Val Accuracy = 62.21%, Precision = 0.59, Recall = 0.62, F1 = 0.59\n"
     ]
    },
    {
     "name": "stderr",
     "output_type": "stream",
     "text": [
      "Epoch 306/500 - Training: 100%|██████████| 245/245 [00:25<00:00,  9.61it/s]\n"
     ]
    },
    {
     "name": "stdout",
     "output_type": "stream",
     "text": [
      "Epoch 306: Train Loss = 0.0940, Val Loss = 2.4504, Val Accuracy = 62.95%, Precision = 0.58, Recall = 0.63, F1 = 0.59\n"
     ]
    },
    {
     "name": "stderr",
     "output_type": "stream",
     "text": [
      "Epoch 307/500 - Training: 100%|██████████| 245/245 [00:24<00:00, 10.14it/s]\n"
     ]
    },
    {
     "name": "stdout",
     "output_type": "stream",
     "text": [
      "Epoch 307: Train Loss = 0.1198, Val Loss = 2.1812, Val Accuracy = 60.22%, Precision = 0.57, Recall = 0.60, F1 = 0.58\n"
     ]
    },
    {
     "name": "stderr",
     "output_type": "stream",
     "text": [
      "Epoch 308/500 - Training: 100%|██████████| 245/245 [00:23<00:00, 10.44it/s]\n"
     ]
    },
    {
     "name": "stdout",
     "output_type": "stream",
     "text": [
      "Epoch 308: Train Loss = 0.0655, Val Loss = 2.6774, Val Accuracy = 61.96%, Precision = 0.59, Recall = 0.62, F1 = 0.60\n"
     ]
    },
    {
     "name": "stderr",
     "output_type": "stream",
     "text": [
      "Epoch 309/500 - Training: 100%|██████████| 245/245 [00:21<00:00, 11.52it/s]\n"
     ]
    },
    {
     "name": "stdout",
     "output_type": "stream",
     "text": [
      "Epoch 309: Train Loss = 0.1682, Val Loss = 1.8978, Val Accuracy = 62.33%, Precision = 0.60, Recall = 0.62, F1 = 0.60\n"
     ]
    },
    {
     "name": "stderr",
     "output_type": "stream",
     "text": [
      "Epoch 310/500 - Training: 100%|██████████| 245/245 [00:23<00:00, 10.44it/s]\n"
     ]
    },
    {
     "name": "stdout",
     "output_type": "stream",
     "text": [
      "Epoch 310: Train Loss = 0.1279, Val Loss = 2.4116, Val Accuracy = 62.45%, Precision = 0.59, Recall = 0.62, F1 = 0.60\n"
     ]
    },
    {
     "name": "stderr",
     "output_type": "stream",
     "text": [
      "Epoch 311/500 - Training: 100%|██████████| 245/245 [00:23<00:00, 10.32it/s]\n"
     ]
    },
    {
     "name": "stdout",
     "output_type": "stream",
     "text": [
      "Epoch 311: Train Loss = 0.0864, Val Loss = 2.4858, Val Accuracy = 62.83%, Precision = 0.60, Recall = 0.63, F1 = 0.61\n"
     ]
    },
    {
     "name": "stderr",
     "output_type": "stream",
     "text": [
      "Epoch 312/500 - Training: 100%|██████████| 245/245 [00:24<00:00,  9.87it/s]\n"
     ]
    },
    {
     "name": "stdout",
     "output_type": "stream",
     "text": [
      "Epoch 312: Train Loss = 0.0754, Val Loss = 2.6326, Val Accuracy = 60.22%, Precision = 0.59, Recall = 0.60, F1 = 0.59\n"
     ]
    },
    {
     "name": "stderr",
     "output_type": "stream",
     "text": [
      "Epoch 313/500 - Training: 100%|██████████| 245/245 [00:22<00:00, 11.01it/s]\n"
     ]
    },
    {
     "name": "stdout",
     "output_type": "stream",
     "text": [
      "Epoch 313: Train Loss = 0.0681, Val Loss = 2.8010, Val Accuracy = 59.23%, Precision = 0.60, Recall = 0.59, F1 = 0.59\n"
     ]
    },
    {
     "name": "stderr",
     "output_type": "stream",
     "text": [
      "Epoch 314/500 - Training: 100%|██████████| 245/245 [00:24<00:00, 10.09it/s]\n"
     ]
    },
    {
     "name": "stdout",
     "output_type": "stream",
     "text": [
      "Epoch 314: Train Loss = 0.0486, Val Loss = 2.8669, Val Accuracy = 61.46%, Precision = 0.58, Recall = 0.61, F1 = 0.59\n"
     ]
    },
    {
     "name": "stderr",
     "output_type": "stream",
     "text": [
      "Epoch 315/500 - Training: 100%|██████████| 245/245 [00:24<00:00, 10.08it/s]\n"
     ]
    },
    {
     "name": "stdout",
     "output_type": "stream",
     "text": [
      "Epoch 315: Train Loss = 0.0607, Val Loss = 2.7248, Val Accuracy = 62.21%, Precision = 0.59, Recall = 0.62, F1 = 0.60\n"
     ]
    },
    {
     "name": "stderr",
     "output_type": "stream",
     "text": [
      "Epoch 316/500 - Training: 100%|██████████| 245/245 [00:22<00:00, 10.66it/s]\n"
     ]
    },
    {
     "name": "stdout",
     "output_type": "stream",
     "text": [
      "Epoch 316: Train Loss = 0.0674, Val Loss = 2.7247, Val Accuracy = 63.32%, Precision = 0.59, Recall = 0.63, F1 = 0.60\n"
     ]
    },
    {
     "name": "stderr",
     "output_type": "stream",
     "text": [
      "Epoch 317/500 - Training: 100%|██████████| 245/245 [00:22<00:00, 11.10it/s]\n"
     ]
    },
    {
     "name": "stdout",
     "output_type": "stream",
     "text": [
      "Epoch 317: Train Loss = 0.0486, Val Loss = 2.7579, Val Accuracy = 61.96%, Precision = 0.59, Recall = 0.62, F1 = 0.60\n"
     ]
    },
    {
     "name": "stderr",
     "output_type": "stream",
     "text": [
      "Epoch 318/500 - Training: 100%|██████████| 245/245 [00:23<00:00, 10.48it/s]\n"
     ]
    },
    {
     "name": "stdout",
     "output_type": "stream",
     "text": [
      "Epoch 318: Train Loss = 0.0497, Val Loss = 2.6137, Val Accuracy = 61.09%, Precision = 0.59, Recall = 0.61, F1 = 0.59\n"
     ]
    },
    {
     "name": "stderr",
     "output_type": "stream",
     "text": [
      "Epoch 319/500 - Training: 100%|██████████| 245/245 [00:23<00:00, 10.57it/s]\n"
     ]
    },
    {
     "name": "stdout",
     "output_type": "stream",
     "text": [
      "Epoch 319: Train Loss = 0.0870, Val Loss = 2.4800, Val Accuracy = 64.44%, Precision = 0.61, Recall = 0.64, F1 = 0.61\n"
     ]
    },
    {
     "name": "stderr",
     "output_type": "stream",
     "text": [
      "Epoch 320/500 - Training: 100%|██████████| 245/245 [00:22<00:00, 10.84it/s]\n"
     ]
    },
    {
     "name": "stdout",
     "output_type": "stream",
     "text": [
      "Epoch 320: Train Loss = 0.0460, Val Loss = 2.7947, Val Accuracy = 61.83%, Precision = 0.59, Recall = 0.62, F1 = 0.60\n"
     ]
    },
    {
     "name": "stderr",
     "output_type": "stream",
     "text": [
      "Epoch 321/500 - Training: 100%|██████████| 245/245 [00:22<00:00, 11.08it/s]\n"
     ]
    },
    {
     "name": "stdout",
     "output_type": "stream",
     "text": [
      "Epoch 321: Train Loss = 0.0543, Val Loss = 2.8496, Val Accuracy = 62.08%, Precision = 0.59, Recall = 0.62, F1 = 0.60\n"
     ]
    },
    {
     "name": "stderr",
     "output_type": "stream",
     "text": [
      "Epoch 322/500 - Training: 100%|██████████| 245/245 [00:24<00:00, 10.18it/s]\n"
     ]
    },
    {
     "name": "stdout",
     "output_type": "stream",
     "text": [
      "Epoch 322: Train Loss = 0.0560, Val Loss = 2.7005, Val Accuracy = 61.59%, Precision = 0.59, Recall = 0.62, F1 = 0.60\n"
     ]
    },
    {
     "name": "stderr",
     "output_type": "stream",
     "text": [
      "Epoch 323/500 - Training: 100%|██████████| 245/245 [00:23<00:00, 10.42it/s]\n"
     ]
    },
    {
     "name": "stdout",
     "output_type": "stream",
     "text": [
      "Epoch 323: Train Loss = 0.0497, Val Loss = 2.6707, Val Accuracy = 61.71%, Precision = 0.61, Recall = 0.62, F1 = 0.61\n"
     ]
    },
    {
     "name": "stderr",
     "output_type": "stream",
     "text": [
      "Epoch 324/500 - Training: 100%|██████████| 245/245 [00:21<00:00, 11.47it/s]\n"
     ]
    },
    {
     "name": "stdout",
     "output_type": "stream",
     "text": [
      "Epoch 324: Train Loss = 0.0627, Val Loss = 2.2178, Val Accuracy = 62.83%, Precision = 0.60, Recall = 0.63, F1 = 0.61\n"
     ]
    },
    {
     "name": "stderr",
     "output_type": "stream",
     "text": [
      "Epoch 325/500 - Training: 100%|██████████| 245/245 [00:23<00:00, 10.49it/s]\n"
     ]
    },
    {
     "name": "stdout",
     "output_type": "stream",
     "text": [
      "Epoch 325: Train Loss = 0.1277, Val Loss = 2.2505, Val Accuracy = 60.22%, Precision = 0.58, Recall = 0.60, F1 = 0.58\n"
     ]
    },
    {
     "name": "stderr",
     "output_type": "stream",
     "text": [
      "Epoch 326/500 - Training: 100%|██████████| 245/245 [00:23<00:00, 10.57it/s]\n"
     ]
    },
    {
     "name": "stdout",
     "output_type": "stream",
     "text": [
      "Epoch 326: Train Loss = 0.0841, Val Loss = 2.5264, Val Accuracy = 62.45%, Precision = 0.59, Recall = 0.62, F1 = 0.60\n"
     ]
    },
    {
     "name": "stderr",
     "output_type": "stream",
     "text": [
      "Epoch 327/500 - Training: 100%|██████████| 245/245 [00:23<00:00, 10.53it/s]\n"
     ]
    },
    {
     "name": "stdout",
     "output_type": "stream",
     "text": [
      "Epoch 327: Train Loss = 0.0619, Val Loss = 2.9964, Val Accuracy = 62.08%, Precision = 0.59, Recall = 0.62, F1 = 0.60\n"
     ]
    },
    {
     "name": "stderr",
     "output_type": "stream",
     "text": [
      "Epoch 328/500 - Training: 100%|██████████| 245/245 [00:20<00:00, 11.67it/s]\n"
     ]
    },
    {
     "name": "stdout",
     "output_type": "stream",
     "text": [
      "Epoch 328: Train Loss = 0.0512, Val Loss = 3.3015, Val Accuracy = 61.71%, Precision = 0.58, Recall = 0.62, F1 = 0.59\n"
     ]
    },
    {
     "name": "stderr",
     "output_type": "stream",
     "text": [
      "Epoch 329/500 - Training: 100%|██████████| 245/245 [00:23<00:00, 10.46it/s]\n"
     ]
    },
    {
     "name": "stdout",
     "output_type": "stream",
     "text": [
      "Epoch 329: Train Loss = 0.0672, Val Loss = 2.5734, Val Accuracy = 61.96%, Precision = 0.59, Recall = 0.62, F1 = 0.59\n"
     ]
    },
    {
     "name": "stderr",
     "output_type": "stream",
     "text": [
      "Epoch 330/500 - Training: 100%|██████████| 245/245 [00:23<00:00, 10.45it/s]\n"
     ]
    },
    {
     "name": "stdout",
     "output_type": "stream",
     "text": [
      "Epoch 330: Train Loss = 0.0491, Val Loss = 3.0199, Val Accuracy = 60.97%, Precision = 0.59, Recall = 0.61, F1 = 0.59\n"
     ]
    },
    {
     "name": "stderr",
     "output_type": "stream",
     "text": [
      "Epoch 331/500 - Training: 100%|██████████| 245/245 [00:24<00:00, 10.14it/s]\n"
     ]
    },
    {
     "name": "stdout",
     "output_type": "stream",
     "text": [
      "Epoch 331: Train Loss = 0.0482, Val Loss = 2.8987, Val Accuracy = 61.21%, Precision = 0.58, Recall = 0.61, F1 = 0.59\n"
     ]
    },
    {
     "name": "stderr",
     "output_type": "stream",
     "text": [
      "Epoch 332/500 - Training: 100%|██████████| 245/245 [00:21<00:00, 11.18it/s]\n"
     ]
    },
    {
     "name": "stdout",
     "output_type": "stream",
     "text": [
      "Epoch 332: Train Loss = 0.0370, Val Loss = 3.1176, Val Accuracy = 63.57%, Precision = 0.61, Recall = 0.64, F1 = 0.62\n"
     ]
    },
    {
     "name": "stderr",
     "output_type": "stream",
     "text": [
      "Epoch 333/500 - Training: 100%|██████████| 245/245 [00:23<00:00, 10.30it/s]\n"
     ]
    },
    {
     "name": "stdout",
     "output_type": "stream",
     "text": [
      "Epoch 333: Train Loss = 0.0387, Val Loss = 3.2900, Val Accuracy = 61.21%, Precision = 0.58, Recall = 0.61, F1 = 0.59\n"
     ]
    },
    {
     "name": "stderr",
     "output_type": "stream",
     "text": [
      "Epoch 334/500 - Training: 100%|██████████| 245/245 [00:24<00:00, 10.12it/s]\n"
     ]
    },
    {
     "name": "stdout",
     "output_type": "stream",
     "text": [
      "Epoch 334: Train Loss = 0.0404, Val Loss = 3.0667, Val Accuracy = 63.44%, Precision = 0.60, Recall = 0.63, F1 = 0.61\n"
     ]
    },
    {
     "name": "stderr",
     "output_type": "stream",
     "text": [
      "Epoch 335/500 - Training: 100%|██████████| 245/245 [00:23<00:00, 10.55it/s]\n"
     ]
    },
    {
     "name": "stdout",
     "output_type": "stream",
     "text": [
      "Epoch 335: Train Loss = 0.0510, Val Loss = 2.7899, Val Accuracy = 63.94%, Precision = 0.61, Recall = 0.64, F1 = 0.61\n"
     ]
    },
    {
     "name": "stderr",
     "output_type": "stream",
     "text": [
      "Epoch 336/500 - Training: 100%|██████████| 245/245 [00:22<00:00, 11.09it/s]\n"
     ]
    },
    {
     "name": "stdout",
     "output_type": "stream",
     "text": [
      "Epoch 336: Train Loss = 0.0560, Val Loss = 2.5659, Val Accuracy = 59.98%, Precision = 0.59, Recall = 0.60, F1 = 0.59\n"
     ]
    },
    {
     "name": "stderr",
     "output_type": "stream",
     "text": [
      "Epoch 337/500 - Training: 100%|██████████| 245/245 [00:23<00:00, 10.46it/s]\n"
     ]
    },
    {
     "name": "stdout",
     "output_type": "stream",
     "text": [
      "Epoch 337: Train Loss = 0.0651, Val Loss = 2.5759, Val Accuracy = 64.44%, Precision = 0.62, Recall = 0.64, F1 = 0.62\n"
     ]
    },
    {
     "name": "stderr",
     "output_type": "stream",
     "text": [
      "Epoch 338/500 - Training: 100%|██████████| 245/245 [00:23<00:00, 10.44it/s]\n"
     ]
    },
    {
     "name": "stdout",
     "output_type": "stream",
     "text": [
      "Epoch 338: Train Loss = 0.0422, Val Loss = 3.2594, Val Accuracy = 63.69%, Precision = 0.61, Recall = 0.64, F1 = 0.62\n"
     ]
    },
    {
     "name": "stderr",
     "output_type": "stream",
     "text": [
      "Epoch 339/500 - Training: 100%|██████████| 245/245 [00:22<00:00, 10.66it/s]\n"
     ]
    },
    {
     "name": "stdout",
     "output_type": "stream",
     "text": [
      "Epoch 339: Train Loss = 0.0506, Val Loss = 2.8651, Val Accuracy = 62.21%, Precision = 0.60, Recall = 0.62, F1 = 0.61\n"
     ]
    },
    {
     "name": "stderr",
     "output_type": "stream",
     "text": [
      "Epoch 340/500 - Training: 100%|██████████| 245/245 [00:23<00:00, 10.51it/s]\n"
     ]
    },
    {
     "name": "stdout",
     "output_type": "stream",
     "text": [
      "Epoch 340: Train Loss = 0.0428, Val Loss = 2.9001, Val Accuracy = 63.07%, Precision = 0.60, Recall = 0.63, F1 = 0.61\n"
     ]
    },
    {
     "name": "stderr",
     "output_type": "stream",
     "text": [
      "Epoch 341/500 - Training: 100%|██████████| 245/245 [00:23<00:00, 10.40it/s]\n"
     ]
    },
    {
     "name": "stdout",
     "output_type": "stream",
     "text": [
      "Epoch 341: Train Loss = 0.0564, Val Loss = 3.0134, Val Accuracy = 60.35%, Precision = 0.57, Recall = 0.60, F1 = 0.57\n"
     ]
    },
    {
     "name": "stderr",
     "output_type": "stream",
     "text": [
      "Epoch 342/500 - Training: 100%|██████████| 245/245 [00:23<00:00, 10.44it/s]\n"
     ]
    },
    {
     "name": "stdout",
     "output_type": "stream",
     "text": [
      "Epoch 342: Train Loss = 0.2098, Val Loss = 2.0166, Val Accuracy = 63.44%, Precision = 0.62, Recall = 0.63, F1 = 0.62\n"
     ]
    },
    {
     "name": "stderr",
     "output_type": "stream",
     "text": [
      "Epoch 343/500 - Training: 100%|██████████| 245/245 [00:21<00:00, 11.63it/s]\n"
     ]
    },
    {
     "name": "stdout",
     "output_type": "stream",
     "text": [
      "Epoch 343: Train Loss = 0.1017, Val Loss = 2.3170, Val Accuracy = 61.96%, Precision = 0.61, Recall = 0.62, F1 = 0.61\n"
     ]
    },
    {
     "name": "stderr",
     "output_type": "stream",
     "text": [
      "Epoch 344/500 - Training: 100%|██████████| 245/245 [00:23<00:00, 10.39it/s]\n"
     ]
    },
    {
     "name": "stdout",
     "output_type": "stream",
     "text": [
      "Epoch 344: Train Loss = 0.0557, Val Loss = 2.7855, Val Accuracy = 63.32%, Precision = 0.61, Recall = 0.63, F1 = 0.61\n"
     ]
    },
    {
     "name": "stderr",
     "output_type": "stream",
     "text": [
      "Epoch 345/500 - Training: 100%|██████████| 245/245 [00:23<00:00, 10.34it/s]\n"
     ]
    },
    {
     "name": "stdout",
     "output_type": "stream",
     "text": [
      "Epoch 345: Train Loss = 0.0427, Val Loss = 2.8939, Val Accuracy = 62.70%, Precision = 0.59, Recall = 0.63, F1 = 0.60\n"
     ]
    },
    {
     "name": "stderr",
     "output_type": "stream",
     "text": [
      "Epoch 346/500 - Training: 100%|██████████| 245/245 [00:23<00:00, 10.24it/s]\n"
     ]
    },
    {
     "name": "stdout",
     "output_type": "stream",
     "text": [
      "Epoch 346: Train Loss = 0.0699, Val Loss = 2.1518, Val Accuracy = 64.56%, Precision = 0.61, Recall = 0.65, F1 = 0.62\n"
     ]
    },
    {
     "name": "stderr",
     "output_type": "stream",
     "text": [
      "Epoch 347/500 - Training: 100%|██████████| 245/245 [00:21<00:00, 11.23it/s]\n"
     ]
    },
    {
     "name": "stdout",
     "output_type": "stream",
     "text": [
      "Epoch 347: Train Loss = 0.0434, Val Loss = 2.9535, Val Accuracy = 58.49%, Precision = 0.60, Recall = 0.58, F1 = 0.59\n"
     ]
    },
    {
     "name": "stderr",
     "output_type": "stream",
     "text": [
      "Epoch 348/500 - Training: 100%|██████████| 245/245 [00:24<00:00, 10.02it/s]\n"
     ]
    },
    {
     "name": "stdout",
     "output_type": "stream",
     "text": [
      "Epoch 348: Train Loss = 0.0706, Val Loss = 2.7080, Val Accuracy = 62.58%, Precision = 0.61, Recall = 0.63, F1 = 0.61\n"
     ]
    },
    {
     "name": "stderr",
     "output_type": "stream",
     "text": [
      "Epoch 349/500 - Training: 100%|██████████| 245/245 [00:24<00:00,  9.98it/s]\n"
     ]
    },
    {
     "name": "stdout",
     "output_type": "stream",
     "text": [
      "Epoch 349: Train Loss = 0.0453, Val Loss = 2.9548, Val Accuracy = 63.07%, Precision = 0.59, Recall = 0.63, F1 = 0.60\n"
     ]
    },
    {
     "name": "stderr",
     "output_type": "stream",
     "text": [
      "Epoch 350/500 - Training: 100%|██████████| 245/245 [00:25<00:00,  9.72it/s]\n"
     ]
    },
    {
     "name": "stdout",
     "output_type": "stream",
     "text": [
      "Epoch 350: Train Loss = 0.0341, Val Loss = 3.2317, Val Accuracy = 63.82%, Precision = 0.61, Recall = 0.64, F1 = 0.62\n"
     ]
    },
    {
     "name": "stderr",
     "output_type": "stream",
     "text": [
      "Epoch 351/500 - Training: 100%|██████████| 245/245 [00:22<00:00, 10.76it/s]\n"
     ]
    },
    {
     "name": "stdout",
     "output_type": "stream",
     "text": [
      "Epoch 351: Train Loss = 0.0408, Val Loss = 3.1025, Val Accuracy = 63.20%, Precision = 0.59, Recall = 0.63, F1 = 0.60\n"
     ]
    },
    {
     "name": "stderr",
     "output_type": "stream",
     "text": [
      "Epoch 352/500 - Training: 100%|██████████| 245/245 [00:23<00:00, 10.40it/s]\n"
     ]
    },
    {
     "name": "stdout",
     "output_type": "stream",
     "text": [
      "Epoch 352: Train Loss = 0.0441, Val Loss = 2.8726, Val Accuracy = 64.56%, Precision = 0.62, Recall = 0.65, F1 = 0.62\n"
     ]
    },
    {
     "name": "stderr",
     "output_type": "stream",
     "text": [
      "Epoch 353/500 - Training: 100%|██████████| 245/245 [00:23<00:00, 10.27it/s]\n"
     ]
    },
    {
     "name": "stdout",
     "output_type": "stream",
     "text": [
      "Epoch 353: Train Loss = 0.1017, Val Loss = 2.2552, Val Accuracy = 63.07%, Precision = 0.61, Recall = 0.63, F1 = 0.61\n"
     ]
    },
    {
     "name": "stderr",
     "output_type": "stream",
     "text": [
      "Epoch 354/500 - Training: 100%|██████████| 245/245 [00:23<00:00, 10.36it/s]\n"
     ]
    },
    {
     "name": "stdout",
     "output_type": "stream",
     "text": [
      "Epoch 354: Train Loss = 0.0942, Val Loss = 2.2375, Val Accuracy = 62.45%, Precision = 0.59, Recall = 0.62, F1 = 0.60\n"
     ]
    },
    {
     "name": "stderr",
     "output_type": "stream",
     "text": [
      "Epoch 355/500 - Training: 100%|██████████| 245/245 [00:21<00:00, 11.34it/s]\n"
     ]
    },
    {
     "name": "stdout",
     "output_type": "stream",
     "text": [
      "Epoch 355: Train Loss = 0.0409, Val Loss = 2.7388, Val Accuracy = 62.45%, Precision = 0.58, Recall = 0.62, F1 = 0.60\n"
     ]
    },
    {
     "name": "stderr",
     "output_type": "stream",
     "text": [
      "Epoch 356/500 - Training: 100%|██████████| 245/245 [00:24<00:00, 10.06it/s]\n"
     ]
    },
    {
     "name": "stdout",
     "output_type": "stream",
     "text": [
      "Epoch 356: Train Loss = 0.0331, Val Loss = 2.9677, Val Accuracy = 65.30%, Precision = 0.62, Recall = 0.65, F1 = 0.63\n"
     ]
    },
    {
     "name": "stderr",
     "output_type": "stream",
     "text": [
      "Epoch 357/500 - Training: 100%|██████████| 245/245 [00:24<00:00, 10.03it/s]\n"
     ]
    },
    {
     "name": "stdout",
     "output_type": "stream",
     "text": [
      "Epoch 357: Train Loss = 0.0242, Val Loss = 3.1095, Val Accuracy = 60.22%, Precision = 0.59, Recall = 0.60, F1 = 0.59\n"
     ]
    },
    {
     "name": "stderr",
     "output_type": "stream",
     "text": [
      "Epoch 358/500 - Training: 100%|██████████| 245/245 [00:23<00:00, 10.44it/s]\n"
     ]
    },
    {
     "name": "stdout",
     "output_type": "stream",
     "text": [
      "Epoch 358: Train Loss = 0.0437, Val Loss = 2.7352, Val Accuracy = 62.70%, Precision = 0.59, Recall = 0.63, F1 = 0.60\n"
     ]
    },
    {
     "name": "stderr",
     "output_type": "stream",
     "text": [
      "Epoch 359/500 - Training: 100%|██████████| 245/245 [00:21<00:00, 11.25it/s]\n"
     ]
    },
    {
     "name": "stdout",
     "output_type": "stream",
     "text": [
      "Epoch 359: Train Loss = 0.1017, Val Loss = 2.3915, Val Accuracy = 63.94%, Precision = 0.61, Recall = 0.64, F1 = 0.62\n"
     ]
    },
    {
     "name": "stderr",
     "output_type": "stream",
     "text": [
      "Epoch 360/500 - Training: 100%|██████████| 245/245 [00:23<00:00, 10.26it/s]\n"
     ]
    },
    {
     "name": "stdout",
     "output_type": "stream",
     "text": [
      "Epoch 360: Train Loss = 0.0465, Val Loss = 2.8519, Val Accuracy = 64.44%, Precision = 0.60, Recall = 0.64, F1 = 0.61\n"
     ]
    },
    {
     "name": "stderr",
     "output_type": "stream",
     "text": [
      "Epoch 361/500 - Training: 100%|██████████| 245/245 [00:23<00:00, 10.42it/s]\n"
     ]
    },
    {
     "name": "stdout",
     "output_type": "stream",
     "text": [
      "Epoch 361: Train Loss = 0.0490, Val Loss = 3.3657, Val Accuracy = 63.82%, Precision = 0.60, Recall = 0.64, F1 = 0.61\n"
     ]
    },
    {
     "name": "stderr",
     "output_type": "stream",
     "text": [
      "Epoch 362/500 - Training: 100%|██████████| 245/245 [00:23<00:00, 10.56it/s]\n"
     ]
    },
    {
     "name": "stdout",
     "output_type": "stream",
     "text": [
      "Epoch 362: Train Loss = 0.0419, Val Loss = 3.2589, Val Accuracy = 64.44%, Precision = 0.61, Recall = 0.64, F1 = 0.62\n"
     ]
    },
    {
     "name": "stderr",
     "output_type": "stream",
     "text": [
      "Epoch 363/500 - Training: 100%|██████████| 245/245 [00:25<00:00,  9.61it/s]\n"
     ]
    },
    {
     "name": "stdout",
     "output_type": "stream",
     "text": [
      "Epoch 363: Train Loss = 0.0381, Val Loss = 3.3614, Val Accuracy = 61.34%, Precision = 0.58, Recall = 0.61, F1 = 0.59\n"
     ]
    },
    {
     "name": "stderr",
     "output_type": "stream",
     "text": [
      "Epoch 364/500 - Training: 100%|██████████| 245/245 [00:24<00:00, 10.19it/s]\n"
     ]
    },
    {
     "name": "stdout",
     "output_type": "stream",
     "text": [
      "Epoch 364: Train Loss = 0.0648, Val Loss = 2.7460, Val Accuracy = 63.20%, Precision = 0.59, Recall = 0.63, F1 = 0.60\n"
     ]
    },
    {
     "name": "stderr",
     "output_type": "stream",
     "text": [
      "Epoch 365/500 - Training: 100%|██████████| 245/245 [00:23<00:00, 10.40it/s]\n"
     ]
    },
    {
     "name": "stdout",
     "output_type": "stream",
     "text": [
      "Epoch 365: Train Loss = 0.0423, Val Loss = 3.3522, Val Accuracy = 62.70%, Precision = 0.60, Recall = 0.63, F1 = 0.61\n"
     ]
    },
    {
     "name": "stderr",
     "output_type": "stream",
     "text": [
      "Epoch 366/500 - Training: 100%|██████████| 245/245 [00:21<00:00, 11.38it/s]\n"
     ]
    },
    {
     "name": "stdout",
     "output_type": "stream",
     "text": [
      "Epoch 366: Train Loss = 0.0589, Val Loss = 2.9075, Val Accuracy = 61.96%, Precision = 0.59, Recall = 0.62, F1 = 0.60\n"
     ]
    },
    {
     "name": "stderr",
     "output_type": "stream",
     "text": [
      "Epoch 367/500 - Training: 100%|██████████| 245/245 [00:23<00:00, 10.53it/s]\n"
     ]
    },
    {
     "name": "stdout",
     "output_type": "stream",
     "text": [
      "Epoch 367: Train Loss = 0.0530, Val Loss = 2.7355, Val Accuracy = 63.44%, Precision = 0.60, Recall = 0.63, F1 = 0.60\n"
     ]
    },
    {
     "name": "stderr",
     "output_type": "stream",
     "text": [
      "Epoch 368/500 - Training: 100%|██████████| 245/245 [00:23<00:00, 10.33it/s]\n"
     ]
    },
    {
     "name": "stdout",
     "output_type": "stream",
     "text": [
      "Epoch 368: Train Loss = 0.0448, Val Loss = 3.0539, Val Accuracy = 62.21%, Precision = 0.58, Recall = 0.62, F1 = 0.59\n"
     ]
    },
    {
     "name": "stderr",
     "output_type": "stream",
     "text": [
      "Epoch 369/500 - Training: 100%|██████████| 245/245 [00:23<00:00, 10.39it/s]\n"
     ]
    },
    {
     "name": "stdout",
     "output_type": "stream",
     "text": [
      "Epoch 369: Train Loss = 0.0405, Val Loss = 2.9975, Val Accuracy = 63.32%, Precision = 0.62, Recall = 0.63, F1 = 0.62\n"
     ]
    },
    {
     "name": "stderr",
     "output_type": "stream",
     "text": [
      "Epoch 370/500 - Training: 100%|██████████| 245/245 [00:21<00:00, 11.21it/s]\n"
     ]
    },
    {
     "name": "stdout",
     "output_type": "stream",
     "text": [
      "Epoch 370: Train Loss = 0.0331, Val Loss = 3.5342, Val Accuracy = 62.58%, Precision = 0.59, Recall = 0.63, F1 = 0.60\n"
     ]
    },
    {
     "name": "stderr",
     "output_type": "stream",
     "text": [
      "Epoch 371/500 - Training: 100%|██████████| 245/245 [00:23<00:00, 10.24it/s]\n"
     ]
    },
    {
     "name": "stdout",
     "output_type": "stream",
     "text": [
      "Epoch 371: Train Loss = 0.0527, Val Loss = 2.9769, Val Accuracy = 65.43%, Precision = 0.62, Recall = 0.65, F1 = 0.63\n"
     ]
    },
    {
     "name": "stderr",
     "output_type": "stream",
     "text": [
      "Epoch 372/500 - Training: 100%|██████████| 245/245 [00:23<00:00, 10.28it/s]\n"
     ]
    },
    {
     "name": "stdout",
     "output_type": "stream",
     "text": [
      "Epoch 372: Train Loss = 0.0493, Val Loss = 2.9535, Val Accuracy = 63.20%, Precision = 0.60, Recall = 0.63, F1 = 0.61\n"
     ]
    },
    {
     "name": "stderr",
     "output_type": "stream",
     "text": [
      "Epoch 373/500 - Training: 100%|██████████| 245/245 [00:23<00:00, 10.29it/s]\n"
     ]
    },
    {
     "name": "stdout",
     "output_type": "stream",
     "text": [
      "Epoch 373: Train Loss = 0.0360, Val Loss = 3.3561, Val Accuracy = 62.21%, Precision = 0.60, Recall = 0.62, F1 = 0.61\n"
     ]
    },
    {
     "name": "stderr",
     "output_type": "stream",
     "text": [
      "Epoch 374/500 - Training: 100%|██████████| 245/245 [00:22<00:00, 10.79it/s]\n"
     ]
    },
    {
     "name": "stdout",
     "output_type": "stream",
     "text": [
      "Epoch 374: Train Loss = 0.0499, Val Loss = 2.8102, Val Accuracy = 60.84%, Precision = 0.59, Recall = 0.61, F1 = 0.60\n"
     ]
    },
    {
     "name": "stderr",
     "output_type": "stream",
     "text": [
      "Epoch 375/500 - Training: 100%|██████████| 245/245 [00:23<00:00, 10.30it/s]\n"
     ]
    },
    {
     "name": "stdout",
     "output_type": "stream",
     "text": [
      "Epoch 375: Train Loss = 0.0421, Val Loss = 3.1956, Val Accuracy = 62.45%, Precision = 0.58, Recall = 0.62, F1 = 0.59\n"
     ]
    },
    {
     "name": "stderr",
     "output_type": "stream",
     "text": [
      "Epoch 376/500 - Training: 100%|██████████| 245/245 [00:23<00:00, 10.42it/s]\n"
     ]
    },
    {
     "name": "stdout",
     "output_type": "stream",
     "text": [
      "Epoch 376: Train Loss = 0.0690, Val Loss = 2.7034, Val Accuracy = 62.33%, Precision = 0.60, Recall = 0.62, F1 = 0.60\n"
     ]
    },
    {
     "name": "stderr",
     "output_type": "stream",
     "text": [
      "Epoch 377/500 - Training: 100%|██████████| 245/245 [00:21<00:00, 11.18it/s]\n"
     ]
    },
    {
     "name": "stdout",
     "output_type": "stream",
     "text": [
      "Epoch 377: Train Loss = 0.0479, Val Loss = 2.7295, Val Accuracy = 63.94%, Precision = 0.61, Recall = 0.64, F1 = 0.62\n"
     ]
    },
    {
     "name": "stderr",
     "output_type": "stream",
     "text": [
      "Epoch 378/500 - Training: 100%|██████████| 245/245 [00:22<00:00, 10.84it/s]\n"
     ]
    },
    {
     "name": "stdout",
     "output_type": "stream",
     "text": [
      "Epoch 378: Train Loss = 0.0449, Val Loss = 2.8436, Val Accuracy = 63.07%, Precision = 0.60, Recall = 0.63, F1 = 0.60\n"
     ]
    },
    {
     "name": "stderr",
     "output_type": "stream",
     "text": [
      "Epoch 379/500 - Training: 100%|██████████| 245/245 [00:23<00:00, 10.40it/s]\n"
     ]
    },
    {
     "name": "stdout",
     "output_type": "stream",
     "text": [
      "Epoch 379: Train Loss = 0.0564, Val Loss = 2.7438, Val Accuracy = 61.46%, Precision = 0.60, Recall = 0.61, F1 = 0.60\n"
     ]
    },
    {
     "name": "stderr",
     "output_type": "stream",
     "text": [
      "Epoch 380/500 - Training: 100%|██████████| 245/245 [00:23<00:00, 10.35it/s]\n"
     ]
    },
    {
     "name": "stdout",
     "output_type": "stream",
     "text": [
      "Epoch 380: Train Loss = 0.0667, Val Loss = 2.8097, Val Accuracy = 64.19%, Precision = 0.61, Recall = 0.64, F1 = 0.62\n"
     ]
    },
    {
     "name": "stderr",
     "output_type": "stream",
     "text": [
      "Epoch 381/500 - Training: 100%|██████████| 245/245 [00:21<00:00, 11.38it/s]\n"
     ]
    },
    {
     "name": "stdout",
     "output_type": "stream",
     "text": [
      "Epoch 381: Train Loss = 0.0461, Val Loss = 2.8445, Val Accuracy = 62.83%, Precision = 0.60, Recall = 0.63, F1 = 0.61\n"
     ]
    },
    {
     "name": "stderr",
     "output_type": "stream",
     "text": [
      "Epoch 382/500 - Training: 100%|██████████| 245/245 [00:23<00:00, 10.27it/s]\n"
     ]
    },
    {
     "name": "stdout",
     "output_type": "stream",
     "text": [
      "Epoch 382: Train Loss = 0.0400, Val Loss = 3.0213, Val Accuracy = 63.20%, Precision = 0.60, Recall = 0.63, F1 = 0.61\n"
     ]
    },
    {
     "name": "stderr",
     "output_type": "stream",
     "text": [
      "Epoch 383/500 - Training: 100%|██████████| 245/245 [00:23<00:00, 10.27it/s]\n"
     ]
    },
    {
     "name": "stdout",
     "output_type": "stream",
     "text": [
      "Epoch 383: Train Loss = 0.0343, Val Loss = 2.9974, Val Accuracy = 64.56%, Precision = 0.61, Recall = 0.65, F1 = 0.62\n"
     ]
    },
    {
     "name": "stderr",
     "output_type": "stream",
     "text": [
      "Epoch 384/500 - Training: 100%|██████████| 245/245 [00:23<00:00, 10.44it/s]\n"
     ]
    },
    {
     "name": "stdout",
     "output_type": "stream",
     "text": [
      "Epoch 384: Train Loss = 0.0528, Val Loss = 3.0673, Val Accuracy = 63.44%, Precision = 0.59, Recall = 0.63, F1 = 0.60\n"
     ]
    },
    {
     "name": "stderr",
     "output_type": "stream",
     "text": [
      "Epoch 385/500 - Training: 100%|██████████| 245/245 [00:21<00:00, 11.48it/s]\n"
     ]
    },
    {
     "name": "stdout",
     "output_type": "stream",
     "text": [
      "Epoch 385: Train Loss = 0.0655, Val Loss = 2.6650, Val Accuracy = 59.60%, Precision = 0.60, Recall = 0.60, F1 = 0.60\n"
     ]
    },
    {
     "name": "stderr",
     "output_type": "stream",
     "text": [
      "Epoch 386/500 - Training: 100%|██████████| 245/245 [00:23<00:00, 10.33it/s]\n"
     ]
    },
    {
     "name": "stdout",
     "output_type": "stream",
     "text": [
      "Epoch 386: Train Loss = 0.0536, Val Loss = 2.8485, Val Accuracy = 63.94%, Precision = 0.61, Recall = 0.64, F1 = 0.61\n"
     ]
    },
    {
     "name": "stderr",
     "output_type": "stream",
     "text": [
      "Epoch 387/500 - Training: 100%|██████████| 245/245 [00:24<00:00, 10.09it/s]\n"
     ]
    },
    {
     "name": "stdout",
     "output_type": "stream",
     "text": [
      "Epoch 387: Train Loss = 0.0472, Val Loss = 3.0555, Val Accuracy = 64.19%, Precision = 0.61, Recall = 0.64, F1 = 0.62\n"
     ]
    },
    {
     "name": "stderr",
     "output_type": "stream",
     "text": [
      "Epoch 388/500 - Training: 100%|██████████| 245/245 [00:24<00:00, 10.09it/s]\n"
     ]
    },
    {
     "name": "stdout",
     "output_type": "stream",
     "text": [
      "Epoch 388: Train Loss = 0.0804, Val Loss = 2.3989, Val Accuracy = 62.45%, Precision = 0.60, Recall = 0.62, F1 = 0.61\n"
     ]
    },
    {
     "name": "stderr",
     "output_type": "stream",
     "text": [
      "Epoch 389/500 - Training: 100%|██████████| 245/245 [00:20<00:00, 11.67it/s]\n"
     ]
    },
    {
     "name": "stdout",
     "output_type": "stream",
     "text": [
      "Epoch 389: Train Loss = 0.1251, Val Loss = 1.9001, Val Accuracy = 61.71%, Precision = 0.58, Recall = 0.62, F1 = 0.59\n"
     ]
    },
    {
     "name": "stderr",
     "output_type": "stream",
     "text": [
      "Epoch 390/500 - Training: 100%|██████████| 245/245 [00:24<00:00,  9.91it/s]\n"
     ]
    },
    {
     "name": "stdout",
     "output_type": "stream",
     "text": [
      "Epoch 390: Train Loss = 0.1581, Val Loss = 2.2969, Val Accuracy = 61.83%, Precision = 0.59, Recall = 0.62, F1 = 0.60\n"
     ]
    },
    {
     "name": "stderr",
     "output_type": "stream",
     "text": [
      "Epoch 391/500 - Training: 100%|██████████| 245/245 [00:25<00:00,  9.62it/s]\n"
     ]
    },
    {
     "name": "stdout",
     "output_type": "stream",
     "text": [
      "Epoch 391: Train Loss = 0.0776, Val Loss = 2.7397, Val Accuracy = 60.35%, Precision = 0.58, Recall = 0.60, F1 = 0.59\n"
     ]
    },
    {
     "name": "stderr",
     "output_type": "stream",
     "text": [
      "Epoch 392/500 - Training: 100%|██████████| 245/245 [00:22<00:00, 10.72it/s]\n"
     ]
    },
    {
     "name": "stdout",
     "output_type": "stream",
     "text": [
      "Epoch 392: Train Loss = 0.0573, Val Loss = 2.4530, Val Accuracy = 61.34%, Precision = 0.59, Recall = 0.61, F1 = 0.60\n"
     ]
    },
    {
     "name": "stderr",
     "output_type": "stream",
     "text": [
      "Epoch 393/500 - Training: 100%|██████████| 245/245 [00:22<00:00, 11.12it/s]\n"
     ]
    },
    {
     "name": "stdout",
     "output_type": "stream",
     "text": [
      "Epoch 393: Train Loss = 0.1100, Val Loss = 2.7282, Val Accuracy = 61.21%, Precision = 0.59, Recall = 0.61, F1 = 0.60\n"
     ]
    },
    {
     "name": "stderr",
     "output_type": "stream",
     "text": [
      "Epoch 394/500 - Training: 100%|██████████| 245/245 [00:23<00:00, 10.22it/s]\n"
     ]
    },
    {
     "name": "stdout",
     "output_type": "stream",
     "text": [
      "Epoch 394: Train Loss = 0.0461, Val Loss = 3.1276, Val Accuracy = 62.21%, Precision = 0.58, Recall = 0.62, F1 = 0.60\n"
     ]
    },
    {
     "name": "stderr",
     "output_type": "stream",
     "text": [
      "Epoch 395/500 - Training: 100%|██████████| 245/245 [00:24<00:00, 10.19it/s]\n"
     ]
    },
    {
     "name": "stdout",
     "output_type": "stream",
     "text": [
      "Epoch 395: Train Loss = 0.0304, Val Loss = 3.6537, Val Accuracy = 62.83%, Precision = 0.59, Recall = 0.63, F1 = 0.60\n"
     ]
    },
    {
     "name": "stderr",
     "output_type": "stream",
     "text": [
      "Epoch 396/500 - Training: 100%|██████████| 245/245 [00:22<00:00, 10.97it/s]\n"
     ]
    },
    {
     "name": "stdout",
     "output_type": "stream",
     "text": [
      "Epoch 396: Train Loss = 0.0405, Val Loss = 3.3866, Val Accuracy = 63.44%, Precision = 0.60, Recall = 0.63, F1 = 0.61\n"
     ]
    },
    {
     "name": "stderr",
     "output_type": "stream",
     "text": [
      "Epoch 397/500 - Training: 100%|██████████| 245/245 [00:23<00:00, 10.24it/s]\n"
     ]
    },
    {
     "name": "stdout",
     "output_type": "stream",
     "text": [
      "Epoch 397: Train Loss = 0.0275, Val Loss = 3.5569, Val Accuracy = 64.68%, Precision = 0.61, Recall = 0.65, F1 = 0.62\n"
     ]
    },
    {
     "name": "stderr",
     "output_type": "stream",
     "text": [
      "Epoch 398/500 - Training: 100%|██████████| 245/245 [00:24<00:00, 10.14it/s]\n"
     ]
    },
    {
     "name": "stdout",
     "output_type": "stream",
     "text": [
      "Epoch 398: Train Loss = 0.0304, Val Loss = 3.7896, Val Accuracy = 61.96%, Precision = 0.58, Recall = 0.62, F1 = 0.59\n"
     ]
    },
    {
     "name": "stderr",
     "output_type": "stream",
     "text": [
      "Epoch 399/500 - Training: 100%|██████████| 245/245 [00:24<00:00,  9.98it/s]\n"
     ]
    },
    {
     "name": "stdout",
     "output_type": "stream",
     "text": [
      "Epoch 399: Train Loss = 0.0434, Val Loss = 3.3597, Val Accuracy = 62.58%, Precision = 0.59, Recall = 0.63, F1 = 0.60\n"
     ]
    },
    {
     "name": "stderr",
     "output_type": "stream",
     "text": [
      "Epoch 400/500 - Training: 100%|██████████| 245/245 [00:21<00:00, 11.33it/s]\n"
     ]
    },
    {
     "name": "stdout",
     "output_type": "stream",
     "text": [
      "Epoch 400: Train Loss = 0.0358, Val Loss = 3.2798, Val Accuracy = 61.71%, Precision = 0.60, Recall = 0.62, F1 = 0.61\n"
     ]
    },
    {
     "name": "stderr",
     "output_type": "stream",
     "text": [
      "Epoch 401/500 - Training: 100%|██████████| 245/245 [00:23<00:00, 10.33it/s]\n"
     ]
    },
    {
     "name": "stdout",
     "output_type": "stream",
     "text": [
      "Epoch 401: Train Loss = 0.0292, Val Loss = 3.5842, Val Accuracy = 63.20%, Precision = 0.61, Recall = 0.63, F1 = 0.61\n"
     ]
    },
    {
     "name": "stderr",
     "output_type": "stream",
     "text": [
      "Epoch 402/500 - Training: 100%|██████████| 245/245 [00:23<00:00, 10.24it/s]\n"
     ]
    },
    {
     "name": "stdout",
     "output_type": "stream",
     "text": [
      "Epoch 402: Train Loss = 0.0320, Val Loss = 3.2197, Val Accuracy = 58.61%, Precision = 0.58, Recall = 0.59, F1 = 0.58\n"
     ]
    },
    {
     "name": "stderr",
     "output_type": "stream",
     "text": [
      "Epoch 403/500 - Training: 100%|██████████| 245/245 [00:23<00:00, 10.30it/s]\n"
     ]
    },
    {
     "name": "stdout",
     "output_type": "stream",
     "text": [
      "Epoch 403: Train Loss = 0.0667, Val Loss = 3.0847, Val Accuracy = 63.82%, Precision = 0.60, Recall = 0.64, F1 = 0.61\n"
     ]
    },
    {
     "name": "stderr",
     "output_type": "stream",
     "text": [
      "Epoch 404/500 - Training: 100%|██████████| 245/245 [00:20<00:00, 11.82it/s]\n"
     ]
    },
    {
     "name": "stdout",
     "output_type": "stream",
     "text": [
      "Epoch 404: Train Loss = 0.0396, Val Loss = 3.2023, Val Accuracy = 63.57%, Precision = 0.61, Recall = 0.64, F1 = 0.62\n"
     ]
    },
    {
     "name": "stderr",
     "output_type": "stream",
     "text": [
      "Epoch 405/500 - Training: 100%|██████████| 245/245 [00:23<00:00, 10.22it/s]\n"
     ]
    },
    {
     "name": "stdout",
     "output_type": "stream",
     "text": [
      "Epoch 405: Train Loss = 0.0310, Val Loss = 3.9197, Val Accuracy = 60.22%, Precision = 0.58, Recall = 0.60, F1 = 0.59\n"
     ]
    },
    {
     "name": "stderr",
     "output_type": "stream",
     "text": [
      "Epoch 406/500 - Training: 100%|██████████| 245/245 [00:25<00:00,  9.75it/s]\n"
     ]
    },
    {
     "name": "stdout",
     "output_type": "stream",
     "text": [
      "Epoch 406: Train Loss = 0.0344, Val Loss = 3.3402, Val Accuracy = 62.83%, Precision = 0.60, Recall = 0.63, F1 = 0.61\n"
     ]
    },
    {
     "name": "stderr",
     "output_type": "stream",
     "text": [
      "Epoch 407/500 - Training: 100%|██████████| 245/245 [00:24<00:00,  9.87it/s]\n"
     ]
    },
    {
     "name": "stdout",
     "output_type": "stream",
     "text": [
      "Epoch 407: Train Loss = 0.0297, Val Loss = 4.0409, Val Accuracy = 62.45%, Precision = 0.59, Recall = 0.62, F1 = 0.60\n"
     ]
    },
    {
     "name": "stderr",
     "output_type": "stream",
     "text": [
      "Epoch 408/500 - Training: 100%|██████████| 245/245 [00:21<00:00, 11.30it/s]\n"
     ]
    },
    {
     "name": "stdout",
     "output_type": "stream",
     "text": [
      "Epoch 408: Train Loss = 0.1278, Val Loss = 2.0470, Val Accuracy = 64.31%, Precision = 0.60, Recall = 0.64, F1 = 0.61\n"
     ]
    },
    {
     "name": "stderr",
     "output_type": "stream",
     "text": [
      "Epoch 409/500 - Training: 100%|██████████| 245/245 [00:23<00:00, 10.47it/s]\n"
     ]
    },
    {
     "name": "stdout",
     "output_type": "stream",
     "text": [
      "Epoch 409: Train Loss = 0.1054, Val Loss = 2.3171, Val Accuracy = 62.21%, Precision = 0.60, Recall = 0.62, F1 = 0.61\n"
     ]
    },
    {
     "name": "stderr",
     "output_type": "stream",
     "text": [
      "Epoch 410/500 - Training: 100%|██████████| 245/245 [00:23<00:00, 10.31it/s]\n"
     ]
    },
    {
     "name": "stdout",
     "output_type": "stream",
     "text": [
      "Epoch 410: Train Loss = 0.0471, Val Loss = 2.8745, Val Accuracy = 62.33%, Precision = 0.60, Recall = 0.62, F1 = 0.60\n"
     ]
    },
    {
     "name": "stderr",
     "output_type": "stream",
     "text": [
      "Epoch 411/500 - Training: 100%|██████████| 245/245 [00:22<00:00, 10.88it/s]\n"
     ]
    },
    {
     "name": "stdout",
     "output_type": "stream",
     "text": [
      "Epoch 411: Train Loss = 0.0333, Val Loss = 3.2637, Val Accuracy = 63.94%, Precision = 0.61, Recall = 0.64, F1 = 0.61\n"
     ]
    },
    {
     "name": "stderr",
     "output_type": "stream",
     "text": [
      "Epoch 412/500 - Training: 100%|██████████| 245/245 [00:23<00:00, 10.59it/s]\n"
     ]
    },
    {
     "name": "stdout",
     "output_type": "stream",
     "text": [
      "Epoch 412: Train Loss = 0.0339, Val Loss = 3.3327, Val Accuracy = 63.32%, Precision = 0.60, Recall = 0.63, F1 = 0.60\n"
     ]
    },
    {
     "name": "stderr",
     "output_type": "stream",
     "text": [
      "Epoch 413/500 - Training: 100%|██████████| 245/245 [00:23<00:00, 10.33it/s]\n"
     ]
    },
    {
     "name": "stdout",
     "output_type": "stream",
     "text": [
      "Epoch 413: Train Loss = 0.0389, Val Loss = 3.1637, Val Accuracy = 63.20%, Precision = 0.61, Recall = 0.63, F1 = 0.61\n"
     ]
    },
    {
     "name": "stderr",
     "output_type": "stream",
     "text": [
      "Epoch 414/500 - Training: 100%|██████████| 245/245 [00:23<00:00, 10.36it/s]\n"
     ]
    },
    {
     "name": "stdout",
     "output_type": "stream",
     "text": [
      "Epoch 414: Train Loss = 0.0303, Val Loss = 3.2454, Val Accuracy = 64.68%, Precision = 0.62, Recall = 0.65, F1 = 0.63\n"
     ]
    },
    {
     "name": "stderr",
     "output_type": "stream",
     "text": [
      "Epoch 415/500 - Training: 100%|██████████| 245/245 [00:21<00:00, 11.39it/s]\n"
     ]
    },
    {
     "name": "stdout",
     "output_type": "stream",
     "text": [
      "Epoch 415: Train Loss = 0.0488, Val Loss = 3.0464, Val Accuracy = 64.93%, Precision = 0.61, Recall = 0.65, F1 = 0.62\n"
     ]
    },
    {
     "name": "stderr",
     "output_type": "stream",
     "text": [
      "Epoch 416/500 - Training: 100%|██████████| 245/245 [00:24<00:00, 10.13it/s]\n"
     ]
    },
    {
     "name": "stdout",
     "output_type": "stream",
     "text": [
      "Epoch 416: Train Loss = 0.0370, Val Loss = 3.2125, Val Accuracy = 63.07%, Precision = 0.60, Recall = 0.63, F1 = 0.61\n"
     ]
    },
    {
     "name": "stderr",
     "output_type": "stream",
     "text": [
      "Epoch 417/500 - Training: 100%|██████████| 245/245 [00:24<00:00, 10.13it/s]\n"
     ]
    },
    {
     "name": "stdout",
     "output_type": "stream",
     "text": [
      "Epoch 417: Train Loss = 0.0270, Val Loss = 3.5886, Val Accuracy = 61.34%, Precision = 0.59, Recall = 0.61, F1 = 0.60\n"
     ]
    },
    {
     "name": "stderr",
     "output_type": "stream",
     "text": [
      "Epoch 418/500 - Training: 100%|██████████| 245/245 [00:24<00:00, 10.13it/s]\n"
     ]
    },
    {
     "name": "stdout",
     "output_type": "stream",
     "text": [
      "Epoch 418: Train Loss = 0.0307, Val Loss = 3.8496, Val Accuracy = 62.95%, Precision = 0.59, Recall = 0.63, F1 = 0.60\n"
     ]
    },
    {
     "name": "stderr",
     "output_type": "stream",
     "text": [
      "Epoch 419/500 - Training: 100%|██████████| 245/245 [00:21<00:00, 11.35it/s]\n"
     ]
    },
    {
     "name": "stdout",
     "output_type": "stream",
     "text": [
      "Epoch 419: Train Loss = 0.0352, Val Loss = 3.2832, Val Accuracy = 64.44%, Precision = 0.61, Recall = 0.64, F1 = 0.61\n"
     ]
    },
    {
     "name": "stderr",
     "output_type": "stream",
     "text": [
      "Epoch 420/500 - Training: 100%|██████████| 245/245 [00:23<00:00, 10.33it/s]\n"
     ]
    },
    {
     "name": "stdout",
     "output_type": "stream",
     "text": [
      "Epoch 420: Train Loss = 0.0339, Val Loss = 3.2640, Val Accuracy = 61.34%, Precision = 0.59, Recall = 0.61, F1 = 0.60\n"
     ]
    },
    {
     "name": "stderr",
     "output_type": "stream",
     "text": [
      "Epoch 421/500 - Training: 100%|██████████| 245/245 [00:23<00:00, 10.30it/s]\n"
     ]
    },
    {
     "name": "stdout",
     "output_type": "stream",
     "text": [
      "Epoch 421: Train Loss = 0.0416, Val Loss = 3.3020, Val Accuracy = 62.83%, Precision = 0.60, Recall = 0.63, F1 = 0.60\n"
     ]
    },
    {
     "name": "stderr",
     "output_type": "stream",
     "text": [
      "Epoch 422/500 - Training: 100%|██████████| 245/245 [00:24<00:00, 10.09it/s]\n"
     ]
    },
    {
     "name": "stdout",
     "output_type": "stream",
     "text": [
      "Epoch 422: Train Loss = 0.0340, Val Loss = 3.0124, Val Accuracy = 63.94%, Precision = 0.60, Recall = 0.64, F1 = 0.61\n"
     ]
    },
    {
     "name": "stderr",
     "output_type": "stream",
     "text": [
      "Epoch 423/500 - Training: 100%|██████████| 245/245 [00:22<00:00, 10.71it/s]\n"
     ]
    },
    {
     "name": "stdout",
     "output_type": "stream",
     "text": [
      "Epoch 423: Train Loss = 0.0434, Val Loss = 3.1537, Val Accuracy = 63.07%, Precision = 0.61, Recall = 0.63, F1 = 0.61\n"
     ]
    },
    {
     "name": "stderr",
     "output_type": "stream",
     "text": [
      "Epoch 424/500 - Training: 100%|██████████| 245/245 [00:26<00:00,  9.09it/s]\n"
     ]
    },
    {
     "name": "stdout",
     "output_type": "stream",
     "text": [
      "Epoch 424: Train Loss = 0.0307, Val Loss = 3.6572, Val Accuracy = 62.70%, Precision = 0.60, Recall = 0.63, F1 = 0.60\n"
     ]
    },
    {
     "name": "stderr",
     "output_type": "stream",
     "text": [
      "Epoch 425/500 - Training: 100%|██████████| 245/245 [00:26<00:00,  9.36it/s]\n"
     ]
    },
    {
     "name": "stdout",
     "output_type": "stream",
     "text": [
      "Epoch 425: Train Loss = 0.0559, Val Loss = 3.3323, Val Accuracy = 63.20%, Precision = 0.60, Recall = 0.63, F1 = 0.61\n"
     ]
    },
    {
     "name": "stderr",
     "output_type": "stream",
     "text": [
      "Epoch 426/500 - Training: 100%|██████████| 245/245 [00:22<00:00, 10.82it/s]\n"
     ]
    },
    {
     "name": "stdout",
     "output_type": "stream",
     "text": [
      "Epoch 426: Train Loss = 0.0380, Val Loss = 3.3060, Val Accuracy = 63.69%, Precision = 0.61, Recall = 0.64, F1 = 0.62\n"
     ]
    },
    {
     "name": "stderr",
     "output_type": "stream",
     "text": [
      "Epoch 427/500 - Training: 100%|██████████| 245/245 [00:24<00:00, 10.07it/s]\n"
     ]
    },
    {
     "name": "stdout",
     "output_type": "stream",
     "text": [
      "Epoch 427: Train Loss = 0.0511, Val Loss = 3.1891, Val Accuracy = 65.06%, Precision = 0.61, Recall = 0.65, F1 = 0.62\n"
     ]
    },
    {
     "name": "stderr",
     "output_type": "stream",
     "text": [
      "Epoch 428/500 - Training: 100%|██████████| 245/245 [00:24<00:00,  9.83it/s]\n"
     ]
    },
    {
     "name": "stdout",
     "output_type": "stream",
     "text": [
      "Epoch 428: Train Loss = 0.0343, Val Loss = 3.1934, Val Accuracy = 60.84%, Precision = 0.59, Recall = 0.61, F1 = 0.59\n"
     ]
    },
    {
     "name": "stderr",
     "output_type": "stream",
     "text": [
      "Epoch 429/500 - Training: 100%|██████████| 245/245 [00:24<00:00,  9.97it/s]\n"
     ]
    },
    {
     "name": "stdout",
     "output_type": "stream",
     "text": [
      "Epoch 429: Train Loss = 0.0318, Val Loss = 3.0728, Val Accuracy = 62.83%, Precision = 0.60, Recall = 0.63, F1 = 0.61\n"
     ]
    },
    {
     "name": "stderr",
     "output_type": "stream",
     "text": [
      "Epoch 430/500 - Training: 100%|██████████| 245/245 [00:22<00:00, 11.06it/s]\n"
     ]
    },
    {
     "name": "stdout",
     "output_type": "stream",
     "text": [
      "Epoch 430: Train Loss = 0.0465, Val Loss = 2.8182, Val Accuracy = 63.07%, Precision = 0.60, Recall = 0.63, F1 = 0.61\n"
     ]
    },
    {
     "name": "stderr",
     "output_type": "stream",
     "text": [
      "Epoch 431/500 - Training: 100%|██████████| 245/245 [00:24<00:00, 10.20it/s]\n"
     ]
    },
    {
     "name": "stdout",
     "output_type": "stream",
     "text": [
      "Epoch 431: Train Loss = 0.0336, Val Loss = 3.1083, Val Accuracy = 62.21%, Precision = 0.60, Recall = 0.62, F1 = 0.60\n"
     ]
    },
    {
     "name": "stderr",
     "output_type": "stream",
     "text": [
      "Epoch 432/500 - Training: 100%|██████████| 245/245 [00:24<00:00, 10.17it/s]\n"
     ]
    },
    {
     "name": "stdout",
     "output_type": "stream",
     "text": [
      "Epoch 432: Train Loss = 0.0316, Val Loss = 3.2690, Val Accuracy = 64.19%, Precision = 0.60, Recall = 0.64, F1 = 0.61\n"
     ]
    },
    {
     "name": "stderr",
     "output_type": "stream",
     "text": [
      "Epoch 433/500 - Training: 100%|██████████| 245/245 [00:23<00:00, 10.27it/s]\n"
     ]
    },
    {
     "name": "stdout",
     "output_type": "stream",
     "text": [
      "Epoch 433: Train Loss = 0.0601, Val Loss = 2.9717, Val Accuracy = 62.70%, Precision = 0.58, Recall = 0.63, F1 = 0.59\n"
     ]
    },
    {
     "name": "stderr",
     "output_type": "stream",
     "text": [
      "Epoch 434/500 - Training: 100%|██████████| 245/245 [00:20<00:00, 11.88it/s]\n"
     ]
    },
    {
     "name": "stdout",
     "output_type": "stream",
     "text": [
      "Epoch 434: Train Loss = 0.0553, Val Loss = 2.7649, Val Accuracy = 63.69%, Precision = 0.61, Recall = 0.64, F1 = 0.62\n"
     ]
    },
    {
     "name": "stderr",
     "output_type": "stream",
     "text": [
      "Epoch 435/500 - Training: 100%|██████████| 245/245 [00:23<00:00, 10.25it/s]\n"
     ]
    },
    {
     "name": "stdout",
     "output_type": "stream",
     "text": [
      "Epoch 435: Train Loss = 0.0399, Val Loss = 2.6895, Val Accuracy = 63.57%, Precision = 0.61, Recall = 0.64, F1 = 0.62\n"
     ]
    },
    {
     "name": "stderr",
     "output_type": "stream",
     "text": [
      "Epoch 436/500 - Training: 100%|██████████| 245/245 [00:23<00:00, 10.28it/s]\n"
     ]
    },
    {
     "name": "stdout",
     "output_type": "stream",
     "text": [
      "Epoch 436: Train Loss = 0.0423, Val Loss = 2.8043, Val Accuracy = 64.93%, Precision = 0.62, Recall = 0.65, F1 = 0.63\n"
     ]
    },
    {
     "name": "stderr",
     "output_type": "stream",
     "text": [
      "Epoch 437/500 - Training: 100%|██████████| 245/245 [00:22<00:00, 10.78it/s]\n"
     ]
    },
    {
     "name": "stdout",
     "output_type": "stream",
     "text": [
      "Epoch 437: Train Loss = 0.0397, Val Loss = 3.0775, Val Accuracy = 61.34%, Precision = 0.59, Recall = 0.61, F1 = 0.60\n"
     ]
    },
    {
     "name": "stderr",
     "output_type": "stream",
     "text": [
      "Epoch 438/500 - Training: 100%|██████████| 245/245 [00:22<00:00, 10.72it/s]\n"
     ]
    },
    {
     "name": "stdout",
     "output_type": "stream",
     "text": [
      "Epoch 438: Train Loss = 0.0324, Val Loss = 3.3658, Val Accuracy = 63.44%, Precision = 0.61, Recall = 0.63, F1 = 0.61\n"
     ]
    },
    {
     "name": "stderr",
     "output_type": "stream",
     "text": [
      "Epoch 439/500 - Training: 100%|██████████| 245/245 [00:25<00:00,  9.66it/s]\n"
     ]
    },
    {
     "name": "stdout",
     "output_type": "stream",
     "text": [
      "Epoch 439: Train Loss = 0.0429, Val Loss = 3.2547, Val Accuracy = 63.20%, Precision = 0.61, Recall = 0.63, F1 = 0.61\n"
     ]
    },
    {
     "name": "stderr",
     "output_type": "stream",
     "text": [
      "Epoch 440/500 - Training: 100%|██████████| 245/245 [00:24<00:00,  9.82it/s]\n"
     ]
    },
    {
     "name": "stdout",
     "output_type": "stream",
     "text": [
      "Epoch 440: Train Loss = 0.0596, Val Loss = 3.0195, Val Accuracy = 63.20%, Precision = 0.61, Recall = 0.63, F1 = 0.62\n"
     ]
    },
    {
     "name": "stderr",
     "output_type": "stream",
     "text": [
      "Epoch 441/500 - Training: 100%|██████████| 245/245 [00:21<00:00, 11.31it/s]\n"
     ]
    },
    {
     "name": "stdout",
     "output_type": "stream",
     "text": [
      "Epoch 441: Train Loss = 0.0522, Val Loss = 2.8554, Val Accuracy = 62.70%, Precision = 0.60, Recall = 0.63, F1 = 0.61\n"
     ]
    },
    {
     "name": "stderr",
     "output_type": "stream",
     "text": [
      "Epoch 442/500 - Training: 100%|██████████| 245/245 [00:24<00:00, 10.14it/s]\n"
     ]
    },
    {
     "name": "stdout",
     "output_type": "stream",
     "text": [
      "Epoch 442: Train Loss = 0.0460, Val Loss = 3.1152, Val Accuracy = 63.07%, Precision = 0.60, Recall = 0.63, F1 = 0.60\n"
     ]
    },
    {
     "name": "stderr",
     "output_type": "stream",
     "text": [
      "Epoch 443/500 - Training: 100%|██████████| 245/245 [00:25<00:00,  9.75it/s]\n"
     ]
    },
    {
     "name": "stdout",
     "output_type": "stream",
     "text": [
      "Epoch 443: Train Loss = 0.0388, Val Loss = 3.0399, Val Accuracy = 65.68%, Precision = 0.62, Recall = 0.66, F1 = 0.63\n"
     ]
    },
    {
     "name": "stderr",
     "output_type": "stream",
     "text": [
      "Epoch 444/500 - Training: 100%|██████████| 245/245 [00:24<00:00, 10.16it/s]\n"
     ]
    },
    {
     "name": "stdout",
     "output_type": "stream",
     "text": [
      "Epoch 444: Train Loss = 0.0407, Val Loss = 3.1777, Val Accuracy = 62.45%, Precision = 0.60, Recall = 0.62, F1 = 0.60\n"
     ]
    },
    {
     "name": "stderr",
     "output_type": "stream",
     "text": [
      "Epoch 445/500 - Training: 100%|██████████| 245/245 [00:21<00:00, 11.48it/s]\n"
     ]
    },
    {
     "name": "stdout",
     "output_type": "stream",
     "text": [
      "Epoch 445: Train Loss = 0.0368, Val Loss = 3.1172, Val Accuracy = 65.30%, Precision = 0.62, Recall = 0.65, F1 = 0.63\n"
     ]
    },
    {
     "name": "stderr",
     "output_type": "stream",
     "text": [
      "Epoch 446/500 - Training: 100%|██████████| 245/245 [00:24<00:00, 10.18it/s]\n"
     ]
    },
    {
     "name": "stdout",
     "output_type": "stream",
     "text": [
      "Epoch 446: Train Loss = 0.0305, Val Loss = 3.4211, Val Accuracy = 65.06%, Precision = 0.63, Recall = 0.65, F1 = 0.63\n"
     ]
    },
    {
     "name": "stderr",
     "output_type": "stream",
     "text": [
      "Epoch 447/500 - Training: 100%|██████████| 245/245 [00:24<00:00,  9.83it/s]\n"
     ]
    },
    {
     "name": "stdout",
     "output_type": "stream",
     "text": [
      "Epoch 447: Train Loss = 0.0305, Val Loss = 3.2909, Val Accuracy = 65.43%, Precision = 0.62, Recall = 0.65, F1 = 0.63\n"
     ]
    },
    {
     "name": "stderr",
     "output_type": "stream",
     "text": [
      "Epoch 448/500 - Training: 100%|██████████| 245/245 [00:23<00:00, 10.37it/s]\n"
     ]
    },
    {
     "name": "stdout",
     "output_type": "stream",
     "text": [
      "Epoch 448: Train Loss = 0.0380, Val Loss = 3.2511, Val Accuracy = 63.94%, Precision = 0.61, Recall = 0.64, F1 = 0.62\n"
     ]
    },
    {
     "name": "stderr",
     "output_type": "stream",
     "text": [
      "Epoch 449/500 - Training: 100%|██████████| 245/245 [00:23<00:00, 10.60it/s]\n"
     ]
    },
    {
     "name": "stdout",
     "output_type": "stream",
     "text": [
      "Epoch 449: Train Loss = 0.0546, Val Loss = 3.4327, Val Accuracy = 62.70%, Precision = 0.61, Recall = 0.63, F1 = 0.62\n"
     ]
    },
    {
     "name": "stderr",
     "output_type": "stream",
     "text": [
      "Epoch 450/500 - Training: 100%|██████████| 245/245 [00:24<00:00,  9.97it/s]\n"
     ]
    },
    {
     "name": "stdout",
     "output_type": "stream",
     "text": [
      "Epoch 450: Train Loss = 0.0391, Val Loss = 3.3140, Val Accuracy = 65.92%, Precision = 0.63, Recall = 0.66, F1 = 0.64\n"
     ]
    },
    {
     "name": "stderr",
     "output_type": "stream",
     "text": [
      "Epoch 451/500 - Training: 100%|██████████| 245/245 [00:24<00:00, 10.20it/s]\n"
     ]
    },
    {
     "name": "stdout",
     "output_type": "stream",
     "text": [
      "Epoch 451: Train Loss = 0.0380, Val Loss = 2.8966, Val Accuracy = 62.45%, Precision = 0.60, Recall = 0.62, F1 = 0.61\n"
     ]
    },
    {
     "name": "stderr",
     "output_type": "stream",
     "text": [
      "Epoch 452/500 - Training: 100%|██████████| 245/245 [00:22<00:00, 10.86it/s]\n"
     ]
    },
    {
     "name": "stdout",
     "output_type": "stream",
     "text": [
      "Epoch 452: Train Loss = 0.0444, Val Loss = 3.0826, Val Accuracy = 63.07%, Precision = 0.61, Recall = 0.63, F1 = 0.62\n"
     ]
    },
    {
     "name": "stderr",
     "output_type": "stream",
     "text": [
      "Epoch 453/500 - Training: 100%|██████████| 245/245 [00:24<00:00, 10.00it/s]\n"
     ]
    },
    {
     "name": "stdout",
     "output_type": "stream",
     "text": [
      "Epoch 453: Train Loss = 0.0294, Val Loss = 3.4417, Val Accuracy = 63.44%, Precision = 0.61, Recall = 0.63, F1 = 0.61\n"
     ]
    },
    {
     "name": "stderr",
     "output_type": "stream",
     "text": [
      "Epoch 454/500 - Training: 100%|██████████| 245/245 [00:24<00:00,  9.85it/s]\n"
     ]
    },
    {
     "name": "stdout",
     "output_type": "stream",
     "text": [
      "Epoch 454: Train Loss = 0.0393, Val Loss = 3.3016, Val Accuracy = 62.83%, Precision = 0.61, Recall = 0.63, F1 = 0.62\n"
     ]
    },
    {
     "name": "stderr",
     "output_type": "stream",
     "text": [
      "Epoch 455/500 - Training: 100%|██████████| 245/245 [00:24<00:00,  9.87it/s]\n"
     ]
    },
    {
     "name": "stdout",
     "output_type": "stream",
     "text": [
      "Epoch 455: Train Loss = 0.0459, Val Loss = 3.1070, Val Accuracy = 62.83%, Precision = 0.60, Recall = 0.63, F1 = 0.61\n"
     ]
    },
    {
     "name": "stderr",
     "output_type": "stream",
     "text": [
      "Epoch 456/500 - Training: 100%|██████████| 245/245 [00:22<00:00, 11.13it/s]\n"
     ]
    },
    {
     "name": "stdout",
     "output_type": "stream",
     "text": [
      "Epoch 456: Train Loss = 0.0418, Val Loss = 3.3502, Val Accuracy = 63.57%, Precision = 0.61, Recall = 0.64, F1 = 0.62\n"
     ]
    },
    {
     "name": "stderr",
     "output_type": "stream",
     "text": [
      "Epoch 457/500 - Training: 100%|██████████| 245/245 [00:23<00:00, 10.22it/s]\n"
     ]
    },
    {
     "name": "stdout",
     "output_type": "stream",
     "text": [
      "Epoch 457: Train Loss = 0.0340, Val Loss = 3.4135, Val Accuracy = 63.69%, Precision = 0.61, Recall = 0.64, F1 = 0.62\n"
     ]
    },
    {
     "name": "stderr",
     "output_type": "stream",
     "text": [
      "Epoch 458/500 - Training: 100%|██████████| 245/245 [00:24<00:00, 10.20it/s]\n"
     ]
    },
    {
     "name": "stdout",
     "output_type": "stream",
     "text": [
      "Epoch 458: Train Loss = 0.0657, Val Loss = 2.0285, Val Accuracy = 64.19%, Precision = 0.61, Recall = 0.64, F1 = 0.62\n"
     ]
    },
    {
     "name": "stderr",
     "output_type": "stream",
     "text": [
      "Epoch 459/500 - Training: 100%|██████████| 245/245 [00:23<00:00, 10.37it/s]\n"
     ]
    },
    {
     "name": "stdout",
     "output_type": "stream",
     "text": [
      "Epoch 459: Train Loss = 0.1711, Val Loss = 1.4107, Val Accuracy = 63.57%, Precision = 0.60, Recall = 0.64, F1 = 0.61\n"
     ]
    },
    {
     "name": "stderr",
     "output_type": "stream",
     "text": [
      "Epoch 460/500 - Training: 100%|██████████| 245/245 [00:20<00:00, 11.67it/s]\n"
     ]
    },
    {
     "name": "stdout",
     "output_type": "stream",
     "text": [
      "Epoch 460: Train Loss = 0.2596, Val Loss = 1.9573, Val Accuracy = 63.82%, Precision = 0.60, Recall = 0.64, F1 = 0.61\n"
     ]
    },
    {
     "name": "stderr",
     "output_type": "stream",
     "text": [
      "Epoch 461/500 - Training: 100%|██████████| 245/245 [00:23<00:00, 10.31it/s]\n"
     ]
    },
    {
     "name": "stdout",
     "output_type": "stream",
     "text": [
      "Epoch 461: Train Loss = 0.1143, Val Loss = 2.3912, Val Accuracy = 65.30%, Precision = 0.63, Recall = 0.65, F1 = 0.63\n"
     ]
    },
    {
     "name": "stderr",
     "output_type": "stream",
     "text": [
      "Epoch 462/500 - Training: 100%|██████████| 245/245 [00:23<00:00, 10.25it/s]\n"
     ]
    },
    {
     "name": "stdout",
     "output_type": "stream",
     "text": [
      "Epoch 462: Train Loss = 0.0522, Val Loss = 2.7016, Val Accuracy = 63.69%, Precision = 0.61, Recall = 0.64, F1 = 0.62\n"
     ]
    },
    {
     "name": "stderr",
     "output_type": "stream",
     "text": [
      "Epoch 463/500 - Training: 100%|██████████| 245/245 [00:23<00:00, 10.54it/s]\n"
     ]
    },
    {
     "name": "stdout",
     "output_type": "stream",
     "text": [
      "Epoch 463: Train Loss = 0.0318, Val Loss = 3.3268, Val Accuracy = 63.20%, Precision = 0.60, Recall = 0.63, F1 = 0.61\n"
     ]
    },
    {
     "name": "stderr",
     "output_type": "stream",
     "text": [
      "Epoch 464/500 - Training: 100%|██████████| 245/245 [00:23<00:00, 10.35it/s]\n"
     ]
    },
    {
     "name": "stdout",
     "output_type": "stream",
     "text": [
      "Epoch 464: Train Loss = 0.0327, Val Loss = 3.4342, Val Accuracy = 62.33%, Precision = 0.59, Recall = 0.62, F1 = 0.60\n"
     ]
    },
    {
     "name": "stderr",
     "output_type": "stream",
     "text": [
      "Epoch 465/500 - Training: 100%|██████████| 245/245 [00:23<00:00, 10.24it/s]\n"
     ]
    },
    {
     "name": "stdout",
     "output_type": "stream",
     "text": [
      "Epoch 465: Train Loss = 0.0251, Val Loss = 3.8111, Val Accuracy = 63.82%, Precision = 0.61, Recall = 0.64, F1 = 0.61\n"
     ]
    },
    {
     "name": "stderr",
     "output_type": "stream",
     "text": [
      "Epoch 466/500 - Training: 100%|██████████| 245/245 [00:24<00:00, 10.20it/s]\n"
     ]
    },
    {
     "name": "stdout",
     "output_type": "stream",
     "text": [
      "Epoch 466: Train Loss = 0.0176, Val Loss = 3.7172, Val Accuracy = 63.94%, Precision = 0.61, Recall = 0.64, F1 = 0.62\n"
     ]
    },
    {
     "name": "stderr",
     "output_type": "stream",
     "text": [
      "Epoch 467/500 - Training: 100%|██████████| 245/245 [00:22<00:00, 10.70it/s]\n"
     ]
    },
    {
     "name": "stdout",
     "output_type": "stream",
     "text": [
      "Epoch 467: Train Loss = 0.0260, Val Loss = 3.6264, Val Accuracy = 63.82%, Precision = 0.60, Recall = 0.64, F1 = 0.61\n"
     ]
    },
    {
     "name": "stderr",
     "output_type": "stream",
     "text": [
      "Epoch 468/500 - Training: 100%|██████████| 245/245 [00:24<00:00, 10.04it/s]\n"
     ]
    },
    {
     "name": "stdout",
     "output_type": "stream",
     "text": [
      "Epoch 468: Train Loss = 0.0233, Val Loss = 3.7164, Val Accuracy = 64.81%, Precision = 0.61, Recall = 0.65, F1 = 0.62\n"
     ]
    },
    {
     "name": "stderr",
     "output_type": "stream",
     "text": [
      "Epoch 469/500 - Training: 100%|██████████| 245/245 [00:24<00:00, 10.08it/s]\n"
     ]
    },
    {
     "name": "stdout",
     "output_type": "stream",
     "text": [
      "Epoch 469: Train Loss = 0.0288, Val Loss = 3.8017, Val Accuracy = 62.70%, Precision = 0.60, Recall = 0.63, F1 = 0.61\n"
     ]
    },
    {
     "name": "stderr",
     "output_type": "stream",
     "text": [
      "Epoch 470/500 - Training: 100%|██████████| 245/245 [00:24<00:00,  9.83it/s]\n"
     ]
    },
    {
     "name": "stdout",
     "output_type": "stream",
     "text": [
      "Epoch 470: Train Loss = 0.0308, Val Loss = 3.6245, Val Accuracy = 64.19%, Precision = 0.61, Recall = 0.64, F1 = 0.61\n"
     ]
    },
    {
     "name": "stderr",
     "output_type": "stream",
     "text": [
      "Epoch 471/500 - Training: 100%|██████████| 245/245 [00:22<00:00, 11.13it/s]\n"
     ]
    },
    {
     "name": "stdout",
     "output_type": "stream",
     "text": [
      "Epoch 471: Train Loss = 0.0532, Val Loss = 3.0077, Val Accuracy = 62.21%, Precision = 0.60, Recall = 0.62, F1 = 0.61\n"
     ]
    },
    {
     "name": "stderr",
     "output_type": "stream",
     "text": [
      "Epoch 472/500 - Training: 100%|██████████| 245/245 [00:24<00:00,  9.94it/s]\n"
     ]
    },
    {
     "name": "stdout",
     "output_type": "stream",
     "text": [
      "Epoch 472: Train Loss = 0.0560, Val Loss = 3.7765, Val Accuracy = 64.81%, Precision = 0.61, Recall = 0.65, F1 = 0.61\n"
     ]
    },
    {
     "name": "stderr",
     "output_type": "stream",
     "text": [
      "Epoch 473/500 - Training: 100%|██████████| 245/245 [00:25<00:00,  9.78it/s]\n"
     ]
    },
    {
     "name": "stdout",
     "output_type": "stream",
     "text": [
      "Epoch 473: Train Loss = 0.0425, Val Loss = 3.6972, Val Accuracy = 61.46%, Precision = 0.58, Recall = 0.61, F1 = 0.59\n"
     ]
    },
    {
     "name": "stderr",
     "output_type": "stream",
     "text": [
      "Epoch 474/500 - Training: 100%|██████████| 245/245 [00:23<00:00, 10.34it/s]\n"
     ]
    },
    {
     "name": "stdout",
     "output_type": "stream",
     "text": [
      "Epoch 474: Train Loss = 0.0293, Val Loss = 3.3939, Val Accuracy = 62.08%, Precision = 0.58, Recall = 0.62, F1 = 0.59\n"
     ]
    },
    {
     "name": "stderr",
     "output_type": "stream",
     "text": [
      "Epoch 475/500 - Training: 100%|██████████| 245/245 [00:23<00:00, 10.24it/s]\n"
     ]
    },
    {
     "name": "stdout",
     "output_type": "stream",
     "text": [
      "Epoch 475: Train Loss = 0.0357, Val Loss = 3.0661, Val Accuracy = 63.07%, Precision = 0.60, Recall = 0.63, F1 = 0.61\n"
     ]
    },
    {
     "name": "stderr",
     "output_type": "stream",
     "text": [
      "Epoch 476/500 - Training: 100%|██████████| 245/245 [00:23<00:00, 10.22it/s]\n"
     ]
    },
    {
     "name": "stdout",
     "output_type": "stream",
     "text": [
      "Epoch 476: Train Loss = 0.0286, Val Loss = 3.3231, Val Accuracy = 63.94%, Precision = 0.61, Recall = 0.64, F1 = 0.62\n"
     ]
    },
    {
     "name": "stderr",
     "output_type": "stream",
     "text": [
      "Epoch 477/500 - Training: 100%|██████████| 245/245 [00:23<00:00, 10.25it/s]\n"
     ]
    },
    {
     "name": "stdout",
     "output_type": "stream",
     "text": [
      "Epoch 477: Train Loss = 0.0387, Val Loss = 3.5420, Val Accuracy = 63.82%, Precision = 0.60, Recall = 0.64, F1 = 0.61\n"
     ]
    },
    {
     "name": "stderr",
     "output_type": "stream",
     "text": [
      "Epoch 478/500 - Training: 100%|██████████| 245/245 [00:21<00:00, 11.46it/s]\n"
     ]
    },
    {
     "name": "stdout",
     "output_type": "stream",
     "text": [
      "Epoch 478: Train Loss = 0.0413, Val Loss = 2.9162, Val Accuracy = 62.95%, Precision = 0.59, Recall = 0.63, F1 = 0.60\n"
     ]
    },
    {
     "name": "stderr",
     "output_type": "stream",
     "text": [
      "Epoch 479/500 - Training: 100%|██████████| 245/245 [00:23<00:00, 10.26it/s]\n"
     ]
    },
    {
     "name": "stdout",
     "output_type": "stream",
     "text": [
      "Epoch 479: Train Loss = 0.0334, Val Loss = 3.3174, Val Accuracy = 63.32%, Precision = 0.59, Recall = 0.63, F1 = 0.60\n"
     ]
    },
    {
     "name": "stderr",
     "output_type": "stream",
     "text": [
      "Epoch 480/500 - Training: 100%|██████████| 245/245 [00:25<00:00,  9.71it/s]\n"
     ]
    },
    {
     "name": "stdout",
     "output_type": "stream",
     "text": [
      "Epoch 480: Train Loss = 0.0337, Val Loss = 3.5811, Val Accuracy = 61.83%, Precision = 0.61, Recall = 0.62, F1 = 0.60\n"
     ]
    },
    {
     "name": "stderr",
     "output_type": "stream",
     "text": [
      "Epoch 481/500 - Training: 100%|██████████| 245/245 [00:25<00:00,  9.75it/s]\n"
     ]
    },
    {
     "name": "stdout",
     "output_type": "stream",
     "text": [
      "Epoch 481: Train Loss = 0.0487, Val Loss = 3.1332, Val Accuracy = 62.58%, Precision = 0.59, Recall = 0.63, F1 = 0.60\n"
     ]
    },
    {
     "name": "stderr",
     "output_type": "stream",
     "text": [
      "Epoch 482/500 - Training: 100%|██████████| 245/245 [00:22<00:00, 10.88it/s]\n"
     ]
    },
    {
     "name": "stdout",
     "output_type": "stream",
     "text": [
      "Epoch 482: Train Loss = 0.0501, Val Loss = 3.2509, Val Accuracy = 63.44%, Precision = 0.59, Recall = 0.63, F1 = 0.61\n"
     ]
    },
    {
     "name": "stderr",
     "output_type": "stream",
     "text": [
      "Epoch 483/500 - Training: 100%|██████████| 245/245 [00:24<00:00, 10.03it/s]\n"
     ]
    },
    {
     "name": "stdout",
     "output_type": "stream",
     "text": [
      "Epoch 483: Train Loss = 0.0284, Val Loss = 3.5280, Val Accuracy = 64.93%, Precision = 0.61, Recall = 0.65, F1 = 0.62\n"
     ]
    },
    {
     "name": "stderr",
     "output_type": "stream",
     "text": [
      "Epoch 484/500 - Training: 100%|██████████| 245/245 [00:24<00:00,  9.95it/s]\n"
     ]
    },
    {
     "name": "stdout",
     "output_type": "stream",
     "text": [
      "Epoch 484: Train Loss = 0.0364, Val Loss = 3.2915, Val Accuracy = 63.44%, Precision = 0.60, Recall = 0.63, F1 = 0.61\n"
     ]
    },
    {
     "name": "stderr",
     "output_type": "stream",
     "text": [
      "Epoch 485/500 - Training: 100%|██████████| 245/245 [00:23<00:00, 10.60it/s]\n"
     ]
    },
    {
     "name": "stdout",
     "output_type": "stream",
     "text": [
      "Epoch 485: Train Loss = 0.0839, Val Loss = 2.6479, Val Accuracy = 63.57%, Precision = 0.60, Recall = 0.64, F1 = 0.61\n"
     ]
    },
    {
     "name": "stderr",
     "output_type": "stream",
     "text": [
      "Epoch 486/500 - Training: 100%|██████████| 245/245 [00:23<00:00, 10.29it/s]\n"
     ]
    },
    {
     "name": "stdout",
     "output_type": "stream",
     "text": [
      "Epoch 486: Train Loss = 0.0467, Val Loss = 3.1379, Val Accuracy = 63.07%, Precision = 0.58, Recall = 0.63, F1 = 0.60\n"
     ]
    },
    {
     "name": "stderr",
     "output_type": "stream",
     "text": [
      "Epoch 487/500 - Training: 100%|██████████| 245/245 [00:23<00:00, 10.21it/s]\n"
     ]
    },
    {
     "name": "stdout",
     "output_type": "stream",
     "text": [
      "Epoch 487: Train Loss = 0.0378, Val Loss = 3.2819, Val Accuracy = 62.95%, Precision = 0.59, Recall = 0.63, F1 = 0.60\n"
     ]
    },
    {
     "name": "stderr",
     "output_type": "stream",
     "text": [
      "Epoch 488/500 - Training: 100%|██████████| 245/245 [00:24<00:00, 10.10it/s]\n"
     ]
    },
    {
     "name": "stdout",
     "output_type": "stream",
     "text": [
      "Epoch 488: Train Loss = 0.0393, Val Loss = 3.1967, Val Accuracy = 61.96%, Precision = 0.58, Recall = 0.62, F1 = 0.60\n"
     ]
    },
    {
     "name": "stderr",
     "output_type": "stream",
     "text": [
      "Epoch 489/500 - Training: 100%|██████████| 245/245 [00:21<00:00, 11.25it/s]\n"
     ]
    },
    {
     "name": "stdout",
     "output_type": "stream",
     "text": [
      "Epoch 489: Train Loss = 0.0482, Val Loss = 3.0102, Val Accuracy = 60.84%, Precision = 0.58, Recall = 0.61, F1 = 0.59\n"
     ]
    },
    {
     "name": "stderr",
     "output_type": "stream",
     "text": [
      "Epoch 490/500 - Training: 100%|██████████| 245/245 [00:24<00:00, 10.09it/s]\n"
     ]
    },
    {
     "name": "stdout",
     "output_type": "stream",
     "text": [
      "Epoch 490: Train Loss = 0.0519, Val Loss = 3.0402, Val Accuracy = 62.58%, Precision = 0.59, Recall = 0.63, F1 = 0.59\n"
     ]
    },
    {
     "name": "stderr",
     "output_type": "stream",
     "text": [
      "Epoch 491/500 - Training: 100%|██████████| 245/245 [00:24<00:00,  9.97it/s]\n"
     ]
    },
    {
     "name": "stdout",
     "output_type": "stream",
     "text": [
      "Epoch 491: Train Loss = 0.0312, Val Loss = 3.2571, Val Accuracy = 61.83%, Precision = 0.59, Recall = 0.62, F1 = 0.60\n"
     ]
    },
    {
     "name": "stderr",
     "output_type": "stream",
     "text": [
      "Epoch 492/500 - Training: 100%|██████████| 245/245 [00:24<00:00,  9.87it/s]\n"
     ]
    },
    {
     "name": "stdout",
     "output_type": "stream",
     "text": [
      "Epoch 492: Train Loss = 0.0388, Val Loss = 3.2918, Val Accuracy = 59.85%, Precision = 0.59, Recall = 0.60, F1 = 0.59\n"
     ]
    },
    {
     "name": "stderr",
     "output_type": "stream",
     "text": [
      "Epoch 493/500 - Training: 100%|██████████| 245/245 [00:22<00:00, 11.01it/s]\n"
     ]
    },
    {
     "name": "stdout",
     "output_type": "stream",
     "text": [
      "Epoch 493: Train Loss = 0.0639, Val Loss = 2.9637, Val Accuracy = 63.94%, Precision = 0.61, Recall = 0.64, F1 = 0.62\n"
     ]
    },
    {
     "name": "stderr",
     "output_type": "stream",
     "text": [
      "Epoch 494/500 - Training: 100%|██████████| 245/245 [00:24<00:00, 10.02it/s]\n"
     ]
    },
    {
     "name": "stdout",
     "output_type": "stream",
     "text": [
      "Epoch 494: Train Loss = 0.0281, Val Loss = 3.4896, Val Accuracy = 62.95%, Precision = 0.60, Recall = 0.63, F1 = 0.61\n"
     ]
    },
    {
     "name": "stderr",
     "output_type": "stream",
     "text": [
      "Epoch 495/500 - Training: 100%|██████████| 245/245 [00:24<00:00, 10.16it/s]\n"
     ]
    },
    {
     "name": "stdout",
     "output_type": "stream",
     "text": [
      "Epoch 495: Train Loss = 0.0412, Val Loss = 2.9332, Val Accuracy = 62.45%, Precision = 0.59, Recall = 0.62, F1 = 0.60\n"
     ]
    },
    {
     "name": "stderr",
     "output_type": "stream",
     "text": [
      "Epoch 496/500 - Training: 100%|██████████| 245/245 [00:22<00:00, 10.94it/s]\n"
     ]
    },
    {
     "name": "stdout",
     "output_type": "stream",
     "text": [
      "Epoch 496: Train Loss = 0.0456, Val Loss = 3.1437, Val Accuracy = 61.09%, Precision = 0.58, Recall = 0.61, F1 = 0.59\n"
     ]
    },
    {
     "name": "stderr",
     "output_type": "stream",
     "text": [
      "Epoch 497/500 - Training: 100%|██████████| 245/245 [00:23<00:00, 10.37it/s]\n"
     ]
    },
    {
     "name": "stdout",
     "output_type": "stream",
     "text": [
      "Epoch 497: Train Loss = 0.0375, Val Loss = 3.1336, Val Accuracy = 60.72%, Precision = 0.59, Recall = 0.61, F1 = 0.59\n"
     ]
    },
    {
     "name": "stderr",
     "output_type": "stream",
     "text": [
      "Epoch 498/500 - Training: 100%|██████████| 245/245 [00:23<00:00, 10.22it/s]\n"
     ]
    },
    {
     "name": "stdout",
     "output_type": "stream",
     "text": [
      "Epoch 498: Train Loss = 0.0336, Val Loss = 3.0079, Val Accuracy = 61.09%, Precision = 0.58, Recall = 0.61, F1 = 0.59\n"
     ]
    },
    {
     "name": "stderr",
     "output_type": "stream",
     "text": [
      "Epoch 499/500 - Training: 100%|██████████| 245/245 [00:24<00:00, 10.12it/s]\n"
     ]
    },
    {
     "name": "stdout",
     "output_type": "stream",
     "text": [
      "Epoch 499: Train Loss = 0.0390, Val Loss = 3.2394, Val Accuracy = 62.33%, Precision = 0.59, Recall = 0.62, F1 = 0.60\n"
     ]
    },
    {
     "name": "stderr",
     "output_type": "stream",
     "text": [
      "Epoch 500/500 - Training: 100%|██████████| 245/245 [00:22<00:00, 10.96it/s]\n"
     ]
    },
    {
     "name": "stdout",
     "output_type": "stream",
     "text": [
      "Epoch 500: Train Loss = 0.0477, Val Loss = 3.0509, Val Accuracy = 61.83%, Precision = 0.60, Recall = 0.62, F1 = 0.60\n"
     ]
    }
   ],
   "source": [
    "import os\n",
    "import torch\n",
    "from torch.utils.data import DataLoader\n",
    "import sys, os\n",
    "sys.path.append(os.path.abspath('..'))\n",
    "from preprocessing.text.preprocess_text import preprocess_text_for_model, load_text_model\n",
    "from preprocessing.audio.preprocess_audio import preprocess_audio_for_model, load_audio_model, extract_audio\n",
    "from pipelines.preprocessing.data_pipeline import generate_metadata\n",
    "import numpy as np\n",
    "import torch.nn as nn\n",
    "from pipelines.training.training_pipeline import train_model, train_model_coattention\n",
    "from models.audio.audio_model import AudioCNNClassifier\n",
    "from pipelines.training.training_pipeline import evaluate_model\n",
    "\n",
    "from torch import nn, optim\n",
    "from tqdm import tqdm\n",
    "from models.bigru_coattention.coattention import CoAttentionFusion, CoAttentionFusion2\n",
    "from utils.logger import create_logger\n",
    "from sklearn.metrics import precision_score, recall_score, f1_score\n",
    "from pipelines.evaluation.evaluation_pipeline import test_model_coattention, evaluate_model_coattention\n",
    "from models.bigru_coattention.multimodal import MultiModalDataset\n",
    "\n",
    "\n",
    "\n",
    "\n",
    "\n",
    "import torch\n",
    "import numpy as np\n",
    "\n",
    "saved_data = torch.load(os.path.join(\"..\", \"outputs\", \"embeddings\", \"loaders_datasets_reduced_label_dim_4.pt\"))\n",
    "\n",
    "\n",
    "train_dataset = MultiModalDataset(\n",
    "    saved_data['train']['audio'],\n",
    "    saved_data['train']['text'],\n",
    "    saved_data['train']['video'],\n",
    "    saved_data['train']['labels']\n",
    ")\n",
    "\n",
    "val_dataset = MultiModalDataset(\n",
    "    saved_data['val']['audio'],\n",
    "    saved_data['val']['text'],\n",
    "    saved_data['val']['video'],\n",
    "    saved_data['val']['labels']\n",
    ")\n",
    "\n",
    "test_dataset = MultiModalDataset(\n",
    "    saved_data['test']['audio'],\n",
    "    saved_data['test']['text'],\n",
    "    saved_data['test']['video'],\n",
    "    saved_data['test']['labels']\n",
    ")\n",
    "\n",
    "# Create DataLoaders\n",
    "train_loader = DataLoader(train_dataset, batch_size=32, shuffle=True)\n",
    "val_loader = DataLoader(val_dataset, batch_size=32, shuffle=False)\n",
    "test_loader = DataLoader(test_dataset, batch_size=32, shuffle=False)\n",
    "\n",
    "# --------------------------------------------------------------------------------\n",
    "# Train Model\n",
    "# --------------------------------------------------------------------------------\n",
    "num_classes = 4\n",
    "\n",
    "co_attention_model = CoAttentionFusion(input_dim_audio=768, input_dim_text=768, input_dim_video=768, num_classes=num_classes )\n",
    "trained_model_coattention = train_model_coattention(co_attention_model, train_loader, val_loader, num_epochs=500, learning_rate=1e-3, device=\"cpu\", logfile=os.path.join(\"..\", \"logs\", \"training_logs\", \"coattention_train.log\"), verbose=False)\n",
    "#  save the model\n",
    "\n"
   ]
  },
  {
   "cell_type": "code",
   "execution_count": 4,
   "metadata": {},
   "outputs": [
    {
     "data": {
      "text/plain": [
       "CoAttentionFusion(\n",
       "  (audio_projection): Linear(in_features=768, out_features=256, bias=True)\n",
       "  (text_projection): Linear(in_features=768, out_features=256, bias=True)\n",
       "  (video_projection): Linear(in_features=768, out_features=256, bias=True)\n",
       "  (audio_attention): BiGRUWithAttention(\n",
       "    (gru): GRU(256, 128, batch_first=True, bidirectional=True)\n",
       "    (attention): MultiheadAttention(\n",
       "      (out_proj): NonDynamicallyQuantizableLinear(in_features=256, out_features=256, bias=True)\n",
       "    )\n",
       "    (layer_norm): LayerNorm((256,), eps=1e-05, elementwise_affine=True)\n",
       "    (dropout): Dropout(p=0.3, inplace=False)\n",
       "  )\n",
       "  (text_attention): BiGRUWithAttention(\n",
       "    (gru): GRU(256, 128, batch_first=True, bidirectional=True)\n",
       "    (attention): MultiheadAttention(\n",
       "      (out_proj): NonDynamicallyQuantizableLinear(in_features=256, out_features=256, bias=True)\n",
       "    )\n",
       "    (layer_norm): LayerNorm((256,), eps=1e-05, elementwise_affine=True)\n",
       "    (dropout): Dropout(p=0.3, inplace=False)\n",
       "  )\n",
       "  (video_attention): BiGRUWithAttention(\n",
       "    (gru): GRU(256, 128, batch_first=True, bidirectional=True)\n",
       "    (attention): MultiheadAttention(\n",
       "      (out_proj): NonDynamicallyQuantizableLinear(in_features=256, out_features=256, bias=True)\n",
       "    )\n",
       "    (layer_norm): LayerNorm((256,), eps=1e-05, elementwise_affine=True)\n",
       "    (dropout): Dropout(p=0.3, inplace=False)\n",
       "  )\n",
       "  (co_attention): MultiheadAttention(\n",
       "    (out_proj): NonDynamicallyQuantizableLinear(in_features=384, out_features=384, bias=True)\n",
       "  )\n",
       "  (layer_norm): LayerNorm((384,), eps=1e-05, elementwise_affine=True)\n",
       "  (fc): Sequential(\n",
       "    (0): Linear(in_features=384, out_features=128, bias=True)\n",
       "    (1): ReLU()\n",
       "    (2): Dropout(p=0.3, inplace=False)\n",
       "    (3): Linear(in_features=128, out_features=7, bias=True)\n",
       "  )\n",
       ")"
      ]
     },
     "execution_count": 4,
     "metadata": {},
     "output_type": "execute_result"
    }
   ],
   "source": [
    "# load the model\n",
    "co_attention_model = CoAttentionFusion(input_dim_audio=768, input_dim_text=768, input_dim_video=768, num_classes=7 )\n",
    "co_attention_model.load_state_dict(torch.load(os.path.join('..', 'outputs', 'models','bigru_coattention',\"coattention_model.pt\")))\n",
    "co_attention_model.eval()"
   ]
  },
  {
   "cell_type": "code",
   "execution_count": 5,
   "metadata": {},
   "outputs": [
    {
     "name": "stdout",
     "output_type": "stream",
     "text": [
      "Accuracy of class 0: 81.53%\n",
      "Accuracy of class 1: 45.77%\n",
      "Accuracy of class 2: 36.81%\n",
      "Accuracy of class 3: 5.88%\n",
      "Accuracy of class 4: 0.00%\n",
      "Accuracy of class 5: 0.00%\n",
      "Accuracy of class 6: 0.00%\n",
      "Test Metrics: Accuracy = 64.65%, Precision = 0.63, Recall = 0.65, F1 = 0.64\n"
     ]
    }
   ],
   "source": [
    "\n",
    "test_accuracy, precision, recall, f1 = test_model_coattention(trained_model_coattention, test_loader, device=\"cpu\", logfile=os.path.join(\"..\", \"logs\", \"training_logs\", \"coattention_test.log\"))\n"
   ]
  },
  {
   "cell_type": "code",
   "execution_count": null,
   "metadata": {},
   "outputs": [],
   "source": [
    "# save the model\n",
    "torch.save(trained_model_coattention.state_dict(), os.path.join('..', 'outputs', 'models','bigru_coattention',\"coattention_model.pt\"))\n",
    "# load the model\n",
    "# co_attention_model = CoAttentionFusion(input_dim_audio=768, input_dim_text=768, input_dim_video=768, num_classes=7 )\n",
    "# co_attention_model.load_state_dict(torch.load(os.path.join('..', 'outputs', 'models','bigru_coattention',\"coattention_model.pt\")))\n",
    "# co_attention_model.eval()"
   ]
  },
  {
   "cell_type": "markdown",
   "metadata": {},
   "source": [
    "**Temporality**"
   ]
  },
  {
   "cell_type": "markdown",
   "metadata": {},
   "source": [
    "* Étape 1 : Représentation des Intervenants\n",
    "* Etape 2 : Chaque phrase est passée dans un Transformer pour capturer les relations entre les phrases, en tenant compte des embeddings de speakers.\n",
    "    Phrase finale : [Contexte local + Contexte global + Speaker Info]\n",
    "\n",
    "* Étape 3 : Fusion Multimodale : Combinez texte, audio, et vidéo avec un mécanisme d'attention croisée.\n",
    "* Étape 4 : Prédiction"
   ]
  },
  {
   "cell_type": "markdown",
   "metadata": {},
   "source": [
    "**Speakers**"
   ]
  },
  {
   "cell_type": "code",
   "execution_count": null,
   "metadata": {},
   "outputs": [],
   "source": [
    "import pandas as pd\n",
    "import os\n",
    "from utils.speaker import add_speaker_to_json\n",
    "\n",
    "train_json_path = os.path.join(\"..\", \"outputs\", \"preprocessed\", \"train_data.json\")\n",
    "test_json_path = os.path.join(\"..\", \"outputs\", \"preprocessed\", \"test_data.json\")\n",
    "dev_json_path = os.path.join(\"..\", \"outputs\", \"preprocessed\", \"dev_data.json\")\n",
    "\n",
    "csv_file_train = os.path.join(\"..\", \"data\", \"MELD.Raw\", \"train\", \"train_sent_emo.csv\")\n",
    "csv_file_test = os.path.join(\"..\", \"data\", \"MELD.Raw\", \"test_sent_emo.csv\")\n",
    "csv_file_dev = os.path.join(\"..\", \"data\", \"MELD.Raw\", \"dev_sent_emo.csv\")\n",
    "\n",
    "train_df = pd.read_csv(csv_file_train)\n",
    "test_df = pd.read_csv(csv_file_test)\n",
    "dev_df = pd.read_csv(csv_file_dev)\n",
    "\n",
    "add_speaker_to_json(train_json_path, train_df)\n",
    "add_speaker_to_json(test_json_path, test_df)\n",
    "add_speaker_to_json(dev_json_path, dev_df)\n"
   ]
  }
 ],
 "metadata": {
  "kernelspec": {
   "display_name": "mer",
   "language": "python",
   "name": "python3"
  },
  "language_info": {
   "codemirror_mode": {
    "name": "ipython",
    "version": 3
   },
   "file_extension": ".py",
   "mimetype": "text/x-python",
   "name": "python",
   "nbconvert_exporter": "python",
   "pygments_lexer": "ipython3",
   "version": "3.9.21"
  }
 },
 "nbformat": 4,
 "nbformat_minor": 2
}
