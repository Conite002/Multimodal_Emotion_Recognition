{
 "cells": [
  {
   "cell_type": "code",
   "execution_count": 2,
   "metadata": {},
   "outputs": [],
   "source": [
    "import pandas as pd\n",
    "import numpy as np\n",
    "import sys, os\n",
    "sys.path.append(os.path.abspath('..'))"
   ]
  },
  {
   "cell_type": "code",
   "execution_count": 3,
   "metadata": {},
   "outputs": [],
   "source": [
    "data_json = pd.read_json('../outputs/preprocessed/train_data.json')\n",
    "data_train = pd.read_csv('../data/MELD.Raw/train/train_sent_emo.csv')"
   ]
  },
  {
   "cell_type": "code",
   "execution_count": 4,
   "metadata": {},
   "outputs": [],
   "source": [
    "data_json['filename'] = data_json['audio'].apply(lambda x: x.split(\"audio\\\\\")[-1])"
   ]
  },
  {
   "cell_type": "code",
   "execution_count": 5,
   "metadata": {},
   "outputs": [
    {
     "data": {
      "text/html": [
       "<div>\n",
       "<style scoped>\n",
       "    .dataframe tbody tr th:only-of-type {\n",
       "        vertical-align: middle;\n",
       "    }\n",
       "\n",
       "    .dataframe tbody tr th {\n",
       "        vertical-align: top;\n",
       "    }\n",
       "\n",
       "    .dataframe thead th {\n",
       "        text-align: right;\n",
       "    }\n",
       "</style>\n",
       "<table border=\"1\" class=\"dataframe\">\n",
       "  <thead>\n",
       "    <tr style=\"text-align: right;\">\n",
       "      <th></th>\n",
       "      <th>video</th>\n",
       "      <th>audio</th>\n",
       "      <th>text</th>\n",
       "      <th>label</th>\n",
       "      <th>filename</th>\n",
       "    </tr>\n",
       "  </thead>\n",
       "  <tbody>\n",
       "    <tr>\n",
       "      <th>0</th>\n",
       "      <td>..\\data\\MELD.Raw\\train\\train_splits\\dia0_utt0.mp4</td>\n",
       "      <td>..\\data\\MELD.Raw\\train\\audio\\dia0_utt0.wav</td>\n",
       "      <td>also I was the point person on my companys tr...</td>\n",
       "      <td>neutral</td>\n",
       "      <td>dia0_utt0.wav</td>\n",
       "    </tr>\n",
       "    <tr>\n",
       "      <th>1</th>\n",
       "      <td>..\\data\\MELD.Raw\\train\\train_splits\\dia0_utt1.mp4</td>\n",
       "      <td>..\\data\\MELD.Raw\\train\\audio\\dia0_utt1.wav</td>\n",
       "      <td>You mustve had your hands full.</td>\n",
       "      <td>neutral</td>\n",
       "      <td>dia0_utt1.wav</td>\n",
       "    </tr>\n",
       "    <tr>\n",
       "      <th>2</th>\n",
       "      <td>..\\data\\MELD.Raw\\train\\train_splits\\dia0_utt2.mp4</td>\n",
       "      <td>..\\data\\MELD.Raw\\train\\audio\\dia0_utt2.wav</td>\n",
       "      <td>That I did. That I did.</td>\n",
       "      <td>neutral</td>\n",
       "      <td>dia0_utt2.wav</td>\n",
       "    </tr>\n",
       "    <tr>\n",
       "      <th>3</th>\n",
       "      <td>..\\data\\MELD.Raw\\train\\train_splits\\dia0_utt3.mp4</td>\n",
       "      <td>..\\data\\MELD.Raw\\train\\audio\\dia0_utt3.wav</td>\n",
       "      <td>So lets talk a little bit about your duties.</td>\n",
       "      <td>neutral</td>\n",
       "      <td>dia0_utt3.wav</td>\n",
       "    </tr>\n",
       "    <tr>\n",
       "      <th>4</th>\n",
       "      <td>..\\data\\MELD.Raw\\train\\train_splits\\dia0_utt4.mp4</td>\n",
       "      <td>..\\data\\MELD.Raw\\train\\audio\\dia0_utt4.wav</td>\n",
       "      <td>My duties?  All right.</td>\n",
       "      <td>surprise</td>\n",
       "      <td>dia0_utt4.wav</td>\n",
       "    </tr>\n",
       "  </tbody>\n",
       "</table>\n",
       "</div>"
      ],
      "text/plain": [
       "                                               video  \\\n",
       "0  ..\\data\\MELD.Raw\\train\\train_splits\\dia0_utt0.mp4   \n",
       "1  ..\\data\\MELD.Raw\\train\\train_splits\\dia0_utt1.mp4   \n",
       "2  ..\\data\\MELD.Raw\\train\\train_splits\\dia0_utt2.mp4   \n",
       "3  ..\\data\\MELD.Raw\\train\\train_splits\\dia0_utt3.mp4   \n",
       "4  ..\\data\\MELD.Raw\\train\\train_splits\\dia0_utt4.mp4   \n",
       "\n",
       "                                        audio  \\\n",
       "0  ..\\data\\MELD.Raw\\train\\audio\\dia0_utt0.wav   \n",
       "1  ..\\data\\MELD.Raw\\train\\audio\\dia0_utt1.wav   \n",
       "2  ..\\data\\MELD.Raw\\train\\audio\\dia0_utt2.wav   \n",
       "3  ..\\data\\MELD.Raw\\train\\audio\\dia0_utt3.wav   \n",
       "4  ..\\data\\MELD.Raw\\train\\audio\\dia0_utt4.wav   \n",
       "\n",
       "                                                text     label       filename  \n",
       "0  also I was the point person on my companys tr...   neutral  dia0_utt0.wav  \n",
       "1                   You mustve had your hands full.   neutral  dia0_utt1.wav  \n",
       "2                            That I did. That I did.   neutral  dia0_utt2.wav  \n",
       "3      So lets talk a little bit about your duties.   neutral  dia0_utt3.wav  \n",
       "4                             My duties?  All right.  surprise  dia0_utt4.wav  "
      ]
     },
     "execution_count": 5,
     "metadata": {},
     "output_type": "execute_result"
    }
   ],
   "source": [
    "data_json.head()"
   ]
  },
  {
   "cell_type": "code",
   "execution_count": 6,
   "metadata": {},
   "outputs": [
    {
     "data": {
      "text/plain": [
       "(9988, 5)"
      ]
     },
     "execution_count": 6,
     "metadata": {},
     "output_type": "execute_result"
    }
   ],
   "source": [
    "data_json.shape"
   ]
  },
  {
   "cell_type": "code",
   "execution_count": null,
   "metadata": {},
   "outputs": [],
   "source": [
    "def add_speaker(path_json, path_dataset, save_path=None):\n",
    "    json_df = pd.read_json(path_json)\n",
    "    dataset = pd.read_csv(path_dataset)\n",
    "    json_df['filename'] = json_df['audio'].apply(lambda x: x.split(\"audio\\\\\")[-1])\n",
    "    for index, row in dataset.iterrows():\n",
    "        filename = f\"dia{row['Dialogue_ID']}_utt{row['Utterance_ID']}.wav\"\n",
    "        if filename in json_df['filename'].values:  \n",
    "            json_df.loc[json_df['filename'] == filename, 'speaker'] = row['Speaker']\n",
    "\n",
    "    if save_path:\n",
    "        json_df.to_json(save_path)\n",
    "    return json_df\n",
    "\n",
    "train_data_json = add_speaker(path_json='../outputs/preprocessed/train_data.json', path_dataset='../data/MELD.Raw/train/train_sent_emo.csv', save_path='../outputs/preprocessed/train_data_speaker.json') \n",
    "test_data_json = add_speaker(path_json='../outputs/preprocessed/test_data.json', path_dataset='../data/MELD.Raw/test_sent_emo.csv', save_path='../outputs/preprocessed/test_data_speaker.json')\n",
    "dev_data_json = add_speaker(path_json='../outputs/preprocessed/dev_data.json', path_dataset='../data/MELD.Raw/dev_sent_emo.csv', save_path='../outputs/preprocessed/dev_data_speaker.json')"
   ]
  },
  {
   "cell_type": "code",
   "execution_count": 56,
   "metadata": {},
   "outputs": [
    {
     "data": {
      "text/html": [
       "<div>\n",
       "<style scoped>\n",
       "    .dataframe tbody tr th:only-of-type {\n",
       "        vertical-align: middle;\n",
       "    }\n",
       "\n",
       "    .dataframe tbody tr th {\n",
       "        vertical-align: top;\n",
       "    }\n",
       "\n",
       "    .dataframe thead th {\n",
       "        text-align: right;\n",
       "    }\n",
       "</style>\n",
       "<table border=\"1\" class=\"dataframe\">\n",
       "  <thead>\n",
       "    <tr style=\"text-align: right;\">\n",
       "      <th></th>\n",
       "      <th>video</th>\n",
       "      <th>audio</th>\n",
       "      <th>text</th>\n",
       "      <th>label</th>\n",
       "      <th>filename</th>\n",
       "      <th>speaker</th>\n",
       "    </tr>\n",
       "  </thead>\n",
       "  <tbody>\n",
       "    <tr>\n",
       "      <th>0</th>\n",
       "      <td>..\\data\\MELD.Raw\\train\\train_splits\\dia0_utt0.mp4</td>\n",
       "      <td>..\\data\\MELD.Raw\\train\\audio\\dia0_utt0.wav</td>\n",
       "      <td>also I was the point person on my companys tr...</td>\n",
       "      <td>neutral</td>\n",
       "      <td>dia0_utt0.wav</td>\n",
       "      <td>Chandler</td>\n",
       "    </tr>\n",
       "    <tr>\n",
       "      <th>1</th>\n",
       "      <td>..\\data\\MELD.Raw\\train\\train_splits\\dia0_utt1.mp4</td>\n",
       "      <td>..\\data\\MELD.Raw\\train\\audio\\dia0_utt1.wav</td>\n",
       "      <td>You mustve had your hands full.</td>\n",
       "      <td>neutral</td>\n",
       "      <td>dia0_utt1.wav</td>\n",
       "      <td>The Interviewer</td>\n",
       "    </tr>\n",
       "    <tr>\n",
       "      <th>2</th>\n",
       "      <td>..\\data\\MELD.Raw\\train\\train_splits\\dia0_utt2.mp4</td>\n",
       "      <td>..\\data\\MELD.Raw\\train\\audio\\dia0_utt2.wav</td>\n",
       "      <td>That I did. That I did.</td>\n",
       "      <td>neutral</td>\n",
       "      <td>dia0_utt2.wav</td>\n",
       "      <td>Chandler</td>\n",
       "    </tr>\n",
       "    <tr>\n",
       "      <th>3</th>\n",
       "      <td>..\\data\\MELD.Raw\\train\\train_splits\\dia0_utt3.mp4</td>\n",
       "      <td>..\\data\\MELD.Raw\\train\\audio\\dia0_utt3.wav</td>\n",
       "      <td>So lets talk a little bit about your duties.</td>\n",
       "      <td>neutral</td>\n",
       "      <td>dia0_utt3.wav</td>\n",
       "      <td>The Interviewer</td>\n",
       "    </tr>\n",
       "    <tr>\n",
       "      <th>4</th>\n",
       "      <td>..\\data\\MELD.Raw\\train\\train_splits\\dia0_utt4.mp4</td>\n",
       "      <td>..\\data\\MELD.Raw\\train\\audio\\dia0_utt4.wav</td>\n",
       "      <td>My duties?  All right.</td>\n",
       "      <td>surprise</td>\n",
       "      <td>dia0_utt4.wav</td>\n",
       "      <td>Chandler</td>\n",
       "    </tr>\n",
       "    <tr>\n",
       "      <th>...</th>\n",
       "      <td>...</td>\n",
       "      <td>...</td>\n",
       "      <td>...</td>\n",
       "      <td>...</td>\n",
       "      <td>...</td>\n",
       "      <td>...</td>\n",
       "    </tr>\n",
       "    <tr>\n",
       "      <th>9983</th>\n",
       "      <td>..\\data\\MELD.Raw\\train\\train_splits\\dia1038_ut...</td>\n",
       "      <td>..\\data\\MELD.Raw\\train\\audio\\dia1038_utt13.wav</td>\n",
       "      <td>You or me?</td>\n",
       "      <td>neutral</td>\n",
       "      <td>dia1038_utt13.wav</td>\n",
       "      <td>Chandler</td>\n",
       "    </tr>\n",
       "    <tr>\n",
       "      <th>9984</th>\n",
       "      <td>..\\data\\MELD.Raw\\train\\train_splits\\dia1038_ut...</td>\n",
       "      <td>..\\data\\MELD.Raw\\train\\audio\\dia1038_utt14.wav</td>\n",
       "      <td>I got it. Uh, Joey, women don't have Adam's ap...</td>\n",
       "      <td>neutral</td>\n",
       "      <td>dia1038_utt14.wav</td>\n",
       "      <td>Ross</td>\n",
       "    </tr>\n",
       "    <tr>\n",
       "      <th>9985</th>\n",
       "      <td>..\\data\\MELD.Raw\\train\\train_splits\\dia1038_ut...</td>\n",
       "      <td>..\\data\\MELD.Raw\\train\\audio\\dia1038_utt15.wav</td>\n",
       "      <td>You guys are messing with me, right?</td>\n",
       "      <td>surprise</td>\n",
       "      <td>dia1038_utt15.wav</td>\n",
       "      <td>Joey</td>\n",
       "    </tr>\n",
       "    <tr>\n",
       "      <th>9986</th>\n",
       "      <td>..\\data\\MELD.Raw\\train\\train_splits\\dia1038_ut...</td>\n",
       "      <td>..\\data\\MELD.Raw\\train\\audio\\dia1038_utt16.wav</td>\n",
       "      <td>Yeah.</td>\n",
       "      <td>neutral</td>\n",
       "      <td>dia1038_utt16.wav</td>\n",
       "      <td>All</td>\n",
       "    </tr>\n",
       "    <tr>\n",
       "      <th>9987</th>\n",
       "      <td>..\\data\\MELD.Raw\\train\\train_splits\\dia1038_ut...</td>\n",
       "      <td>..\\data\\MELD.Raw\\train\\audio\\dia1038_utt17.wav</td>\n",
       "      <td>That was a good one. For a second there, I was...</td>\n",
       "      <td>joy</td>\n",
       "      <td>dia1038_utt17.wav</td>\n",
       "      <td>Joey</td>\n",
       "    </tr>\n",
       "  </tbody>\n",
       "</table>\n",
       "<p>9988 rows × 6 columns</p>\n",
       "</div>"
      ],
      "text/plain": [
       "                                                  video  \\\n",
       "0     ..\\data\\MELD.Raw\\train\\train_splits\\dia0_utt0.mp4   \n",
       "1     ..\\data\\MELD.Raw\\train\\train_splits\\dia0_utt1.mp4   \n",
       "2     ..\\data\\MELD.Raw\\train\\train_splits\\dia0_utt2.mp4   \n",
       "3     ..\\data\\MELD.Raw\\train\\train_splits\\dia0_utt3.mp4   \n",
       "4     ..\\data\\MELD.Raw\\train\\train_splits\\dia0_utt4.mp4   \n",
       "...                                                 ...   \n",
       "9983  ..\\data\\MELD.Raw\\train\\train_splits\\dia1038_ut...   \n",
       "9984  ..\\data\\MELD.Raw\\train\\train_splits\\dia1038_ut...   \n",
       "9985  ..\\data\\MELD.Raw\\train\\train_splits\\dia1038_ut...   \n",
       "9986  ..\\data\\MELD.Raw\\train\\train_splits\\dia1038_ut...   \n",
       "9987  ..\\data\\MELD.Raw\\train\\train_splits\\dia1038_ut...   \n",
       "\n",
       "                                               audio  \\\n",
       "0         ..\\data\\MELD.Raw\\train\\audio\\dia0_utt0.wav   \n",
       "1         ..\\data\\MELD.Raw\\train\\audio\\dia0_utt1.wav   \n",
       "2         ..\\data\\MELD.Raw\\train\\audio\\dia0_utt2.wav   \n",
       "3         ..\\data\\MELD.Raw\\train\\audio\\dia0_utt3.wav   \n",
       "4         ..\\data\\MELD.Raw\\train\\audio\\dia0_utt4.wav   \n",
       "...                                              ...   \n",
       "9983  ..\\data\\MELD.Raw\\train\\audio\\dia1038_utt13.wav   \n",
       "9984  ..\\data\\MELD.Raw\\train\\audio\\dia1038_utt14.wav   \n",
       "9985  ..\\data\\MELD.Raw\\train\\audio\\dia1038_utt15.wav   \n",
       "9986  ..\\data\\MELD.Raw\\train\\audio\\dia1038_utt16.wav   \n",
       "9987  ..\\data\\MELD.Raw\\train\\audio\\dia1038_utt17.wav   \n",
       "\n",
       "                                                   text     label  \\\n",
       "0     also I was the point person on my companys tr...   neutral   \n",
       "1                      You mustve had your hands full.   neutral   \n",
       "2                               That I did. That I did.   neutral   \n",
       "3         So lets talk a little bit about your duties.   neutral   \n",
       "4                                My duties?  All right.  surprise   \n",
       "...                                                 ...       ...   \n",
       "9983                                         You or me?   neutral   \n",
       "9984  I got it. Uh, Joey, women don't have Adam's ap...   neutral   \n",
       "9985               You guys are messing with me, right?  surprise   \n",
       "9986                                              Yeah.   neutral   \n",
       "9987  That was a good one. For a second there, I was...       joy   \n",
       "\n",
       "               filename          speaker  \n",
       "0         dia0_utt0.wav         Chandler  \n",
       "1         dia0_utt1.wav  The Interviewer  \n",
       "2         dia0_utt2.wav         Chandler  \n",
       "3         dia0_utt3.wav  The Interviewer  \n",
       "4         dia0_utt4.wav         Chandler  \n",
       "...                 ...              ...  \n",
       "9983  dia1038_utt13.wav         Chandler  \n",
       "9984  dia1038_utt14.wav             Ross  \n",
       "9985  dia1038_utt15.wav             Joey  \n",
       "9986  dia1038_utt16.wav              All  \n",
       "9987  dia1038_utt17.wav             Joey  \n",
       "\n",
       "[9988 rows x 6 columns]"
      ]
     },
     "execution_count": 56,
     "metadata": {},
     "output_type": "execute_result"
    }
   ],
   "source": [
    "train_data_json"
   ]
  },
  {
   "cell_type": "markdown",
   "metadata": {},
   "source": [
    "**Load tensors data**"
   ]
  },
  {
   "cell_type": "code",
   "execution_count": null,
   "metadata": {},
   "outputs": [
    {
     "data": {
      "text/plain": [
       "{'train': {'audio': <torch.utils.data.dataset.TensorDataset at 0x24a8a25eca0>,\n",
       "  'text': <torch.utils.data.dataset.TensorDataset at 0x24a83c3d760>,\n",
       "  'video': <torch.utils.data.dataset.TensorDataset at 0x24a83c3d3d0>,\n",
       "  'labels': tensor([0, 0, 0,  ..., 6, 0, 1])},\n",
       " 'val': {'audio': <torch.utils.data.dataset.TensorDataset at 0x24a83c3d6d0>,\n",
       "  'text': <torch.utils.data.dataset.TensorDataset at 0x24a83c3d490>,\n",
       "  'video': <torch.utils.data.dataset.TensorDataset at 0x24a83c3d730>,\n",
       "  'labels': tensor([4, 6, 0,  ..., 4, 4, 4])},\n",
       " 'test': {'audio': <torch.utils.data.dataset.TensorDataset at 0x24a83c3d4c0>,\n",
       "  'text': <torch.utils.data.dataset.TensorDataset at 0x24a8461c790>,\n",
       "  'video': <torch.utils.data.dataset.TensorDataset at 0x24a8449f7c0>,\n",
       "  'labels': tensor([6, 2, 0,  ..., 0, 0, 0])}}"
      ]
     },
     "execution_count": 59,
     "metadata": {},
     "output_type": "execute_result"
    }
   ],
   "source": [
    "import torch\n",
    "from torch.utils.data import Dataset, DataLoader\n",
    "\n",
    "\n",
    "data = torch.load(os.path.join(\"..\", \"outputs\", \"embeddings\", \"loaders_datasets.pt\"))\n",
    "data"
   ]
  },
  {
   "cell_type": "markdown",
   "metadata": {},
   "source": [
    "**Embedding of Speakers**"
   ]
  },
  {
   "cell_type": "code",
   "execution_count": 86,
   "metadata": {},
   "outputs": [],
   "source": [
    "import torch\n",
    "import pandas as pd\n",
    "\n",
    "# train ../outputs/preprocessed/train_data_speaker.json\n",
    "# dev ../outputs/preprocessed/dev_data_speaker.json\n",
    "# test ../outputs/preprocessed/test_data_speaker.json\n",
    "\n",
    "\n",
    "def embedding_speaker(json_path, data, split=None):\n",
    "    json_df = pd.read_json(json_path)\n",
    "    if split in data:\n",
    "        speakers_to_idx = {speaker: i for i, speaker in enumerate(json_df['speaker'].unique())}\n",
    "        speaker_labels = [speakers_to_idx[speaker] for speaker in json_df['speaker']]\n",
    "        data[split]['speaker'] = torch.tensor(speaker_labels, dtype=torch.long)\n",
    "\n",
    "    return data\n",
    "\n",
    "data = embedding_speaker(json_path='../outputs/preprocessed/train_data_speaker.json', data=data, split='train')\n",
    "data = embedding_speaker(json_path='../outputs/preprocessed/dev_data_speaker.json', data=data, split='val')\n",
    "data = embedding_speaker(json_path='../outputs/preprocessed/test_data_speaker.json', data=data, split='test')\n",
    "\n",
    "torch.save(data, os.path.join(\"..\", \"outputs\", \"embeddings\", \"loaders_datasets_speakers.pt\"))"
   ]
  },
  {
   "cell_type": "code",
   "execution_count": 87,
   "metadata": {},
   "outputs": [
    {
     "data": {
      "text/plain": [
       "{'train': {'audio': <torch.utils.data.dataset.TensorDataset at 0x24a8a25eca0>,\n",
       "  'text': <torch.utils.data.dataset.TensorDataset at 0x24a83c3d760>,\n",
       "  'video': <torch.utils.data.dataset.TensorDataset at 0x24a83c3d3d0>,\n",
       "  'labels': tensor([0, 0, 0,  ..., 6, 0, 1]),\n",
       "  'speaker': tensor([ 0,  1,  0,  ...,  2, 61,  2])},\n",
       " 'val': {'audio': <torch.utils.data.dataset.TensorDataset at 0x24a83c3d6d0>,\n",
       "  'text': <torch.utils.data.dataset.TensorDataset at 0x24a83c3d490>,\n",
       "  'video': <torch.utils.data.dataset.TensorDataset at 0x24a83c3d730>,\n",
       "  'labels': tensor([4, 6, 0,  ..., 4, 4, 4]),\n",
       "  'speaker': tensor([0, 1, 2,  ..., 1, 6, 1])},\n",
       " 'test': {'audio': <torch.utils.data.dataset.TensorDataset at 0x24a83c3d4c0>,\n",
       "  'text': <torch.utils.data.dataset.TensorDataset at 0x24a8461c790>,\n",
       "  'video': <torch.utils.data.dataset.TensorDataset at 0x24a8449f7c0>,\n",
       "  'labels': tensor([6, 2, 0,  ..., 0, 0, 0]),\n",
       "  'speaker': tensor([0, 1, 1,  ..., 1, 3, 6])}}"
      ]
     },
     "execution_count": 87,
     "metadata": {},
     "output_type": "execute_result"
    }
   ],
   "source": [
    "data"
   ]
  },
  {
   "cell_type": "code",
   "execution_count": 88,
   "metadata": {},
   "outputs": [
    {
     "data": {
      "text/plain": [
       "torch.Size([9988])"
      ]
     },
     "execution_count": 88,
     "metadata": {},
     "output_type": "execute_result"
    }
   ],
   "source": [
    "data['train']['speaker'].shape"
   ]
  },
  {
   "cell_type": "code",
   "execution_count": null,
   "metadata": {},
   "outputs": [],
   "source": []
  },
  {
   "cell_type": "code",
   "execution_count": 89,
   "metadata": {},
   "outputs": [
    {
     "name": "stdout",
     "output_type": "stream",
     "text": [
      "11.3\n",
      "True\n"
     ]
    }
   ],
   "source": [
    "import torch\n",
    "print(torch.version.cuda)  # Affiche la version de CUDA utilisée par PyTorch\n",
    "print(torch.cuda.is_available())  # Vérifie si CUDA est bien accessible\n"
   ]
  },
  {
   "cell_type": "code",
   "execution_count": 93,
   "metadata": {},
   "outputs": [
    {
     "data": {
      "text/plain": [
       "260"
      ]
     },
     "execution_count": 93,
     "metadata": {},
     "output_type": "execute_result"
    }
   ],
   "source": [
    "df_json = pd.read_json('../outputs/preprocessed/train_data_speaker.json')\n",
    "len(df_json['speaker'].unique())"
   ]
  },
  {
   "cell_type": "code",
   "execution_count": 15,
   "metadata": {},
   "outputs": [],
   "source": [
    "import sys, os\n",
    "sys.path.append(os.path.abspath('..'))\n",
    "\n",
    "data = torch.load(os.path.join(\"..\", \"outputs\", \"embeddings\", \"loaders_datasets_speakers.pt\"))\n"
   ]
  },
  {
   "cell_type": "code",
   "execution_count": 26,
   "metadata": {},
   "outputs": [
    {
     "data": {
      "text/plain": [
       "torch.Size([9988, 768])"
      ]
     },
     "execution_count": 26,
     "metadata": {},
     "output_type": "execute_result"
    }
   ],
   "source": [
    "data['train']['audio'].tensors[0].shape"
   ]
  },
  {
   "cell_type": "code",
   "execution_count": null,
   "metadata": {},
   "outputs": [],
   "source": []
  },
  {
   "cell_type": "code",
   "execution_count": null,
   "metadata": {},
   "outputs": [],
   "source": []
  },
  {
   "cell_type": "code",
   "execution_count": null,
   "metadata": {},
   "outputs": [],
   "source": []
  }
 ],
 "metadata": {
  "kernelspec": {
   "display_name": "mer-gpu",
   "language": "python",
   "name": "python3"
  },
  "language_info": {
   "codemirror_mode": {
    "name": "ipython",
    "version": 3
   },
   "file_extension": ".py",
   "mimetype": "text/x-python",
   "name": "python",
   "nbconvert_exporter": "python",
   "pygments_lexer": "ipython3",
   "version": "3.9.21"
  }
 },
 "nbformat": 4,
 "nbformat_minor": 2
}
