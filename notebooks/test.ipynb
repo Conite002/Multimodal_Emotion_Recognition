{
 "cells": [
  {
   "cell_type": "code",
   "execution_count": 3,
   "metadata": {},
   "outputs": [],
   "source": [
    "import pickle\n",
    "import torch\n",
    "import os\n",
    "import sys\n",
    "\n",
    "\n",
    "data_dir = os.path.join('..', \"outputs\", \"embeddings\")\n",
    "# with open(os.path.join(data_dir, \"loaders_datasets.pkl\"), 'rb') as f:\n",
    "#     data = pickle.load(f)\n",
    "data = torch.load(os.path.join(data_dir, \"loaders_datasets.pt\"))\n",
    "\n"
   ]
  },
  {
   "cell_type": "code",
   "execution_count": 4,
   "metadata": {},
   "outputs": [
    {
     "name": "stdout",
     "output_type": "stream",
     "text": [
      "train audio features shape: torch.Size([9988, 768])\n",
      "train text features shape: torch.Size([9988, 768])\n",
      "train video features shape: torch.Size([9988, 16, 768])\n",
      "train text length tensor shape: torch.Size([9988])\n",
      "val audio features shape: torch.Size([1108, 768])\n",
      "val text features shape: torch.Size([1108, 768])\n",
      "val video features shape: torch.Size([1108, 16, 768])\n",
      "val text length tensor shape: torch.Size([1108])\n",
      "test audio features shape: torch.Size([2610, 768])\n",
      "test text features shape: torch.Size([2610, 768])\n",
      "test video features shape: torch.Size([2610, 16, 768])\n",
      "test text length tensor shape: torch.Size([2610])\n"
     ]
    }
   ],
   "source": [
    "for split in data.keys():\n",
    "    for modal in ['audio', 'text', 'video']:\n",
    "        modal_tensors = data[split][modal].tensors\n",
    "        data[split][modal] = {\n",
    "            'features': modal_tensors[0], \n",
    "            'labels': modal_tensors[1]   \n",
    "        }\n",
    "\n",
    "    if 'text' in data[split]:\n",
    "        text_features = data[split]['text']['features']\n",
    "        text_len_tensor = torch.sum((text_features != 0).long(), dim=1) \n",
    "        data[split]['text']['text_len_tensor'] = text_len_tensor\n",
    "\n",
    "\n",
    "for split in data.keys():\n",
    "    print(f\"{split} audio features shape: {data[split]['audio']['features'].shape}\")\n",
    "    print(f\"{split} text features shape: {data[split]['text']['features'].shape}\")\n",
    "    print(f\"{split} video features shape: {data[split]['video']['features'].shape}\")\n",
    "    print(f\"{split} text length tensor shape: {data[split]['text']['text_len_tensor'].shape}\")\n"
   ]
  },
  {
   "cell_type": "code",
   "execution_count": 7,
   "metadata": {},
   "outputs": [],
   "source": [
    "import torch\n",
    "import torch.nn.functional as F\n",
    "from torch_geometric.data import Data\n",
    "from torch_geometric.nn import GCNConv, GATConv, RGCNConv\n",
    "from sklearn.metrics import accuracy_score, f1_score\n",
    "import matplotlib.pyplot as plt\n",
    "\n",
    "# -------- Préparer les données --------\n",
    "def prepare_graph_data(data, split):\n",
    "    # Moyennage sur la dimension temporelle pour la modalité vidéo\n",
    "    video_features = torch.mean(data[split]['video']['features'], dim=1)  # Moyenne sur la dimension temporelle\n",
    "    \n",
    "    # Concaténer les features\n",
    "    features = torch.cat([\n",
    "        data[split]['audio']['features'],\n",
    "        data[split]['text']['features'],\n",
    "        video_features\n",
    "    ], dim=0)\n",
    "    \n",
    "    # Concaténer les labels\n",
    "    labels = torch.cat([\n",
    "        data[split]['audio']['labels'],\n",
    "        data[split]['text']['labels'],\n",
    "        data[split]['video']['labels']\n",
    "    ], dim=0)\n",
    "    \n",
    "    # Initialiser les listes pour edge_index et edge_type\n",
    "    edge_index = []\n",
    "    edge_type = []\n",
    "\n",
    "    # -------- Relations temporelles intra-modales --------\n",
    "    def add_temporal_edges(offset, num_nodes, relation_type):\n",
    "        for i in range(num_nodes):\n",
    "            if i > 0:\n",
    "                edge_index.append([offset + i, offset + i - 1])  # -1 (passé)\n",
    "                edge_type.append(relation_type)\n",
    "            edge_index.append([offset + i, offset + i])  # 0 (présent)\n",
    "            edge_type.append(relation_type + 1)\n",
    "            if i < num_nodes - 1:\n",
    "                edge_index.append([offset + i, offset + i + 1])  # +1 (futur)\n",
    "                edge_type.append(relation_type + 2)\n",
    "\n",
    "    # Ajouter les relations intra-modales\n",
    "    num_audio = data[split]['audio']['features'].size(0)\n",
    "    num_text = data[split]['text']['features'].size(0)\n",
    "    num_video = video_features.size(0)  # Taille après réduction temporelle\n",
    "\n",
    "    add_temporal_edges(0, num_audio, 0)  # Audio : relation types 0, 1, 2\n",
    "    add_temporal_edges(num_audio, num_text, 3)  # Text : relation types 3, 4, 5\n",
    "    add_temporal_edges(num_audio + num_text, num_video, 6)  # Video : relation types 6, 7, 8\n",
    "\n",
    "    # -------- Relations cross-modales --------\n",
    "    for i in range(min(num_audio, num_text, num_video)):\n",
    "        edge_index.append([i, num_audio + num_text + i])  # Audio -> Video\n",
    "        edge_type.append(9)\n",
    "        edge_index.append([num_audio + i, num_audio + num_text + i])  # Text -> Video\n",
    "        edge_type.append(10)\n",
    "        edge_index.append([i, num_audio + i])  # Audio -> Text\n",
    "        edge_type.append(11)\n",
    "\n",
    "    # Convertir en tenseurs\n",
    "    edge_index = torch.tensor(edge_index, dtype=torch.long).t().contiguous()\n",
    "    edge_type = torch.tensor(edge_type, dtype=torch.long)\n",
    "\n",
    "    print(\"Unique edge types:\", torch.unique(edge_type))  # Debugging\n",
    "    return Data(x=features, y=labels, edge_index=edge_index, edge_type=edge_type)\n",
    "\n",
    "# -------- Définir les Modèles --------\n",
    "class GCN(torch.nn.Module):\n",
    "    def __init__(self, in_channels, hidden_channels, out_channels, dropout=0.0):\n",
    "        super(GCN, self).__init__()\n",
    "        self.conv1 = GCNConv(in_channels, hidden_channels)\n",
    "        self.conv2 = GCNConv(hidden_channels, out_channels)\n",
    "        self.dropout = dropout\n",
    "\n",
    "    def forward(self, x, edge_index):\n",
    "        x = self.conv1(x, edge_index)\n",
    "        x = F.relu(x)\n",
    "        x = F.dropout(x, p=self.dropout, training=self.training)\n",
    "        x = self.conv2(x, edge_index)\n",
    "        return F.log_softmax(x, dim=1)\n",
    "\n",
    "class GAT(torch.nn.Module):\n",
    "    def __init__(self, in_channels, hidden_channels, out_channels, heads=4):\n",
    "        super(GAT, self).__init__()\n",
    "        self.conv1 = GATConv(in_channels, hidden_channels, heads=heads)\n",
    "        self.conv2 = GATConv(hidden_channels * heads, out_channels, heads=1)\n",
    "\n",
    "    def forward(self, x, edge_index):\n",
    "        x = self.conv1(x, edge_index)\n",
    "        x = F.elu(x)\n",
    "        x = self.conv2(x, edge_index)\n",
    "        return F.log_softmax(x, dim=1)\n",
    "\n",
    "class RGCN(torch.nn.Module):\n",
    "    def __init__(self, in_channels, hidden_channels, out_channels, num_relations):\n",
    "        super(RGCN, self).__init__()\n",
    "        self.conv1 = RGCNConv(in_channels, hidden_channels, num_relations)\n",
    "        self.conv2 = RGCNConv(hidden_channels, out_channels, num_relations)\n",
    "\n",
    "    def forward(self, x, edge_index, edge_type):\n",
    "        x = self.conv1(x, edge_index, edge_type)\n",
    "        x = F.relu(x)\n",
    "        x = self.conv2(x, edge_index, edge_type)\n",
    "        return F.log_softmax(x, dim=1)\n",
    "\n",
    "# -------- Entraîner et Tester --------\n",
    "def train_and_evaluate(model, train_data, val_data, test_data, optimizer, criterion, epochs=50):\n",
    "    for epoch in range(epochs):\n",
    "        # Entraînement\n",
    "        model.train()\n",
    "        optimizer.zero_grad()\n",
    "        if isinstance(model, RGCN):\n",
    "            out = model(train_data.x, train_data.edge_index, train_data.edge_type)\n",
    "        \n",
    "        else:\n",
    "            out = model(train_data.x, train_data.edge_index)\n",
    "\n",
    "        loss = criterion(out, train_data.y)\n",
    "        loss.backward()\n",
    "        optimizer.step()\n",
    "\n",
    "        # Validation\n",
    "        model.eval()\n",
    "        with torch.no_grad():\n",
    "            if isinstance(model, RGCN):\n",
    "                val_out = model(val_data.x, val_data.edge_index, val_data.edge_type)\n",
    "            else:\n",
    "                val_out = model(val_data.x, val_data.edge_index)\n",
    "            val_loss = criterion(val_out, val_data.y)\n",
    "        print(f\"Epoch {epoch + 1}, Train Loss: {loss.item():.4f}, Val Loss: {val_loss.item():.4f}\")\n",
    "\n",
    "    # Test\n",
    "    model.eval()\n",
    "    with torch.no_grad():\n",
    "        if isinstance(model, RGCN):\n",
    "            test_out = model(test_data.x, test_data.edge_index, test_data.edge_type)\n",
    "        else:\n",
    "            test_out = model(test_data.x, test_data.edge_index)\n",
    "        test_pred = test_out.argmax(dim=1)\n",
    "        test_acc = accuracy_score(test_data.y.cpu(), test_pred.cpu())\n",
    "        test_f1 = f1_score(test_data.y.cpu(), test_pred.cpu(), average='macro')\n",
    "\n",
    "    return test_acc, test_f1\n",
    "\n",
    "# -------- Pipeline Principal --------\n",
    "def main_pipeline(data):\n",
    "    # Préparer les données\n",
    "    train_data = prepare_graph_data(data, 'train')\n",
    "    val_data = prepare_graph_data(data, 'val')\n",
    "    test_data = prepare_graph_data(data, 'test')\n",
    "\n",
    "    # Configurations de modèles\n",
    "    architectures = [\n",
    "        (\"GCN (2 layers)\", GCN(train_data.x.size(1), 64, len(torch.unique(train_data.y)))),\n",
    "        (\"GAT (4 heads)\", GAT(train_data.x.size(1), 64, len(torch.unique(train_data.y)), heads=4)),\n",
    "        (\"RGCN\", RGCN(train_data.x.size(1), 64, len(torch.unique(train_data.y)), num_relations=12)),\n",
    "    ]\n",
    "\n",
    "    # Entraîner et évaluer chaque modèle\n",
    "    results = []\n",
    "    for name, model in architectures:\n",
    "        print(f\"Training {name}...\")\n",
    "        optimizer = torch.optim.Adam(model.parameters(), lr=0.01)\n",
    "        criterion = torch.nn.CrossEntropyLoss()\n",
    "        acc, f1 = train_and_evaluate(model, train_data, val_data, test_data, optimizer, criterion)\n",
    "        results.append((name, acc * 100, f1 * 100))\n",
    "\n",
    "    # Afficher les résultats\n",
    "    print(\"\\nBenchmark Results:\")\n",
    "    print(\"Model\\t\\t\\tTest Accuracy\\tTest F1-Score\")\n",
    "    for name, acc, f1 in results:\n",
    "        print(f\"{name:20}\\t{acc:.2f}\\t\\t{f1:.2f}\")\n",
    "\n"
   ]
  },
  {
   "cell_type": "code",
   "execution_count": 8,
   "metadata": {},
   "outputs": [
    {
     "name": "stdout",
     "output_type": "stream",
     "text": [
      "Unique edge types: tensor([ 0,  1,  2,  3,  4,  5,  6,  7,  8,  9, 10, 11])\n",
      "Unique edge types: tensor([ 0,  1,  2,  3,  4,  5,  6,  7,  8,  9, 10, 11])\n",
      "Unique edge types: tensor([ 0,  1,  2,  3,  4,  5,  6,  7,  8,  9, 10, 11])\n",
      "Training GCN (2 layers)...\n",
      "Epoch 1, Train Loss: 2.0698, Val Loss: 2.9119\n",
      "Epoch 2, Train Loss: 2.6436, Val Loss: 1.9403\n",
      "Epoch 3, Train Loss: 1.7549, Val Loss: 1.8179\n",
      "Epoch 4, Train Loss: 1.7050, Val Loss: 1.8625\n",
      "Epoch 5, Train Loss: 1.7826, Val Loss: 1.7592\n",
      "Epoch 6, Train Loss: 1.6871, Val Loss: 1.6702\n",
      "Epoch 7, Train Loss: 1.5956, Val Loss: 1.6452\n",
      "Epoch 8, Train Loss: 1.5627, Val Loss: 1.6696\n",
      "Epoch 9, Train Loss: 1.5786, Val Loss: 1.6953\n",
      "Epoch 10, Train Loss: 1.5991, Val Loss: 1.6911\n",
      "Epoch 11, Train Loss: 1.5936, Val Loss: 1.6602\n",
      "Epoch 12, Train Loss: 1.5651, Val Loss: 1.6256\n",
      "Epoch 13, Train Loss: 1.5345, Val Loss: 1.6090\n",
      "Epoch 14, Train Loss: 1.5205, Val Loss: 1.6110\n",
      "Epoch 15, Train Loss: 1.5221, Val Loss: 1.6187\n",
      "Epoch 16, Train Loss: 1.5259, Val Loss: 1.6259\n",
      "Epoch 17, Train Loss: 1.5250, Val Loss: 1.6339\n",
      "Epoch 18, Train Loss: 1.5231, Val Loss: 1.6386\n",
      "Epoch 19, Train Loss: 1.5208, Val Loss: 1.6329\n",
      "Epoch 20, Train Loss: 1.5137, Val Loss: 1.6186\n",
      "Epoch 21, Train Loss: 1.5034, Val Loss: 1.6028\n",
      "Epoch 22, Train Loss: 1.4952, Val Loss: 1.5905\n",
      "Epoch 23, Train Loss: 1.4914, Val Loss: 1.5824\n",
      "Epoch 24, Train Loss: 1.4904, Val Loss: 1.5774\n",
      "Epoch 25, Train Loss: 1.4897, Val Loss: 1.5746\n",
      "Epoch 26, Train Loss: 1.4876, Val Loss: 1.5737\n",
      "Epoch 27, Train Loss: 1.4843, Val Loss: 1.5746\n",
      "Epoch 28, Train Loss: 1.4809, Val Loss: 1.5767\n",
      "Epoch 29, Train Loss: 1.4781, Val Loss: 1.5783\n",
      "Epoch 30, Train Loss: 1.4757, Val Loss: 1.5777\n",
      "Epoch 31, Train Loss: 1.4729, Val Loss: 1.5746\n",
      "Epoch 32, Train Loss: 1.4696, Val Loss: 1.5704\n",
      "Epoch 33, Train Loss: 1.4663, Val Loss: 1.5667\n",
      "Epoch 34, Train Loss: 1.4639, Val Loss: 1.5642\n",
      "Epoch 35, Train Loss: 1.4620, Val Loss: 1.5628\n",
      "Epoch 36, Train Loss: 1.4600, Val Loss: 1.5622\n",
      "Epoch 37, Train Loss: 1.4577, Val Loss: 1.5618\n",
      "Epoch 38, Train Loss: 1.4555, Val Loss: 1.5604\n",
      "Epoch 39, Train Loss: 1.4532, Val Loss: 1.5571\n",
      "Epoch 40, Train Loss: 1.4505, Val Loss: 1.5520\n",
      "Epoch 41, Train Loss: 1.4477, Val Loss: 1.5465\n",
      "Epoch 42, Train Loss: 1.4453, Val Loss: 1.5422\n",
      "Epoch 43, Train Loss: 1.4436, Val Loss: 1.5394\n",
      "Epoch 44, Train Loss: 1.4422, Val Loss: 1.5380\n",
      "Epoch 45, Train Loss: 1.4403, Val Loss: 1.5374\n",
      "Epoch 46, Train Loss: 1.4380, Val Loss: 1.5370\n",
      "Epoch 47, Train Loss: 1.4357, Val Loss: 1.5359\n",
      "Epoch 48, Train Loss: 1.4335, Val Loss: 1.5337\n",
      "Epoch 49, Train Loss: 1.4315, Val Loss: 1.5306\n",
      "Epoch 50, Train Loss: 1.4297, Val Loss: 1.5275\n",
      "Training GAT (4 heads)...\n",
      "Epoch 1, Train Loss: 1.8932, Val Loss: 7.8947\n",
      "Epoch 2, Train Loss: 7.1184, Val Loss: 3.7525\n",
      "Epoch 3, Train Loss: 3.3381, Val Loss: 2.6800\n",
      "Epoch 4, Train Loss: 2.5752, Val Loss: 2.4602\n",
      "Epoch 5, Train Loss: 2.3840, Val Loss: 2.2275\n",
      "Epoch 6, Train Loss: 2.0978, Val Loss: 2.3062\n",
      "Epoch 7, Train Loss: 2.1224, Val Loss: 2.0590\n",
      "Epoch 8, Train Loss: 1.8719, Val Loss: 1.9836\n",
      "Epoch 9, Train Loss: 1.8305, Val Loss: 1.7872\n",
      "Epoch 10, Train Loss: 1.7427, Val Loss: 1.9274\n",
      "Epoch 11, Train Loss: 1.8975, Val Loss: 1.7584\n",
      "Epoch 12, Train Loss: 1.6880, Val Loss: 1.7221\n",
      "Epoch 13, Train Loss: 1.5913, Val Loss: 1.8234\n",
      "Epoch 14, Train Loss: 1.6562, Val Loss: 1.8503\n",
      "Epoch 15, Train Loss: 1.6875, Val Loss: 1.8185\n",
      "Epoch 16, Train Loss: 1.6766, Val Loss: 1.7629\n",
      "Epoch 17, Train Loss: 1.6407, Val Loss: 1.7330\n",
      "Epoch 18, Train Loss: 1.6227, Val Loss: 1.6993\n",
      "Epoch 19, Train Loss: 1.5902, Val Loss: 1.7111\n",
      "Epoch 20, Train Loss: 1.5970, Val Loss: 1.6993\n",
      "Epoch 21, Train Loss: 1.5793, Val Loss: 1.6829\n",
      "Epoch 22, Train Loss: 1.5572, Val Loss: 1.6942\n",
      "Epoch 23, Train Loss: 1.5633, Val Loss: 1.7147\n",
      "Epoch 24, Train Loss: 1.5824, Val Loss: 1.7058\n",
      "Epoch 25, Train Loss: 1.5785, Val Loss: 1.6668\n",
      "Epoch 26, Train Loss: 1.5495, Val Loss: 1.6304\n",
      "Epoch 27, Train Loss: 1.5233, Val Loss: 1.6192\n",
      "Epoch 28, Train Loss: 1.5167, Val Loss: 1.6314\n",
      "Epoch 29, Train Loss: 1.5246, Val Loss: 1.6483\n",
      "Epoch 30, Train Loss: 1.5305, Val Loss: 1.6561\n",
      "Epoch 31, Train Loss: 1.5281, Val Loss: 1.6505\n",
      "Epoch 32, Train Loss: 1.5205, Val Loss: 1.6354\n",
      "Epoch 33, Train Loss: 1.5131, Val Loss: 1.6228\n",
      "Epoch 34, Train Loss: 1.5121, Val Loss: 1.6145\n",
      "Epoch 35, Train Loss: 1.5104, Val Loss: 1.6095\n",
      "Epoch 36, Train Loss: 1.5035, Val Loss: 1.6131\n",
      "Epoch 37, Train Loss: 1.5011, Val Loss: 1.6192\n",
      "Epoch 38, Train Loss: 1.5036, Val Loss: 1.6179\n",
      "Epoch 39, Train Loss: 1.5034, Val Loss: 1.6094\n",
      "Epoch 40, Train Loss: 1.4984, Val Loss: 1.6018\n",
      "Epoch 41, Train Loss: 1.4923, Val Loss: 1.6008\n",
      "Epoch 42, Train Loss: 1.4897, Val Loss: 1.6048\n",
      "Epoch 43, Train Loss: 1.4912, Val Loss: 1.6053\n",
      "Epoch 44, Train Loss: 1.4904, Val Loss: 1.6009\n",
      "Epoch 45, Train Loss: 1.4859, Val Loss: 1.5976\n",
      "Epoch 46, Train Loss: 1.4824, Val Loss: 1.5976\n",
      "Epoch 47, Train Loss: 1.4811, Val Loss: 1.5984\n",
      "Epoch 48, Train Loss: 1.4806, Val Loss: 1.5958\n",
      "Epoch 49, Train Loss: 1.4790, Val Loss: 1.5905\n",
      "Epoch 50, Train Loss: 1.4764, Val Loss: 1.5872\n",
      "Training RGCN...\n",
      "Epoch 1, Train Loss: 2.9733, Val Loss: 22.1859\n",
      "Epoch 2, Train Loss: 21.9418, Val Loss: 19.2879\n",
      "Epoch 3, Train Loss: 20.6031, Val Loss: 15.9362\n",
      "Epoch 4, Train Loss: 16.8824, Val Loss: 11.0444\n",
      "Epoch 5, Train Loss: 11.2983, Val Loss: 11.5772\n",
      "Epoch 6, Train Loss: 11.1427, Val Loss: 11.1803\n",
      "Epoch 7, Train Loss: 10.4093, Val Loss: 10.2419\n",
      "Epoch 8, Train Loss: 9.4010, Val Loss: 8.0403\n",
      "Epoch 9, Train Loss: 7.2728, Val Loss: 6.5184\n",
      "Epoch 10, Train Loss: 5.8624, Val Loss: 4.6885\n",
      "Epoch 11, Train Loss: 4.1671, Val Loss: 3.5201\n",
      "Epoch 12, Train Loss: 3.1816, Val Loss: 2.7357\n",
      "Epoch 13, Train Loss: 2.5490, Val Loss: 2.2209\n",
      "Epoch 14, Train Loss: 2.1420, Val Loss: 1.9984\n",
      "Epoch 15, Train Loss: 1.9677, Val Loss: 1.9212\n",
      "Epoch 16, Train Loss: 1.9045, Val Loss: 1.9070\n",
      "Epoch 17, Train Loss: 1.8932, Val Loss: 1.9055\n",
      "Epoch 18, Train Loss: 1.8921, Val Loss: 1.9070\n",
      "Epoch 19, Train Loss: 1.8932, Val Loss: 1.9006\n",
      "Epoch 20, Train Loss: 1.8874, Val Loss: 1.8969\n",
      "Epoch 21, Train Loss: 1.8834, Val Loss: 1.8919\n",
      "Epoch 22, Train Loss: 1.8777, Val Loss: 1.8856\n",
      "Epoch 23, Train Loss: 1.8696, Val Loss: 1.8768\n",
      "Epoch 24, Train Loss: 1.8579, Val Loss: 1.8791\n",
      "Epoch 25, Train Loss: 1.8541, Val Loss: 1.8653\n",
      "Epoch 26, Train Loss: 1.8393, Val Loss: 1.8584\n",
      "Epoch 27, Train Loss: 1.8312, Val Loss: 1.8431\n",
      "Epoch 28, Train Loss: 1.8108, Val Loss: 1.8417\n",
      "Epoch 29, Train Loss: 1.7945, Val Loss: 1.8135\n",
      "Epoch 30, Train Loss: 1.7640, Val Loss: 1.7872\n",
      "Epoch 31, Train Loss: 1.7343, Val Loss: 1.7599\n",
      "Epoch 32, Train Loss: 1.6896, Val Loss: 1.7503\n",
      "Epoch 33, Train Loss: 1.6642, Val Loss: 1.7059\n",
      "Epoch 34, Train Loss: 1.6336, Val Loss: 1.6898\n",
      "Epoch 35, Train Loss: 1.6111, Val Loss: 1.7010\n",
      "Epoch 36, Train Loss: 1.6138, Val Loss: 1.6788\n",
      "Epoch 37, Train Loss: 1.5999, Val Loss: 1.6746\n",
      "Epoch 38, Train Loss: 1.6032, Val Loss: 1.6664\n",
      "Epoch 39, Train Loss: 1.5870, Val Loss: 1.6668\n",
      "Epoch 40, Train Loss: 1.5821, Val Loss: 1.6429\n",
      "Epoch 41, Train Loss: 1.5633, Val Loss: 1.6354\n",
      "Epoch 42, Train Loss: 1.5592, Val Loss: 1.6307\n",
      "Epoch 43, Train Loss: 1.5479, Val Loss: 1.6356\n",
      "Epoch 44, Train Loss: 1.5481, Val Loss: 1.6237\n",
      "Epoch 45, Train Loss: 1.5415, Val Loss: 1.6233\n",
      "Epoch 46, Train Loss: 1.5433, Val Loss: 1.6237\n",
      "Epoch 47, Train Loss: 1.5369, Val Loss: 1.6280\n",
      "Epoch 48, Train Loss: 1.5346, Val Loss: 1.6169\n",
      "Epoch 49, Train Loss: 1.5251, Val Loss: 1.6118\n",
      "Epoch 50, Train Loss: 1.5209, Val Loss: 1.6092\n",
      "\n",
      "Benchmark Results:\n",
      "Model\t\t\tTest Accuracy\tTest F1-Score\n",
      "GCN (2 layers)      \t49.94\t\t13.84\n",
      "GAT (4 heads)       \t48.42\t\t10.29\n",
      "RGCN                \t50.20\t\t14.67\n"
     ]
    }
   ],
   "source": [
    "main_pipeline(data)"
   ]
  },
  {
   "cell_type": "code",
   "execution_count": 10,
   "metadata": {},
   "outputs": [
    {
     "name": "stdout",
     "output_type": "stream",
     "text": [
      "Unique edge types: tensor([ 0,  1,  2,  3,  4,  5,  6,  7,  8,  9, 10, 11])\n",
      "Unique edge types: tensor([ 0,  1,  2,  3,  4,  5,  6,  7,  8,  9, 10, 11])\n",
      "Unique edge types: tensor([ 0,  1,  2,  3,  4,  5,  6,  7,  8,  9, 10, 11])\n",
      "Training GCN (2 layers)...\n",
      "Epoch 1, Train Loss: 1.9243, Val Loss: 2.8714\n",
      "Epoch 2, Train Loss: 2.5615, Val Loss: 1.9500\n",
      "Epoch 3, Train Loss: 1.7542, Val Loss: 1.7222\n",
      "Epoch 4, Train Loss: 1.6235, Val Loss: 1.7466\n",
      "Epoch 5, Train Loss: 1.6940, Val Loss: 1.7209\n",
      "Epoch 6, Train Loss: 1.6786, Val Loss: 1.6745\n",
      "Epoch 7, Train Loss: 1.6260, Val Loss: 1.6390\n",
      "Epoch 8, Train Loss: 1.5764, Val Loss: 1.6336\n",
      "Epoch 9, Train Loss: 1.5536, Val Loss: 1.6564\n",
      "Epoch 10, Train Loss: 1.5592, Val Loss: 1.6833\n",
      "Epoch 11, Train Loss: 1.5718, Val Loss: 1.6930\n",
      "Epoch 12, Train Loss: 1.5730, Val Loss: 1.6799\n",
      "Epoch 13, Train Loss: 1.5588, Val Loss: 1.6550\n",
      "Epoch 14, Train Loss: 1.5390, Val Loss: 1.6342\n",
      "Epoch 15, Train Loss: 1.5263, Val Loss: 1.6231\n",
      "Epoch 16, Train Loss: 1.5239, Val Loss: 1.6191\n",
      "Epoch 17, Train Loss: 1.5267, Val Loss: 1.6165\n",
      "Epoch 18, Train Loss: 1.5277, Val Loss: 1.6123\n",
      "Epoch 19, Train Loss: 1.5238, Val Loss: 1.6073\n",
      "Epoch 20, Train Loss: 1.5163, Val Loss: 1.6046\n",
      "Epoch 21, Train Loss: 1.5087, Val Loss: 1.6056\n",
      "Epoch 22, Train Loss: 1.5038, Val Loss: 1.6095\n",
      "Epoch 23, Train Loss: 1.5020, Val Loss: 1.6132\n",
      "Epoch 24, Train Loss: 1.5014, Val Loss: 1.6137\n",
      "Epoch 25, Train Loss: 1.4998, Val Loss: 1.6093\n",
      "Epoch 26, Train Loss: 1.4959, Val Loss: 1.6008\n",
      "Epoch 27, Train Loss: 1.4903, Val Loss: 1.5909\n",
      "Epoch 28, Train Loss: 1.4850, Val Loss: 1.5826\n",
      "Epoch 29, Train Loss: 1.4817, Val Loss: 1.5770\n",
      "Epoch 30, Train Loss: 1.4807, Val Loss: 1.5736\n",
      "Epoch 31, Train Loss: 1.4803, Val Loss: 1.5710\n",
      "Epoch 32, Train Loss: 1.4786, Val Loss: 1.5688\n",
      "Epoch 33, Train Loss: 1.4750, Val Loss: 1.5677\n",
      "Epoch 34, Train Loss: 1.4707, Val Loss: 1.5684\n",
      "Epoch 35, Train Loss: 1.4673, Val Loss: 1.5709\n",
      "Epoch 36, Train Loss: 1.4656, Val Loss: 1.5728\n",
      "Epoch 37, Train Loss: 1.4647, Val Loss: 1.5715\n",
      "Epoch 38, Train Loss: 1.4630, Val Loss: 1.5668\n",
      "Epoch 39, Train Loss: 1.4602, Val Loss: 1.5603\n",
      "Epoch 40, Train Loss: 1.4568, Val Loss: 1.5539\n",
      "Epoch 41, Train Loss: 1.4540, Val Loss: 1.5490\n",
      "Epoch 42, Train Loss: 1.4521, Val Loss: 1.5457\n",
      "Epoch 43, Train Loss: 1.4505, Val Loss: 1.5440\n",
      "Epoch 44, Train Loss: 1.4486, Val Loss: 1.5442\n",
      "Epoch 45, Train Loss: 1.4467, Val Loss: 1.5448\n",
      "Epoch 46, Train Loss: 1.4450, Val Loss: 1.5433\n",
      "Epoch 47, Train Loss: 1.4430, Val Loss: 1.5396\n",
      "Epoch 48, Train Loss: 1.4408, Val Loss: 1.5360\n",
      "Epoch 49, Train Loss: 1.4390, Val Loss: 1.5338\n",
      "Epoch 50, Train Loss: 1.4374, Val Loss: 1.5327\n",
      "Training GAT (4 heads)...\n",
      "Epoch 1, Train Loss: 2.0652, Val Loss: 9.3047\n",
      "Epoch 2, Train Loss: 8.4910, Val Loss: 5.0831\n",
      "Epoch 3, Train Loss: 4.4031, Val Loss: 5.4441\n",
      "Epoch 4, Train Loss: 5.1394, Val Loss: 4.4152\n",
      "Epoch 5, Train Loss: 4.4486, Val Loss: 3.5756\n",
      "Epoch 6, Train Loss: 3.6391, Val Loss: 2.1464\n",
      "Epoch 7, Train Loss: 2.0990, Val Loss: 1.9281\n",
      "Epoch 8, Train Loss: 1.7942, Val Loss: 2.2522\n",
      "Epoch 9, Train Loss: 2.0464, Val Loss: 2.4109\n",
      "Epoch 10, Train Loss: 2.1635, Val Loss: 2.4160\n",
      "Epoch 11, Train Loss: 2.1555, Val Loss: 2.3363\n",
      "Epoch 12, Train Loss: 2.0838, Val Loss: 2.2303\n",
      "Epoch 13, Train Loss: 2.0018, Val Loss: 2.1254\n",
      "Epoch 14, Train Loss: 1.9329, Val Loss: 1.9309\n",
      "Epoch 15, Train Loss: 1.7757, Val Loss: 1.7461\n",
      "Epoch 16, Train Loss: 1.6228, Val Loss: 1.6799\n",
      "Epoch 17, Train Loss: 1.5823, Val Loss: 1.7351\n",
      "Epoch 18, Train Loss: 1.6544, Val Loss: 1.8185\n",
      "Epoch 19, Train Loss: 1.7406, Val Loss: 1.8065\n",
      "Epoch 20, Train Loss: 1.7206, Val Loss: 1.7441\n",
      "Epoch 21, Train Loss: 1.6409, Val Loss: 1.7389\n",
      "Epoch 22, Train Loss: 1.6116, Val Loss: 1.7715\n",
      "Epoch 23, Train Loss: 1.6215, Val Loss: 1.8026\n",
      "Epoch 24, Train Loss: 1.6374, Val Loss: 1.8078\n",
      "Epoch 25, Train Loss: 1.6382, Val Loss: 1.7732\n",
      "Epoch 26, Train Loss: 1.6105, Val Loss: 1.7181\n",
      "Epoch 27, Train Loss: 1.5723, Val Loss: 1.6783\n",
      "Epoch 28, Train Loss: 1.5557, Val Loss: 1.6665\n",
      "Epoch 29, Train Loss: 1.5682, Val Loss: 1.6679\n",
      "Epoch 30, Train Loss: 1.5874, Val Loss: 1.6522\n",
      "Epoch 31, Train Loss: 1.5776, Val Loss: 1.6302\n",
      "Epoch 32, Train Loss: 1.5497, Val Loss: 1.6265\n",
      "Epoch 33, Train Loss: 1.5319, Val Loss: 1.6442\n",
      "Epoch 34, Train Loss: 1.5334, Val Loss: 1.6708\n",
      "Epoch 35, Train Loss: 1.5465, Val Loss: 1.6880\n",
      "Epoch 36, Train Loss: 1.5555, Val Loss: 1.6861\n",
      "Epoch 37, Train Loss: 1.5516, Val Loss: 1.6700\n",
      "Epoch 38, Train Loss: 1.5388, Val Loss: 1.6510\n",
      "Epoch 39, Train Loss: 1.5257, Val Loss: 1.6378\n",
      "Epoch 40, Train Loss: 1.5183, Val Loss: 1.6337\n",
      "Epoch 41, Train Loss: 1.5183, Val Loss: 1.6350\n",
      "Epoch 42, Train Loss: 1.5220, Val Loss: 1.6355\n",
      "Epoch 43, Train Loss: 1.5232, Val Loss: 1.6322\n",
      "Epoch 44, Train Loss: 1.5189, Val Loss: 1.6285\n",
      "Epoch 45, Train Loss: 1.5125, Val Loss: 1.6300\n",
      "Epoch 46, Train Loss: 1.5103, Val Loss: 1.6347\n",
      "Epoch 47, Train Loss: 1.5113, Val Loss: 1.6366\n",
      "Epoch 48, Train Loss: 1.5110, Val Loss: 1.6332\n",
      "Epoch 49, Train Loss: 1.5079, Val Loss: 1.6265\n",
      "Epoch 50, Train Loss: 1.5043, Val Loss: 1.6201\n",
      "Training RGCN...\n",
      "Epoch 1, Train Loss: 4.9065, Val Loss: 22.4273\n",
      "Epoch 2, Train Loss: 22.1421, Val Loss: 16.1626\n",
      "Epoch 3, Train Loss: 16.4545, Val Loss: 19.2892\n",
      "Epoch 4, Train Loss: 19.8647, Val Loss: 13.5468\n",
      "Epoch 5, Train Loss: 14.0127, Val Loss: 11.4279\n",
      "Epoch 6, Train Loss: 11.6167, Val Loss: 9.9246\n",
      "Epoch 7, Train Loss: 9.8842, Val Loss: 8.0150\n",
      "Epoch 8, Train Loss: 7.7635, Val Loss: 7.6699\n",
      "Epoch 9, Train Loss: 7.3326, Val Loss: 6.2377\n",
      "Epoch 10, Train Loss: 5.8354, Val Loss: 5.5614\n",
      "Epoch 11, Train Loss: 5.1224, Val Loss: 4.8224\n",
      "Epoch 12, Train Loss: 4.3913, Val Loss: 3.7698\n",
      "Epoch 13, Train Loss: 3.3968, Val Loss: 2.7925\n",
      "Epoch 14, Train Loss: 2.4998, Val Loss: 2.2772\n",
      "Epoch 15, Train Loss: 2.0453, Val Loss: 2.1412\n",
      "Epoch 16, Train Loss: 1.9768, Val Loss: 2.0342\n",
      "Epoch 17, Train Loss: 1.9329, Val Loss: 1.9123\n",
      "Epoch 18, Train Loss: 1.8608, Val Loss: 1.9101\n",
      "Epoch 19, Train Loss: 1.8745, Val Loss: 1.9444\n",
      "Epoch 20, Train Loss: 1.9096, Val Loss: 1.9450\n",
      "Epoch 21, Train Loss: 1.9148, Val Loss: 1.9293\n",
      "Epoch 22, Train Loss: 1.9052, Val Loss: 1.9167\n",
      "Epoch 23, Train Loss: 1.8978, Val Loss: 1.9082\n",
      "Epoch 24, Train Loss: 1.8928, Val Loss: 1.9014\n",
      "Epoch 25, Train Loss: 1.8884, Val Loss: 1.8948\n",
      "Epoch 26, Train Loss: 1.8827, Val Loss: 1.8877\n",
      "Epoch 27, Train Loss: 1.8753, Val Loss: 1.8801\n",
      "Epoch 28, Train Loss: 1.8664, Val Loss: 1.8720\n",
      "Epoch 29, Train Loss: 1.8564, Val Loss: 1.8640\n",
      "Epoch 30, Train Loss: 1.8454, Val Loss: 1.8565\n",
      "Epoch 31, Train Loss: 1.8338, Val Loss: 1.8490\n",
      "Epoch 32, Train Loss: 1.8213, Val Loss: 1.8419\n",
      "Epoch 33, Train Loss: 1.8074, Val Loss: 1.8346\n",
      "Epoch 34, Train Loss: 1.7920, Val Loss: 1.8262\n",
      "Epoch 35, Train Loss: 1.7745, Val Loss: 1.8150\n",
      "Epoch 36, Train Loss: 1.7549, Val Loss: 1.8002\n",
      "Epoch 37, Train Loss: 1.7324, Val Loss: 1.7827\n",
      "Epoch 38, Train Loss: 1.7085, Val Loss: 1.7633\n",
      "Epoch 39, Train Loss: 1.6841, Val Loss: 1.7432\n",
      "Epoch 40, Train Loss: 1.6581, Val Loss: 1.7264\n",
      "Epoch 41, Train Loss: 1.6334, Val Loss: 1.7163\n",
      "Epoch 42, Train Loss: 1.6152, Val Loss: 1.7115\n",
      "Epoch 43, Train Loss: 1.6052, Val Loss: 1.7048\n",
      "Epoch 44, Train Loss: 1.5975, Val Loss: 1.6867\n",
      "Epoch 45, Train Loss: 1.5835, Val Loss: 1.6603\n",
      "Epoch 46, Train Loss: 1.5628, Val Loss: 1.6373\n",
      "Epoch 47, Train Loss: 1.5443, Val Loss: 1.6270\n",
      "Epoch 48, Train Loss: 1.5360, Val Loss: 1.6260\n",
      "Epoch 49, Train Loss: 1.5353, Val Loss: 1.6195\n",
      "Epoch 50, Train Loss: 1.5331, Val Loss: 1.6132\n",
      "\n",
      "Benchmark Results:\n",
      "Model\t\t\tTest Accuracy\tTest F1-Score\n",
      "GCN (2 layers)      \t49.85\t\t13.37\n",
      "GAT (4 heads)       \t48.49\t\t10.39\n",
      "RGCN                \t48.74\t\t13.47\n"
     ]
    }
   ],
   "source": [
    "class CNN_Graph_Model(torch.nn.Module):\n",
    "    def __init__(self, in_channels, cnn_channels, hidden_channels, out_channels, num_relations=None, graph_type=\"GCN\", dropout=0.5):\n",
    "        super(CNN_Graph_Model, self).__init__()\n",
    "        # Couche CNN\n",
    "        self.cnn = torch.nn.Conv1d(in_channels=in_channels, out_channels=cnn_channels, kernel_size=3, padding=1)\n",
    "        \n",
    "        # Type de couche graphique\n",
    "        if graph_type == \"GCN\":\n",
    "            self.graph_conv1 = GCNConv(cnn_channels, hidden_channels)\n",
    "            self.graph_conv2 = GCNConv(hidden_channels, out_channels)\n",
    "        elif graph_type == \"GAT\":\n",
    "            self.graph_conv1 = GATConv(cnn_channels, hidden_channels, heads=4)\n",
    "            self.graph_conv2 = GATConv(hidden_channels * 4, out_channels, heads=1)\n",
    "        elif graph_type == \"RGCN\":\n",
    "            assert num_relations is not None, \"RGCN nécessite le nombre de relations\"\n",
    "            self.graph_conv1 = RGCNConv(cnn_channels, hidden_channels, num_relations)\n",
    "            self.graph_conv2 = RGCNConv(hidden_channels, out_channels, num_relations)\n",
    "        \n",
    "        # MLP final\n",
    "        self.fc1 = torch.nn.Linear(out_channels, 128)\n",
    "        self.fc2 = torch.nn.Linear(128, out_channels)\n",
    "\n",
    "        # Dropout\n",
    "        self.dropout = dropout\n",
    "\n",
    "    def forward(self, x, edge_index, edge_type=None):\n",
    "        # Passer les données par la couche CNN\n",
    "        x = x.unsqueeze(1)  # Ajouter une dimension de canal pour Conv1d\n",
    "        x = self.cnn(x)\n",
    "        x = F.relu(x)\n",
    "        x = torch.flatten(x, start_dim=1)  # Réduire les dimensions\n",
    "\n",
    "        # Passer par la couche graphique\n",
    "        if isinstance(self.graph_conv1, RGCNConv):  # RGCN\n",
    "            x = self.graph_conv1(x, edge_index, edge_type)\n",
    "        else:  # GCN ou GAT\n",
    "            x = self.graph_conv1(x, edge_index)\n",
    "        x = F.relu(x)\n",
    "        x = F.dropout(x, p=self.dropout, training=self.training)\n",
    "        if isinstance(self.graph_conv2, RGCNConv):  # RGCN\n",
    "            x = self.graph_conv2(x, edge_index, edge_type)\n",
    "        else:  # GCN ou GAT\n",
    "            x = self.graph_conv2(x, edge_index)\n",
    "\n",
    "        # Passer par le MLP\n",
    "        x = F.relu(self.fc1(x))\n",
    "        x = self.fc2(x)\n",
    "\n",
    "        return F.log_softmax(x, dim=1)\n",
    "\n",
    "# -------- Entraîner et Évaluer le Modèle --------\n",
    "def train_and_evaluate_with_cnn(model, train_data, val_data, test_data, optimizer, criterion, epochs=50):\n",
    "    for epoch in range(epochs):\n",
    "        # Entraînement\n",
    "        model.train()\n",
    "        optimizer.zero_grad()\n",
    "        if isinstance(model.graph_conv1, RGCNConv):\n",
    "            out = model(train_data.x, train_data.edge_index, train_data.edge_type)\n",
    "        else:\n",
    "            out = model(train_data.x, train_data.edge_index)\n",
    "        loss = criterion(out, train_data.y)\n",
    "        loss.backward()\n",
    "        optimizer.step()\n",
    "\n",
    "        # Validation\n",
    "        model.eval()\n",
    "        with torch.no_grad():\n",
    "            if isinstance(model.graph_conv1, RGCNConv):\n",
    "                val_out = model(val_data.x, val_data.edge_index, val_data.edge_type)\n",
    "            else:\n",
    "                val_out = model(val_data.x, val_data.edge_index)\n",
    "            val_loss = criterion(val_out, val_data.y)\n",
    "        print(f\"Epoch {epoch + 1}, Train Loss: {loss.item():.4f}, Val Loss: {val_loss.item():.4f}\")\n",
    "\n",
    "    # Test\n",
    "    model.eval()\n",
    "    with torch.no_grad():\n",
    "        if isinstance(model.graph_conv1, RGCNConv):\n",
    "            test_out = model(test_data.x, test_data.edge_index, test_data.edge_type)\n",
    "        else:\n",
    "            test_out = model(test_data.x, test_data.edge_index)\n",
    "        test_pred = test_out.argmax(dim=1)\n",
    "        test_acc = accuracy_score(test_data.y.cpu(), test_pred.cpu())\n",
    "        test_f1 = f1_score(test_data.y.cpu(), test_pred.cpu(), average='macro')\n",
    "\n",
    "    return test_acc, test_f1\n",
    "\n",
    "# -------- Pipeline Principal avec CNN + Graph --------\n",
    "def main_pipeline_with_cnn(data):\n",
    "    # Préparer les données\n",
    "    train_data = prepare_graph_data(data, 'train')\n",
    "    val_data = prepare_graph_data(data, 'val')\n",
    "    test_data = prepare_graph_data(data, 'test')\n",
    "\n",
    "    # Configurations de modèles\n",
    "    architectures = [\n",
    "        (\"GCN + CNN + MLP\", CNN_Graph_Model(train_data.x.size(1), 32, 64, len(torch.unique(train_data.y)), graph_type=\"GCN\")),\n",
    "        (\"GAT + CNN + MLP\", CNN_Graph_Model(train_data.x.size(1), 32, 64, len(torch.unique(train_data.y)), graph_type=\"GAT\")),\n",
    "        (\"RGCN + CNN + MLP\", CNN_Graph_Model(train_data.x.size(1), 32, 64, len(torch.unique(train_data.y)), num_relations=12, graph_type=\"RGCN\")),\n",
    "    ]\n",
    "\n",
    "    # Entraîner et évaluer chaque modèle\n",
    "    results = []\n",
    "    for name, model in architectures:\n",
    "        print(f\"Training {name}...\")\n",
    "        optimizer = torch.optim.Adam(model.parameters(), lr=0.005, weight_decay=5e-4)\n",
    "        criterion = torch.nn.CrossEntropyLoss()\n",
    "        acc, f1 = train_and_evaluate_with_cnn(model, train_data, val_data, test_data, optimizer, criterion)\n",
    "        results.append((name, acc * 100, f1 * 100))\n",
    "\n",
    "    # Afficher les résultats\n",
    "    print(\"\\nBenchmark Results:\")\n",
    "    print(\"Model\\t\\t\\tTest Accuracy\\tTest F1-Score\")\n",
    "    for name, acc, f1 in results:\n",
    "        print(f\"{name:20}\\t{acc:.2f}\\t\\t{f1:.2f}\")\n",
    "main_pipeline(data)"
   ]
  },
  {
   "cell_type": "markdown",
   "metadata": {},
   "source": [
    "Normalization graph"
   ]
  },
  {
   "cell_type": "code",
   "execution_count": 12,
   "metadata": {},
   "outputs": [
    {
     "name": "stdout",
     "output_type": "stream",
     "text": [
      "Epoch 1, Train Loss: 1.8920, Val Loss: 1.8419\n",
      "Epoch 2, Train Loss: 1.8026, Val Loss: 1.8997\n",
      "Epoch 3, Train Loss: 1.8555, Val Loss: 1.6505\n",
      "Epoch 4, Train Loss: 1.6581, Val Loss: 1.6332\n",
      "Epoch 5, Train Loss: 1.6640, Val Loss: 1.6459\n",
      "Epoch 6, Train Loss: 1.6624, Val Loss: 1.5598\n",
      "Epoch 7, Train Loss: 1.5539, Val Loss: 1.5819\n",
      "Epoch 8, Train Loss: 1.5402, Val Loss: 1.6112\n",
      "Epoch 9, Train Loss: 1.5483, Val Loss: 1.5850\n",
      "Epoch 10, Train Loss: 1.5023, Val Loss: 1.5640\n",
      "Epoch 11, Train Loss: 1.4678, Val Loss: 1.5555\n",
      "Epoch 12, Train Loss: 1.4631, Val Loss: 1.5326\n",
      "Epoch 13, Train Loss: 1.4498, Val Loss: 1.5167\n",
      "Epoch 14, Train Loss: 1.4371, Val Loss: 1.5158\n",
      "Epoch 15, Train Loss: 1.4296, Val Loss: 1.5106\n",
      "Epoch 16, Train Loss: 1.4181, Val Loss: 1.5030\n",
      "Epoch 17, Train Loss: 1.3998, Val Loss: 1.5069\n",
      "Epoch 18, Train Loss: 1.4013, Val Loss: 1.5112\n",
      "Epoch 19, Train Loss: 1.3991, Val Loss: 1.5012\n",
      "Epoch 20, Train Loss: 1.3872, Val Loss: 1.4902\n",
      "Epoch 21, Train Loss: 1.3792, Val Loss: 1.4872\n",
      "Epoch 22, Train Loss: 1.3696, Val Loss: 1.4844\n",
      "Epoch 23, Train Loss: 1.3631, Val Loss: 1.4816\n",
      "Epoch 24, Train Loss: 1.3593, Val Loss: 1.4833\n",
      "Epoch 25, Train Loss: 1.3565, Val Loss: 1.4850\n",
      "Epoch 26, Train Loss: 1.3506, Val Loss: 1.4824\n",
      "Epoch 27, Train Loss: 1.3463, Val Loss: 1.4816\n",
      "Epoch 28, Train Loss: 1.3342, Val Loss: 1.4844\n",
      "Epoch 29, Train Loss: 1.3382, Val Loss: 1.4845\n",
      "Epoch 30, Train Loss: 1.3325, Val Loss: 1.4816\n",
      "Epoch 31, Train Loss: 1.3251, Val Loss: 1.4802\n",
      "Epoch 32, Train Loss: 1.3246, Val Loss: 1.4792\n",
      "Epoch 33, Train Loss: 1.3193, Val Loss: 1.4775\n",
      "Epoch 34, Train Loss: 1.3126, Val Loss: 1.4772\n",
      "Epoch 35, Train Loss: 1.3104, Val Loss: 1.4777\n",
      "Epoch 36, Train Loss: 1.3080, Val Loss: 1.4769\n",
      "Epoch 37, Train Loss: 1.3012, Val Loss: 1.4757\n",
      "Epoch 38, Train Loss: 1.3004, Val Loss: 1.4752\n",
      "Epoch 39, Train Loss: 1.3004, Val Loss: 1.4743\n",
      "Epoch 40, Train Loss: 1.2951, Val Loss: 1.4732\n",
      "Epoch 41, Train Loss: 1.2915, Val Loss: 1.4725\n",
      "Epoch 42, Train Loss: 1.2854, Val Loss: 1.4715\n",
      "Epoch 43, Train Loss: 1.2867, Val Loss: 1.4699\n",
      "Epoch 44, Train Loss: 1.2799, Val Loss: 1.4700\n",
      "Epoch 45, Train Loss: 1.2813, Val Loss: 1.4720\n",
      "Epoch 46, Train Loss: 1.2811, Val Loss: 1.4743\n",
      "Epoch 47, Train Loss: 1.2784, Val Loss: 1.4757\n",
      "Epoch 48, Train Loss: 1.2715, Val Loss: 1.4752\n",
      "Epoch 49, Train Loss: 1.2720, Val Loss: 1.4750\n",
      "Epoch 50, Train Loss: 1.2663, Val Loss: 1.4752\n",
      "\n",
      "Test Accuracy: 52.46%, Test F1-Score: 23.24%\n"
     ]
    }
   ],
   "source": [
    "import torch\n",
    "import torch.nn.functional as F\n",
    "from torch_geometric.data import Data\n",
    "from torch_geometric.nn import GCNConv, GATConv, RGCNConv\n",
    "from sklearn.preprocessing import StandardScaler\n",
    "from sklearn.metrics import accuracy_score, f1_score\n",
    "import numpy as np\n",
    "\n",
    "# -------- Normalisation des Features --------\n",
    "def normalize_features(features):\n",
    "    scaler = StandardScaler()\n",
    "    normalized = scaler.fit_transform(features.cpu().numpy())\n",
    "    return torch.tensor(normalized, dtype=torch.float)\n",
    "\n",
    "# -------- Préparer les données --------\n",
    "def prepare_graph_data(data, split):\n",
    "    # Moyennage sur la dimension temporelle pour la modalité vidéo\n",
    "    video_features = torch.mean(data[split]['video']['features'], dim=1)  # Moyenne sur la dimension temporelle\n",
    "\n",
    "    # Concaténer les features\n",
    "    features = torch.cat([\n",
    "        normalize_features(data[split]['audio']['features']),\n",
    "        normalize_features(data[split]['text']['features']),\n",
    "        normalize_features(video_features)\n",
    "    ], dim=0)\n",
    "\n",
    "    # Concaténer les labels\n",
    "    labels = torch.cat([\n",
    "        data[split]['audio']['labels'],\n",
    "        data[split]['text']['labels'],\n",
    "        data[split]['video']['labels']\n",
    "    ], dim=0)\n",
    "\n",
    "    # Initialiser les listes pour edge_index et edge_type\n",
    "    edge_index = []\n",
    "    edge_type = []\n",
    "\n",
    "    # -------- Relations temporelles intra-modales --------\n",
    "    def add_temporal_edges(offset, num_nodes, relation_type):\n",
    "        for i in range(num_nodes):\n",
    "            if i > 0:\n",
    "                edge_index.append([offset + i, offset + i - 1])  # -1 (passé)\n",
    "                edge_type.append(relation_type)\n",
    "            edge_index.append([offset + i, offset + i])  # 0 (présent)\n",
    "            edge_type.append(relation_type + 1)\n",
    "            if i < num_nodes - 1:\n",
    "                edge_index.append([offset + i, offset + i + 1])  # +1 (futur)\n",
    "                edge_type.append(relation_type + 2)\n",
    "\n",
    "    # Ajouter les relations intra-modales\n",
    "    num_audio = data[split]['audio']['features'].size(0)\n",
    "    num_text = data[split]['text']['features'].size(0)\n",
    "    num_video = video_features.size(0)  # Taille après réduction temporelle\n",
    "\n",
    "    add_temporal_edges(0, num_audio, 0)  # Audio : relation types 0, 1, 2\n",
    "    add_temporal_edges(num_audio, num_text, 3)  # Text : relation types 3, 4, 5\n",
    "    add_temporal_edges(num_audio + num_text, num_video, 6)  # Video : relation types 6, 7, 8\n",
    "\n",
    "    # -------- Relations cross-modales --------\n",
    "    for i in range(min(num_audio, num_text, num_video)):\n",
    "        edge_index.append([i, num_audio + num_text + i])  # Audio -> Video\n",
    "        edge_type.append(9)\n",
    "        edge_index.append([num_audio + i, num_audio + num_text + i])  # Text -> Video\n",
    "        edge_type.append(10)\n",
    "        edge_index.append([i, num_audio + i])  # Audio -> Text\n",
    "        edge_type.append(11)\n",
    "\n",
    "    # Convertir en tenseurs\n",
    "    edge_index = torch.tensor(edge_index, dtype=torch.long).t().contiguous()\n",
    "    edge_type = torch.tensor(edge_type, dtype=torch.long)\n",
    "\n",
    "    return Data(x=features, y=labels, edge_index=edge_index, edge_type=edge_type)\n",
    "\n",
    "# -------- Modèle GCN --------\n",
    "class GCN(torch.nn.Module):\n",
    "    def __init__(self, in_channels, hidden_channels, out_channels, dropout=0.0):\n",
    "        super(GCN, self).__init__()\n",
    "        self.conv1 = GCNConv(in_channels, hidden_channels)\n",
    "        self.conv2 = GCNConv(hidden_channels, out_channels)\n",
    "        self.dropout = dropout\n",
    "\n",
    "    def forward(self, x, edge_index):\n",
    "        x = self.conv1(x, edge_index)\n",
    "        x = F.relu(x)\n",
    "        x = F.dropout(x, p=self.dropout, training=self.training)\n",
    "        x = self.conv2(x, edge_index)\n",
    "        return F.log_softmax(x, dim=1)\n",
    "\n",
    "# -------- Entraîner et Tester --------\n",
    "def train_and_evaluate(model, train_data, val_data, test_data, optimizer, criterion, epochs=50):\n",
    "    for epoch in range(epochs):\n",
    "        # Entraînement\n",
    "        model.train()\n",
    "        optimizer.zero_grad()\n",
    "        out = model(train_data.x, train_data.edge_index)\n",
    "        loss = criterion(out, train_data.y)\n",
    "        loss.backward()\n",
    "        optimizer.step()\n",
    "\n",
    "        # Validation\n",
    "        model.eval()\n",
    "        with torch.no_grad():\n",
    "            val_out = model(val_data.x, val_data.edge_index)\n",
    "            val_loss = criterion(val_out, val_data.y)\n",
    "        print(f\"Epoch {epoch + 1}, Train Loss: {loss.item():.4f}, Val Loss: {val_loss.item():.4f}\")\n",
    "\n",
    "    # Test\n",
    "    model.eval()\n",
    "    with torch.no_grad():\n",
    "        test_out = model(test_data.x, test_data.edge_index)\n",
    "        test_pred = test_out.argmax(dim=1)\n",
    "        test_acc = accuracy_score(test_data.y.cpu(), test_pred.cpu())\n",
    "        test_f1 = f1_score(test_data.y.cpu(), test_pred.cpu(), average='macro')\n",
    "\n",
    "    return test_acc, test_f1\n",
    "\n",
    "# -------- Pipeline Principal --------\n",
    "def main_pipeline(data):\n",
    "    # Préparer les données\n",
    "    train_data = prepare_graph_data(data, 'train')\n",
    "    val_data = prepare_graph_data(data, 'val')\n",
    "    test_data = prepare_graph_data(data, 'test')\n",
    "\n",
    "    # Configurer le modèle\n",
    "    model = GCN(train_data.x.size(1), 64, len(torch.unique(train_data.y)), dropout=0.5)\n",
    "    optimizer = torch.optim.AdamW(model.parameters(), lr=0.005, weight_decay=1e-4)\n",
    "    criterion = torch.nn.CrossEntropyLoss()\n",
    "\n",
    "    # Entraîner et évaluer\n",
    "    acc, f1 = train_and_evaluate(model, train_data, val_data, test_data, optimizer, criterion)\n",
    "\n",
    "    print(f\"\\nTest Accuracy: {acc * 100:.2f}%, Test F1-Score: {f1 * 100:.2f}%\")\n",
    "\n",
    "# -------- Exemple d'utilisation --------\n",
    "# data = charger_les_donnees()  # Implémentez cette fonction pour charger vos données.\n",
    "main_pipeline(data)\n"
   ]
  },
  {
   "cell_type": "markdown",
   "metadata": {},
   "source": [
    "Batch Norm + Dropout"
   ]
  },
  {
   "cell_type": "markdown",
   "metadata": {},
   "source": [
    "## **Improvement**"
   ]
  },
  {
   "cell_type": "markdown",
   "metadata": {},
   "source": [
    "**1. Normalisation des Données**"
   ]
  },
  {
   "cell_type": "code",
   "execution_count": 15,
   "metadata": {},
   "outputs": [
    {
     "name": "stdout",
     "output_type": "stream",
     "text": [
      "Training GCN...\n",
      "Epoch 1, Train Loss: 2.3531, Val Loss: 1.9481\n",
      "Epoch 2, Train Loss: 2.1039, Val Loss: 1.9520\n",
      "Epoch 3, Train Loss: 1.9941, Val Loss: 1.8708\n",
      "Epoch 4, Train Loss: 1.9136, Val Loss: 1.8321\n",
      "Epoch 5, Train Loss: 1.8674, Val Loss: 1.8555\n",
      "Epoch 6, Train Loss: 1.8404, Val Loss: 1.8692\n",
      "Epoch 7, Train Loss: 1.8256, Val Loss: 1.8534\n",
      "Epoch 8, Train Loss: 1.8062, Val Loss: 1.8290\n",
      "Epoch 9, Train Loss: 1.7902, Val Loss: 1.8071\n",
      "Epoch 10, Train Loss: 1.7799, Val Loss: 1.7898\n",
      "Epoch 11, Train Loss: 1.7692, Val Loss: 1.7783\n",
      "Epoch 12, Train Loss: 1.7614, Val Loss: 1.7709\n",
      "Epoch 13, Train Loss: 1.7485, Val Loss: 1.7660\n",
      "Epoch 14, Train Loss: 1.7397, Val Loss: 1.7619\n",
      "Epoch 15, Train Loss: 1.7314, Val Loss: 1.7588\n",
      "Epoch 16, Train Loss: 1.7262, Val Loss: 1.7549\n",
      "Epoch 17, Train Loss: 1.7159, Val Loss: 1.7506\n",
      "Epoch 18, Train Loss: 1.7048, Val Loss: 1.7464\n",
      "Epoch 19, Train Loss: 1.7008, Val Loss: 1.7430\n",
      "Epoch 20, Train Loss: 1.6907, Val Loss: 1.7410\n",
      "Epoch 21, Train Loss: 1.6823, Val Loss: 1.7385\n",
      "Epoch 22, Train Loss: 1.6793, Val Loss: 1.7351\n",
      "Epoch 23, Train Loss: 1.6693, Val Loss: 1.7310\n",
      "Epoch 24, Train Loss: 1.6628, Val Loss: 1.7272\n",
      "Epoch 25, Train Loss: 1.6573, Val Loss: 1.7242\n",
      "Epoch 26, Train Loss: 1.6490, Val Loss: 1.7219\n",
      "Epoch 27, Train Loss: 1.6428, Val Loss: 1.7197\n",
      "Epoch 28, Train Loss: 1.6378, Val Loss: 1.7171\n",
      "Epoch 29, Train Loss: 1.6280, Val Loss: 1.7140\n",
      "Epoch 30, Train Loss: 1.6226, Val Loss: 1.7103\n",
      "Epoch 31, Train Loss: 1.6176, Val Loss: 1.7062\n",
      "Epoch 32, Train Loss: 1.6075, Val Loss: 1.7023\n",
      "Epoch 33, Train Loss: 1.6031, Val Loss: 1.6986\n",
      "Epoch 34, Train Loss: 1.5980, Val Loss: 1.6952\n",
      "Epoch 35, Train Loss: 1.5916, Val Loss: 1.6921\n",
      "Epoch 36, Train Loss: 1.5843, Val Loss: 1.6888\n",
      "Epoch 37, Train Loss: 1.5796, Val Loss: 1.6849\n",
      "Epoch 38, Train Loss: 1.5754, Val Loss: 1.6811\n",
      "Epoch 39, Train Loss: 1.5682, Val Loss: 1.6784\n",
      "Epoch 40, Train Loss: 1.5640, Val Loss: 1.6764\n",
      "Epoch 41, Train Loss: 1.5605, Val Loss: 1.6740\n",
      "Epoch 42, Train Loss: 1.5526, Val Loss: 1.6704\n",
      "Epoch 43, Train Loss: 1.5467, Val Loss: 1.6661\n",
      "Epoch 44, Train Loss: 1.5435, Val Loss: 1.6612\n",
      "Epoch 45, Train Loss: 1.5384, Val Loss: 1.6564\n",
      "Epoch 46, Train Loss: 1.5275, Val Loss: 1.6517\n",
      "Epoch 47, Train Loss: 1.5307, Val Loss: 1.6479\n",
      "Epoch 48, Train Loss: 1.5234, Val Loss: 1.6438\n",
      "Epoch 49, Train Loss: 1.5155, Val Loss: 1.6400\n",
      "Epoch 50, Train Loss: 1.5102, Val Loss: 1.6376\n",
      "Training GAT...\n",
      "Epoch 1, Train Loss: 2.3534, Val Loss: 3.6103\n",
      "Epoch 2, Train Loss: 2.0457, Val Loss: 2.8369\n",
      "Epoch 3, Train Loss: 1.9011, Val Loss: 2.4196\n",
      "Epoch 4, Train Loss: 1.8714, Val Loss: 2.2608\n",
      "Epoch 5, Train Loss: 1.8519, Val Loss: 2.1656\n",
      "Epoch 6, Train Loss: 1.8325, Val Loss: 2.0869\n",
      "Epoch 7, Train Loss: 1.8196, Val Loss: 2.0189\n",
      "Epoch 8, Train Loss: 1.8079, Val Loss: 1.9607\n",
      "Epoch 9, Train Loss: 1.7951, Val Loss: 1.9110\n",
      "Epoch 10, Train Loss: 1.7828, Val Loss: 1.8708\n",
      "Epoch 11, Train Loss: 1.7720, Val Loss: 1.8422\n",
      "Epoch 12, Train Loss: 1.7624, Val Loss: 1.8209\n",
      "Epoch 13, Train Loss: 1.7515, Val Loss: 1.8058\n",
      "Epoch 14, Train Loss: 1.7411, Val Loss: 1.7954\n",
      "Epoch 15, Train Loss: 1.7322, Val Loss: 1.7854\n",
      "Epoch 16, Train Loss: 1.7240, Val Loss: 1.7744\n",
      "Epoch 17, Train Loss: 1.7153, Val Loss: 1.7603\n",
      "Epoch 18, Train Loss: 1.7075, Val Loss: 1.7465\n",
      "Epoch 19, Train Loss: 1.6975, Val Loss: 1.7328\n",
      "Epoch 20, Train Loss: 1.6876, Val Loss: 1.7203\n",
      "Epoch 21, Train Loss: 1.6781, Val Loss: 1.7099\n",
      "Epoch 22, Train Loss: 1.6702, Val Loss: 1.6997\n",
      "Epoch 23, Train Loss: 1.6666, Val Loss: 1.6923\n",
      "Epoch 24, Train Loss: 1.6550, Val Loss: 1.6877\n",
      "Epoch 25, Train Loss: 1.6415, Val Loss: 1.6840\n",
      "Epoch 26, Train Loss: 1.6366, Val Loss: 1.6818\n",
      "Epoch 27, Train Loss: 1.6295, Val Loss: 1.6781\n",
      "Epoch 28, Train Loss: 1.6207, Val Loss: 1.6740\n",
      "Epoch 29, Train Loss: 1.6144, Val Loss: 1.6704\n",
      "Epoch 30, Train Loss: 1.6068, Val Loss: 1.6673\n",
      "Epoch 31, Train Loss: 1.5970, Val Loss: 1.6649\n",
      "Epoch 32, Train Loss: 1.5892, Val Loss: 1.6621\n",
      "Epoch 33, Train Loss: 1.5828, Val Loss: 1.6637\n",
      "Epoch 34, Train Loss: 1.5748, Val Loss: 1.6657\n",
      "Epoch 35, Train Loss: 1.5692, Val Loss: 1.6603\n",
      "Epoch 36, Train Loss: 1.5624, Val Loss: 1.6522\n",
      "Epoch 37, Train Loss: 1.5548, Val Loss: 1.6475\n",
      "Epoch 38, Train Loss: 1.5489, Val Loss: 1.6505\n",
      "Epoch 39, Train Loss: 1.5406, Val Loss: 1.6554\n",
      "Epoch 40, Train Loss: 1.5325, Val Loss: 1.6525\n",
      "Epoch 41, Train Loss: 1.5246, Val Loss: 1.6458\n",
      "Epoch 42, Train Loss: 1.5202, Val Loss: 1.6452\n",
      "Epoch 43, Train Loss: 1.5107, Val Loss: 1.6429\n",
      "Epoch 44, Train Loss: 1.5018, Val Loss: 1.6390\n",
      "Epoch 45, Train Loss: 1.4953, Val Loss: 1.6408\n",
      "Epoch 46, Train Loss: 1.4906, Val Loss: 1.6419\n",
      "Epoch 47, Train Loss: 1.4822, Val Loss: 1.6390\n",
      "Epoch 48, Train Loss: 1.4742, Val Loss: 1.6371\n",
      "Epoch 49, Train Loss: 1.4695, Val Loss: 1.6376\n",
      "Epoch 50, Train Loss: 1.4588, Val Loss: 1.6336\n",
      "Training RGCN...\n",
      "Epoch 1, Train Loss: 2.3318, Val Loss: 8.1091\n",
      "Epoch 2, Train Loss: 2.0279, Val Loss: 4.8511\n",
      "Epoch 3, Train Loss: 1.8899, Val Loss: 3.3591\n",
      "Epoch 4, Train Loss: 1.8039, Val Loss: 2.6491\n",
      "Epoch 5, Train Loss: 1.7512, Val Loss: 2.2731\n",
      "Epoch 6, Train Loss: 1.7098, Val Loss: 2.0489\n",
      "Epoch 7, Train Loss: 1.6764, Val Loss: 1.9094\n",
      "Epoch 8, Train Loss: 1.6622, Val Loss: 1.8193\n",
      "Epoch 9, Train Loss: 1.6380, Val Loss: 1.7593\n",
      "Epoch 10, Train Loss: 1.6166, Val Loss: 1.7181\n",
      "Epoch 11, Train Loss: 1.5978, Val Loss: 1.6884\n",
      "Epoch 12, Train Loss: 1.5802, Val Loss: 1.6661\n",
      "Epoch 13, Train Loss: 1.5675, Val Loss: 1.6481\n",
      "Epoch 14, Train Loss: 1.5516, Val Loss: 1.6330\n",
      "Epoch 15, Train Loss: 1.5395, Val Loss: 1.6196\n",
      "Epoch 16, Train Loss: 1.5254, Val Loss: 1.6077\n",
      "Epoch 17, Train Loss: 1.5115, Val Loss: 1.5974\n",
      "Epoch 18, Train Loss: 1.5042, Val Loss: 1.5881\n",
      "Epoch 19, Train Loss: 1.4903, Val Loss: 1.5799\n",
      "Epoch 20, Train Loss: 1.4780, Val Loss: 1.5727\n",
      "Epoch 21, Train Loss: 1.4675, Val Loss: 1.5668\n",
      "Epoch 22, Train Loss: 1.4515, Val Loss: 1.5612\n",
      "Epoch 23, Train Loss: 1.4462, Val Loss: 1.5561\n",
      "Epoch 24, Train Loss: 1.4322, Val Loss: 1.5515\n",
      "Epoch 25, Train Loss: 1.4237, Val Loss: 1.5471\n",
      "Epoch 26, Train Loss: 1.4118, Val Loss: 1.5432\n",
      "Epoch 27, Train Loss: 1.4013, Val Loss: 1.5398\n",
      "Epoch 28, Train Loss: 1.3906, Val Loss: 1.5363\n",
      "Epoch 29, Train Loss: 1.3804, Val Loss: 1.5331\n",
      "Epoch 30, Train Loss: 1.3694, Val Loss: 1.5300\n",
      "Epoch 31, Train Loss: 1.3606, Val Loss: 1.5267\n",
      "Epoch 32, Train Loss: 1.3477, Val Loss: 1.5231\n",
      "Epoch 33, Train Loss: 1.3356, Val Loss: 1.5195\n",
      "Epoch 34, Train Loss: 1.3252, Val Loss: 1.5158\n",
      "Epoch 35, Train Loss: 1.3163, Val Loss: 1.5127\n",
      "Epoch 36, Train Loss: 1.3064, Val Loss: 1.5096\n",
      "Epoch 37, Train Loss: 1.2954, Val Loss: 1.5069\n",
      "Epoch 38, Train Loss: 1.2848, Val Loss: 1.5044\n",
      "Epoch 39, Train Loss: 1.2759, Val Loss: 1.5022\n",
      "Epoch 40, Train Loss: 1.2645, Val Loss: 1.5002\n",
      "Epoch 41, Train Loss: 1.2484, Val Loss: 1.4979\n",
      "Epoch 42, Train Loss: 1.2370, Val Loss: 1.4961\n",
      "Epoch 43, Train Loss: 1.2280, Val Loss: 1.4946\n",
      "Epoch 44, Train Loss: 1.2203, Val Loss: 1.4931\n",
      "Epoch 45, Train Loss: 1.2096, Val Loss: 1.4914\n",
      "Epoch 46, Train Loss: 1.1995, Val Loss: 1.4904\n",
      "Epoch 47, Train Loss: 1.1867, Val Loss: 1.4896\n",
      "Epoch 48, Train Loss: 1.1753, Val Loss: 1.4887\n",
      "Epoch 49, Train Loss: 1.1639, Val Loss: 1.4874\n",
      "Epoch 50, Train Loss: 1.1539, Val Loss: 1.4862\n",
      "\n",
      "Benchmark Results:\n",
      "Model\t\t\tTest Accuracy\tTest F1-Score\n",
      "GCN                 \t48.28\t\t28.19\n",
      "GAT                 \t47.91\t\t27.36\n",
      "RGCN                \t53.82\t\t33.48\n"
     ]
    }
   ],
   "source": [
    "import torch\n",
    "import torch.nn.functional as F\n",
    "from torch_geometric.data import Data\n",
    "from torch_geometric.nn import GCNConv, GATConv, RGCNConv, BatchNorm\n",
    "from sklearn.preprocessing import StandardScaler\n",
    "from sklearn.metrics import accuracy_score, f1_score\n",
    "import numpy as np\n",
    "\n",
    "# -------- Normalisation des Features --------\n",
    "def normalize_features(features):\n",
    "    scaler = StandardScaler()\n",
    "    normalized = scaler.fit_transform(features.cpu().numpy())\n",
    "    return torch.tensor(normalized, dtype=torch.float)\n",
    "\n",
    "# -------- Préparer les données --------\n",
    "def prepare_graph_data(data, split):\n",
    "    # Moyennage sur la dimension temporelle pour la modalité vidéo\n",
    "    video_features = torch.mean(data[split]['video']['features'], dim=1)  # Moyenne sur la dimension temporelle\n",
    "\n",
    "    # Concaténer les features\n",
    "    features = torch.cat([\n",
    "        normalize_features(data[split]['audio']['features']),\n",
    "        normalize_features(data[split]['text']['features']),\n",
    "        normalize_features(video_features)\n",
    "    ], dim=0)\n",
    "\n",
    "    # Concaténer les labels\n",
    "    labels = torch.cat([\n",
    "        data[split]['audio']['labels'],\n",
    "        data[split]['text']['labels'],\n",
    "        data[split]['video']['labels']\n",
    "    ], dim=0)\n",
    "\n",
    "    # Initialiser les listes pour edge_index et edge_type\n",
    "    edge_index = []\n",
    "    edge_type = []\n",
    "\n",
    "    # -------- Relations temporelles intra-modales --------\n",
    "    def add_temporal_edges(offset, num_nodes, relation_type):\n",
    "        for i in range(num_nodes):\n",
    "            if i > 0:\n",
    "                edge_index.append([offset + i, offset + i - 1])  # -1 (passé)\n",
    "                edge_type.append(relation_type)\n",
    "            edge_index.append([offset + i, offset + i])  # 0 (présent)\n",
    "            edge_type.append(relation_type + 1)\n",
    "            if i < num_nodes - 1:\n",
    "                edge_index.append([offset + i, offset + i + 1])  # +1 (futur)\n",
    "                edge_type.append(relation_type + 2)\n",
    "\n",
    "    # Ajouter les relations intra-modales\n",
    "    num_audio = data[split]['audio']['features'].size(0)\n",
    "    num_text = data[split]['text']['features'].size(0)\n",
    "    num_video = video_features.size(0)  # Taille après réduction temporelle\n",
    "\n",
    "    add_temporal_edges(0, num_audio, 0)  # Audio : relation types 0, 1, 2\n",
    "    add_temporal_edges(num_audio, num_text, 3)  # Text : relation types 3, 4, 5\n",
    "    add_temporal_edges(num_audio + num_text, num_video, 6)  # Video : relation types 6, 7, 8\n",
    "\n",
    "    # -------- Relations cross-modales --------\n",
    "    for i in range(min(num_audio, num_text, num_video)):\n",
    "        edge_index.append([i, num_audio + num_text + i])  # Audio -> Video\n",
    "        edge_type.append(9)\n",
    "        edge_index.append([num_audio + i, num_audio + num_text + i])  # Text -> Video\n",
    "        edge_type.append(10)\n",
    "        edge_index.append([i, num_audio + i])  # Audio -> Text\n",
    "        edge_type.append(11)\n",
    "\n",
    "    # Convertir en tenseurs\n",
    "    edge_index = torch.tensor(edge_index, dtype=torch.long).t().contiguous()\n",
    "    edge_type = torch.tensor(edge_type, dtype=torch.long)\n",
    "\n",
    "    return Data(x=features, y=labels, edge_index=edge_index, edge_type=edge_type)\n",
    "\n",
    "# -------- Modèle GCN --------\n",
    "class GCN(torch.nn.Module):\n",
    "    def __init__(self, in_channels, hidden_channels, out_channels, dropout=0.0):\n",
    "        super(GCN, self).__init__()\n",
    "        self.conv1 = GCNConv(in_channels, hidden_channels)\n",
    "        self.batch_norm1 = BatchNorm(hidden_channels)\n",
    "        self.conv2 = GCNConv(hidden_channels, out_channels)\n",
    "        self.batch_norm2 = BatchNorm(out_channels)\n",
    "        self.dropout = dropout\n",
    "\n",
    "    def forward(self, x, edge_index):\n",
    "        x = self.conv1(x, edge_index)\n",
    "        x = self.batch_norm1(x)\n",
    "        x = F.relu(x)\n",
    "        x = F.dropout(x, p=self.dropout, training=self.training)\n",
    "        x = self.conv2(x, edge_index)\n",
    "        x = self.batch_norm2(x)\n",
    "        return F.log_softmax(x, dim=1)\n",
    "\n",
    "# -------- Modèle GAT --------\n",
    "class GAT(torch.nn.Module):\n",
    "    def __init__(self, in_channels, hidden_channels, out_channels, heads=4, dropout=0.0):\n",
    "        super(GAT, self).__init__()\n",
    "        self.conv1 = GATConv(in_channels, hidden_channels, heads=heads)\n",
    "        self.batch_norm1 = BatchNorm(hidden_channels * heads)\n",
    "        self.conv2 = GATConv(hidden_channels * heads, out_channels, heads=1)\n",
    "        self.batch_norm2 = BatchNorm(out_channels)\n",
    "        self.dropout = dropout\n",
    "\n",
    "    def forward(self, x, edge_index):\n",
    "        x = self.conv1(x, edge_index)\n",
    "        x = self.batch_norm1(x)\n",
    "        x = F.elu(x)\n",
    "        x = F.dropout(x, p=self.dropout, training=self.training)\n",
    "        x = self.conv2(x, edge_index)\n",
    "        x = self.batch_norm2(x)\n",
    "        return F.log_softmax(x, dim=1)\n",
    "\n",
    "# -------- Modèle RGCN --------\n",
    "class RGCN(torch.nn.Module):\n",
    "    def __init__(self, in_channels, hidden_channels, out_channels, num_relations, dropout=0.0):\n",
    "        super(RGCN, self).__init__()\n",
    "        self.conv1 = RGCNConv(in_channels, hidden_channels, num_relations)\n",
    "        self.batch_norm1 = BatchNorm(hidden_channels)\n",
    "        self.conv2 = RGCNConv(hidden_channels, out_channels, num_relations)\n",
    "        self.batch_norm2 = BatchNorm(out_channels)\n",
    "        self.dropout = dropout\n",
    "\n",
    "    def forward(self, x, edge_index, edge_type):\n",
    "        x = self.conv1(x, edge_index, edge_type)\n",
    "        x = self.batch_norm1(x)\n",
    "        x = F.relu(x)\n",
    "        x = F.dropout(x, p=self.dropout, training=self.training)\n",
    "        x = self.conv2(x, edge_index, edge_type)\n",
    "        x = self.batch_norm2(x)\n",
    "        return F.log_softmax(x, dim=1)\n",
    "\n",
    "# -------- Entraîner et Tester --------\n",
    "def train_and_evaluate(model, train_data, val_data, test_data, optimizer, criterion, epochs=50):\n",
    "    for epoch in range(epochs):\n",
    "        # Entraînement\n",
    "        model.train()\n",
    "        optimizer.zero_grad()\n",
    "        if isinstance(model, RGCN):\n",
    "            out = model(train_data.x, train_data.edge_index, train_data.edge_type)\n",
    "        else:\n",
    "            out = model(train_data.x, train_data.edge_index)\n",
    "        loss = criterion(out, train_data.y)\n",
    "        loss.backward()\n",
    "        optimizer.step()\n",
    "\n",
    "        # Validation\n",
    "        model.eval()\n",
    "        with torch.no_grad():\n",
    "            if isinstance(model, RGCN):\n",
    "                val_out = model(val_data.x, val_data.edge_index, val_data.edge_type)\n",
    "            else:\n",
    "                val_out = model(val_data.x, val_data.edge_index)\n",
    "            val_loss = criterion(val_out, val_data.y)\n",
    "        print(f\"Epoch {epoch + 1}, Train Loss: {loss.item():.4f}, Val Loss: {val_loss.item():.4f}\")\n",
    "\n",
    "    # Test\n",
    "    model.eval()\n",
    "    with torch.no_grad():\n",
    "        if isinstance(model, RGCN):\n",
    "            test_out = model(test_data.x, test_data.edge_index, test_data.edge_type)\n",
    "        else:\n",
    "            test_out = model(test_data.x, test_data.edge_index)\n",
    "        test_pred = test_out.argmax(dim=1)\n",
    "        test_acc = accuracy_score(test_data.y.cpu(), test_pred.cpu())\n",
    "        test_f1 = f1_score(test_data.y.cpu(), test_pred.cpu(), average='macro')\n",
    "\n",
    "    return test_acc, test_f1\n",
    "\n",
    "# -------- Pipeline Principal --------\n",
    "def main_pipeline(data):\n",
    "    # Préparer les données\n",
    "    train_data = prepare_graph_data(data, 'train')\n",
    "    val_data = prepare_graph_data(data, 'val')\n",
    "    test_data = prepare_graph_data(data, 'test')\n",
    "\n",
    "    # Configurations de modèles\n",
    "    architectures = [\n",
    "        (\"GCN\", GCN(train_data.x.size(1), 64, len(torch.unique(train_data.y)), dropout=0.5)),\n",
    "        (\"GAT\", GAT(train_data.x.size(1), 64, len(torch.unique(train_data.y)), heads=4, dropout=0.5)),\n",
    "        (\"RGCN\", RGCN(train_data.x.size(1), 64, len(torch.unique(train_data.y)), num_relations=12, dropout=0.5))\n",
    "    ]\n",
    "\n",
    "    # Entraîner et évaluer chaque modèle\n",
    "    results = []\n",
    "    for name, model in architectures:\n",
    "        print(f\"Training {name}...\")\n",
    "        optimizer = torch.optim.AdamW(model.parameters(), lr=0.005, weight_decay=1e-4)\n",
    "        criterion = torch.nn.CrossEntropyLoss()\n",
    "        acc, f1 = train_and_evaluate(model, train_data, val_data, test_data, optimizer, criterion)\n",
    "        results.append((name, acc * 100, f1 * 100))\n",
    "\n",
    "    # Afficher les résultats\n",
    "    print(\"\\nBenchmark Results:\")\n",
    "    print(\"Model\\t\\t\\tTest Accuracy\\tTest F1-Score\")\n",
    "    for name, acc, f1 in results:\n",
    "        print(f\"{name:20}\\t{acc:.2f}\\t\\t{f1:.2f}\")\n",
    "\n",
    "# -------- Exemple d'utilisation --------\n",
    "# data = charger_les_donnees()  # Implémentez cette fonction pour charger vos données.\n",
    "main_pipeline(data)\n"
   ]
  },
  {
   "cell_type": "markdown",
   "metadata": {},
   "source": [
    "**Improove RGCN**"
   ]
  },
  {
   "cell_type": "code",
   "execution_count": 17,
   "metadata": {},
   "outputs": [
    {
     "ename": "RuntimeError",
     "evalue": "mat1 and mat2 shapes cannot be multiplied (29964x24576 and 32x64)",
     "output_type": "error",
     "traceback": [
      "\u001b[1;31m---------------------------------------------------------------------------\u001b[0m",
      "\u001b[1;31mRuntimeError\u001b[0m                              Traceback (most recent call last)",
      "Cell \u001b[1;32mIn[17], line 172\u001b[0m\n\u001b[0;32m    168\u001b[0m     \u001b[38;5;28mprint\u001b[39m(\u001b[38;5;124mf\u001b[39m\u001b[38;5;124m\"\u001b[39m\u001b[38;5;130;01m\\n\u001b[39;00m\u001b[38;5;124mTest Accuracy: \u001b[39m\u001b[38;5;132;01m{\u001b[39;00macc\u001b[38;5;250m \u001b[39m\u001b[38;5;241m*\u001b[39m\u001b[38;5;250m \u001b[39m\u001b[38;5;241m100\u001b[39m\u001b[38;5;132;01m:\u001b[39;00m\u001b[38;5;124m.2f\u001b[39m\u001b[38;5;132;01m}\u001b[39;00m\u001b[38;5;124m%, Test F1-Score: \u001b[39m\u001b[38;5;132;01m{\u001b[39;00mf1\u001b[38;5;250m \u001b[39m\u001b[38;5;241m*\u001b[39m\u001b[38;5;250m \u001b[39m\u001b[38;5;241m100\u001b[39m\u001b[38;5;132;01m:\u001b[39;00m\u001b[38;5;124m.2f\u001b[39m\u001b[38;5;132;01m}\u001b[39;00m\u001b[38;5;124m%\u001b[39m\u001b[38;5;124m\"\u001b[39m)\n\u001b[0;32m    170\u001b[0m \u001b[38;5;66;03m# -------- Exemple d'utilisation --------\u001b[39;00m\n\u001b[0;32m    171\u001b[0m \u001b[38;5;66;03m# data = charger_les_donnees()  # Implémentez cette fonction pour charger vos données.\u001b[39;00m\n\u001b[1;32m--> 172\u001b[0m \u001b[43mmain_pipeline\u001b[49m\u001b[43m(\u001b[49m\u001b[43mdata\u001b[49m\u001b[43m)\u001b[49m\n",
      "Cell \u001b[1;32mIn[17], line 166\u001b[0m, in \u001b[0;36mmain_pipeline\u001b[1;34m(data)\u001b[0m\n\u001b[0;32m    163\u001b[0m criterion \u001b[38;5;241m=\u001b[39m torch\u001b[38;5;241m.\u001b[39mnn\u001b[38;5;241m.\u001b[39mCrossEntropyLoss()\n\u001b[0;32m    165\u001b[0m \u001b[38;5;66;03m# Entraîner et évaluer\u001b[39;00m\n\u001b[1;32m--> 166\u001b[0m acc, f1 \u001b[38;5;241m=\u001b[39m \u001b[43mtrain_and_evaluate\u001b[49m\u001b[43m(\u001b[49m\u001b[43mmodel\u001b[49m\u001b[43m,\u001b[49m\u001b[43m \u001b[49m\u001b[43mtrain_data\u001b[49m\u001b[43m,\u001b[49m\u001b[43m \u001b[49m\u001b[43mval_data\u001b[49m\u001b[43m,\u001b[49m\u001b[43m \u001b[49m\u001b[43mtest_data\u001b[49m\u001b[43m,\u001b[49m\u001b[43m \u001b[49m\u001b[43moptimizer\u001b[49m\u001b[43m,\u001b[49m\u001b[43m \u001b[49m\u001b[43mcriterion\u001b[49m\u001b[43m)\u001b[49m\n\u001b[0;32m    168\u001b[0m \u001b[38;5;28mprint\u001b[39m(\u001b[38;5;124mf\u001b[39m\u001b[38;5;124m\"\u001b[39m\u001b[38;5;130;01m\\n\u001b[39;00m\u001b[38;5;124mTest Accuracy: \u001b[39m\u001b[38;5;132;01m{\u001b[39;00macc\u001b[38;5;250m \u001b[39m\u001b[38;5;241m*\u001b[39m\u001b[38;5;250m \u001b[39m\u001b[38;5;241m100\u001b[39m\u001b[38;5;132;01m:\u001b[39;00m\u001b[38;5;124m.2f\u001b[39m\u001b[38;5;132;01m}\u001b[39;00m\u001b[38;5;124m%, Test F1-Score: \u001b[39m\u001b[38;5;132;01m{\u001b[39;00mf1\u001b[38;5;250m \u001b[39m\u001b[38;5;241m*\u001b[39m\u001b[38;5;250m \u001b[39m\u001b[38;5;241m100\u001b[39m\u001b[38;5;132;01m:\u001b[39;00m\u001b[38;5;124m.2f\u001b[39m\u001b[38;5;132;01m}\u001b[39;00m\u001b[38;5;124m%\u001b[39m\u001b[38;5;124m\"\u001b[39m)\n",
      "Cell \u001b[1;32mIn[17], line 124\u001b[0m, in \u001b[0;36mtrain_and_evaluate\u001b[1;34m(model, train_data, val_data, test_data, optimizer, criterion, epochs)\u001b[0m\n\u001b[0;32m    122\u001b[0m model\u001b[38;5;241m.\u001b[39mtrain()\n\u001b[0;32m    123\u001b[0m optimizer\u001b[38;5;241m.\u001b[39mzero_grad()\n\u001b[1;32m--> 124\u001b[0m out \u001b[38;5;241m=\u001b[39m \u001b[43mmodel\u001b[49m\u001b[43m(\u001b[49m\u001b[43mtrain_data\u001b[49m\u001b[38;5;241;43m.\u001b[39;49m\u001b[43mx\u001b[49m\u001b[43m,\u001b[49m\u001b[43m \u001b[49m\u001b[43mtrain_data\u001b[49m\u001b[38;5;241;43m.\u001b[39;49m\u001b[43medge_index\u001b[49m\u001b[43m,\u001b[49m\u001b[43m \u001b[49m\u001b[43mtrain_data\u001b[49m\u001b[38;5;241;43m.\u001b[39;49m\u001b[43medge_type\u001b[49m\u001b[43m)\u001b[49m\n\u001b[0;32m    125\u001b[0m loss \u001b[38;5;241m=\u001b[39m criterion(out, train_data\u001b[38;5;241m.\u001b[39my)\n\u001b[0;32m    126\u001b[0m loss\u001b[38;5;241m.\u001b[39mbackward()\n",
      "File \u001b[1;32mc:\\Users\\admin\\anaconda3\\envs\\mer-gpu\\lib\\site-packages\\torch\\nn\\modules\\module.py:1130\u001b[0m, in \u001b[0;36mModule._call_impl\u001b[1;34m(self, *input, **kwargs)\u001b[0m\n\u001b[0;32m   1126\u001b[0m \u001b[38;5;66;03m# If we don't have any hooks, we want to skip the rest of the logic in\u001b[39;00m\n\u001b[0;32m   1127\u001b[0m \u001b[38;5;66;03m# this function, and just call forward.\u001b[39;00m\n\u001b[0;32m   1128\u001b[0m \u001b[38;5;28;01mif\u001b[39;00m \u001b[38;5;129;01mnot\u001b[39;00m (\u001b[38;5;28mself\u001b[39m\u001b[38;5;241m.\u001b[39m_backward_hooks \u001b[38;5;129;01mor\u001b[39;00m \u001b[38;5;28mself\u001b[39m\u001b[38;5;241m.\u001b[39m_forward_hooks \u001b[38;5;129;01mor\u001b[39;00m \u001b[38;5;28mself\u001b[39m\u001b[38;5;241m.\u001b[39m_forward_pre_hooks \u001b[38;5;129;01mor\u001b[39;00m _global_backward_hooks\n\u001b[0;32m   1129\u001b[0m         \u001b[38;5;129;01mor\u001b[39;00m _global_forward_hooks \u001b[38;5;129;01mor\u001b[39;00m _global_forward_pre_hooks):\n\u001b[1;32m-> 1130\u001b[0m     \u001b[38;5;28;01mreturn\u001b[39;00m forward_call(\u001b[38;5;241m*\u001b[39m\u001b[38;5;28minput\u001b[39m, \u001b[38;5;241m*\u001b[39m\u001b[38;5;241m*\u001b[39mkwargs)\n\u001b[0;32m   1131\u001b[0m \u001b[38;5;66;03m# Do not call functions when jit is used\u001b[39;00m\n\u001b[0;32m   1132\u001b[0m full_backward_hooks, non_full_backward_hooks \u001b[38;5;241m=\u001b[39m [], []\n",
      "Cell \u001b[1;32mIn[17], line 103\u001b[0m, in \u001b[0;36mCNN_RGCN_MLP.forward\u001b[1;34m(self, x, edge_index, edge_type)\u001b[0m\n\u001b[0;32m    100\u001b[0m x \u001b[38;5;241m=\u001b[39m torch\u001b[38;5;241m.\u001b[39mflatten(x, start_dim\u001b[38;5;241m=\u001b[39m\u001b[38;5;241m1\u001b[39m)  \u001b[38;5;66;03m# Réduction des dimensions\u001b[39;00m\n\u001b[0;32m    102\u001b[0m \u001b[38;5;66;03m# RGCN\u001b[39;00m\n\u001b[1;32m--> 103\u001b[0m x \u001b[38;5;241m=\u001b[39m \u001b[38;5;28;43mself\u001b[39;49m\u001b[38;5;241;43m.\u001b[39;49m\u001b[43mrgcn1\u001b[49m\u001b[43m(\u001b[49m\u001b[43mx\u001b[49m\u001b[43m,\u001b[49m\u001b[43m \u001b[49m\u001b[43medge_index\u001b[49m\u001b[43m,\u001b[49m\u001b[43m \u001b[49m\u001b[43medge_type\u001b[49m\u001b[43m)\u001b[49m\n\u001b[0;32m    104\u001b[0m x \u001b[38;5;241m=\u001b[39m \u001b[38;5;28mself\u001b[39m\u001b[38;5;241m.\u001b[39mrgcn_bn1(x)\n\u001b[0;32m    105\u001b[0m x \u001b[38;5;241m=\u001b[39m F\u001b[38;5;241m.\u001b[39mrelu(x)\n",
      "File \u001b[1;32mc:\\Users\\admin\\anaconda3\\envs\\mer-gpu\\lib\\site-packages\\torch\\nn\\modules\\module.py:1130\u001b[0m, in \u001b[0;36mModule._call_impl\u001b[1;34m(self, *input, **kwargs)\u001b[0m\n\u001b[0;32m   1126\u001b[0m \u001b[38;5;66;03m# If we don't have any hooks, we want to skip the rest of the logic in\u001b[39;00m\n\u001b[0;32m   1127\u001b[0m \u001b[38;5;66;03m# this function, and just call forward.\u001b[39;00m\n\u001b[0;32m   1128\u001b[0m \u001b[38;5;28;01mif\u001b[39;00m \u001b[38;5;129;01mnot\u001b[39;00m (\u001b[38;5;28mself\u001b[39m\u001b[38;5;241m.\u001b[39m_backward_hooks \u001b[38;5;129;01mor\u001b[39;00m \u001b[38;5;28mself\u001b[39m\u001b[38;5;241m.\u001b[39m_forward_hooks \u001b[38;5;129;01mor\u001b[39;00m \u001b[38;5;28mself\u001b[39m\u001b[38;5;241m.\u001b[39m_forward_pre_hooks \u001b[38;5;129;01mor\u001b[39;00m _global_backward_hooks\n\u001b[0;32m   1129\u001b[0m         \u001b[38;5;129;01mor\u001b[39;00m _global_forward_hooks \u001b[38;5;129;01mor\u001b[39;00m _global_forward_pre_hooks):\n\u001b[1;32m-> 1130\u001b[0m     \u001b[38;5;28;01mreturn\u001b[39;00m forward_call(\u001b[38;5;241m*\u001b[39m\u001b[38;5;28minput\u001b[39m, \u001b[38;5;241m*\u001b[39m\u001b[38;5;241m*\u001b[39mkwargs)\n\u001b[0;32m   1131\u001b[0m \u001b[38;5;66;03m# Do not call functions when jit is used\u001b[39;00m\n\u001b[0;32m   1132\u001b[0m full_backward_hooks, non_full_backward_hooks \u001b[38;5;241m=\u001b[39m [], []\n",
      "File \u001b[1;32mc:\\Users\\admin\\anaconda3\\envs\\mer-gpu\\lib\\site-packages\\torch_geometric\\nn\\conv\\rgcn_conv.py:269\u001b[0m, in \u001b[0;36mRGCNConv.forward\u001b[1;34m(self, x, edge_index, edge_type)\u001b[0m\n\u001b[0;32m    266\u001b[0m             \u001b[38;5;28;01melse\u001b[39;00m:\n\u001b[0;32m    267\u001b[0m                 h \u001b[38;5;241m=\u001b[39m \u001b[38;5;28mself\u001b[39m\u001b[38;5;241m.\u001b[39mpropagate(tmp, x\u001b[38;5;241m=\u001b[39mx_l, edge_type_ptr\u001b[38;5;241m=\u001b[39m\u001b[38;5;28;01mNone\u001b[39;00m,\n\u001b[0;32m    268\u001b[0m                                    size\u001b[38;5;241m=\u001b[39msize)\n\u001b[1;32m--> 269\u001b[0m                 out \u001b[38;5;241m=\u001b[39m out \u001b[38;5;241m+\u001b[39m (\u001b[43mh\u001b[49m\u001b[43m \u001b[49m\u001b[38;5;241;43m@\u001b[39;49m\u001b[43m \u001b[49m\u001b[43mweight\u001b[49m\u001b[43m[\u001b[49m\u001b[43mi\u001b[49m\u001b[43m]\u001b[49m)\n\u001b[0;32m    271\u001b[0m root \u001b[38;5;241m=\u001b[39m \u001b[38;5;28mself\u001b[39m\u001b[38;5;241m.\u001b[39mroot\n\u001b[0;32m    272\u001b[0m \u001b[38;5;28;01mif\u001b[39;00m root \u001b[38;5;129;01mis\u001b[39;00m \u001b[38;5;129;01mnot\u001b[39;00m \u001b[38;5;28;01mNone\u001b[39;00m:\n",
      "\u001b[1;31mRuntimeError\u001b[0m: mat1 and mat2 shapes cannot be multiplied (29964x24576 and 32x64)"
     ]
    }
   ],
   "source": [
    "import torch\n",
    "import torch.nn.functional as F\n",
    "from torch_geometric.data import Data\n",
    "from torch_geometric.nn import GCNConv, GATConv, RGCNConv, BatchNorm\n",
    "from sklearn.preprocessing import StandardScaler\n",
    "from sklearn.metrics import accuracy_score, f1_score\n",
    "import numpy as np\n",
    "\n",
    "# -------- Normalisation des Features --------\n",
    "def normalize_features(features):\n",
    "    scaler = StandardScaler()\n",
    "    normalized = scaler.fit_transform(features.cpu().numpy())\n",
    "    return torch.tensor(normalized, dtype=torch.float)\n",
    "\n",
    "# -------- Préparer les données --------\n",
    "def prepare_graph_data(data, split):\n",
    "    # Moyennage sur la dimension temporelle pour la modalité vidéo\n",
    "    video_features = torch.mean(data[split]['video']['features'], dim=1)  # Moyenne sur la dimension temporelle\n",
    "\n",
    "    # Concaténer les features\n",
    "    features = torch.cat([\n",
    "        normalize_features(data[split]['audio']['features']),\n",
    "        normalize_features(data[split]['text']['features']),\n",
    "        normalize_features(video_features)\n",
    "    ], dim=0)\n",
    "\n",
    "    # Concaténer les labels\n",
    "    labels = torch.cat([\n",
    "        data[split]['audio']['labels'],\n",
    "        data[split]['text']['labels'],\n",
    "        data[split]['video']['labels']\n",
    "    ], dim=0)\n",
    "\n",
    "    # Initialiser les listes pour edge_index et edge_type\n",
    "    edge_index = []\n",
    "    edge_type = []\n",
    "\n",
    "    # -------- Relations temporelles intra-modales --------\n",
    "    def add_temporal_edges(offset, num_nodes, relation_type):\n",
    "        for i in range(num_nodes):\n",
    "            if i > 0:\n",
    "                edge_index.append([offset + i, offset + i - 1])  # -1 (passé)\n",
    "                edge_type.append(relation_type)\n",
    "            edge_index.append([offset + i, offset + i])  # 0 (présent)\n",
    "            edge_type.append(relation_type + 1)\n",
    "            if i < num_nodes - 1:\n",
    "                edge_index.append([offset + i, offset + i + 1])  # +1 (futur)\n",
    "                edge_type.append(relation_type + 2)\n",
    "\n",
    "    # Ajouter les relations intra-modales\n",
    "    num_audio = data[split]['audio']['features'].size(0)\n",
    "    num_text = data[split]['text']['features'].size(0)\n",
    "    num_video = video_features.size(0)  # Taille après réduction temporelle\n",
    "\n",
    "    add_temporal_edges(0, num_audio, 0)  # Audio : relation types 0, 1, 2\n",
    "    add_temporal_edges(num_audio, num_text, 3)  # Text : relation types 3, 4, 5\n",
    "    add_temporal_edges(num_audio + num_text, num_video, 6)  # Video : relation types 6, 7, 8\n",
    "\n",
    "    # -------- Relations cross-modales --------\n",
    "    for i in range(min(num_audio, num_text, num_video)):\n",
    "        edge_index.append([i, num_audio + num_text + i])  # Audio -> Video\n",
    "        edge_type.append(9)\n",
    "        edge_index.append([num_audio + i, num_audio + num_text + i])  # Text -> Video\n",
    "        edge_type.append(10)\n",
    "        edge_index.append([i, num_audio + i])  # Audio -> Text\n",
    "        edge_type.append(11)\n",
    "\n",
    "    # Convertir en tenseurs\n",
    "    edge_index = torch.tensor(edge_index, dtype=torch.long).t().contiguous()\n",
    "    edge_type = torch.tensor(edge_type, dtype=torch.long)\n",
    "\n",
    "    return Data(x=features, y=labels, edge_index=edge_index, edge_type=edge_type)\n",
    "\n",
    "# -------- Modèle CNN + RGCN + MLP --------\n",
    "class CNN_RGCN_MLP(torch.nn.Module):\n",
    "    def __init__(self, in_channels, cnn_channels, hidden_channels, out_channels, num_relations, dropout=0.0):\n",
    "        super(CNN_RGCN_MLP, self).__init__()\n",
    "        # Couche CNN\n",
    "        self.cnn = torch.nn.Conv1d(in_channels=1, out_channels=cnn_channels, kernel_size=3, padding=1)\n",
    "        self.cnn_batch_norm = BatchNorm(cnn_channels)\n",
    "\n",
    "        # RGCN\n",
    "        self.rgcn1 = RGCNConv(cnn_channels, hidden_channels, num_relations)\n",
    "        self.rgcn_bn1 = BatchNorm(hidden_channels)\n",
    "        self.rgcn2 = RGCNConv(hidden_channels, hidden_channels, num_relations)\n",
    "        self.rgcn_bn2 = BatchNorm(hidden_channels)\n",
    "\n",
    "        # MLP Final\n",
    "        self.fc1 = torch.nn.Linear(hidden_channels, 128)\n",
    "        self.fc2 = torch.nn.Linear(128, out_channels)\n",
    "\n",
    "        self.dropout = dropout\n",
    "\n",
    "    def forward(self, x, edge_index, edge_type):\n",
    "        # CNN sur les features\n",
    "        x = x.unsqueeze(1)  # Ajouter une dimension pour Conv1d\n",
    "        x = self.cnn(x)\n",
    "        x = self.cnn_batch_norm(x)\n",
    "        x = F.relu(x)\n",
    "        x = torch.flatten(x, start_dim=1)  # Réduction des dimensions\n",
    "\n",
    "        # RGCN\n",
    "        x = self.rgcn1(x, edge_index, edge_type)\n",
    "        x = self.rgcn_bn1(x)\n",
    "        x = F.relu(x)\n",
    "        x = F.dropout(x, p=self.dropout, training=self.training)\n",
    "        x = self.rgcn2(x, edge_index, edge_type)\n",
    "        x = self.rgcn_bn2(x)\n",
    "        x = F.relu(x)\n",
    "\n",
    "        # MLP Final\n",
    "        x = self.fc1(x)\n",
    "        x = F.relu(x)\n",
    "        x = F.dropout(x, p=self.dropout, training=self.training)\n",
    "        x = self.fc2(x)\n",
    "        return F.log_softmax(x, dim=1)\n",
    "\n",
    "# -------- Entraîner et Tester --------\n",
    "def train_and_evaluate(model, train_data, val_data, test_data, optimizer, criterion, epochs=50):\n",
    "    for epoch in range(epochs):\n",
    "        # Entraînement\n",
    "        model.train()\n",
    "        optimizer.zero_grad()\n",
    "        out = model(train_data.x, train_data.edge_index, train_data.edge_type)\n",
    "        loss = criterion(out, train_data.y)\n",
    "        loss.backward()\n",
    "        optimizer.step()\n",
    "\n",
    "        # Validation\n",
    "        model.eval()\n",
    "        with torch.no_grad():\n",
    "            val_out = model(val_data.x, val_data.edge_index, val_data.edge_type)\n",
    "            val_loss = criterion(val_out, val_data.y)\n",
    "        print(f\"Epoch {epoch + 1}, Train Loss: {loss.item():.4f}, Val Loss: {val_loss.item():.4f}\")\n",
    "\n",
    "    # Test\n",
    "    model.eval()\n",
    "    with torch.no_grad():\n",
    "        test_out = model(test_data.x, test_data.edge_index, test_data.edge_type)\n",
    "        test_pred = test_out.argmax(dim=1)\n",
    "        test_acc = accuracy_score(test_data.y.cpu(), test_pred.cpu())\n",
    "        test_f1 = f1_score(test_data.y.cpu(), test_pred.cpu(), average='macro')\n",
    "\n",
    "    return test_acc, test_f1\n",
    "\n",
    "# -------- Pipeline Principal --------\n",
    "def main_pipeline(data):\n",
    "    # Préparer les données\n",
    "    train_data = prepare_graph_data(data, 'train')\n",
    "    val_data = prepare_graph_data(data, 'val')\n",
    "    test_data = prepare_graph_data(data, 'test')\n",
    "\n",
    "    # Configurer le modèle\n",
    "    model = CNN_RGCN_MLP(\n",
    "        in_channels=train_data.x.size(1),\n",
    "        cnn_channels=32,\n",
    "        hidden_channels=64,\n",
    "        out_channels=len(torch.unique(train_data.y)),\n",
    "        num_relations=12,\n",
    "        dropout=0.5\n",
    "    )\n",
    "    optimizer = torch.optim.AdamW(model.parameters(), lr=0.005, weight_decay=1e-4)\n",
    "    criterion = torch.nn.CrossEntropyLoss()\n",
    "\n",
    "    # Entraîner et évaluer\n",
    "    acc, f1 = train_and_evaluate(model, train_data, val_data, test_data, optimizer, criterion)\n",
    "\n",
    "    print(f\"\\nTest Accuracy: {acc * 100:.2f}%, Test F1-Score: {f1 * 100:.2f}%\")\n",
    "\n",
    "# -------- Exemple d'utilisation --------\n",
    "# data = charger_les_donnees()  # Implémentez cette fonction pour charger vos données.\n",
    "main_pipeline(data)\n"
   ]
  },
  {
   "cell_type": "markdown",
   "metadata": {},
   "source": [
    "**LOADING FUNCTION**"
   ]
  },
  {
   "cell_type": "code",
   "execution_count": 1,
   "metadata": {},
   "outputs": [
    {
     "name": "stderr",
     "output_type": "stream",
     "text": [
      "c:\\Users\\admin\\anaconda3\\envs\\mer-gpu\\lib\\site-packages\\tqdm\\auto.py:21: TqdmWarning: IProgress not found. Please update jupyter and ipywidgets. See https://ipywidgets.readthedocs.io/en/stable/user_install.html\n",
      "  from .autonotebook import tqdm as notebook_tqdm\n"
     ]
    }
   ],
   "source": [
    "import sys, os\n",
    "sys.path.append(os.path.abspath(os.path.join('..')))\n",
    "from processing.preprocessing import prepare_graph_data, prepare_dataloaders\n",
    "from models.MultiHeadAttention import MultiheadAttention\n",
    "from models.CrossModalNet import CrossmodalNet\n",
    "from models.Transformers import TransformerEncoder\n",
    "from models.CombineModel import CombinedModel\n",
    "from models.GraphModel import GraphModel\n",
    "from trainning.trainning import train_model as train\n",
    "from trainning.trainning import evaluate_model as evaluate\n",
    "import torch\n",
    "import torch.nn as nn\n",
    "\n",
    "from data.loaddata import load_data\n",
    "import torch\n",
    "\n",
    "\n",
    "data = load_data(data_type='loaders_datasets.pt')"
   ]
  },
  {
   "cell_type": "code",
   "execution_count": 18,
   "metadata": {},
   "outputs": [
    {
     "data": {
      "text/plain": [
       "{'train': {'audio': {'features': tensor([[ 0.0939,  0.0762,  0.0689,  ...,  0.2469,  0.3439, -0.3689],\n",
       "           [-0.0282,  0.0721,  0.4385,  ...,  0.4353,  0.0995, -0.0296],\n",
       "           [-0.0721,  0.1159,  0.1769,  ...,  0.4833,  0.0715,  0.0421],\n",
       "           ...,\n",
       "           [ 0.0865,  0.2816, -0.2080,  ...,  0.1752,  0.2943, -0.0734],\n",
       "           [ 0.1912,  0.0553,  0.0986,  ...,  0.3378,  0.1588, -0.1218],\n",
       "           [ 0.0359,  0.1585, -0.2475,  ...,  0.2054,  0.3535, -0.2127]]),\n",
       "   'labels': tensor([0, 0, 0,  ..., 6, 0, 1])},\n",
       "  'text': {'features': tensor([[-0.1967,  0.1299,  0.1679,  ..., -0.2378,  0.2947,  0.1266],\n",
       "           [ 0.0635,  0.3604, -0.5336,  ..., -0.5177,  0.5179,  0.2851],\n",
       "           [-0.0813,  0.3107,  0.0133,  ..., -0.1899,  0.4385,  0.1935],\n",
       "           ...,\n",
       "           [ 0.4822,  0.2613, -0.1825,  ..., -0.3868,  0.6702,  0.4198],\n",
       "           [-0.3271, -0.0116, -0.0164,  ..., -0.1454,  0.4163,  0.1177],\n",
       "           [-0.1336, -0.3128, -0.4481,  ..., -0.0193,  0.1588,  0.3897]]),\n",
       "   'labels': tensor([0, 0, 0,  ..., 6, 0, 1]),\n",
       "   'text_len_tensor': tensor([768, 768, 768,  ..., 768, 768, 768])},\n",
       "  'video': {'features': tensor([[[-0.0406, -0.0626,  0.1449,  ..., -0.1492, -0.2110, -0.2498],\n",
       "            [-0.0580, -0.0845,  0.1550,  ..., -0.1497, -0.1792, -0.2339],\n",
       "            [-0.0480, -0.0828,  0.1273,  ..., -0.1227, -0.1334, -0.2399],\n",
       "            ...,\n",
       "            [-0.0067, -0.0421,  0.1036,  ..., -0.1847, -0.1502, -0.3058],\n",
       "            [-0.0023, -0.0342,  0.1291,  ..., -0.1646, -0.1564, -0.2722],\n",
       "            [-0.0648, -0.0457,  0.1084,  ..., -0.1795, -0.1557, -0.2582]],\n",
       "   \n",
       "           [[-0.0380,  0.0212, -0.0803,  ..., -0.0628, -0.1475, -0.3414],\n",
       "            [-0.0172,  0.0485, -0.0804,  ..., -0.0780, -0.1646, -0.2994],\n",
       "            [-0.0197,  0.0758, -0.0845,  ..., -0.0914, -0.1764, -0.3373],\n",
       "            ...,\n",
       "            [ 0.0282,  0.0953, -0.0991,  ..., -0.1506, -0.1490, -0.3335],\n",
       "            [ 0.0337,  0.0960, -0.0848,  ..., -0.1386, -0.1476, -0.3519],\n",
       "            [ 0.0077,  0.1170, -0.1051,  ..., -0.1360, -0.1739, -0.3430]],\n",
       "   \n",
       "           [[-0.0162,  0.0821, -0.1116,  ..., -0.1056, -0.1880, -0.3554],\n",
       "            [-0.1430, -0.2252, -0.2294,  ..., -0.2471, -0.1078, -0.1160],\n",
       "            [-0.1993, -0.2060, -0.2574,  ..., -0.2668, -0.1054, -0.1573],\n",
       "            ...,\n",
       "            [-0.2687, -0.1647, -0.2390,  ..., -0.3155, -0.1416, -0.1327],\n",
       "            [-0.2337, -0.1881, -0.2630,  ..., -0.3345, -0.0959, -0.1592],\n",
       "            [-0.1990, -0.1783, -0.2695,  ..., -0.3481, -0.1187, -0.1335]],\n",
       "   \n",
       "           ...,\n",
       "   \n",
       "           [[ 0.1167, -0.0019, -0.0365,  ..., -0.2491,  0.1197,  0.0599],\n",
       "            [ 0.1150,  0.0029, -0.0779,  ..., -0.2523,  0.1496,  0.1116],\n",
       "            [ 0.1088,  0.0401, -0.1003,  ..., -0.1873,  0.1673,  0.1594],\n",
       "            ...,\n",
       "            [ 0.2164,  0.0068, -0.0471,  ..., -0.0984,  0.0850, -0.0454],\n",
       "            [ 0.1707,  0.0146, -0.0418,  ..., -0.0961,  0.0558, -0.0173],\n",
       "            [ 0.1593, -0.0214, -0.0382,  ..., -0.1188,  0.0572,  0.0203]],\n",
       "   \n",
       "           [[-0.0034,  0.0667, -0.0366,  ...,  0.0032, -0.1879,  0.0159],\n",
       "            [-0.0126,  0.0876, -0.0109,  ..., -0.0178, -0.1551,  0.0064],\n",
       "            [-0.0381,  0.0848, -0.0305,  ..., -0.0122, -0.1269,  0.0253],\n",
       "            ...,\n",
       "            [ 0.1794, -0.0525, -0.0968,  ..., -0.0834,  0.0239, -0.0122],\n",
       "            [ 0.1918, -0.0596, -0.1117,  ..., -0.1408,  0.0783,  0.0147],\n",
       "            [ 0.1327, -0.0364, -0.1038,  ..., -0.2212,  0.0648, -0.0385]],\n",
       "   \n",
       "           [[ 0.2097, -0.0229, -0.0813,  ..., -0.2199,  0.0127, -0.0088],\n",
       "            [ 0.1738,  0.0083, -0.0630,  ..., -0.1994,  0.0363, -0.0711],\n",
       "            [ 0.1335,  0.1164, -0.0500,  ..., -0.0978,  0.1092,  0.0734],\n",
       "            ...,\n",
       "            [ 0.1946,  0.1344, -0.0122,  ...,  0.0234,  0.1749,  0.0063],\n",
       "            [ 0.2068,  0.1288, -0.0476,  ..., -0.0333,  0.1842,  0.0111],\n",
       "            [ 0.1900,  0.1197, -0.0662,  ..., -0.0129,  0.1968,  0.0360]]]),\n",
       "   'labels': tensor([0, 0, 0,  ..., 6, 0, 1])},\n",
       "  'labels': tensor([0, 0, 0,  ..., 6, 0, 1])},\n",
       " 'val': {'audio': {'features': tensor([[ 0.1513,  0.1428, -0.2209,  ...,  0.0184,  0.4025, -0.1547],\n",
       "           [ 0.0805,  0.1098,  0.3021,  ...,  0.4836,  0.1162,  0.0134],\n",
       "           [-0.0626,  0.0404,  0.0433,  ...,  0.2993,  0.3189, -0.4426],\n",
       "           ...,\n",
       "           [ 0.0483,  0.0866,  0.2596,  ...,  0.3169,  0.1778, -0.0873],\n",
       "           [ 0.1734,  0.0396,  0.1476,  ...,  0.4327,  0.1023,  0.0606],\n",
       "           [ 0.1926,  0.0724,  0.1741,  ...,  0.1020,  0.0175,  0.1629]]),\n",
       "   'labels': tensor([4, 6, 0,  ..., 4, 4, 4])},\n",
       "  'text': {'features': tensor([[-0.4690, -0.0323, -0.0480,  ..., -0.7127,  0.7767,  0.2524],\n",
       "           [-0.0302,  0.2743, -0.3037,  ..., -0.2660,  0.4089,  0.2982],\n",
       "           [ 0.0823,  0.0437, -0.0168,  ..., -0.3173,  0.3169,  0.5771],\n",
       "           ...,\n",
       "           [-0.0337,  0.3747,  0.0455,  ..., -0.3306,  0.2015,  0.1710],\n",
       "           [ 0.0665,  0.4839, -0.2087,  ..., -0.2192,  0.3675,  0.4854],\n",
       "           [ 0.1053,  0.3644, -0.0639,  ...,  0.0188,  0.0963,  0.2706]]),\n",
       "   'labels': tensor([4, 6, 0,  ..., 4, 4, 4]),\n",
       "   'text_len_tensor': tensor([768, 768, 768,  ..., 768, 768, 768])},\n",
       "  'video': {'features': tensor([[[-0.2139,  0.1398,  0.0356,  ..., -0.3421,  0.0747,  0.0688],\n",
       "            [-0.2154,  0.1615, -0.0473,  ..., -0.2827,  0.0394,  0.0523],\n",
       "            [-0.1999,  0.0903, -0.0133,  ..., -0.3078,  0.1093,  0.1339],\n",
       "            ...,\n",
       "            [-0.1941,  0.0876,  0.0734,  ..., -0.2571, -0.0278,  0.0464],\n",
       "            [-0.1872,  0.0753,  0.0902,  ..., -0.2229, -0.0110,  0.0654],\n",
       "            [-0.1197, -0.1164, -0.0481,  ..., -0.1982,  0.0160,  0.1463]],\n",
       "   \n",
       "           [[-0.0871, -0.0554,  0.0199,  ..., -0.2657,  0.0879,  0.2320],\n",
       "            [-0.0895, -0.0372,  0.0062,  ..., -0.2969,  0.0766,  0.2653],\n",
       "            [-0.0970, -0.0689, -0.0099,  ..., -0.2760,  0.0752,  0.2421],\n",
       "            ...,\n",
       "            [-0.0333, -0.0050,  0.0417,  ..., -0.2109,  0.0574,  0.1431],\n",
       "            [-0.0371,  0.0170,  0.0501,  ..., -0.2128,  0.0387,  0.0911],\n",
       "            [-0.0738,  0.0416,  0.1116,  ..., -0.2326,  0.0754,  0.1638]],\n",
       "   \n",
       "           [[-0.0769, -0.3028, -0.2219,  ..., -0.1851,  0.1290, -0.1604],\n",
       "            [-0.0646, -0.3070, -0.2084,  ..., -0.1502,  0.1102, -0.1662],\n",
       "            [-0.0773, -0.2600, -0.2362,  ..., -0.1230,  0.1695, -0.1737],\n",
       "            ...,\n",
       "            [-0.1107, -0.2932, -0.1149,  ..., -0.1798,  0.1181, -0.0795],\n",
       "            [-0.1609, -0.2844, -0.0939,  ..., -0.2273,  0.1309, -0.0057],\n",
       "            [-0.1904, -0.3011, -0.1047,  ..., -0.2524,  0.1545, -0.0061]],\n",
       "   \n",
       "           ...,\n",
       "   \n",
       "           [[ 0.0510, -0.1123,  0.1763,  ..., -0.0790, -0.1541,  0.1342],\n",
       "            [ 0.0752, -0.1085,  0.1670,  ..., -0.1136, -0.1620,  0.1651],\n",
       "            [ 0.1089, -0.1115,  0.1635,  ..., -0.0932, -0.1851,  0.1109],\n",
       "            ...,\n",
       "            [-0.0034, -0.0095,  0.0809,  ..., -0.2192, -0.1409,  0.3439],\n",
       "            [-0.0634, -0.1424,  0.0753,  ..., -0.1973,  0.0339,  0.3776],\n",
       "            [-0.0419, -0.0067,  0.2097,  ..., -0.1386, -0.0765,  0.2634]],\n",
       "   \n",
       "           [[-0.1887,  0.0754,  0.0168,  ..., -0.1076, -0.0371,  0.1607],\n",
       "            [-0.1957,  0.1316,  0.0365,  ..., -0.1440,  0.0269,  0.1290],\n",
       "            [-0.1889,  0.0937,  0.0421,  ..., -0.1650, -0.0172,  0.1318],\n",
       "            ...,\n",
       "            [-0.1044,  0.0383,  0.1192,  ..., -0.1863, -0.3253,  0.1177],\n",
       "            [-0.0636, -0.0683,  0.1682,  ..., -0.1547, -0.2983,  0.2113],\n",
       "            [-0.0792, -0.0623,  0.1419,  ..., -0.1176, -0.3210,  0.2014]],\n",
       "   \n",
       "           [[-0.0589, -0.2106,  0.1028,  ...,  0.0089, -0.0362,  0.2761],\n",
       "            [-0.0707, -0.1457,  0.0724,  ...,  0.0225, -0.0497,  0.2184],\n",
       "            [-0.0954, -0.0773,  0.0772,  ..., -0.0478, -0.0274,  0.1800],\n",
       "            ...,\n",
       "            [ 0.0770,  0.0447,  0.0976,  ...,  0.0654, -0.1592,  0.1924],\n",
       "            [ 0.0761,  0.0222,  0.1247,  ..., -0.0216, -0.1035,  0.1527],\n",
       "            [ 0.0546, -0.0290,  0.1651,  ...,  0.0207, -0.1687,  0.2548]]]),\n",
       "   'labels': tensor([4, 6, 0,  ..., 4, 4, 4])},\n",
       "  'labels': tensor([4, 6, 0,  ..., 4, 4, 4])},\n",
       " 'test': {'audio': {'features': tensor([[ 0.0389,  0.2301, -0.2440,  ...,  0.1834,  0.3830, -0.1822],\n",
       "           [ 0.0859, -0.0131,  0.1755,  ...,  0.3235,  0.2269, -0.4007],\n",
       "           [-0.1066,  0.1774,  0.3836,  ...,  0.1665,  0.1256,  0.0497],\n",
       "           ...,\n",
       "           [-0.0499,  0.0150,  0.1623,  ...,  0.1706,  0.4066, -0.3746],\n",
       "           [-0.0427,  0.1738, -0.1456,  ...,  0.0895,  0.3495, -0.4037],\n",
       "           [-0.0934,  0.0303,  0.2174,  ...,  0.4250,  0.0301, -0.0249]]),\n",
       "   'labels': tensor([6, 2, 0,  ..., 0, 0, 0])},\n",
       "  'text': {'features': tensor([[ 0.1025,  0.7237, -0.3015,  ..., -0.3605,  0.5609,  0.5325],\n",
       "           [ 0.0827, -0.1186,  0.1505,  ..., -0.2322,  0.5088,  0.9119],\n",
       "           [ 0.1548,  0.1337, -0.4350,  ..., -0.2488,  0.3987,  0.4214],\n",
       "           ...,\n",
       "           [ 0.3607,  0.3138, -0.2002,  ..., -0.0932,  0.1710,  0.7578],\n",
       "           [ 0.2020, -0.0453, -0.1769,  ..., -0.7276,  0.3907,  0.3013],\n",
       "           [ 0.1429,  0.0952, -0.3522,  ..., -0.3458,  0.2358,  0.4298]]),\n",
       "   'labels': tensor([6, 2, 0,  ..., 0, 0, 0]),\n",
       "   'text_len_tensor': tensor([768, 768, 768,  ..., 768, 768, 768])},\n",
       "  'video': {'features': tensor([[[-0.0827, -0.0424,  0.1966,  ..., -0.1473, -0.2924,  0.0231],\n",
       "            [-0.0152, -0.0469,  0.2363,  ..., -0.1971, -0.2687,  0.0787],\n",
       "            [-0.0019, -0.0532,  0.2986,  ..., -0.1797, -0.3109,  0.0921],\n",
       "            ...,\n",
       "            [ 0.0199,  0.0483,  0.2063,  ..., -0.1870, -0.1082,  0.1374],\n",
       "            [-0.2963, -0.0690,  0.1707,  ..., -0.3134, -0.1902,  0.1466],\n",
       "            [-0.1891, -0.0793,  0.1505,  ..., -0.4142, -0.1617,  0.1091]],\n",
       "   \n",
       "           [[ 0.0110, -0.0166,  0.1413,  ..., -0.2244, -0.1232,  0.0645],\n",
       "            [ 0.0339, -0.0425,  0.2399,  ..., -0.1176,  0.0202,  0.0749],\n",
       "            [ 0.0737,  0.0563,  0.2699,  ..., -0.0008,  0.1321,  0.0577],\n",
       "            ...,\n",
       "            [ 0.0150, -0.1634,  0.0546,  ..., -0.0897, -0.0610,  0.1704],\n",
       "            [ 0.0055, -0.1833,  0.0562,  ..., -0.0546, -0.0631,  0.1073],\n",
       "            [ 0.0251, -0.1072,  0.0836,  ..., -0.0994, -0.1336,  0.0828]],\n",
       "   \n",
       "           [[ 0.0306,  0.0419,  0.0296,  ...,  0.0789, -0.2018,  0.2301],\n",
       "            [ 0.1119,  0.0284,  0.0354,  ...,  0.0721, -0.2431,  0.0887],\n",
       "            [ 0.0367,  0.0747,  0.0484,  ...,  0.0532, -0.2467,  0.1800],\n",
       "            ...,\n",
       "            [ 0.0180,  0.0343,  0.0691,  ...,  0.0829, -0.2404,  0.2718],\n",
       "            [ 0.0553,  0.0348,  0.1316,  ...,  0.1263, -0.2600,  0.2279],\n",
       "            [ 0.0700,  0.0152,  0.0746,  ...,  0.1295, -0.2379,  0.1723]],\n",
       "   \n",
       "           ...,\n",
       "   \n",
       "           [[-0.0367, -0.1244,  0.2000,  ..., -0.0747, -0.0018,  0.1199],\n",
       "            [-0.1012, -0.1919,  0.1907,  ..., -0.0353, -0.0906,  0.1615],\n",
       "            [-0.1002, -0.1653,  0.1413,  ..., -0.0643, -0.0442,  0.2063],\n",
       "            ...,\n",
       "            [-0.0790, -0.1892, -0.1072,  ...,  0.0218, -0.1182,  0.2638],\n",
       "            [-0.0554, -0.1765,  0.0213,  ..., -0.0703, -0.0593,  0.2567],\n",
       "            [-0.1263, -0.1502, -0.0103,  ..., -0.0825, -0.0065,  0.3503]],\n",
       "   \n",
       "           [[-0.0680, -0.1761,  0.0167,  ..., -0.0428, -0.0778,  0.3010],\n",
       "            [-0.1064, -0.1410, -0.0169,  ..., -0.0696, -0.0139,  0.3556],\n",
       "            [-0.0312,  0.2242,  0.2059,  ..., -0.2295, -0.1868,  0.0132],\n",
       "            ...,\n",
       "            [-0.0231,  0.1302,  0.1436,  ..., -0.2511, -0.0992, -0.0336],\n",
       "            [ 0.0996,  0.1651,  0.0716,  ..., -0.1748, -0.0488, -0.0373],\n",
       "            [ 0.0751,  0.1270,  0.0832,  ..., -0.2114, -0.1067, -0.0531]],\n",
       "   \n",
       "           [[-0.0674,  0.0573, -0.1155,  ...,  0.0782, -0.1017,  0.0388],\n",
       "            [-0.1064, -0.0706,  0.1138,  ...,  0.0958, -0.1195,  0.0856],\n",
       "            [-0.1027,  0.0535, -0.0711,  ...,  0.1154, -0.0340,  0.0087],\n",
       "            ...,\n",
       "            [-0.0759, -0.0827, -0.0526,  ...,  0.1849, -0.2106,  0.0579],\n",
       "            [-0.2318, -0.1293, -0.1129,  ...,  0.0571, -0.2216,  0.1074],\n",
       "            [-0.1319,  0.0028, -0.0023,  ...,  0.0454, -0.4149,  0.1893]]]),\n",
       "   'labels': tensor([6, 2, 0,  ..., 0, 0, 0])},\n",
       "  'labels': tensor([6, 2, 0,  ..., 0, 0, 0])}}"
      ]
     },
     "execution_count": 18,
     "metadata": {},
     "output_type": "execute_result"
    }
   ],
   "source": [
    "data"
   ]
  },
  {
   "cell_type": "code",
   "execution_count": 19,
   "metadata": {},
   "outputs": [
    {
     "name": "stdout",
     "output_type": "stream",
     "text": [
      "torch.Size([9988]) torch.Size([9988]) torch.Size([9988])\n",
      "(tensor([0, 1, 2, 3, 4, 5, 6]), tensor([4709, 1743, 1109,  271,  683,  268, 1205]))\n",
      "tensor([0, 1, 6, 2])\n",
      "torch.Size([8766]) torch.Size([8766]) torch.Size([8766])\n",
      "(tensor([0, 1, 2, 6]), tensor([4709, 1743, 1109, 1205]))\n",
      "(tensor([0, 1, 2, 6]), tensor([1256,  402,  345,  281]))\n",
      "(tensor([0, 1, 2, 6]), tensor([469, 163, 153, 150]))\n"
     ]
    }
   ],
   "source": [
    "print(data['train']['audio']['labels'].shape, data['train']['text']['labels'].shape, data['train']['video']['labels'].shape)\n",
    "# count values in each label\n",
    "print(torch.unique(data['train']['audio']['labels'], return_counts=True)) \n",
    "\n",
    "# train\n",
    "unique_labels, counts = torch.unique(data['train']['audio']['labels'], return_counts=True)\n",
    "sorted_indices = torch.argsort(counts, descending=True)\n",
    "representative_labels = unique_labels[sorted_indices[:4]]\n",
    "print(representative_labels)\n",
    "audio_indices = torch.isin(data['train']['audio']['labels'], representative_labels)\n",
    "text_indices = torch.isin(data['train']['text']['labels'], representative_labels)\n",
    "video_indices = torch.isin(data['train']['video']['labels'], representative_labels)\n",
    "\n",
    "# dev\n",
    "audio_indices_dev = torch.isin(data['val']['audio']['labels'], representative_labels)\n",
    "text_indices_dev = torch.isin(data['val']['text']['labels'], representative_labels)\n",
    "video_indices_dev = torch.isin(data['val']['video']['labels'], representative_labels)\n",
    "\n",
    "# test\n",
    "audio_indices_test = torch.isin(data['test']['audio']['labels'], representative_labels)\n",
    "text_indices_test = torch.isin(data['test']['text']['labels'], representative_labels)\n",
    "video_indices_test = torch.isin(data['test']['video']['labels'], representative_labels)\n",
    "\n",
    "subdata = {\n",
    "    'train': {\n",
    "        'audio': {\n",
    "            'features': data['train']['audio']['features'][audio_indices],\n",
    "            'labels': data['train']['audio']['labels'][audio_indices]\n",
    "        },\n",
    "        'text': {\n",
    "            'features': data['train']['text']['features'][text_indices],\n",
    "            'labels': data['train']['text']['labels'][text_indices]\n",
    "        },\n",
    "        'video': {\n",
    "            'features': data['train']['video']['features'][video_indices],\n",
    "            'labels': data['train']['video']['labels'][video_indices]\n",
    "        }\n",
    "    },\n",
    "    'val': {\n",
    "        'audio': {\n",
    "            'features': data['val']['audio']['features'][audio_indices_dev],\n",
    "            'labels': data['val']['audio']['labels'][audio_indices_dev]\n",
    "        },\n",
    "        'text': {\n",
    "            'features': data['val']['text']['features'][text_indices_dev],\n",
    "            'labels': data['val']['text']['labels'][text_indices_dev]\n",
    "        },\n",
    "        'video': {\n",
    "            'features': data['val']['video']['features'][video_indices_dev],\n",
    "            'labels': data['val']['video']['labels'][video_indices_dev]\n",
    "        }\n",
    "    },\n",
    "    'test': {\n",
    "        'audio': {\n",
    "            'features': data['test']['audio']['features'][audio_indices_test],\n",
    "            'labels': data['test']['audio']['labels'][audio_indices_test]\n",
    "        },\n",
    "        'text': {\n",
    "            'features': data['test']['text']['features'][text_indices_test],\n",
    "            'labels': data['test']['text']['labels'][text_indices_test]\n",
    "        },\n",
    "        'video': {\n",
    "            'features': data['test']['video']['features'][video_indices_test],\n",
    "            'labels': data['test']['video']['labels'][video_indices_test]\n",
    "        }\n",
    "    }\n",
    "}\n",
    "# Filtrer les données pour les classes les plus représentatives\n",
    "subdata['train']['audio']['labels'] = data['train']['audio']['labels'][audio_indices]\n",
    "subdata['train']['audio']['features'] = data['train']['audio']['features'][audio_indices]\n",
    "subdata['train']['text']['features'] = data['train']['text']['features'][text_indices]\n",
    "subdata['train']['text']['labels'] = data['train']['text']['labels'][text_indices]\n",
    "subdata['train']['video']['features'] = data['train']['video']['features'][video_indices]\n",
    "subdata['train']['video']['labels'] = data['train']['video']['labels'][video_indices]\n",
    "\n",
    "# checking the shape of the data and values count in each label\n",
    "print(subdata['train']['audio']['labels'].shape, subdata['train']['text']['labels'].shape, subdata['train']['video']['labels'].shape)\n",
    "print(torch.unique(subdata['train']['audio']['labels'], return_counts=True))\n",
    "print(torch.unique(subdata['test']['audio']['labels'], return_counts=True))\n",
    "print(torch.unique(subdata['val']['audio']['labels'], return_counts=True))\n",
    "\n"
   ]
  },
  {
   "cell_type": "code",
   "execution_count": 20,
   "metadata": {},
   "outputs": [
    {
     "name": "stdout",
     "output_type": "stream",
     "text": [
      "Label Mapping: {0: 0, 1: 1, 6: 2, 2: 3}\n",
      "(tensor([0, 1, 2, 3]), tensor([4709, 1743, 1205, 1109]))\n",
      "(tensor([0, 1, 2, 3]), tensor([469, 163, 150, 153]))\n",
      "(tensor([0, 1, 2, 3]), tensor([1256,  402,  281,  345]))\n"
     ]
    }
   ],
   "source": [
    "label_mapping = {label.item(): idx for idx, label in enumerate(representative_labels)}\n",
    "print(f\"Label Mapping: {label_mapping}\")\n",
    "\n",
    "def reindex_labels(labels, mapping):\n",
    "    return torch.tensor([mapping[label.item()] for label in labels], dtype=torch.long)\n",
    "\n",
    "subdata['train']['audio']['labels'] = reindex_labels(subdata['train']['audio']['labels'], label_mapping)\n",
    "subdata['train']['text']['labels'] = reindex_labels(subdata['train']['text']['labels'], label_mapping)\n",
    "subdata['train']['video']['labels'] = reindex_labels(subdata['train']['video']['labels'], label_mapping)\n",
    "\n",
    "subdata['val']['audio']['labels'] = reindex_labels(subdata['val']['audio']['labels'], label_mapping)\n",
    "subdata['val']['text']['labels'] = reindex_labels(subdata['val']['text']['labels'], label_mapping)\n",
    "subdata['val']['video']['labels'] = reindex_labels(subdata['val']['video']['labels'], label_mapping)\n",
    "\n",
    "subdata['test']['audio']['labels'] = reindex_labels(subdata['test']['audio']['labels'], label_mapping)\n",
    "subdata['test']['text']['labels'] = reindex_labels(subdata['test']['text']['labels'], label_mapping)\n",
    "subdata['test']['video']['labels'] = reindex_labels(subdata['test']['video']['labels'], label_mapping)\n",
    "\n",
    "\n",
    "print(torch.unique(subdata['train']['audio']['labels'], return_counts=True))\n",
    "print(torch.unique(subdata['val']['audio']['labels'], return_counts=True))\n",
    "print(torch.unique(subdata['test']['audio']['labels'], return_counts=True))\n"
   ]
  },
  {
   "cell_type": "code",
   "execution_count": 27,
   "metadata": {},
   "outputs": [],
   "source": [
    "args = {\n",
    "    'modalities': ['audio', 'text', 'video'],\n",
    "    'edge_type': ['temp', 'multi'],\n",
    "    'wp': 3,\n",
    "    'wf': 3,\n",
    "    'crossmodal_nheads': 4,\n",
    "    'num_crossmodal':2,\n",
    "    'self_att_nheads': 4,\n",
    "    'num_self_att':2,\n",
    "    \n",
    "    'device': torch.device('cuda' if torch.cuda.is_available() else 'cpu')\n",
    "}"
   ]
  },
  {
   "cell_type": "code",
   "execution_count": 28,
   "metadata": {},
   "outputs": [
    {
     "name": "stdout",
     "output_type": "stream",
     "text": [
      "[DEBUG] Prepared features shape: torch.Size([26298, 768])\n",
      "[DEBUG] Prepared labels shape: torch.Size([26298])\n",
      "[DEBUG] Prepared lengths: [8766, 8766, 8766]\n",
      "[DEBUG] Prepared features shape: torch.Size([2805, 768])\n",
      "[DEBUG] Prepared labels shape: torch.Size([2805])\n",
      "[DEBUG] Prepared lengths: [935, 935, 935]\n",
      "[DEBUG] Prepared features shape: torch.Size([6852, 768])\n",
      "[DEBUG] Prepared labels shape: torch.Size([6852])\n",
      "[DEBUG] Prepared lengths: [2284, 2284, 2284]\n"
     ]
    }
   ],
   "source": [
    "subtrain_features, subtrain_labels, subtrain_lengths = prepare_graph_data(subdata['train'], args)\n",
    "subdev_features, subdev_labels, subdev_lengths = prepare_graph_data(subdata['val'], args)\n",
    "subtest_features, subtest_labels, subtest_lengths = prepare_graph_data(subdata['test'], args)\n",
    "\n",
    "subtrain_loader = prepare_dataloaders(subtrain_features, subtrain_labels, subtrain_lengths, batch_size=32)\n",
    "subval_loader = prepare_dataloaders(subdev_features, subdev_labels, subdev_lengths, batch_size=32)\n",
    "subtest_loader = prepare_dataloaders(subtest_features, subtest_labels, subtest_lengths, batch_size=32)\n"
   ]
  },
  {
   "cell_type": "code",
   "execution_count": 29,
   "metadata": {},
   "outputs": [
    {
     "name": "stdout",
     "output_type": "stream",
     "text": [
      "GraphModel --> Edge type: ['temp', 'multi']\n",
      "GraphModel --> Window past: 3\n",
      "GraphModel --> Window future: 3\n"
     ]
    },
    {
     "name": "stderr",
     "output_type": "stream",
     "text": [
      "Epoch 1 Training:   0%|          | 0/822 [00:21<?, ?it/s]\n"
     ]
    },
    {
     "name": "stdout",
     "output_type": "stream",
     "text": [
      "[DEBUG] Epoch 1 train loss 1.607980345359974, val loss 1.1807164705612443\n"
     ]
    },
    {
     "name": "stderr",
     "output_type": "stream",
     "text": [
      "Testing: 100%|██████████| 88/88 [00:01<00:00, 61.65it/s]\n"
     ]
    },
    {
     "name": "stdout",
     "output_type": "stream",
     "text": [
      "[DEBUG] Test Accuracy: 54.69%, Test F1 Score: 34.12%\n",
      "[DEBUG] Class 0 - Precision: 55.99%, Recall: 93.03%, F1-Score: 69.91%\n",
      "[DEBUG] Class 1 - Precision: 51.60%, Recall: 19.84%, F1-Score: 28.66%\n",
      "[DEBUG] Class 2 - Precision: 43.68%, Recall: 25.33%, F1-Score: 32.07%\n",
      "[DEBUG] Class 3 - Precision: 77.78%, Recall: 3.05%, F1-Score: 5.87%\n",
      "{'0': {'precision': 0.5598802395209581, 'recall': 0.9303482587064676, 'f1-score': 0.6990654205607477, 'support': 1407.0}, '1': {'precision': 0.5159574468085106, 'recall': 0.1983640081799591, 'f1-score': 0.2865583456425406, 'support': 489.0}, '2': {'precision': 0.4367816091954023, 'recall': 0.25333333333333335, 'f1-score': 0.3206751054852321, 'support': 450.0}, '3': {'precision': 0.7777777777777778, 'recall': 0.030501089324618737, 'f1-score': 0.05870020964360587, 'support': 459.0}, 'accuracy': 0.5468805704099822, 'macro avg': {'precision': 0.5725992683256622, 'recall': 0.3531366723860947, 'f1-score': 0.34124977033303155, 'support': 2805.0}, 'weighted avg': {'precision': 0.5681306283897615, 'recall': 0.5468805704099822, 'f1-score': 0.461661059337948, 'support': 2805.0}}\n"
     ]
    },
    {
     "name": "stderr",
     "output_type": "stream",
     "text": [
      "Epoch 2 Training:   0%|          | 0/822 [00:20<?, ?it/s]\n"
     ]
    },
    {
     "name": "stdout",
     "output_type": "stream",
     "text": [
      "[DEBUG] Epoch 2 train loss 1.0712202921546, val loss 1.1252954724160107\n"
     ]
    },
    {
     "name": "stderr",
     "output_type": "stream",
     "text": [
      "Testing: 100%|██████████| 88/88 [00:01<00:00, 61.50it/s]\n"
     ]
    },
    {
     "name": "stdout",
     "output_type": "stream",
     "text": [
      "[DEBUG] Test Accuracy: 55.58%, Test F1 Score: 34.44%\n",
      "[DEBUG] Class 0 - Precision: 55.41%, Recall: 96.80%, F1-Score: 70.48%\n",
      "[DEBUG] Class 1 - Precision: 56.34%, Recall: 16.36%, F1-Score: 25.36%\n",
      "[DEBUG] Class 2 - Precision: 65.43%, Recall: 11.78%, F1-Score: 19.96%\n",
      "[DEBUG] Class 3 - Precision: 51.61%, Recall: 13.94%, F1-Score: 21.96%\n",
      "{'0': {'precision': 0.5541090317331163, 'recall': 0.9680170575692963, 'f1-score': 0.7047865459249677, 'support': 1407.0}, '1': {'precision': 0.5633802816901409, 'recall': 0.16359918200409, 'f1-score': 0.25356576862123614, 'support': 489.0}, '2': {'precision': 0.654320987654321, 'recall': 0.11777777777777777, 'f1-score': 0.19962335216572505, 'support': 450.0}, '3': {'precision': 0.5161290322580645, 'recall': 0.1394335511982571, 'f1-score': 0.2195540308747856, 'support': 459.0}, 'accuracy': 0.5557932263814617, 'macro avg': {'precision': 0.5719848333339106, 'recall': 0.34720689213735534, 'f1-score': 0.34438242439667865, 'support': 2805.0}, 'weighted avg': {'precision': 0.565587178483376, 'recall': 0.5557932263814617, 'f1-score': 0.4656806201847831, 'support': 2805.0}}\n"
     ]
    },
    {
     "name": "stderr",
     "output_type": "stream",
     "text": [
      "Epoch 3 Training:   0%|          | 0/822 [00:20<?, ?it/s]\n"
     ]
    },
    {
     "name": "stdout",
     "output_type": "stream",
     "text": [
      "[DEBUG] Epoch 3 train loss 1.0555579769640364, val loss 1.1156589117917148\n"
     ]
    },
    {
     "name": "stderr",
     "output_type": "stream",
     "text": [
      "Testing: 100%|██████████| 88/88 [00:01<00:00, 55.96it/s]\n"
     ]
    },
    {
     "name": "stdout",
     "output_type": "stream",
     "text": [
      "[DEBUG] Test Accuracy: 55.86%, Test F1 Score: 37.10%\n",
      "[DEBUG] Class 0 - Precision: 57.24%, Recall: 93.82%, F1-Score: 71.10%\n",
      "[DEBUG] Class 1 - Precision: 41.70%, Recall: 22.09%, F1-Score: 28.88%\n",
      "[DEBUG] Class 2 - Precision: 63.89%, Recall: 15.33%, F1-Score: 24.73%\n",
      "[DEBUG] Class 3 - Precision: 53.03%, Recall: 15.25%, F1-Score: 23.69%\n",
      "{'0': {'precision': 0.572419774501301, 'recall': 0.9381663113006397, 'f1-score': 0.7110153514678158, 'support': 1407.0}, '1': {'precision': 0.416988416988417, 'recall': 0.22085889570552147, 'f1-score': 0.2887700534759358, 'support': 489.0}, '2': {'precision': 0.6388888888888888, 'recall': 0.15333333333333332, 'f1-score': 0.24731182795698925, 'support': 450.0}, '3': {'precision': 0.5303030303030303, 'recall': 0.15250544662309368, 'f1-score': 0.23688663282571912, 'support': 459.0}, 'accuracy': 0.5586452762923351, 'macro avg': {'precision': 0.5396500276704093, 'recall': 0.36621599674064703, 'f1-score': 0.370995966431615, 'support': 2805.0}, 'weighted avg': {'precision': 0.5490948483207692, 'recall': 0.5586452762923351, 'f1-score': 0.48542903483515143, 'support': 2805.0}}\n"
     ]
    },
    {
     "name": "stderr",
     "output_type": "stream",
     "text": [
      "Epoch 4 Training:   0%|          | 0/822 [00:21<?, ?it/s]\n"
     ]
    },
    {
     "name": "stdout",
     "output_type": "stream",
     "text": [
      "[DEBUG] Epoch 4 train loss 1.0483380907063358, val loss 1.1106155162507838\n"
     ]
    },
    {
     "name": "stderr",
     "output_type": "stream",
     "text": [
      "Testing: 100%|██████████| 88/88 [00:01<00:00, 64.63it/s]\n"
     ]
    },
    {
     "name": "stdout",
     "output_type": "stream",
     "text": [
      "[DEBUG] Test Accuracy: 55.94%, Test F1 Score: 36.73%\n",
      "[DEBUG] Class 0 - Precision: 55.82%, Recall: 95.10%, F1-Score: 70.35%\n",
      "[DEBUG] Class 1 - Precision: 64.29%, Recall: 14.72%, F1-Score: 23.96%\n",
      "[DEBUG] Class 2 - Precision: 53.25%, Recall: 20.00%, F1-Score: 29.08%\n",
      "[DEBUG] Class 3 - Precision: 54.33%, Recall: 15.03%, F1-Score: 23.55%\n",
      "{'0': {'precision': 0.55819774718398, 'recall': 0.9509594882729211, 'f1-score': 0.7034700315457413, 'support': 1407.0}, '1': {'precision': 0.6428571428571429, 'recall': 0.147239263803681, 'f1-score': 0.23960066555740434, 'support': 489.0}, '2': {'precision': 0.5325443786982249, 'recall': 0.2, 'f1-score': 0.29079159935379645, 'support': 450.0}, '3': {'precision': 0.5433070866141733, 'recall': 0.1503267973856209, 'f1-score': 0.2354948805460751, 'support': 459.0}, 'accuracy': 0.5593582887700534, 'macro avg': {'precision': 0.5692265888383803, 'recall': 0.3621313873655557, 'f1-score': 0.3673392942507543, 'support': 2805.0}, 'weighted avg': {'precision': 0.5664043837130516, 'recall': 0.5593582887700534, 'f1-score': 0.4798201175480518, 'support': 2805.0}}\n"
     ]
    },
    {
     "name": "stderr",
     "output_type": "stream",
     "text": [
      "Epoch 5 Training:   0%|          | 0/822 [00:21<?, ?it/s]\n"
     ]
    },
    {
     "name": "stdout",
     "output_type": "stream",
     "text": [
      "[DEBUG] Epoch 5 train loss 1.0408196082370416, val loss 1.1157577654177493\n"
     ]
    },
    {
     "name": "stderr",
     "output_type": "stream",
     "text": [
      "Testing: 100%|██████████| 88/88 [00:01<00:00, 66.94it/s]\n"
     ]
    },
    {
     "name": "stdout",
     "output_type": "stream",
     "text": [
      "[DEBUG] Test Accuracy: 55.54%, Test F1 Score: 34.49%\n",
      "[DEBUG] Class 0 - Precision: 55.82%, Recall: 96.45%, F1-Score: 70.71%\n",
      "[DEBUG] Class 1 - Precision: 51.74%, Recall: 18.20%, F1-Score: 26.93%\n",
      "[DEBUG] Class 2 - Precision: 63.10%, Recall: 11.78%, F1-Score: 19.85%\n",
      "[DEBUG] Class 3 - Precision: 50.00%, Recall: 12.85%, F1-Score: 20.45%\n",
      "{'0': {'precision': 0.55820649938297, 'recall': 0.9644633972992182, 'f1-score': 0.7071391349661282, 'support': 1407.0}, '1': {'precision': 0.5174418604651163, 'recall': 0.18200408997955012, 'f1-score': 0.2692889561270802, 'support': 489.0}, '2': {'precision': 0.6309523809523809, 'recall': 0.11777777777777777, 'f1-score': 0.19850187265917604, 'support': 450.0}, '3': {'precision': 0.5, 'recall': 0.12854030501089325, 'f1-score': 0.2045060658578856, 'support': 459.0}, 'accuracy': 0.5554367201426025, 'macro avg': {'precision': 0.5516501852001168, 'recall': 0.34819639251685985, 'f1-score': 0.34485900740256753, 'support': 2805.0}, 'weighted avg': {'precision': 0.5532456990473626, 'recall': 0.5554367201426025, 'f1-score': 0.4669594257999584, 'support': 2805.0}}\n"
     ]
    },
    {
     "name": "stderr",
     "output_type": "stream",
     "text": [
      "Epoch 6 Training:   0%|          | 0/822 [00:21<?, ?it/s]\n"
     ]
    },
    {
     "name": "stdout",
     "output_type": "stream",
     "text": [
      "[DEBUG] Epoch 6 train loss 1.0335750650170366, val loss 1.1050527034835382\n"
     ]
    },
    {
     "name": "stderr",
     "output_type": "stream",
     "text": [
      "Testing: 100%|██████████| 88/88 [00:01<00:00, 59.43it/s]\n"
     ]
    },
    {
     "name": "stdout",
     "output_type": "stream",
     "text": [
      "[DEBUG] Test Accuracy: 56.29%, Test F1 Score: 36.04%\n",
      "[DEBUG] Class 0 - Precision: 55.65%, Recall: 96.94%, F1-Score: 70.71%\n",
      "[DEBUG] Class 1 - Precision: 62.60%, Recall: 16.77%, F1-Score: 26.45%\n",
      "[DEBUG] Class 2 - Precision: 62.93%, Recall: 16.22%, F1-Score: 25.80%\n",
      "[DEBUG] Class 3 - Precision: 56.07%, Recall: 13.07%, F1-Score: 21.20%\n",
      "{'0': {'precision': 0.5565075479396164, 'recall': 0.9694385216773277, 'f1-score': 0.7071021254536028, 'support': 1407.0}, '1': {'precision': 0.6259541984732825, 'recall': 0.16768916155419222, 'f1-score': 0.2645161290322581, 'support': 489.0}, '2': {'precision': 0.6293103448275862, 'recall': 0.1622222222222222, 'f1-score': 0.2579505300353357, 'support': 450.0}, '3': {'precision': 0.5607476635514018, 'recall': 0.13071895424836602, 'f1-score': 0.21201413427561838, 'support': 459.0}, 'accuracy': 0.5629233511586452, 'macro avg': {'precision': 0.5931299386979718, 'recall': 0.357517214925527, 'f1-score': 0.36039572969920375, 'support': 2805.0}, 'weighted avg': {'precision': 0.5809877204089064, 'recall': 0.5629233511586452, 'f1-score': 0.4768746180956875, 'support': 2805.0}}\n"
     ]
    },
    {
     "name": "stderr",
     "output_type": "stream",
     "text": [
      "Epoch 7 Training:   0%|          | 0/822 [00:20<?, ?it/s]\n"
     ]
    },
    {
     "name": "stdout",
     "output_type": "stream",
     "text": [
      "[DEBUG] Epoch 7 train loss 1.0282907852146168, val loss 1.1003034060651606\n"
     ]
    },
    {
     "name": "stderr",
     "output_type": "stream",
     "text": [
      "Testing: 100%|██████████| 88/88 [00:01<00:00, 66.01it/s]\n"
     ]
    },
    {
     "name": "stdout",
     "output_type": "stream",
     "text": [
      "[DEBUG] Test Accuracy: 56.29%, Test F1 Score: 35.79%\n",
      "[DEBUG] Class 0 - Precision: 55.63%, Recall: 97.30%, F1-Score: 70.79%\n",
      "[DEBUG] Class 1 - Precision: 66.36%, Recall: 14.52%, F1-Score: 23.83%\n",
      "[DEBUG] Class 2 - Precision: 62.71%, Recall: 16.44%, F1-Score: 26.06%\n",
      "[DEBUG] Class 3 - Precision: 54.62%, Recall: 14.16%, F1-Score: 22.49%\n",
      "{'0': {'precision': 0.5562779357984559, 'recall': 0.9729921819474058, 'f1-score': 0.7078593588417788, 'support': 1407.0}, '1': {'precision': 0.6635514018691588, 'recall': 0.14519427402862986, 'f1-score': 0.23825503355704697, 'support': 489.0}, '2': {'precision': 0.6271186440677966, 'recall': 0.16444444444444445, 'f1-score': 0.2605633802816901, 'support': 450.0}, '3': {'precision': 0.5462184873949579, 'recall': 0.14161220043572983, 'f1-score': 0.22491349480968859, 'support': 459.0}, 'accuracy': 0.5629233511586452, 'macro avg': {'precision': 0.5982916172825923, 'recall': 0.3560607752140525, 'f1-score': 0.3578978168725512, 'support': 2805.0}, 'weighted avg': {'precision': 0.5846978134499966, 'recall': 0.5629233511586452, 'f1-score': 0.47520629039008416, 'support': 2805.0}}\n"
     ]
    },
    {
     "name": "stderr",
     "output_type": "stream",
     "text": [
      "Epoch 8 Training:   0%|          | 0/822 [00:21<?, ?it/s]\n"
     ]
    },
    {
     "name": "stdout",
     "output_type": "stream",
     "text": [
      "[DEBUG] Epoch 8 train loss 1.0211019014210017, val loss 1.1049536283720622\n"
     ]
    },
    {
     "name": "stderr",
     "output_type": "stream",
     "text": [
      "Testing: 100%|██████████| 88/88 [00:01<00:00, 64.03it/s]\n"
     ]
    },
    {
     "name": "stdout",
     "output_type": "stream",
     "text": [
      "[DEBUG] Test Accuracy: 56.93%, Test F1 Score: 40.63%\n",
      "[DEBUG] Class 0 - Precision: 58.08%, Recall: 92.25%, F1-Score: 71.28%\n",
      "[DEBUG] Class 1 - Precision: 46.52%, Recall: 21.88%, F1-Score: 29.76%\n",
      "[DEBUG] Class 2 - Precision: 54.95%, Recall: 22.22%, F1-Score: 31.65%\n",
      "[DEBUG] Class 3 - Precision: 58.23%, Recall: 20.04%, F1-Score: 29.82%\n",
      "{'0': {'precision': 0.5807606263982102, 'recall': 0.9225302061122956, 'f1-score': 0.7127951674903898, 'support': 1407.0}, '1': {'precision': 0.4652173913043478, 'recall': 0.21881390593047034, 'f1-score': 0.29763560500695413, 'support': 489.0}, '2': {'precision': 0.5494505494505495, 'recall': 0.2222222222222222, 'f1-score': 0.31645569620253167, 'support': 450.0}, '3': {'precision': 0.5822784810126582, 'recall': 0.20043572984749455, 'f1-score': 0.29821717990275526, 'support': 459.0}, 'accuracy': 0.5693404634581105, 'macro avg': {'precision': 0.5444267620414414, 'recall': 0.3910005160281207, 'f1-score': 0.4062759121506578, 'support': 2805.0}, 'weighted avg': {'precision': 0.5558431642522871, 'recall': 0.5693404634581105, 'f1-score': 0.5089958504006713, 'support': 2805.0}}\n"
     ]
    },
    {
     "name": "stderr",
     "output_type": "stream",
     "text": [
      "Epoch 9 Training:   0%|          | 0/822 [00:21<?, ?it/s]\n"
     ]
    },
    {
     "name": "stdout",
     "output_type": "stream",
     "text": [
      "[DEBUG] Epoch 9 train loss 1.0152652869114331, val loss 1.1140624907883732\n"
     ]
    },
    {
     "name": "stderr",
     "output_type": "stream",
     "text": [
      "Testing: 100%|██████████| 88/88 [00:01<00:00, 61.83it/s]\n"
     ]
    },
    {
     "name": "stdout",
     "output_type": "stream",
     "text": [
      "[DEBUG] Test Accuracy: 56.65%, Test F1 Score: 37.48%\n",
      "[DEBUG] Class 0 - Precision: 56.06%, Recall: 95.95%, F1-Score: 70.77%\n",
      "[DEBUG] Class 1 - Precision: 54.26%, Recall: 20.86%, F1-Score: 30.13%\n",
      "[DEBUG] Class 2 - Precision: 67.27%, Recall: 16.44%, F1-Score: 26.43%\n",
      "[DEBUG] Class 3 - Precision: 63.64%, Recall: 13.73%, F1-Score: 22.58%\n",
      "{'0': {'precision': 0.5606312292358804, 'recall': 0.9594882729211087, 'f1-score': 0.7077326343381389, 'support': 1407.0}, '1': {'precision': 0.5425531914893617, 'recall': 0.2085889570552147, 'f1-score': 0.30132939438700146, 'support': 489.0}, '2': {'precision': 0.6727272727272727, 'recall': 0.16444444444444445, 'f1-score': 0.2642857142857143, 'support': 450.0}, '3': {'precision': 0.6363636363636364, 'recall': 0.13725490196078433, 'f1-score': 0.22580645161290322, 'support': 459.0}, 'accuracy': 0.5664884135472371, 'macro avg': {'precision': 0.6030688324540378, 'recall': 0.367444144095388, 'f1-score': 0.37478854865593947, 'support': 2805.0}, 'weighted avg': {'precision': 0.5878555550771349, 'recall': 0.5664884135472371, 'f1-score': 0.48688186206342216, 'support': 2805.0}}\n"
     ]
    },
    {
     "name": "stderr",
     "output_type": "stream",
     "text": [
      "Epoch 10 Training:   0%|          | 0/822 [00:21<?, ?it/s]\n"
     ]
    },
    {
     "name": "stdout",
     "output_type": "stream",
     "text": [
      "[DEBUG] Epoch 10 train loss 1.0101269923712506, val loss 1.116445079445839\n"
     ]
    },
    {
     "name": "stderr",
     "output_type": "stream",
     "text": [
      "Testing: 100%|██████████| 88/88 [00:01<00:00, 63.14it/s]\n"
     ]
    },
    {
     "name": "stdout",
     "output_type": "stream",
     "text": [
      "[DEBUG] Test Accuracy: 56.54%, Test F1 Score: 38.00%\n",
      "[DEBUG] Class 0 - Precision: 56.63%, Recall: 95.02%, F1-Score: 70.97%\n",
      "[DEBUG] Class 1 - Precision: 50.81%, Recall: 19.22%, F1-Score: 27.89%\n",
      "[DEBUG] Class 2 - Precision: 67.52%, Recall: 17.56%, F1-Score: 27.87%\n",
      "[DEBUG] Class 3 - Precision: 53.52%, Recall: 16.56%, F1-Score: 25.29%\n",
      "{'0': {'precision': 0.566285472257518, 'recall': 0.9502487562189055, 'f1-score': 0.7096602972399151, 'support': 1407.0}, '1': {'precision': 0.5081081081081081, 'recall': 0.19222903885480572, 'f1-score': 0.2789317507418398, 'support': 489.0}, '2': {'precision': 0.6752136752136753, 'recall': 0.17555555555555555, 'f1-score': 0.2786596119929453, 'support': 450.0}, '3': {'precision': 0.5352112676056338, 'recall': 0.1655773420479303, 'f1-score': 0.2529118136439268, 'support': 459.0}, 'accuracy': 0.5654188948306595, 'macro avg': {'precision': 0.5712046307962337, 'recall': 0.37090267316929926, 'f1-score': 0.38004086840465673, 'support': 2805.0}, 'weighted avg': {'precision': 0.5685335650653592, 'recall': 0.5654188948306595, 'f1-score': 0.4906855658426766, 'support': 2805.0}}\n"
     ]
    },
    {
     "name": "stderr",
     "output_type": "stream",
     "text": [
      "Epoch 11 Training:   0%|          | 0/822 [00:21<?, ?it/s]\n"
     ]
    },
    {
     "name": "stdout",
     "output_type": "stream",
     "text": [
      "[DEBUG] Epoch 11 train loss 1.0060066286374763, val loss 1.122918452051553\n"
     ]
    },
    {
     "name": "stderr",
     "output_type": "stream",
     "text": [
      "Testing: 100%|██████████| 88/88 [00:01<00:00, 55.34it/s]\n"
     ]
    },
    {
     "name": "stdout",
     "output_type": "stream",
     "text": [
      "[DEBUG] Test Accuracy: 56.01%, Test F1 Score: 37.36%\n",
      "[DEBUG] Class 0 - Precision: 57.24%, Recall: 93.89%, F1-Score: 71.12%\n",
      "[DEBUG] Class 1 - Precision: 53.80%, Recall: 17.38%, F1-Score: 26.28%\n",
      "[DEBUG] Class 2 - Precision: 71.26%, Recall: 13.78%, F1-Score: 23.09%\n",
      "[DEBUG] Class 3 - Precision: 40.87%, Recall: 22.44%, F1-Score: 28.97%\n",
      "{'0': {'precision': 0.5723570190641247, 'recall': 0.9388770433546553, 'f1-score': 0.7111709286675639, 'support': 1407.0}, '1': {'precision': 0.5379746835443038, 'recall': 0.1738241308793456, 'f1-score': 0.26275115919629055, 'support': 489.0}, '2': {'precision': 0.7126436781609196, 'recall': 0.13777777777777778, 'f1-score': 0.2309124767225326, 'support': 450.0}, '3': {'precision': 0.4087301587301587, 'recall': 0.22440087145969498, 'f1-score': 0.28973277074542897, 'support': 459.0}, 'accuracy': 0.5600713012477718, 'macro avg': {'precision': 0.5579263848748767, 'recall': 0.36871995586786843, 'f1-score': 0.373641833832954, 'support': 2805.0}, 'weighted avg': {'precision': 0.5620936699129928, 'recall': 0.5600713012477718, 'f1-score': 0.48698779671284853, 'support': 2805.0}}\n"
     ]
    },
    {
     "name": "stderr",
     "output_type": "stream",
     "text": [
      "Epoch 12 Training:   0%|          | 0/822 [00:22<?, ?it/s]\n"
     ]
    },
    {
     "name": "stdout",
     "output_type": "stream",
     "text": [
      "[DEBUG] Epoch 12 train loss 1.000538905244094, val loss 1.1115747710520572\n"
     ]
    },
    {
     "name": "stderr",
     "output_type": "stream",
     "text": [
      "Testing: 100%|██████████| 88/88 [00:01<00:00, 62.43it/s]\n"
     ]
    },
    {
     "name": "stdout",
     "output_type": "stream",
     "text": [
      "[DEBUG] Test Accuracy: 56.36%, Test F1 Score: 37.24%\n",
      "[DEBUG] Class 0 - Precision: 56.70%, Recall: 95.31%, F1-Score: 71.10%\n",
      "[DEBUG] Class 1 - Precision: 71.28%, Recall: 13.70%, F1-Score: 22.98%\n",
      "[DEBUG] Class 2 - Precision: 63.79%, Recall: 16.44%, F1-Score: 26.15%\n",
      "[DEBUG] Class 3 - Precision: 43.04%, Recall: 21.57%, F1-Score: 28.74%\n",
      "{'0': {'precision': 0.5670190274841438, 'recall': 0.9530916844349681, 'f1-score': 0.7110286320254506, 'support': 1407.0}, '1': {'precision': 0.7127659574468085, 'recall': 0.13701431492842536, 'f1-score': 0.22984562607204118, 'support': 489.0}, '2': {'precision': 0.6379310344827587, 'recall': 0.16444444444444445, 'f1-score': 0.26148409893992935, 'support': 450.0}, '3': {'precision': 0.43043478260869567, 'recall': 0.21568627450980393, 'f1-score': 0.28737300435413643, 'support': 459.0}, 'accuracy': 0.5636363636363636, 'macro avg': {'precision': 0.5870377005056017, 'recall': 0.3675591795794104, 'f1-score': 0.3724328403478894, 'support': 2805.0}, 'weighted avg': {'precision': 0.5814534244550134, 'recall': 0.5636363636363636, 'f1-score': 0.4856983422212314, 'support': 2805.0}}\n"
     ]
    },
    {
     "name": "stderr",
     "output_type": "stream",
     "text": [
      "Epoch 13 Training:   0%|          | 0/822 [00:20<?, ?it/s]\n"
     ]
    },
    {
     "name": "stdout",
     "output_type": "stream",
     "text": [
      "[DEBUG] Epoch 13 train loss 0.9937618276208566, val loss 1.1172834932804108\n"
     ]
    },
    {
     "name": "stderr",
     "output_type": "stream",
     "text": [
      "Testing: 100%|██████████| 88/88 [00:01<00:00, 64.02it/s]\n"
     ]
    },
    {
     "name": "stdout",
     "output_type": "stream",
     "text": [
      "[DEBUG] Test Accuracy: 56.90%, Test F1 Score: 38.46%\n",
      "[DEBUG] Class 0 - Precision: 57.06%, Recall: 95.38%, F1-Score: 71.40%\n",
      "[DEBUG] Class 1 - Precision: 58.74%, Recall: 17.18%, F1-Score: 26.58%\n",
      "[DEBUG] Class 2 - Precision: 60.54%, Recall: 19.78%, F1-Score: 29.82%\n",
      "[DEBUG] Class 3 - Precision: 49.69%, Recall: 17.65%, F1-Score: 26.05%\n",
      "{'0': {'precision': 0.5705782312925171, 'recall': 0.9538024164889837, 'f1-score': 0.7140196860867252, 'support': 1407.0}, '1': {'precision': 0.5874125874125874, 'recall': 0.17177914110429449, 'f1-score': 0.26582278481012656, 'support': 489.0}, '2': {'precision': 0.6054421768707483, 'recall': 0.19777777777777777, 'f1-score': 0.2981574539363484, 'support': 450.0}, '3': {'precision': 0.49693251533742333, 'recall': 0.17647058823529413, 'f1-score': 0.2604501607717042, 'support': 459.0}, 'accuracy': 0.5689839572192513, 'macro avg': {'precision': 0.5650913777283191, 'recall': 0.37495748090158754, 'f1-score': 0.3846125214012261, 'support': 2805.0}, 'weighted avg': {'precision': 0.5670550198948452, 'recall': 0.5689839572192513, 'f1-score': 0.4949484913232597, 'support': 2805.0}}\n"
     ]
    },
    {
     "name": "stderr",
     "output_type": "stream",
     "text": [
      "Epoch 14 Training:   0%|          | 0/822 [00:21<?, ?it/s]\n"
     ]
    },
    {
     "name": "stdout",
     "output_type": "stream",
     "text": [
      "[DEBUG] Epoch 14 train loss 0.9898739319358139, val loss 1.1101467209783467\n"
     ]
    },
    {
     "name": "stderr",
     "output_type": "stream",
     "text": [
      "Testing: 100%|██████████| 88/88 [00:01<00:00, 62.80it/s]\n"
     ]
    },
    {
     "name": "stdout",
     "output_type": "stream",
     "text": [
      "[DEBUG] Test Accuracy: 56.79%, Test F1 Score: 38.66%\n",
      "[DEBUG] Class 0 - Precision: 57.03%, Recall: 94.81%, F1-Score: 71.22%\n",
      "[DEBUG] Class 1 - Precision: 59.20%, Recall: 15.13%, F1-Score: 24.10%\n",
      "[DEBUG] Class 2 - Precision: 64.29%, Recall: 20.00%, F1-Score: 30.51%\n",
      "[DEBUG] Class 3 - Precision: 47.26%, Recall: 20.70%, F1-Score: 28.79%\n",
      "{'0': {'precision': 0.5703292005130398, 'recall': 0.9481165600568585, 'f1-score': 0.7122263747997865, 'support': 1407.0}, '1': {'precision': 0.592, 'recall': 0.15132924335378323, 'f1-score': 0.24104234527687296, 'support': 489.0}, '2': {'precision': 0.6428571428571429, 'recall': 0.2, 'f1-score': 0.3050847457627119, 'support': 450.0}, '3': {'precision': 0.472636815920398, 'recall': 0.20697167755991286, 'f1-score': 0.2878787878787879, 'support': 459.0}, 'accuracy': 0.5679144385026738, 'macro avg': {'precision': 0.5694557898226451, 'recall': 0.37660437024263865, 'f1-score': 0.3865580634295398, 'support': 2805.0}, 'weighted avg': {'precision': 0.5697565767968, 'recall': 0.5679144385026738, 'f1-score': 0.495328597295285, 'support': 2805.0}}\n"
     ]
    },
    {
     "name": "stderr",
     "output_type": "stream",
     "text": [
      "Epoch 15 Training:   0%|          | 0/822 [00:20<?, ?it/s]\n"
     ]
    },
    {
     "name": "stdout",
     "output_type": "stream",
     "text": [
      "[DEBUG] Epoch 15 train loss 0.9868526699479189, val loss 1.115903715518388\n"
     ]
    },
    {
     "name": "stderr",
     "output_type": "stream",
     "text": [
      "Testing: 100%|██████████| 88/88 [00:01<00:00, 63.75it/s]\n"
     ]
    },
    {
     "name": "stdout",
     "output_type": "stream",
     "text": [
      "[DEBUG] Test Accuracy: 55.90%, Test F1 Score: 37.05%\n",
      "[DEBUG] Class 0 - Precision: 56.58%, Recall: 94.17%, F1-Score: 70.69%\n",
      "[DEBUG] Class 1 - Precision: 49.53%, Recall: 21.68%, F1-Score: 30.16%\n",
      "[DEBUG] Class 2 - Precision: 67.71%, Recall: 14.44%, F1-Score: 23.81%\n",
      "[DEBUG] Class 3 - Precision: 47.06%, Recall: 15.69%, F1-Score: 23.53%\n",
      "{'0': {'precision': 0.5657557643040136, 'recall': 0.9417199715707179, 'f1-score': 0.7068551613763671, 'support': 1407.0}, '1': {'precision': 0.4953271028037383, 'recall': 0.2167689161554192, 'f1-score': 0.3015647226173542, 'support': 489.0}, '2': {'precision': 0.6770833333333334, 'recall': 0.14444444444444443, 'f1-score': 0.23809523809523808, 'support': 450.0}, '3': {'precision': 0.47058823529411764, 'recall': 0.1568627450980392, 'f1-score': 0.23529411764705882, 'support': 459.0}, 'accuracy': 0.5590017825311943, 'macro avg': {'precision': 0.5521886089338007, 'recall': 0.3649490193171552, 'f1-score': 0.3704523099340046, 'support': 2805.0}, 'weighted avg': {'precision': 0.5557649959525045, 'recall': 0.5590017825311943, 'f1-score': 0.48383358950420385, 'support': 2805.0}}\n"
     ]
    },
    {
     "name": "stderr",
     "output_type": "stream",
     "text": [
      "Epoch 16 Training:   0%|          | 0/822 [00:20<?, ?it/s]\n"
     ]
    },
    {
     "name": "stdout",
     "output_type": "stream",
     "text": [
      "[DEBUG] Epoch 16 train loss 0.978025425017025, val loss 1.1305288618261164\n"
     ]
    },
    {
     "name": "stderr",
     "output_type": "stream",
     "text": [
      "Testing: 100%|██████████| 88/88 [00:01<00:00, 62.78it/s]\n"
     ]
    },
    {
     "name": "stdout",
     "output_type": "stream",
     "text": [
      "[DEBUG] Test Accuracy: 55.90%, Test F1 Score: 39.63%\n",
      "[DEBUG] Class 0 - Precision: 58.15%, Recall: 89.98%, F1-Score: 70.65%\n",
      "[DEBUG] Class 1 - Precision: 54.97%, Recall: 16.97%, F1-Score: 25.94%\n",
      "[DEBUG] Class 2 - Precision: 65.55%, Recall: 17.33%, F1-Score: 27.42%\n",
      "[DEBUG] Class 3 - Precision: 39.39%, Recall: 30.72%, F1-Score: 34.52%\n",
      "{'0': {'precision': 0.5815342214056041, 'recall': 0.8997867803837953, 'f1-score': 0.7064732142857143, 'support': 1407.0}, '1': {'precision': 0.5496688741721855, 'recall': 0.16973415132924335, 'f1-score': 0.259375, 'support': 489.0}, '2': {'precision': 0.6554621848739496, 'recall': 0.17333333333333334, 'f1-score': 0.2741652021089631, 'support': 450.0}, '3': {'precision': 0.39385474860335196, 'recall': 0.30718954248366015, 'f1-score': 0.34516523867809057, 'support': 459.0}, 'accuracy': 0.5590017825311943, 'macro avg': {'precision': 0.5451300072637727, 'recall': 0.38751095188250806, 'f1-score': 0.396294663768192, 'support': 2805.0}, 'weighted avg': {'precision': 0.5571280006381816, 'recall': 0.5590017825311943, 'f1-score': 0.5000525393947511, 'support': 2805.0}}\n"
     ]
    },
    {
     "name": "stderr",
     "output_type": "stream",
     "text": [
      "Epoch 17 Training:   0%|          | 0/822 [00:21<?, ?it/s]\n"
     ]
    },
    {
     "name": "stdout",
     "output_type": "stream",
     "text": [
      "[DEBUG] Epoch 17 train loss 0.9741811746518397, val loss 1.1230472861365839\n"
     ]
    },
    {
     "name": "stderr",
     "output_type": "stream",
     "text": [
      "Testing: 100%|██████████| 88/88 [00:01<00:00, 63.86it/s]\n"
     ]
    },
    {
     "name": "stdout",
     "output_type": "stream",
     "text": [
      "[DEBUG] Test Accuracy: 56.76%, Test F1 Score: 38.78%\n",
      "[DEBUG] Class 0 - Precision: 57.13%, Recall: 94.53%, F1-Score: 71.22%\n",
      "[DEBUG] Class 1 - Precision: 53.94%, Recall: 18.20%, F1-Score: 27.22%\n",
      "[DEBUG] Class 2 - Precision: 57.86%, Recall: 20.44%, F1-Score: 30.21%\n",
      "[DEBUG] Class 3 - Precision: 52.94%, Recall: 17.65%, F1-Score: 26.47%\n",
      "{'0': {'precision': 0.5713058419243986, 'recall': 0.945273631840796, 'f1-score': 0.7121820615796519, 'support': 1407.0}, '1': {'precision': 0.5393939393939394, 'recall': 0.18200408997955012, 'f1-score': 0.27217125382262997, 'support': 489.0}, '2': {'precision': 0.5786163522012578, 'recall': 0.20444444444444446, 'f1-score': 0.3021346469622332, 'support': 450.0}, '3': {'precision': 0.5294117647058824, 'recall': 0.17647058823529413, 'f1-score': 0.2647058823529412, 'support': 459.0}, 'accuracy': 0.5675579322638146, 'macro avg': {'precision': 0.5546819745563695, 'recall': 0.3770481886250212, 'f1-score': 0.38779846117936406, 'support': 2805.0}, 'weighted avg': {'precision': 0.560060005148603, 'recall': 0.5675579322638146, 'f1-score': 0.4964679126184818, 'support': 2805.0}}\n"
     ]
    },
    {
     "name": "stderr",
     "output_type": "stream",
     "text": [
      "Epoch 18 Training:   0%|          | 0/822 [00:20<?, ?it/s]\n"
     ]
    },
    {
     "name": "stdout",
     "output_type": "stream",
     "text": [
      "[DEBUG] Epoch 18 train loss 0.9676142494463863, val loss 1.1175679395144635\n"
     ]
    },
    {
     "name": "stderr",
     "output_type": "stream",
     "text": [
      "Testing: 100%|██████████| 88/88 [00:01<00:00, 67.01it/s]\n"
     ]
    },
    {
     "name": "stdout",
     "output_type": "stream",
     "text": [
      "[DEBUG] Test Accuracy: 56.83%, Test F1 Score: 38.34%\n",
      "[DEBUG] Class 0 - Precision: 56.74%, Recall: 95.45%, F1-Score: 71.17%\n",
      "[DEBUG] Class 1 - Precision: 55.56%, Recall: 17.38%, F1-Score: 26.48%\n",
      "[DEBUG] Class 2 - Precision: 66.41%, Recall: 19.33%, F1-Score: 29.95%\n",
      "[DEBUG] Class 3 - Precision: 51.30%, Recall: 17.21%, F1-Score: 25.77%\n",
      "{'0': {'precision': 0.5673848753696662, 'recall': 0.9545131485429993, 'f1-score': 0.7117117117117117, 'support': 1407.0}, '1': {'precision': 0.5555555555555556, 'recall': 0.1738241308793456, 'f1-score': 0.26479750778816197, 'support': 489.0}, '2': {'precision': 0.6641221374045801, 'recall': 0.19333333333333333, 'f1-score': 0.29948364888123924, 'support': 450.0}, '3': {'precision': 0.512987012987013, 'recall': 0.1721132897603486, 'f1-score': 0.25774877650897227, 'support': 459.0}, 'accuracy': 0.568270944741533, 'macro avg': {'precision': 0.5750123953292038, 'recall': 0.3734459756290067, 'f1-score': 0.3834354112225213, 'support': 2805.0}, 'weighted avg': {'precision': 0.5719405301621701, 'recall': 0.568270944741533, 'f1-score': 0.4933827772195955, 'support': 2805.0}}\n"
     ]
    },
    {
     "name": "stderr",
     "output_type": "stream",
     "text": [
      "Epoch 19 Training:   0%|          | 0/822 [00:21<?, ?it/s]\n"
     ]
    },
    {
     "name": "stdout",
     "output_type": "stream",
     "text": [
      "[DEBUG] Epoch 19 train loss 0.9612995127981887, val loss 1.1488488228483633\n"
     ]
    },
    {
     "name": "stderr",
     "output_type": "stream",
     "text": [
      "Testing: 100%|██████████| 88/88 [00:01<00:00, 59.35it/s]\n"
     ]
    },
    {
     "name": "stdout",
     "output_type": "stream",
     "text": [
      "[DEBUG] Test Accuracy: 56.51%, Test F1 Score: 37.63%\n",
      "[DEBUG] Class 0 - Precision: 56.42%, Recall: 95.31%, F1-Score: 70.88%\n",
      "[DEBUG] Class 1 - Precision: 54.75%, Recall: 20.04%, F1-Score: 29.34%\n",
      "[DEBUG] Class 2 - Precision: 61.59%, Recall: 18.89%, F1-Score: 28.91%\n",
      "[DEBUG] Class 3 - Precision: 54.95%, Recall: 13.29%, F1-Score: 21.40%\n",
      "{'0': {'precision': 0.5641564997896508, 'recall': 0.9530916844349681, 'f1-score': 0.7087737843551797, 'support': 1407.0}, '1': {'precision': 0.547486033519553, 'recall': 0.20040899795501022, 'f1-score': 0.2934131736526946, 'support': 489.0}, '2': {'precision': 0.6159420289855072, 'recall': 0.18888888888888888, 'f1-score': 0.2891156462585034, 'support': 450.0}, '3': {'precision': 0.5495495495495496, 'recall': 0.1328976034858388, 'f1-score': 0.21403508771929824, 'support': 459.0}, 'accuracy': 0.5650623885918004, 'macro avg': {'precision': 0.5692835279610652, 'recall': 0.3688217936911765, 'f1-score': 0.376334422996419, 'support': 2805.0}, 'weighted avg': {'precision': 0.5671679222395086, 'recall': 0.5650623885918004, 'f1-score': 0.48808124869283054, 'support': 2805.0}}\n"
     ]
    },
    {
     "name": "stderr",
     "output_type": "stream",
     "text": [
      "Epoch 20 Training:   0%|          | 0/822 [00:21<?, ?it/s]\n"
     ]
    },
    {
     "name": "stdout",
     "output_type": "stream",
     "text": [
      "[DEBUG] Epoch 20 train loss 0.9543780034403442, val loss 1.1497056741606106\n"
     ]
    },
    {
     "name": "stderr",
     "output_type": "stream",
     "text": [
      "Testing: 100%|██████████| 88/88 [00:01<00:00, 63.43it/s]\n"
     ]
    },
    {
     "name": "stdout",
     "output_type": "stream",
     "text": [
      "[DEBUG] Test Accuracy: 55.40%, Test F1 Score: 37.99%\n",
      "[DEBUG] Class 0 - Precision: 56.72%, Recall: 91.54%, F1-Score: 70.04%\n",
      "[DEBUG] Class 1 - Precision: 51.72%, Recall: 18.40%, F1-Score: 27.15%\n",
      "[DEBUG] Class 2 - Precision: 49.12%, Recall: 24.67%, F1-Score: 32.84%\n",
      "[DEBUG] Class 3 - Precision: 48.51%, Recall: 14.16%, F1-Score: 21.92%\n",
      "{'0': {'precision': 0.5671510347864377, 'recall': 0.9154228855721394, 'f1-score': 0.7003806416530723, 'support': 1407.0}, '1': {'precision': 0.5172413793103449, 'recall': 0.18404907975460122, 'f1-score': 0.27149321266968324, 'support': 489.0}, '2': {'precision': 0.4911504424778761, 'recall': 0.24666666666666667, 'f1-score': 0.32840236686390534, 'support': 450.0}, '3': {'precision': 0.48507462686567165, 'recall': 0.14161220043572983, 'f1-score': 0.21922428330522767, 'support': 459.0}, 'accuracy': 0.5540106951871657, 'macro avg': {'precision': 0.5151543708600825, 'recall': 0.37193770810728427, 'f1-score': 0.37987512612297214, 'support': 2805.0}, 'weighted avg': {'precision': 0.5328269138230531, 'recall': 0.5540106951871657, 'f1-score': 0.48720169516121387, 'support': 2805.0}}\n"
     ]
    },
    {
     "name": "stderr",
     "output_type": "stream",
     "text": [
      "Epoch 21 Training:   0%|          | 0/822 [00:21<?, ?it/s]\n"
     ]
    },
    {
     "name": "stdout",
     "output_type": "stream",
     "text": [
      "[DEBUG] Epoch 21 train loss 0.9497644949858496, val loss 1.1676798564466564\n"
     ]
    },
    {
     "name": "stderr",
     "output_type": "stream",
     "text": [
      "Testing: 100%|██████████| 88/88 [00:01<00:00, 62.00it/s]\n"
     ]
    },
    {
     "name": "stdout",
     "output_type": "stream",
     "text": [
      "[DEBUG] Test Accuracy: 56.29%, Test F1 Score: 36.68%\n",
      "[DEBUG] Class 0 - Precision: 56.05%, Recall: 96.16%, F1-Score: 70.82%\n",
      "[DEBUG] Class 1 - Precision: 62.93%, Recall: 14.93%, F1-Score: 24.13%\n",
      "[DEBUG] Class 2 - Precision: 62.31%, Recall: 18.00%, F1-Score: 27.93%\n",
      "[DEBUG] Class 3 - Precision: 49.66%, Recall: 15.69%, F1-Score: 23.84%\n",
      "{'0': {'precision': 0.5604805302402651, 'recall': 0.9616204690831557, 'f1-score': 0.7081915728866789, 'support': 1407.0}, '1': {'precision': 0.6293103448275862, 'recall': 0.1492842535787321, 'f1-score': 0.2413223140495868, 'support': 489.0}, '2': {'precision': 0.6230769230769231, 'recall': 0.18, 'f1-score': 0.2793103448275862, 'support': 450.0}, '3': {'precision': 0.496551724137931, 'recall': 0.1568627450980392, 'f1-score': 0.23841059602649006, 'support': 459.0}, 'accuracy': 0.5629233511586452, 'macro avg': {'precision': 0.5773548805706764, 'recall': 0.36194186693998176, 'f1-score': 0.3668087069475855, 'support': 2805.0}, 'weighted avg': {'precision': 0.5720608632558533, 'recall': 0.5629233511586452, 'f1-score': 0.4811238051231293, 'support': 2805.0}}\n"
     ]
    },
    {
     "name": "stderr",
     "output_type": "stream",
     "text": [
      "Epoch 22 Training:   0%|          | 0/822 [00:21<?, ?it/s]\n"
     ]
    },
    {
     "name": "stdout",
     "output_type": "stream",
     "text": [
      "[DEBUG] Epoch 22 train loss 0.9418749656990497, val loss 1.1555149785496972\n"
     ]
    },
    {
     "name": "stderr",
     "output_type": "stream",
     "text": [
      "Testing: 100%|██████████| 88/88 [00:01<00:00, 54.57it/s]\n"
     ]
    },
    {
     "name": "stdout",
     "output_type": "stream",
     "text": [
      "[DEBUG] Test Accuracy: 54.69%, Test F1 Score: 38.04%\n",
      "[DEBUG] Class 0 - Precision: 56.78%, Recall: 89.55%, F1-Score: 69.50%\n",
      "[DEBUG] Class 1 - Precision: 42.35%, Recall: 22.09%, F1-Score: 29.03%\n",
      "[DEBUG] Class 2 - Precision: 56.38%, Recall: 18.67%, F1-Score: 28.05%\n",
      "[DEBUG] Class 3 - Precision: 45.05%, Recall: 17.86%, F1-Score: 25.59%\n",
      "{'0': {'precision': 0.5678233438485805, 'recall': 0.8955223880597015, 'f1-score': 0.694980694980695, 'support': 1407.0}, '1': {'precision': 0.4235294117647059, 'recall': 0.22085889570552147, 'f1-score': 0.2903225806451613, 'support': 489.0}, '2': {'precision': 0.5637583892617449, 'recall': 0.18666666666666668, 'f1-score': 0.28046744574290483, 'support': 450.0}, '3': {'precision': 0.45054945054945056, 'recall': 0.1786492374727669, 'f1-score': 0.25585023400936036, 'support': 459.0}, 'accuracy': 0.5468805704099822, 'macro avg': {'precision': 0.5014151488561205, 'recall': 0.37042429697616414, 'f1-score': 0.38040523884453037, 'support': 2805.0}, 'weighted avg': {'precision': 0.5228259536962129, 'recall': 0.5468805704099822, 'f1-score': 0.48607885481922475, 'support': 2805.0}}\n"
     ]
    },
    {
     "name": "stderr",
     "output_type": "stream",
     "text": [
      "Epoch 23 Training:   0%|          | 0/822 [00:21<?, ?it/s]\n"
     ]
    },
    {
     "name": "stdout",
     "output_type": "stream",
     "text": [
      "[DEBUG] Epoch 23 train loss 0.9363937146617258, val loss 1.1532848585735669\n"
     ]
    },
    {
     "name": "stderr",
     "output_type": "stream",
     "text": [
      "Testing: 100%|██████████| 88/88 [00:01<00:00, 58.01it/s]\n"
     ]
    },
    {
     "name": "stdout",
     "output_type": "stream",
     "text": [
      "[DEBUG] Test Accuracy: 55.40%, Test F1 Score: 38.45%\n",
      "[DEBUG] Class 0 - Precision: 57.89%, Recall: 90.76%, F1-Score: 70.69%\n",
      "[DEBUG] Class 1 - Precision: 48.48%, Recall: 19.63%, F1-Score: 27.95%\n",
      "[DEBUG] Class 2 - Precision: 51.25%, Recall: 18.22%, F1-Score: 26.89%\n",
      "[DEBUG] Class 3 - Precision: 41.08%, Recall: 21.57%, F1-Score: 28.29%\n",
      "{'0': {'precision': 0.5788757932910245, 'recall': 0.9076048329779673, 'f1-score': 0.7068917796844727, 'support': 1407.0}, '1': {'precision': 0.48484848484848486, 'recall': 0.19631901840490798, 'f1-score': 0.2794759825327511, 'support': 489.0}, '2': {'precision': 0.5125, 'recall': 0.18222222222222223, 'f1-score': 0.26885245901639343, 'support': 450.0}, '3': {'precision': 0.4107883817427386, 'recall': 0.21568627450980393, 'f1-score': 0.28285714285714286, 'support': 459.0}, 'accuracy': 0.5540106951871657, 'macro avg': {'precision': 0.496753164970562, 'recall': 0.3754580870287254, 'f1-score': 0.38451934102269003, 'support': 2805.0}, 'weighted avg': {'precision': 0.5243301310058102, 'recall': 0.5540106951871657, 'f1-score': 0.49271854709567703, 'support': 2805.0}}\n"
     ]
    },
    {
     "name": "stderr",
     "output_type": "stream",
     "text": [
      "Epoch 24 Training:   0%|          | 0/822 [00:21<?, ?it/s]\n"
     ]
    },
    {
     "name": "stdout",
     "output_type": "stream",
     "text": [
      "[DEBUG] Epoch 24 train loss 0.9307350879603059, val loss 1.1584572494029999\n"
     ]
    },
    {
     "name": "stderr",
     "output_type": "stream",
     "text": [
      "Testing: 100%|██████████| 88/88 [00:01<00:00, 56.12it/s]\n"
     ]
    },
    {
     "name": "stdout",
     "output_type": "stream",
     "text": [
      "[DEBUG] Test Accuracy: 54.87%, Test F1 Score: 39.37%\n",
      "[DEBUG] Class 0 - Precision: 56.97%, Recall: 88.34%, F1-Score: 69.27%\n",
      "[DEBUG] Class 1 - Precision: 44.39%, Recall: 20.25%, F1-Score: 27.81%\n",
      "[DEBUG] Class 2 - Precision: 60.62%, Recall: 21.56%, F1-Score: 31.80%\n",
      "[DEBUG] Class 3 - Precision: 41.67%, Recall: 21.79%, F1-Score: 28.61%\n",
      "{'0': {'precision': 0.5696608615948671, 'recall': 0.8834399431414357, 'f1-score': 0.6926720534967957, 'support': 1407.0}, '1': {'precision': 0.4439461883408072, 'recall': 0.20245398773006135, 'f1-score': 0.27808988764044945, 'support': 489.0}, '2': {'precision': 0.60625, 'recall': 0.21555555555555556, 'f1-score': 0.3180327868852459, 'support': 450.0}, '3': {'precision': 0.4166666666666667, 'recall': 0.2178649237472767, 'f1-score': 0.2861230329041488, 'support': 459.0}, 'accuracy': 0.5486631016042781, 'macro avg': {'precision': 0.5091309291505852, 'recall': 0.3798286025435823, 'f1-score': 0.39372944023166, 'support': 2805.0}, 'weighted avg': {'precision': 0.5285793291845393, 'recall': 0.5486631016042781, 'f1-score': 0.493768542077553, 'support': 2805.0}}\n"
     ]
    },
    {
     "name": "stderr",
     "output_type": "stream",
     "text": [
      "Epoch 25 Training:   0%|          | 0/822 [00:21<?, ?it/s]\n"
     ]
    },
    {
     "name": "stdout",
     "output_type": "stream",
     "text": [
      "[DEBUG] Epoch 25 train loss 0.9248459616136667, val loss 1.1716817888346585\n"
     ]
    },
    {
     "name": "stderr",
     "output_type": "stream",
     "text": [
      "Testing: 100%|██████████| 88/88 [00:01<00:00, 59.65it/s]\n"
     ]
    },
    {
     "name": "stdout",
     "output_type": "stream",
     "text": [
      "[DEBUG] Test Accuracy: 56.40%, Test F1 Score: 40.08%\n",
      "[DEBUG] Class 0 - Precision: 57.44%, Recall: 91.68%, F1-Score: 70.63%\n",
      "[DEBUG] Class 1 - Precision: 51.65%, Recall: 19.22%, F1-Score: 28.02%\n",
      "[DEBUG] Class 2 - Precision: 57.54%, Recall: 22.89%, F1-Score: 32.75%\n",
      "[DEBUG] Class 3 - Precision: 47.98%, Recall: 20.70%, F1-Score: 28.92%\n",
      "{'0': {'precision': 0.5743544078361532, 'recall': 0.9168443496801706, 'f1-score': 0.7062688201478237, 'support': 1407.0}, '1': {'precision': 0.5164835164835165, 'recall': 0.19222903885480572, 'f1-score': 0.28017883755588674, 'support': 489.0}, '2': {'precision': 0.5754189944134078, 'recall': 0.2288888888888889, 'f1-score': 0.3275039745627981, 'support': 450.0}, '3': {'precision': 0.4797979797979798, 'recall': 0.20697167755991286, 'f1-score': 0.289193302891933, 'support': 459.0}, 'accuracy': 0.5639928698752228, 'macro avg': {'precision': 0.5365137246327644, 'recall': 0.38623348874594454, 'f1-score': 0.4007862337896104, 'support': 2805.0}, 'weighted avg': {'precision': 0.5489636048482045, 'recall': 0.5639928698752228, 'f1-score': 0.5029747579655874, 'support': 2805.0}}\n"
     ]
    },
    {
     "name": "stderr",
     "output_type": "stream",
     "text": [
      "Epoch 26 Training:   0%|          | 0/822 [00:21<?, ?it/s]\n"
     ]
    },
    {
     "name": "stdout",
     "output_type": "stream",
     "text": [
      "[DEBUG] Epoch 26 train loss 0.9168556845608709, val loss 1.2307893674481998\n"
     ]
    },
    {
     "name": "stderr",
     "output_type": "stream",
     "text": [
      "Testing: 100%|██████████| 88/88 [00:01<00:00, 61.48it/s]\n"
     ]
    },
    {
     "name": "stdout",
     "output_type": "stream",
     "text": [
      "[DEBUG] Test Accuracy: 53.94%, Test F1 Score: 36.14%\n",
      "[DEBUG] Class 0 - Precision: 56.09%, Recall: 89.69%, F1-Score: 69.02%\n",
      "[DEBUG] Class 1 - Precision: 40.61%, Recall: 24.34%, F1-Score: 30.43%\n",
      "[DEBUG] Class 2 - Precision: 59.26%, Recall: 14.22%, F1-Score: 22.94%\n",
      "[DEBUG] Class 3 - Precision: 44.16%, Recall: 14.81%, F1-Score: 22.19%\n",
      "{'0': {'precision': 0.5608888888888889, 'recall': 0.8969438521677328, 'f1-score': 0.6901832102816516, 'support': 1407.0}, '1': {'precision': 0.4061433447098976, 'recall': 0.24335378323108384, 'f1-score': 0.30434782608695654, 'support': 489.0}, '2': {'precision': 0.5925925925925926, 'recall': 0.14222222222222222, 'f1-score': 0.22939068100358423, 'support': 450.0}, '3': {'precision': 0.44155844155844154, 'recall': 0.14814814814814814, 'f1-score': 0.22185970636215335, 'support': 459.0}, 'accuracy': 0.5393939393939394, 'macro avg': {'precision': 0.5002958169374552, 'recall': 0.35766700144229674, 'f1-score': 0.3614453559335864, 'support': 2805.0}, 'weighted avg': {'precision': 0.5194712133945804, 'recall': 0.5393939393939394, 'f1-score': 0.47236123903552474, 'support': 2805.0}}\n"
     ]
    },
    {
     "name": "stderr",
     "output_type": "stream",
     "text": [
      "Epoch 27 Training:   0%|          | 0/822 [00:21<?, ?it/s]\n"
     ]
    },
    {
     "name": "stdout",
     "output_type": "stream",
     "text": [
      "[DEBUG] Epoch 27 train loss 0.9108278479454291, val loss 1.2226841436191038\n"
     ]
    },
    {
     "name": "stderr",
     "output_type": "stream",
     "text": [
      "Testing: 100%|██████████| 88/88 [00:01<00:00, 60.27it/s]\n"
     ]
    },
    {
     "name": "stdout",
     "output_type": "stream",
     "text": [
      "[DEBUG] Test Accuracy: 56.22%, Test F1 Score: 38.54%\n",
      "[DEBUG] Class 0 - Precision: 56.67%, Recall: 93.25%, F1-Score: 70.50%\n",
      "[DEBUG] Class 1 - Precision: 46.78%, Recall: 22.29%, F1-Score: 30.19%\n",
      "[DEBUG] Class 2 - Precision: 63.31%, Recall: 19.56%, F1-Score: 29.88%\n",
      "[DEBUG] Class 3 - Precision: 57.63%, Recall: 14.81%, F1-Score: 23.57%\n",
      "{'0': {'precision': 0.5667386609071274, 'recall': 0.9324804548685146, 'f1-score': 0.7049973132724342, 'support': 1407.0}, '1': {'precision': 0.4678111587982833, 'recall': 0.2229038854805726, 'f1-score': 0.30193905817174516, 'support': 489.0}, '2': {'precision': 0.6330935251798561, 'recall': 0.19555555555555557, 'f1-score': 0.298811544991511, 'support': 450.0}, '3': {'precision': 0.576271186440678, 'recall': 0.14814814814814814, 'f1-score': 0.23570190641247835, 'support': 459.0}, 'accuracy': 0.562210338680927, 'macro avg': {'precision': 0.5609786328314863, 'recall': 0.37477201101319774, 'f1-score': 0.3853624557120422, 'support': 2805.0}, 'weighted avg': {'precision': 0.5616975092534386, 'recall': 0.562210338680927, 'f1-score': 0.4927742565097347, 'support': 2805.0}}\n"
     ]
    },
    {
     "name": "stderr",
     "output_type": "stream",
     "text": [
      "Epoch 28 Training:   0%|          | 0/822 [00:21<?, ?it/s]\n"
     ]
    },
    {
     "name": "stdout",
     "output_type": "stream",
     "text": [
      "[DEBUG] Epoch 28 train loss 0.9048295620729163, val loss 1.1869893500750714\n"
     ]
    },
    {
     "name": "stderr",
     "output_type": "stream",
     "text": [
      "Testing: 100%|██████████| 88/88 [00:01<00:00, 58.92it/s]\n"
     ]
    },
    {
     "name": "stdout",
     "output_type": "stream",
     "text": [
      "[DEBUG] Test Accuracy: 55.83%, Test F1 Score: 38.80%\n",
      "[DEBUG] Class 0 - Precision: 56.96%, Recall: 91.90%, F1-Score: 70.33%\n",
      "[DEBUG] Class 1 - Precision: 49.71%, Recall: 17.79%, F1-Score: 26.20%\n",
      "[DEBUG] Class 2 - Precision: 55.36%, Recall: 20.67%, F1-Score: 30.10%\n",
      "[DEBUG] Class 3 - Precision: 48.44%, Recall: 20.26%, F1-Score: 28.57%\n",
      "{'0': {'precision': 0.5696035242290749, 'recall': 0.9189765458422174, 'f1-score': 0.7032907261354365, 'support': 1407.0}, '1': {'precision': 0.49714285714285716, 'recall': 0.17791411042944785, 'f1-score': 0.2620481927710843, 'support': 489.0}, '2': {'precision': 0.5535714285714286, 'recall': 0.20666666666666667, 'f1-score': 0.30097087378640774, 'support': 450.0}, '3': {'precision': 0.484375, 'recall': 0.20261437908496732, 'f1-score': 0.2857142857142857, 'support': 459.0}, 'accuracy': 0.558288770053476, 'macro avg': {'precision': 0.5261732024858401, 'recall': 0.37654292550582485, 'f1-score': 0.3880060196018036, 'support': 2805.0}, 'weighted avg': {'precision': 0.5404528640250653, 'recall': 0.558288770053476, 'f1-score': 0.49349424894273086, 'support': 2805.0}}\n"
     ]
    },
    {
     "name": "stderr",
     "output_type": "stream",
     "text": [
      "Epoch 29 Training:   0%|          | 0/822 [00:21<?, ?it/s]\n"
     ]
    },
    {
     "name": "stdout",
     "output_type": "stream",
     "text": [
      "[DEBUG] Epoch 29 train loss 0.898794866137551, val loss 1.2196014713157306\n"
     ]
    },
    {
     "name": "stderr",
     "output_type": "stream",
     "text": [
      "Testing: 100%|██████████| 88/88 [00:01<00:00, 54.36it/s]\n"
     ]
    },
    {
     "name": "stdout",
     "output_type": "stream",
     "text": [
      "[DEBUG] Test Accuracy: 55.40%, Test F1 Score: 37.45%\n",
      "[DEBUG] Class 0 - Precision: 56.66%, Recall: 92.25%, F1-Score: 70.20%\n",
      "[DEBUG] Class 1 - Precision: 53.75%, Recall: 17.59%, F1-Score: 26.50%\n",
      "[DEBUG] Class 2 - Precision: 59.63%, Recall: 14.44%, F1-Score: 23.26%\n",
      "[DEBUG] Class 3 - Precision: 42.86%, Recall: 22.88%, F1-Score: 29.83%\n",
      "{'0': {'precision': 0.5665648188563945, 'recall': 0.9225302061122956, 'f1-score': 0.7020010816657652, 'support': 1407.0}, '1': {'precision': 0.5375, 'recall': 0.17586912065439672, 'f1-score': 0.2650231124807396, 'support': 489.0}, '2': {'precision': 0.5963302752293578, 'recall': 0.14444444444444443, 'f1-score': 0.23255813953488372, 'support': 450.0}, '3': {'precision': 0.42857142857142855, 'recall': 0.22875816993464052, 'f1-score': 0.29829545454545453, 'support': 459.0}, 'accuracy': 0.5540106951871657, 'macro avg': {'precision': 0.5322416306642952, 'recall': 0.3679004852864443, 'f1-score': 0.3744694470567108, 'support': 2805.0}, 'weighted avg': {'precision': 0.5436923742240442, 'recall': 0.5540106951871657, 'f1-score': 0.48444941188373425, 'support': 2805.0}}\n"
     ]
    },
    {
     "name": "stderr",
     "output_type": "stream",
     "text": [
      "Epoch 30 Training:   0%|          | 0/822 [00:21<?, ?it/s]\n"
     ]
    },
    {
     "name": "stdout",
     "output_type": "stream",
     "text": [
      "[DEBUG] Epoch 30 train loss 0.8938053399686976, val loss 1.2009306184270165\n"
     ]
    },
    {
     "name": "stderr",
     "output_type": "stream",
     "text": [
      "Testing: 100%|██████████| 88/88 [00:01<00:00, 58.23it/s]\n"
     ]
    },
    {
     "name": "stdout",
     "output_type": "stream",
     "text": [
      "[DEBUG] Test Accuracy: 54.15%, Test F1 Score: 39.05%\n",
      "[DEBUG] Class 0 - Precision: 58.18%, Recall: 85.93%, F1-Score: 69.38%\n",
      "[DEBUG] Class 1 - Precision: 40.00%, Recall: 20.86%, F1-Score: 27.42%\n",
      "[DEBUG] Class 2 - Precision: 61.90%, Recall: 17.33%, F1-Score: 27.08%\n",
      "[DEBUG] Class 3 - Precision: 37.57%, Recall: 28.32%, F1-Score: 32.30%\n",
      "{'0': {'precision': 0.5818094321462945, 'recall': 0.8592750533049041, 'f1-score': 0.6938307030129125, 'support': 1407.0}, '1': {'precision': 0.4, 'recall': 0.2085889570552147, 'f1-score': 0.27419354838709675, 'support': 489.0}, '2': {'precision': 0.6190476190476191, 'recall': 0.17333333333333334, 'f1-score': 0.2708333333333333, 'support': 450.0}, '3': {'precision': 0.37572254335260113, 'recall': 0.28322440087145967, 'f1-score': 0.32298136645962733, 'support': 459.0}, 'accuracy': 0.5415329768270944, 'macro avg': {'precision': 0.4941448986366287, 'recall': 0.38110543614122794, 'f1-score': 0.39045973779824245, 'support': 2805.0}, 'weighted avg': {'precision': 0.5223650434938, 'recall': 0.5415329768270944, 'f1-score': 0.4921297295919526, 'support': 2805.0}}\n"
     ]
    },
    {
     "name": "stderr",
     "output_type": "stream",
     "text": [
      "Epoch 31 Training:   0%|          | 0/822 [00:22<?, ?it/s]\n"
     ]
    },
    {
     "name": "stdout",
     "output_type": "stream",
     "text": [
      "[DEBUG] Epoch 31 train loss 0.8832093146595642, val loss 1.2185516147450968\n"
     ]
    },
    {
     "name": "stderr",
     "output_type": "stream",
     "text": [
      "Testing: 100%|██████████| 88/88 [00:01<00:00, 63.31it/s]\n"
     ]
    },
    {
     "name": "stdout",
     "output_type": "stream",
     "text": [
      "[DEBUG] Test Accuracy: 53.76%, Test F1 Score: 39.25%\n",
      "[DEBUG] Class 0 - Precision: 57.80%, Recall: 84.79%, F1-Score: 68.74%\n",
      "[DEBUG] Class 1 - Precision: 38.24%, Recall: 24.95%, F1-Score: 30.20%\n",
      "[DEBUG] Class 2 - Precision: 50.00%, Recall: 22.67%, F1-Score: 31.19%\n",
      "[DEBUG] Class 3 - Precision: 41.74%, Recall: 19.83%, F1-Score: 26.88%\n",
      "{'0': {'precision': 0.5780038759689923, 'recall': 0.8479033404406539, 'f1-score': 0.6874099683088447, 'support': 1407.0}, '1': {'precision': 0.3824451410658307, 'recall': 0.24948875255623723, 'f1-score': 0.30198019801980197, 'support': 489.0}, '2': {'precision': 0.5, 'recall': 0.22666666666666666, 'f1-score': 0.3119266055045872, 'support': 450.0}, '3': {'precision': 0.41743119266055045, 'recall': 0.19825708061002179, 'f1-score': 0.2688330871491876, 'support': 459.0}, 'accuracy': 0.5376114081996435, 'macro avg': {'precision': 0.4694700524238434, 'recall': 0.38057896006839487, 'f1-score': 0.3925374647456053, 'support': 2805.0}, 'weighted avg': {'precision': 0.5051222976473284, 'recall': 0.5376114081996435, 'f1-score': 0.49148502735143285, 'support': 2805.0}}\n"
     ]
    },
    {
     "name": "stderr",
     "output_type": "stream",
     "text": [
      "Epoch 32 Training:   0%|          | 0/822 [00:21<?, ?it/s]\n"
     ]
    },
    {
     "name": "stdout",
     "output_type": "stream",
     "text": [
      "[DEBUG] Epoch 32 train loss 0.8817858278316303, val loss 1.2450435398654505\n"
     ]
    },
    {
     "name": "stderr",
     "output_type": "stream",
     "text": [
      "Testing: 100%|██████████| 88/88 [00:01<00:00, 66.15it/s]\n"
     ]
    },
    {
     "name": "stdout",
     "output_type": "stream",
     "text": [
      "[DEBUG] Test Accuracy: 55.04%, Test F1 Score: 38.56%\n",
      "[DEBUG] Class 0 - Precision: 56.54%, Recall: 89.98%, F1-Score: 69.45%\n",
      "[DEBUG] Class 1 - Precision: 50.89%, Recall: 17.59%, F1-Score: 26.14%\n",
      "[DEBUG] Class 2 - Precision: 50.00%, Recall: 24.22%, F1-Score: 32.63%\n",
      "[DEBUG] Class 3 - Precision: 46.37%, Recall: 18.08%, F1-Score: 26.02%\n",
      "{'0': {'precision': 0.5654309959803484, 'recall': 0.8997867803837953, 'f1-score': 0.6944596818431158, 'support': 1407.0}, '1': {'precision': 0.5088757396449705, 'recall': 0.17586912065439672, 'f1-score': 0.2613981762917933, 'support': 489.0}, '2': {'precision': 0.5, 'recall': 0.24222222222222223, 'f1-score': 0.3263473053892216, 'support': 450.0}, '3': {'precision': 0.46368715083798884, 'recall': 0.18082788671023964, 'f1-score': 0.2601880877742947, 'support': 459.0}, 'accuracy': 0.550445632798574, 'macro avg': {'precision': 0.509498471615827, 'recall': 0.3746765024926635, 'f1-score': 0.3855983128246063, 'support': 2805.0}, 'weighted avg': {'precision': 0.5284256863691186, 'recall': 0.550445632798574, 'f1-score': 0.4888453120404641, 'support': 2805.0}}\n"
     ]
    },
    {
     "name": "stderr",
     "output_type": "stream",
     "text": [
      "Epoch 33 Training:   0%|          | 0/822 [00:21<?, ?it/s]\n"
     ]
    },
    {
     "name": "stdout",
     "output_type": "stream",
     "text": [
      "[DEBUG] Epoch 33 train loss 0.8761630085480474, val loss 1.2308709303086454\n"
     ]
    },
    {
     "name": "stderr",
     "output_type": "stream",
     "text": [
      "Testing: 100%|██████████| 88/88 [00:01<00:00, 61.87it/s]\n"
     ]
    },
    {
     "name": "stdout",
     "output_type": "stream",
     "text": [
      "[DEBUG] Test Accuracy: 54.90%, Test F1 Score: 39.90%\n",
      "[DEBUG] Class 0 - Precision: 57.78%, Recall: 87.35%, F1-Score: 69.55%\n",
      "[DEBUG] Class 1 - Precision: 43.91%, Recall: 20.65%, F1-Score: 28.09%\n",
      "[DEBUG] Class 2 - Precision: 53.16%, Recall: 22.44%, F1-Score: 31.56%\n",
      "[DEBUG] Class 3 - Precision: 42.25%, Recall: 23.75%, F1-Score: 30.40%\n",
      "{'0': {'precision': 0.5778091208274565, 'recall': 0.8734896943852167, 'f1-score': 0.6955291454442558, 'support': 1407.0}, '1': {'precision': 0.4391304347826087, 'recall': 0.2065439672801636, 'f1-score': 0.2809457579972184, 'support': 489.0}, '2': {'precision': 0.531578947368421, 'recall': 0.22444444444444445, 'f1-score': 0.315625, 'support': 450.0}, '3': {'precision': 0.42248062015503873, 'recall': 0.2374727668845316, 'f1-score': 0.30404463040446306, 'support': 459.0}, 'accuracy': 0.5490196078431373, 'macro avg': {'precision': 0.4927497807833813, 'recall': 0.3854877182485891, 'f1-score': 0.3990361334614843, 'support': 2805.0}, 'weighted avg': {'precision': 0.5207990540391726, 'recall': 0.5490196078431373, 'f1-score': 0.4982458890040486, 'support': 2805.0}}\n"
     ]
    },
    {
     "name": "stderr",
     "output_type": "stream",
     "text": [
      "Epoch 34 Training:   0%|          | 0/822 [00:22<?, ?it/s]\n"
     ]
    },
    {
     "name": "stdout",
     "output_type": "stream",
     "text": [
      "[DEBUG] Epoch 34 train loss 0.8670410201714857, val loss 1.3015359044075012\n"
     ]
    },
    {
     "name": "stderr",
     "output_type": "stream",
     "text": [
      "Testing: 100%|██████████| 88/88 [00:01<00:00, 66.06it/s]\n"
     ]
    },
    {
     "name": "stdout",
     "output_type": "stream",
     "text": [
      "[DEBUG] Test Accuracy: 54.72%, Test F1 Score: 36.23%\n",
      "[DEBUG] Class 0 - Precision: 56.23%, Recall: 92.04%, F1-Score: 69.81%\n",
      "[DEBUG] Class 1 - Precision: 46.07%, Recall: 16.77%, F1-Score: 24.59%\n",
      "[DEBUG] Class 2 - Precision: 65.22%, Recall: 13.33%, F1-Score: 22.14%\n",
      "[DEBUG] Class 3 - Precision: 42.24%, Recall: 21.35%, F1-Score: 28.36%\n",
      "{'0': {'precision': 0.5623100303951368, 'recall': 0.9203980099502488, 'f1-score': 0.6981132075471698, 'support': 1407.0}, '1': {'precision': 0.4606741573033708, 'recall': 0.16768916155419222, 'f1-score': 0.24587706146926536, 'support': 489.0}, '2': {'precision': 0.6521739130434783, 'recall': 0.13333333333333333, 'f1-score': 0.22140221402214022, 'support': 450.0}, '3': {'precision': 0.4224137931034483, 'recall': 0.21350762527233116, 'f1-score': 0.28364688856729375, 'support': 459.0}, 'accuracy': 0.5472370766488414, 'macro avg': {'precision': 0.5243929734613585, 'recall': 0.3587320325275264, 'f1-score': 0.3622598429014673, 'support': 2805.0}, 'weighted avg': {'precision': 0.5361162451306074, 'recall': 0.5472370766488414, 'f1-score': 0.4749747180890159, 'support': 2805.0}}\n"
     ]
    },
    {
     "name": "stderr",
     "output_type": "stream",
     "text": [
      "Epoch 35 Training:   0%|          | 0/822 [00:21<?, ?it/s]\n"
     ]
    },
    {
     "name": "stdout",
     "output_type": "stream",
     "text": [
      "[DEBUG] Epoch 35 train loss 0.8633629320746791, val loss 1.2675636756149204\n"
     ]
    },
    {
     "name": "stderr",
     "output_type": "stream",
     "text": [
      "Testing: 100%|██████████| 88/88 [00:01<00:00, 63.29it/s]\n"
     ]
    },
    {
     "name": "stdout",
     "output_type": "stream",
     "text": [
      "[DEBUG] Test Accuracy: 54.08%, Test F1 Score: 37.79%\n",
      "[DEBUG] Class 0 - Precision: 56.56%, Recall: 88.27%, F1-Score: 68.94%\n",
      "[DEBUG] Class 1 - Precision: 42.86%, Recall: 20.25%, F1-Score: 27.50%\n",
      "[DEBUG] Class 2 - Precision: 49.74%, Recall: 21.33%, F1-Score: 29.86%\n",
      "[DEBUG] Class 3 - Precision: 43.24%, Recall: 17.43%, F1-Score: 24.84%\n",
      "{'0': {'precision': 0.5655737704918032, 'recall': 0.8827292110874201, 'f1-score': 0.6894254787676936, 'support': 1407.0}, '1': {'precision': 0.42857142857142855, 'recall': 0.20245398773006135, 'f1-score': 0.275, 'support': 489.0}, '2': {'precision': 0.49740932642487046, 'recall': 0.21333333333333335, 'f1-score': 0.2986003110419907, 'support': 450.0}, '3': {'precision': 0.43243243243243246, 'recall': 0.17429193899782136, 'f1-score': 0.2484472049689441, 'support': 459.0}, 'accuracy': 0.5408199643493761, 'macro avg': {'precision': 0.48099673948013366, 'recall': 0.36820211778715906, 'f1-score': 0.37786824869465707, 'support': 2805.0}, 'weighted avg': {'precision': 0.5089677030413811, 'recall': 0.5408199643493761, 'f1-score': 0.48231873642630513, 'support': 2805.0}}\n"
     ]
    },
    {
     "name": "stderr",
     "output_type": "stream",
     "text": [
      "Epoch 36 Training:   0%|          | 0/822 [00:21<?, ?it/s]\n"
     ]
    },
    {
     "name": "stdout",
     "output_type": "stream",
     "text": [
      "[DEBUG] Epoch 36 train loss 0.85780000226196, val loss 1.2655611336231232\n"
     ]
    },
    {
     "name": "stderr",
     "output_type": "stream",
     "text": [
      "Testing: 100%|██████████| 88/88 [00:01<00:00, 68.84it/s]\n"
     ]
    },
    {
     "name": "stdout",
     "output_type": "stream",
     "text": [
      "[DEBUG] Test Accuracy: 53.94%, Test F1 Score: 38.94%\n",
      "[DEBUG] Class 0 - Precision: 57.14%, Recall: 85.86%, F1-Score: 68.62%\n",
      "[DEBUG] Class 1 - Precision: 43.07%, Recall: 24.13%, F1-Score: 30.93%\n",
      "[DEBUG] Class 2 - Precision: 44.35%, Recall: 23.56%, F1-Score: 30.77%\n",
      "[DEBUG] Class 3 - Precision: 45.51%, Recall: 17.65%, F1-Score: 25.43%\n",
      "{'0': {'precision': 0.5714285714285714, 'recall': 0.8585643212508884, 'f1-score': 0.6861687020732746, 'support': 1407.0}, '1': {'precision': 0.4306569343065693, 'recall': 0.24130879345603273, 'f1-score': 0.30930537352555704, 'support': 489.0}, '2': {'precision': 0.4435146443514644, 'recall': 0.23555555555555555, 'f1-score': 0.3076923076923077, 'support': 450.0}, '3': {'precision': 0.4550561797752809, 'recall': 0.17647058823529413, 'f1-score': 0.2543171114599686, 'support': 459.0}, 'accuracy': 0.5393939393939394, 'macro avg': {'precision': 0.4751640824654715, 'recall': 0.3779748146244427, 'f1-score': 0.389370873687777, 'support': 2805.0}, 'weighted avg': {'precision': 0.5073239277543407, 'recall': 0.5393939393939394, 'f1-score': 0.48908477151257007, 'support': 2805.0}}\n"
     ]
    },
    {
     "name": "stderr",
     "output_type": "stream",
     "text": [
      "Epoch 37 Training:   0%|          | 0/822 [00:20<?, ?it/s]\n"
     ]
    },
    {
     "name": "stdout",
     "output_type": "stream",
     "text": [
      "[DEBUG] Epoch 37 train loss 0.8526529368112847, val loss 1.2836875400759957\n"
     ]
    },
    {
     "name": "stderr",
     "output_type": "stream",
     "text": [
      "Testing: 100%|██████████| 88/88 [00:01<00:00, 67.34it/s]\n"
     ]
    },
    {
     "name": "stdout",
     "output_type": "stream",
     "text": [
      "[DEBUG] Test Accuracy: 54.19%, Test F1 Score: 39.71%\n",
      "[DEBUG] Class 0 - Precision: 57.78%, Recall: 85.22%, F1-Score: 68.87%\n",
      "[DEBUG] Class 1 - Precision: 46.03%, Recall: 17.79%, F1-Score: 25.66%\n",
      "[DEBUG] Class 2 - Precision: 42.86%, Recall: 29.33%, F1-Score: 34.83%\n",
      "[DEBUG] Class 3 - Precision: 43.78%, Recall: 22.22%, F1-Score: 29.48%\n",
      "{'0': {'precision': 0.5778313253012048, 'recall': 0.8521677327647477, 'f1-score': 0.6886846639862149, 'support': 1407.0}, '1': {'precision': 0.4603174603174603, 'recall': 0.17791411042944785, 'f1-score': 0.25663716814159293, 'support': 489.0}, '2': {'precision': 0.42857142857142855, 'recall': 0.29333333333333333, 'f1-score': 0.3482849604221636, 'support': 450.0}, '3': {'precision': 0.43776824034334766, 'recall': 0.2222222222222222, 'f1-score': 0.2947976878612717, 'support': 459.0}, 'accuracy': 0.5418894830659536, 'macro avg': {'precision': 0.4761221136333603, 'recall': 0.3864093496874378, 'f1-score': 0.3971011201028108, 'support': 2805.0}, 'weighted avg': {'precision': 0.5104800990976017, 'recall': 0.5418894830659536, 'f1-score': 0.49430134344675253, 'support': 2805.0}}\n"
     ]
    },
    {
     "name": "stderr",
     "output_type": "stream",
     "text": [
      "Epoch 38 Training:   0%|          | 0/822 [00:22<?, ?it/s]\n"
     ]
    },
    {
     "name": "stdout",
     "output_type": "stream",
     "text": [
      "[DEBUG] Epoch 38 train loss 0.84384819143735, val loss 1.284173807637258\n"
     ]
    },
    {
     "name": "stderr",
     "output_type": "stream",
     "text": [
      "Testing: 100%|██████████| 88/88 [00:01<00:00, 63.99it/s]\n"
     ]
    },
    {
     "name": "stdout",
     "output_type": "stream",
     "text": [
      "[DEBUG] Test Accuracy: 53.19%, Test F1 Score: 38.91%\n",
      "[DEBUG] Class 0 - Precision: 57.03%, Recall: 83.94%, F1-Score: 67.91%\n",
      "[DEBUG] Class 1 - Precision: 39.53%, Recall: 20.45%, F1-Score: 26.95%\n",
      "[DEBUG] Class 2 - Precision: 46.98%, Recall: 24.22%, F1-Score: 31.96%\n",
      "[DEBUG] Class 3 - Precision: 40.96%, Recall: 22.22%, F1-Score: 28.81%\n",
      "{'0': {'precision': 0.5702559150169001, 'recall': 0.8393745557924662, 'f1-score': 0.6791259344450834, 'support': 1407.0}, '1': {'precision': 0.3952569169960474, 'recall': 0.20449897750511248, 'f1-score': 0.2695417789757412, 'support': 489.0}, '2': {'precision': 0.4698275862068966, 'recall': 0.24222222222222223, 'f1-score': 0.3196480938416422, 'support': 450.0}, '3': {'precision': 0.40963855421686746, 'recall': 0.2222222222222222, 'f1-score': 0.288135593220339, 'support': 459.0}, 'accuracy': 0.5319073083778966, 'macro avg': {'precision': 0.4612447431091779, 'recall': 0.3770794944355058, 'f1-score': 0.3891128501207014, 'support': 2805.0}, 'weighted avg': {'precision': 0.4973537308443819, 'recall': 0.5319073083778966, 'f1-score': 0.48607201397513167, 'support': 2805.0}}\n"
     ]
    },
    {
     "name": "stderr",
     "output_type": "stream",
     "text": [
      "Epoch 39 Training:   0%|          | 0/822 [00:21<?, ?it/s]\n"
     ]
    },
    {
     "name": "stdout",
     "output_type": "stream",
     "text": [
      "[DEBUG] Epoch 39 train loss 0.8367797892241582, val loss 1.2982944866473025\n"
     ]
    },
    {
     "name": "stderr",
     "output_type": "stream",
     "text": [
      "Testing: 100%|██████████| 88/88 [00:01<00:00, 69.54it/s]\n"
     ]
    },
    {
     "name": "stdout",
     "output_type": "stream",
     "text": [
      "[DEBUG] Test Accuracy: 53.44%, Test F1 Score: 39.85%\n",
      "[DEBUG] Class 0 - Precision: 57.42%, Recall: 83.01%, F1-Score: 67.89%\n",
      "[DEBUG] Class 1 - Precision: 42.67%, Recall: 19.63%, F1-Score: 26.89%\n",
      "[DEBUG] Class 2 - Precision: 45.38%, Recall: 25.11%, F1-Score: 32.33%\n",
      "[DEBUG] Class 3 - Precision: 41.08%, Recall: 26.58%, F1-Score: 32.28%\n",
      "{'0': {'precision': 0.5742379547689282, 'recall': 0.830135039090263, 'f1-score': 0.6788724208079047, 'support': 1407.0}, '1': {'precision': 0.4266666666666667, 'recall': 0.19631901840490798, 'f1-score': 0.2689075630252101, 'support': 489.0}, '2': {'precision': 0.4538152610441767, 'recall': 0.2511111111111111, 'f1-score': 0.32331902718168815, 'support': 450.0}, '3': {'precision': 0.4107744107744108, 'recall': 0.2657952069716776, 'f1-score': 0.32275132275132273, 'support': 459.0}, 'accuracy': 0.5344028520499109, 'macro avg': {'precision': 0.4663735733135457, 'recall': 0.3858400938944899, 'f1-score': 0.3984625834415314, 'support': 2805.0}, 'weighted avg': {'precision': 0.5024438946079202, 'recall': 0.5344028520499109, 'f1-score': 0.4920875984922162, 'support': 2805.0}}\n"
     ]
    },
    {
     "name": "stderr",
     "output_type": "stream",
     "text": [
      "Epoch 40 Training:   0%|          | 0/822 [00:20<?, ?it/s]\n"
     ]
    },
    {
     "name": "stdout",
     "output_type": "stream",
     "text": [
      "[DEBUG] Epoch 40 train loss 0.8305749052777488, val loss 1.339609261940826\n"
     ]
    },
    {
     "name": "stderr",
     "output_type": "stream",
     "text": [
      "Testing: 100%|██████████| 88/88 [00:01<00:00, 61.39it/s]\n"
     ]
    },
    {
     "name": "stdout",
     "output_type": "stream",
     "text": [
      "[DEBUG] Test Accuracy: 53.12%, Test F1 Score: 38.63%\n",
      "[DEBUG] Class 0 - Precision: 57.32%, Recall: 83.80%, F1-Score: 68.07%\n",
      "[DEBUG] Class 1 - Precision: 44.55%, Recall: 20.04%, F1-Score: 27.64%\n",
      "[DEBUG] Class 2 - Precision: 37.95%, Recall: 28.00%, F1-Score: 32.23%\n",
      "[DEBUG] Class 3 - Precision: 44.39%, Recall: 18.95%, F1-Score: 26.56%\n",
      "{'0': {'precision': 0.5731648031113272, 'recall': 0.837953091684435, 'f1-score': 0.680715935334873, 'support': 1407.0}, '1': {'precision': 0.44545454545454544, 'recall': 0.20040899795501022, 'f1-score': 0.2764456981664316, 'support': 489.0}, '2': {'precision': 0.3795180722891566, 'recall': 0.28, 'f1-score': 0.32225063938618925, 'support': 450.0}, '3': {'precision': 0.44387755102040816, 'recall': 0.1895424836601307, 'f1-score': 0.26564885496183205, 'support': 459.0}, 'accuracy': 0.5311942959001783, 'macro avg': {'precision': 0.46050374296885943, 'recall': 0.376976143324894, 'f1-score': 0.38626528196233145, 'support': 2805.0}, 'weighted avg': {'precision': 0.49867845959122914, 'recall': 0.5311942959001783, 'f1-score': 0.4848110087596497, 'support': 2805.0}}\n"
     ]
    },
    {
     "name": "stderr",
     "output_type": "stream",
     "text": [
      "Epoch 41 Training:   0%|          | 0/822 [00:20<?, ?it/s]\n"
     ]
    },
    {
     "name": "stdout",
     "output_type": "stream",
     "text": [
      "[DEBUG] Epoch 41 train loss 0.8298559419430085, val loss 1.3096151399341496\n"
     ]
    },
    {
     "name": "stderr",
     "output_type": "stream",
     "text": [
      "Testing: 100%|██████████| 88/88 [00:01<00:00, 65.29it/s]\n"
     ]
    },
    {
     "name": "stdout",
     "output_type": "stream",
     "text": [
      "[DEBUG] Test Accuracy: 54.05%, Test F1 Score: 38.90%\n",
      "[DEBUG] Class 0 - Precision: 57.37%, Recall: 86.35%, F1-Score: 68.94%\n",
      "[DEBUG] Class 1 - Precision: 41.15%, Recall: 21.88%, F1-Score: 28.57%\n",
      "[DEBUG] Class 2 - Precision: 46.51%, Recall: 22.22%, F1-Score: 30.08%\n",
      "[DEBUG] Class 3 - Precision: 44.34%, Recall: 20.48%, F1-Score: 28.02%\n",
      "{'0': {'precision': 0.5736543909348442, 'recall': 0.8635394456289979, 'f1-score': 0.6893617021276596, 'support': 1407.0}, '1': {'precision': 0.4115384615384615, 'recall': 0.21881390593047034, 'f1-score': 0.2857142857142857, 'support': 489.0}, '2': {'precision': 0.46511627906976744, 'recall': 0.2222222222222222, 'f1-score': 0.3007518796992481, 'support': 450.0}, '3': {'precision': 0.44339622641509435, 'recall': 0.2047930283224401, 'f1-score': 0.28017883755588674, 'support': 459.0}, 'accuracy': 0.5404634581105169, 'macro avg': {'precision': 0.4734263394895419, 'recall': 0.37734215052603265, 'f1-score': 0.38900167627427, 'support': 2805.0}, 'weighted avg': {'precision': 0.5066649658622308, 'recall': 0.5404634581105169, 'f1-score': 0.48969220424624477, 'support': 2805.0}}\n"
     ]
    },
    {
     "name": "stderr",
     "output_type": "stream",
     "text": [
      "Epoch 42 Training:   0%|          | 0/822 [00:21<?, ?it/s]\n"
     ]
    },
    {
     "name": "stdout",
     "output_type": "stream",
     "text": [
      "[DEBUG] Epoch 42 train loss 0.8226150060004561, val loss 1.3468383022330024\n"
     ]
    },
    {
     "name": "stderr",
     "output_type": "stream",
     "text": [
      "Testing: 100%|██████████| 88/88 [00:01<00:00, 67.10it/s]\n"
     ]
    },
    {
     "name": "stdout",
     "output_type": "stream",
     "text": [
      "[DEBUG] Test Accuracy: 54.22%, Test F1 Score: 39.26%\n",
      "[DEBUG] Class 0 - Precision: 57.07%, Recall: 86.35%, F1-Score: 68.72%\n",
      "[DEBUG] Class 1 - Precision: 39.80%, Recall: 23.93%, F1-Score: 29.89%\n",
      "[DEBUG] Class 2 - Precision: 51.44%, Recall: 23.78%, F1-Score: 32.52%\n",
      "[DEBUG] Class 3 - Precision: 47.13%, Recall: 17.86%, F1-Score: 25.91%\n",
      "{'0': {'precision': 0.5706904650070456, 'recall': 0.8635394456289979, 'f1-score': 0.6872171945701357, 'support': 1407.0}, '1': {'precision': 0.3979591836734694, 'recall': 0.2392638036809816, 'f1-score': 0.2988505747126437, 'support': 489.0}, '2': {'precision': 0.5144230769230769, 'recall': 0.23777777777777778, 'f1-score': 0.3252279635258359, 'support': 450.0}, '3': {'precision': 0.47126436781609193, 'recall': 0.1786492374727669, 'f1-score': 0.25908372827804105, 'support': 459.0}, 'accuracy': 0.5422459893048128, 'macro avg': {'precision': 0.48858427335492094, 'recall': 0.37980756614013106, 'f1-score': 0.3925948652716641, 'support': 2805.0}, 'weighted avg': {'precision': 0.5152813741619289, 'recall': 0.5422459893048128, 'f1-score': 0.49138129720531576, 'support': 2805.0}}\n"
     ]
    },
    {
     "name": "stderr",
     "output_type": "stream",
     "text": [
      "Epoch 43 Training:   0%|          | 0/822 [00:21<?, ?it/s]\n"
     ]
    },
    {
     "name": "stdout",
     "output_type": "stream",
     "text": [
      "[DEBUG] Epoch 43 train loss 0.8139843470133714, val loss 1.3662204430861906\n"
     ]
    },
    {
     "name": "stderr",
     "output_type": "stream",
     "text": [
      "Testing: 100%|██████████| 88/88 [00:01<00:00, 65.88it/s]\n"
     ]
    },
    {
     "name": "stdout",
     "output_type": "stream",
     "text": [
      "[DEBUG] Test Accuracy: 53.76%, Test F1 Score: 38.66%\n",
      "[DEBUG] Class 0 - Precision: 56.40%, Recall: 85.86%, F1-Score: 68.08%\n",
      "[DEBUG] Class 1 - Precision: 42.05%, Recall: 24.34%, F1-Score: 30.83%\n",
      "[DEBUG] Class 2 - Precision: 49.33%, Recall: 24.44%, F1-Score: 32.69%\n",
      "[DEBUG] Class 3 - Precision: 45.22%, Recall: 15.47%, F1-Score: 23.05%\n",
      "{'0': {'precision': 0.5639589169000934, 'recall': 0.8585643212508884, 'f1-score': 0.6807551422936038, 'support': 1407.0}, '1': {'precision': 0.4204946996466431, 'recall': 0.24335378323108384, 'f1-score': 0.3082901554404145, 'support': 489.0}, '2': {'precision': 0.49327354260089684, 'recall': 0.24444444444444444, 'f1-score': 0.32689450222882616, 'support': 450.0}, '3': {'precision': 0.45222929936305734, 'recall': 0.15468409586056645, 'f1-score': 0.2305194805194805, 'support': 459.0}, 'accuracy': 0.5376114081996435, 'macro avg': {'precision': 0.48248911462767263, 'recall': 0.3752616611967458, 'f1-score': 0.38661482012058124, 'support': 2805.0}, 'weighted avg': {'precision': 0.5093256494772502, 'recall': 0.5376114081996435, 'f1-score': 0.4853787304024515, 'support': 2805.0}}\n"
     ]
    },
    {
     "name": "stderr",
     "output_type": "stream",
     "text": [
      "Epoch 44 Training:   0%|          | 0/822 [00:21<?, ?it/s]\n"
     ]
    },
    {
     "name": "stdout",
     "output_type": "stream",
     "text": [
      "[DEBUG] Epoch 44 train loss 0.8103976999466147, val loss 1.3717493259093978\n"
     ]
    },
    {
     "name": "stderr",
     "output_type": "stream",
     "text": [
      "Testing: 100%|██████████| 88/88 [00:01<00:00, 63.52it/s]\n"
     ]
    },
    {
     "name": "stdout",
     "output_type": "stream",
     "text": [
      "[DEBUG] Test Accuracy: 52.51%, Test F1 Score: 39.94%\n",
      "[DEBUG] Class 0 - Precision: 58.20%, Recall: 79.74%, F1-Score: 67.29%\n",
      "[DEBUG] Class 1 - Precision: 38.85%, Recall: 23.52%, F1-Score: 29.30%\n",
      "[DEBUG] Class 2 - Precision: 40.06%, Recall: 29.11%, F1-Score: 33.72%\n",
      "[DEBUG] Class 3 - Precision: 41.34%, Recall: 22.88%, F1-Score: 29.45%\n",
      "{'0': {'precision': 0.5819502074688797, 'recall': 0.7974413646055437, 'f1-score': 0.6728635682158921, 'support': 1407.0}, '1': {'precision': 0.3885135135135135, 'recall': 0.23517382413087934, 'f1-score': 0.2929936305732484, 'support': 489.0}, '2': {'precision': 0.40061162079510704, 'recall': 0.2911111111111111, 'f1-score': 0.33719433719433717, 'support': 450.0}, '3': {'precision': 0.41338582677165353, 'recall': 0.22875816993464052, 'f1-score': 0.29453015427769985, 'support': 459.0}, 'accuracy': 0.5251336898395722, 'macro avg': {'precision': 0.44611529213728845, 'recall': 0.3881211174455437, 'f1-score': 0.39939542256529437, 'support': 2805.0}, 'weighted avg': {'precision': 0.4915530744608945, 'recall': 0.5251336898395722, 'f1-score': 0.4908804700110498, 'support': 2805.0}}\n"
     ]
    },
    {
     "name": "stderr",
     "output_type": "stream",
     "text": [
      "Epoch 45 Training:   0%|          | 0/822 [00:22<?, ?it/s]\n"
     ]
    },
    {
     "name": "stdout",
     "output_type": "stream",
     "text": [
      "[DEBUG] Epoch 45 train loss 0.8051170164723755, val loss 1.3785854279994965\n"
     ]
    },
    {
     "name": "stderr",
     "output_type": "stream",
     "text": [
      "Testing: 100%|██████████| 88/88 [00:01<00:00, 64.82it/s]\n"
     ]
    },
    {
     "name": "stdout",
     "output_type": "stream",
     "text": [
      "[DEBUG] Test Accuracy: 52.19%, Test F1 Score: 38.95%\n",
      "[DEBUG] Class 0 - Precision: 58.14%, Recall: 80.45%, F1-Score: 67.50%\n",
      "[DEBUG] Class 1 - Precision: 39.93%, Recall: 21.88%, F1-Score: 28.27%\n",
      "[DEBUG] Class 2 - Precision: 38.24%, Recall: 26.00%, F1-Score: 30.95%\n",
      "[DEBUG] Class 3 - Precision: 38.03%, Recall: 23.53%, F1-Score: 29.07%\n",
      "{'0': {'precision': 0.5814072932717, 'recall': 0.8045486851457001, 'f1-score': 0.6750149075730472, 'support': 1407.0}, '1': {'precision': 0.39925373134328357, 'recall': 0.21881390593047034, 'f1-score': 0.28269484808454426, 'support': 489.0}, '2': {'precision': 0.38235294117647056, 'recall': 0.26, 'f1-score': 0.30952380952380953, 'support': 450.0}, '3': {'precision': 0.38028169014084506, 'recall': 0.23529411764705882, 'f1-score': 0.29071332436069985, 'support': 459.0}, 'accuracy': 0.5219251336898396, 'macro avg': {'precision': 0.4358239139830748, 'recall': 0.3796641771808073, 'f1-score': 0.3894867223855252, 'support': 2805.0}, 'weighted avg': {'precision': 0.48480686472877266, 'recall': 0.5219251336898396, 'f1-score': 0.48510049405914263, 'support': 2805.0}}\n"
     ]
    },
    {
     "name": "stderr",
     "output_type": "stream",
     "text": [
      "Epoch 46 Training:   0%|          | 0/822 [00:21<?, ?it/s]\n"
     ]
    },
    {
     "name": "stdout",
     "output_type": "stream",
     "text": [
      "[DEBUG] Epoch 46 train loss 0.7972248678442335, val loss 1.376589573919773\n"
     ]
    },
    {
     "name": "stderr",
     "output_type": "stream",
     "text": [
      "Testing: 100%|██████████| 88/88 [00:01<00:00, 64.74it/s]\n"
     ]
    },
    {
     "name": "stdout",
     "output_type": "stream",
     "text": [
      "[DEBUG] Test Accuracy: 52.48%, Test F1 Score: 40.44%\n",
      "[DEBUG] Class 0 - Precision: 58.55%, Recall: 78.61%, F1-Score: 67.11%\n",
      "[DEBUG] Class 1 - Precision: 37.72%, Recall: 25.77%, F1-Score: 30.62%\n",
      "[DEBUG] Class 2 - Precision: 43.78%, Recall: 22.67%, F1-Score: 29.87%\n",
      "[DEBUG] Class 3 - Precision: 39.54%, Recall: 30.07%, F1-Score: 34.16%\n",
      "{'0': {'precision': 0.5854949708840657, 'recall': 0.7860696517412935, 'f1-score': 0.6711165048543689, 'support': 1407.0}, '1': {'precision': 0.3772455089820359, 'recall': 0.25766871165644173, 'f1-score': 0.30619684082624543, 'support': 489.0}, '2': {'precision': 0.43776824034334766, 'recall': 0.22666666666666666, 'f1-score': 0.2986822840409956, 'support': 450.0}, '3': {'precision': 0.3954154727793696, 'recall': 0.3006535947712418, 'f1-score': 0.3415841584158416, 'support': 459.0}, 'accuracy': 0.524777183600713, 'macro avg': {'precision': 0.44898104824720475, 'recall': 0.39276465620891093, 'f1-score': 0.4043949470343629, 'support': 2805.0}, 'weighted avg': {'precision': 0.49438712587748057, 'recall': 0.524777183600713, 'f1-score': 0.4938272135563103, 'support': 2805.0}}\n"
     ]
    },
    {
     "name": "stderr",
     "output_type": "stream",
     "text": [
      "Epoch 47 Training:   0%|          | 0/822 [00:21<?, ?it/s]\n"
     ]
    },
    {
     "name": "stdout",
     "output_type": "stream",
     "text": [
      "[DEBUG] Epoch 47 train loss 0.7917999845279104, val loss 1.4124928604472766\n"
     ]
    },
    {
     "name": "stderr",
     "output_type": "stream",
     "text": [
      "Testing: 100%|██████████| 88/88 [00:01<00:00, 66.30it/s]\n"
     ]
    },
    {
     "name": "stdout",
     "output_type": "stream",
     "text": [
      "[DEBUG] Test Accuracy: 51.55%, Test F1 Score: 37.77%\n",
      "[DEBUG] Class 0 - Precision: 56.83%, Recall: 80.45%, F1-Score: 66.61%\n",
      "[DEBUG] Class 1 - Precision: 40.07%, Recall: 23.93%, F1-Score: 29.96%\n",
      "[DEBUG] Class 2 - Precision: 36.28%, Recall: 26.44%, F1-Score: 30.59%\n",
      "[DEBUG] Class 3 - Precision: 40.41%, Recall: 16.99%, F1-Score: 23.93%\n",
      "{'0': {'precision': 0.5682730923694779, 'recall': 0.8045486851457001, 'f1-score': 0.666078258311268, 'support': 1407.0}, '1': {'precision': 0.4006849315068493, 'recall': 0.2392638036809816, 'f1-score': 0.29961587708066584, 'support': 489.0}, '2': {'precision': 0.3628048780487805, 'recall': 0.2644444444444444, 'f1-score': 0.3059125964010283, 'support': 450.0}, '3': {'precision': 0.40414507772020725, 'recall': 0.16993464052287582, 'f1-score': 0.2392638036809816, 'support': 459.0}, 'accuracy': 0.5155080213903743, 'macro avg': {'precision': 0.4339769949113287, 'recall': 0.36954789344850053, 'f1-score': 0.3777176338684859, 'support': 2805.0}, 'weighted avg': {'precision': 0.47923706177049236, 'recall': 0.5155080213903743, 'f1-score': 0.4745693503053237, 'support': 2805.0}}\n"
     ]
    },
    {
     "name": "stderr",
     "output_type": "stream",
     "text": [
      "Epoch 48 Training:   0%|          | 0/822 [00:21<?, ?it/s]\n"
     ]
    },
    {
     "name": "stdout",
     "output_type": "stream",
     "text": [
      "[DEBUG] Epoch 48 train loss 0.7861356794689114, val loss 1.4491854506460102\n"
     ]
    },
    {
     "name": "stderr",
     "output_type": "stream",
     "text": [
      "Testing: 100%|██████████| 88/88 [00:01<00:00, 58.13it/s]\n"
     ]
    },
    {
     "name": "stdout",
     "output_type": "stream",
     "text": [
      "[DEBUG] Test Accuracy: 51.34%, Test F1 Score: 40.45%\n",
      "[DEBUG] Class 0 - Precision: 59.23%, Recall: 74.77%, F1-Score: 66.10%\n",
      "[DEBUG] Class 1 - Precision: 37.07%, Recall: 26.38%, F1-Score: 30.82%\n",
      "[DEBUG] Class 2 - Precision: 40.43%, Recall: 24.89%, F1-Score: 30.81%\n",
      "[DEBUG] Class 3 - Precision: 36.39%, Recall: 32.03%, F1-Score: 34.07%\n",
      "{'0': {'precision': 0.5923423423423423, 'recall': 0.7476901208244492, 'f1-score': 0.6610116242538485, 'support': 1407.0}, '1': {'precision': 0.3706896551724138, 'recall': 0.26380368098159507, 'f1-score': 0.30824372759856633, 'support': 489.0}, '2': {'precision': 0.4043321299638989, 'recall': 0.24888888888888888, 'f1-score': 0.3081155433287483, 'support': 450.0}, '3': {'precision': 0.36386138613861385, 'recall': 0.3202614379084967, 'f1-score': 0.3406720741599073, 'support': 459.0}, 'accuracy': 0.5133689839572193, 'macro avg': {'precision': 0.43280637840431724, 'recall': 0.39516103215085746, 'f1-score': 0.4045107423352676, 'support': 2805.0}, 'weighted avg': {'precision': 0.4861514266582404, 'recall': 0.5133689839572193, 'f1-score': 0.49047950611700464, 'support': 2805.0}}\n"
     ]
    },
    {
     "name": "stderr",
     "output_type": "stream",
     "text": [
      "Epoch 49 Training:   0%|          | 0/822 [00:21<?, ?it/s]\n"
     ]
    },
    {
     "name": "stdout",
     "output_type": "stream",
     "text": [
      "[DEBUG] Epoch 49 train loss 0.7866754554338989, val loss 1.434056730432944\n"
     ]
    },
    {
     "name": "stderr",
     "output_type": "stream",
     "text": [
      "Testing: 100%|██████████| 88/88 [00:01<00:00, 61.16it/s]\n"
     ]
    },
    {
     "name": "stdout",
     "output_type": "stream",
     "text": [
      "[DEBUG] Test Accuracy: 50.41%, Test F1 Score: 38.05%\n",
      "[DEBUG] Class 0 - Precision: 58.25%, Recall: 76.05%, F1-Score: 65.97%\n",
      "[DEBUG] Class 1 - Precision: 30.37%, Recall: 31.49%, F1-Score: 30.92%\n",
      "[DEBUG] Class 2 - Precision: 39.77%, Recall: 23.33%, F1-Score: 29.41%\n",
      "[DEBUG] Class 3 - Precision: 43.15%, Recall: 18.52%, F1-Score: 25.91%\n",
      "{'0': {'precision': 0.5824714207947741, 'recall': 0.7604832977967306, 'f1-score': 0.6596794081381011, 'support': 1407.0}, '1': {'precision': 0.3037475345167653, 'recall': 0.3149284253578732, 'f1-score': 0.3092369477911647, 'support': 489.0}, '2': {'precision': 0.3977272727272727, 'recall': 0.23333333333333334, 'f1-score': 0.29411764705882354, 'support': 450.0}, '3': {'precision': 0.43147208121827413, 'recall': 0.18518518518518517, 'f1-score': 0.25914634146341464, 'support': 459.0}, 'accuracy': 0.5040998217468806, 'macro avg': {'precision': 0.42885457731427157, 'recall': 0.3734825604182806, 'f1-score': 0.38054508611287596, 'support': 2805.0}, 'weighted avg': {'precision': 0.47953397199408415, 'recall': 0.5040998217468806, 'f1-score': 0.47439818418123547, 'support': 2805.0}}\n"
     ]
    },
    {
     "name": "stderr",
     "output_type": "stream",
     "text": [
      "Epoch 50 Training:   0%|          | 0/822 [00:21<?, ?it/s]\n"
     ]
    },
    {
     "name": "stdout",
     "output_type": "stream",
     "text": [
      "[DEBUG] Epoch 50 train loss 0.7773726055729419, val loss 1.4232612997293472\n"
     ]
    },
    {
     "name": "stderr",
     "output_type": "stream",
     "text": [
      "Testing: 100%|██████████| 88/88 [00:01<00:00, 63.05it/s]"
     ]
    },
    {
     "name": "stdout",
     "output_type": "stream",
     "text": [
      "[DEBUG] Test Accuracy: 53.37%, Test F1 Score: 39.75%\n",
      "[DEBUG] Class 0 - Precision: 58.05%, Recall: 82.80%, F1-Score: 68.25%\n",
      "[DEBUG] Class 1 - Precision: 39.92%, Recall: 20.65%, F1-Score: 27.22%\n",
      "[DEBUG] Class 2 - Precision: 44.40%, Recall: 24.67%, F1-Score: 31.71%\n",
      "[DEBUG] Class 3 - Precision: 40.68%, Recall: 26.14%, F1-Score: 31.83%\n",
      "{'0': {'precision': 0.580468360737419, 'recall': 0.828002842928216, 'f1-score': 0.6824838898652607, 'support': 1407.0}, '1': {'precision': 0.39920948616600793, 'recall': 0.2065439672801636, 'f1-score': 0.2722371967654987, 'support': 489.0}, '2': {'precision': 0.444, 'recall': 0.24666666666666667, 'f1-score': 0.3171428571428571, 'support': 450.0}, '3': {'precision': 0.4067796610169492, 'recall': 0.26143790849673204, 'f1-score': 0.3183023872679045, 'support': 459.0}, 'accuracy': 0.5336898395721925, 'macro avg': {'precision': 0.45761437698009405, 'recall': 0.38566284634294457, 'f1-score': 0.39754158276038026, 'support': 2805.0}, 'weighted avg': {'precision': 0.49855411290534973, 'recall': 0.5336898395721925, 'f1-score': 0.492760749992515, 'support': 2805.0}}\n"
     ]
    },
    {
     "name": "stderr",
     "output_type": "stream",
     "text": [
      "\n"
     ]
    }
   ],
   "source": [
    "crossmodal_model = CrossmodalNet(inchannels=256, args=args).to(args['device'])  \n",
    "graphModel = GraphModel(768, 128, 64, args['device'], args).to(args['device'])\n",
    "optimizer = torch.optim.Adam(graphModel.parameters(), lr=0.001, weight_decay=1e-5)\n",
    "criterion = nn.CrossEntropyLoss()\n",
    "train(graphModel, subtrain_loader, subval_loader, optimizer, criterion, args, epochs=50)\n"
   ]
  },
  {
   "cell_type": "code",
   "execution_count": 30,
   "metadata": {},
   "outputs": [
    {
     "name": "stderr",
     "output_type": "stream",
     "text": [
      "Testing: 100%|██████████| 215/215 [00:03<00:00, 55.93it/s]"
     ]
    },
    {
     "name": "stdout",
     "output_type": "stream",
     "text": [
      "[DEBUG] Test Accuracy: 55.71%, Test F1 Score: 38.19%\n",
      "[DEBUG] Class 0 - Precision: 62.03%, Recall: 83.81%, F1-Score: 71.29%\n",
      "[DEBUG] Class 1 - Precision: 41.41%, Recall: 20.40%, F1-Score: 27.33%\n",
      "[DEBUG] Class 2 - Precision: 36.59%, Recall: 20.88%, F1-Score: 26.59%\n",
      "[DEBUG] Class 3 - Precision: 34.55%, Recall: 22.90%, F1-Score: 27.54%\n",
      "{'0': {'precision': 0.6203103516008642, 'recall': 0.8381104033970276, 'f1-score': 0.7129472852466419, 'support': 3768.0}, '1': {'precision': 0.41414141414141414, 'recall': 0.20398009950248755, 'f1-score': 0.2733333333333333, 'support': 1206.0}, '2': {'precision': 0.3659043659043659, 'recall': 0.20877817319098457, 'f1-score': 0.26586102719033233, 'support': 843.0}, '3': {'precision': 0.3454810495626822, 'recall': 0.2289855072463768, 'f1-score': 0.27542126670540384, 'support': 1035.0}, 'accuracy': 0.5570636310566258, 'macro avg': {'precision': 0.43645929530233163, 'recall': 0.36996354583421914, 'f1-score': 0.3818907281189278, 'support': 6852.0}, 'weighted avg': {'precision': 0.511210481179416, 'recall': 0.5570636310566258, 'f1-score': 0.5144785796513265, 'support': 6852.0}}\n"
     ]
    },
    {
     "name": "stderr",
     "output_type": "stream",
     "text": [
      "\n"
     ]
    },
    {
     "data": {
      "text/plain": [
       "(0.5570636310566258, 0.3818907281189278)"
      ]
     },
     "execution_count": 30,
     "metadata": {},
     "output_type": "execute_result"
    }
   ],
   "source": [
    "evaluate(graphModel, subtest_loader, args)"
   ]
  },
  {
   "cell_type": "code",
   "execution_count": null,
   "metadata": {},
   "outputs": [],
   "source": [
    "data['text_len_tensor']"
   ]
  },
  {
   "cell_type": "markdown",
   "metadata": {},
   "source": [
    "wf-2, wp-2"
   ]
  },
  {
   "cell_type": "code",
   "execution_count": 40,
   "metadata": {},
   "outputs": [
    {
     "name": "stderr",
     "output_type": "stream",
     "text": [
      "Testing: 100%|██████████| 215/215 [00:04<00:00, 49.38it/s]"
     ]
    },
    {
     "name": "stdout",
     "output_type": "stream",
     "text": [
      "[DEBUG] Test Accuracy: 54.38%, Test F1 Score: 39.20%\n",
      "[DEBUG] Class 0 - Precision: 62.96%, Recall: 78.82%, F1-Score: 70.01%\n",
      "[DEBUG] Class 1 - Precision: 35.00%, Recall: 24.96%, F1-Score: 29.14%\n",
      "[DEBUG] Class 2 - Precision: 34.83%, Recall: 23.96%, F1-Score: 28.39%\n",
      "[DEBUG] Class 3 - Precision: 36.40%, Recall: 24.44%, F1-Score: 29.25%\n",
      "{'0': {'precision': 0.6296374814500743, 'recall': 0.7882165605095541, 'f1-score': 0.7000589275191514, 'support': 3768.0}, '1': {'precision': 0.35, 'recall': 0.24958540630182421, 'f1-score': 0.29138431752178123, 'support': 1206.0}, '2': {'precision': 0.3482758620689655, 'recall': 0.23962040332147094, 'f1-score': 0.2839072382290935, 'support': 843.0}, '3': {'precision': 0.3640287769784173, 'recall': 0.24444444444444444, 'f1-score': 0.292485549132948, 'support': 1035.0}, 'accuracy': 0.5437828371278459, 'macro avg': {'precision': 0.42298553012436424, 'recall': 0.38046670364432345, 'f1-score': 0.3919590081007436, 'support': 6852.0}, 'weighted avg': {'precision': 0.5056830656743548, 'recall': 0.5437828371278459, 'f1-score': 0.5153660056922296, 'support': 6852.0}}\n"
     ]
    },
    {
     "name": "stderr",
     "output_type": "stream",
     "text": [
      "\n"
     ]
    },
    {
     "data": {
      "text/plain": [
       "(0.5437828371278459, 0.3919590081007436)"
      ]
     },
     "execution_count": 40,
     "metadata": {},
     "output_type": "execute_result"
    }
   ],
   "source": [
    "evaluate(graphModel, subtest_loader, args)"
   ]
  },
  {
   "cell_type": "code",
   "execution_count": 32,
   "metadata": {},
   "outputs": [
    {
     "name": "stdout",
     "output_type": "stream",
     "text": [
      "[DEBUG] Prepared features shape: torch.Size([23496, 768])\n",
      "[DEBUG] Prepared labels shape: torch.Size([23496])\n",
      "[DEBUG] Prepared lengths: [7832, 7832, 7832]\n",
      "[DEBUG] Prepared features shape: torch.Size([2421, 768])\n",
      "[DEBUG] Prepared labels shape: torch.Size([2421])\n",
      "[DEBUG] Prepared lengths: [807, 807, 807]\n",
      "[DEBUG] Prepared features shape: torch.Size([6213, 768])\n",
      "[DEBUG] Prepared labels shape: torch.Size([6213])\n",
      "[DEBUG] Prepared lengths: [2071, 2071, 2071]\n"
     ]
    }
   ],
   "source": [
    "data = load_data(data_type='loaders_datasets_reduced_label_dim_4.pt')\n",
    "train_features, train_labels, train_lengths = prepare_graph_data(data['train'], args)\n",
    "dev_features, dev_labels, dev_lengths = prepare_graph_data(data['val'], args)\n",
    "test_features, test_labels, test_lengths = prepare_graph_data(data['test'], args)\n",
    "\n",
    "train_loader = prepare_dataloaders(train_features, train_labels, train_lengths, batch_size=32, equilibrate=False)\n",
    "val_loader = prepare_dataloaders(dev_features, dev_labels, dev_lengths, batch_size=32)\n",
    "test_loader = prepare_dataloaders(test_features, test_labels, test_lengths, batch_size=32)"
   ]
  },
  {
   "cell_type": "code",
   "execution_count": 34,
   "metadata": {},
   "outputs": [
    {
     "name": "stdout",
     "output_type": "stream",
     "text": [
      "GraphModel --> Edge type: ['temp', 'multi']\n",
      "GraphModel --> Window past: 3\n",
      "GraphModel --> Window future: 3\n"
     ]
    },
    {
     "name": "stderr",
     "output_type": "stream",
     "text": [
      "Epoch 1 Training:   0%|          | 0/735 [00:00<?, ?it/s]"
     ]
    },
    {
     "name": "stderr",
     "output_type": "stream",
     "text": [
      "Epoch 1 Training:   0%|          | 0/735 [00:18<?, ?it/s]\n"
     ]
    },
    {
     "name": "stdout",
     "output_type": "stream",
     "text": [
      "[DEBUG] Epoch 1 train loss 1.1716523925463358, val loss 1.1003608680085133\n"
     ]
    },
    {
     "name": "stderr",
     "output_type": "stream",
     "text": [
      "Testing: 100%|██████████| 76/76 [00:01<00:00, 51.41it/s]\n",
      "c:\\Users\\admin\\anaconda3\\envs\\mer-gpu\\lib\\site-packages\\sklearn\\metrics\\_classification.py:1565: UndefinedMetricWarning: Precision is ill-defined and being set to 0.0 in labels with no predicted samples. Use `zero_division` parameter to control this behavior.\n",
      "  _warn_prf(average, modifier, f\"{metric.capitalize()} is\", len(result))\n",
      "c:\\Users\\admin\\anaconda3\\envs\\mer-gpu\\lib\\site-packages\\sklearn\\metrics\\_classification.py:1565: UndefinedMetricWarning: Precision is ill-defined and being set to 0.0 in labels with no predicted samples. Use `zero_division` parameter to control this behavior.\n",
      "  _warn_prf(average, modifier, f\"{metric.capitalize()} is\", len(result))\n",
      "c:\\Users\\admin\\anaconda3\\envs\\mer-gpu\\lib\\site-packages\\sklearn\\metrics\\_classification.py:1565: UndefinedMetricWarning: Precision is ill-defined and being set to 0.0 in labels with no predicted samples. Use `zero_division` parameter to control this behavior.\n",
      "  _warn_prf(average, modifier, f\"{metric.capitalize()} is\", len(result))\n"
     ]
    },
    {
     "name": "stdout",
     "output_type": "stream",
     "text": [
      "[DEBUG] Test Accuracy: 62.04%, Test F1 Score: 28.66%\n",
      "[DEBUG] Class 0 - Precision: 61.70%, Recall: 99.15%, F1-Score: 76.06%\n",
      "[DEBUG] Class 1 - Precision: 73.42%, Recall: 11.86%, F1-Score: 20.42%\n",
      "[DEBUG] Class 2 - Precision: 60.49%, Recall: 10.68%, F1-Score: 18.15%\n",
      "[DEBUG] Class 3 - Precision: 0.00%, Recall: 0.00%, F1-Score: 0.00%\n",
      "{'0': {'precision': 0.616983635559487, 'recall': 0.9914712153518124, 'f1-score': 0.7606324972737186, 'support': 1407.0}, '1': {'precision': 0.7341772151898734, 'recall': 0.11860940695296524, 'f1-score': 0.20422535211267606, 'support': 489.0}, '2': {'precision': 0.6049382716049383, 'recall': 0.10675381263616558, 'f1-score': 0.1814814814814815, 'support': 459.0}, '3': {'precision': 0.0, 'recall': 0.0, 'f1-score': 0.0, 'support': 66.0}, 'accuracy': 0.6204047914085089, 'macro avg': {'precision': 0.4890247805885747, 'recall': 0.3042086087352358, 'f1-score': 0.28658483271696905, 'support': 2421.0}, 'weighted avg': {'precision': 0.6215511359465977, 'recall': 0.6204047914085089, 'f1-score': 0.5177100870909627, 'support': 2421.0}}\n"
     ]
    },
    {
     "name": "stderr",
     "output_type": "stream",
     "text": [
      "Epoch 2 Training:   0%|          | 0/735 [00:19<?, ?it/s]\n"
     ]
    },
    {
     "name": "stdout",
     "output_type": "stream",
     "text": [
      "[DEBUG] Epoch 2 train loss 1.0837648979660606, val loss 1.059220828508076\n"
     ]
    },
    {
     "name": "stderr",
     "output_type": "stream",
     "text": [
      "Testing: 100%|██████████| 76/76 [00:01<00:00, 58.98it/s]\n",
      "c:\\Users\\admin\\anaconda3\\envs\\mer-gpu\\lib\\site-packages\\sklearn\\metrics\\_classification.py:1565: UndefinedMetricWarning: Precision is ill-defined and being set to 0.0 in labels with no predicted samples. Use `zero_division` parameter to control this behavior.\n",
      "  _warn_prf(average, modifier, f\"{metric.capitalize()} is\", len(result))\n",
      "c:\\Users\\admin\\anaconda3\\envs\\mer-gpu\\lib\\site-packages\\sklearn\\metrics\\_classification.py:1565: UndefinedMetricWarning: Precision is ill-defined and being set to 0.0 in labels with no predicted samples. Use `zero_division` parameter to control this behavior.\n",
      "  _warn_prf(average, modifier, f\"{metric.capitalize()} is\", len(result))\n",
      "c:\\Users\\admin\\anaconda3\\envs\\mer-gpu\\lib\\site-packages\\sklearn\\metrics\\_classification.py:1565: UndefinedMetricWarning: Precision is ill-defined and being set to 0.0 in labels with no predicted samples. Use `zero_division` parameter to control this behavior.\n",
      "  _warn_prf(average, modifier, f\"{metric.capitalize()} is\", len(result))\n"
     ]
    },
    {
     "name": "stdout",
     "output_type": "stream",
     "text": [
      "[DEBUG] Test Accuracy: 62.99%, Test F1 Score: 32.01%\n",
      "[DEBUG] Class 0 - Precision: 63.12%, Recall: 97.44%, F1-Score: 76.61%\n",
      "[DEBUG] Class 1 - Precision: 67.21%, Recall: 16.77%, F1-Score: 26.84%\n",
      "[DEBUG] Class 2 - Precision: 56.69%, Recall: 15.69%, F1-Score: 24.57%\n",
      "[DEBUG] Class 3 - Precision: 0.00%, Recall: 0.00%, F1-Score: 0.00%\n",
      "{'0': {'precision': 0.6312154696132597, 'recall': 0.9744136460554371, 'f1-score': 0.7661357921207042, 'support': 1407.0}, '1': {'precision': 0.6721311475409836, 'recall': 0.16768916155419222, 'f1-score': 0.2684124386252046, 'support': 489.0}, '2': {'precision': 0.5669291338582677, 'recall': 0.1568627450980392, 'f1-score': 0.24573378839590443, 'support': 459.0}, '3': {'precision': 0.0, 'recall': 0.0, 'f1-score': 0.0, 'support': 66.0}, 'accuracy': 0.6299049979347378, 'macro avg': {'precision': 0.4675689377531277, 'recall': 0.3247413881769171, 'f1-score': 0.3200705047854533, 'support': 2421.0}, 'weighted avg': {'precision': 0.6100837543718886, 'recall': 0.6299049979347378, 'f1-score': 0.546054750464798, 'support': 2421.0}}\n"
     ]
    },
    {
     "name": "stderr",
     "output_type": "stream",
     "text": [
      "Epoch 3 Training:   0%|          | 0/735 [00:19<?, ?it/s]\n"
     ]
    },
    {
     "name": "stdout",
     "output_type": "stream",
     "text": [
      "[DEBUG] Epoch 3 train loss 1.0715489696483222, val loss 1.1167521217935963\n"
     ]
    },
    {
     "name": "stderr",
     "output_type": "stream",
     "text": [
      "Testing: 100%|██████████| 76/76 [00:01<00:00, 62.55it/s]\n",
      "c:\\Users\\admin\\anaconda3\\envs\\mer-gpu\\lib\\site-packages\\sklearn\\metrics\\_classification.py:1565: UndefinedMetricWarning: Precision is ill-defined and being set to 0.0 in labels with no predicted samples. Use `zero_division` parameter to control this behavior.\n",
      "  _warn_prf(average, modifier, f\"{metric.capitalize()} is\", len(result))\n",
      "c:\\Users\\admin\\anaconda3\\envs\\mer-gpu\\lib\\site-packages\\sklearn\\metrics\\_classification.py:1565: UndefinedMetricWarning: Precision is ill-defined and being set to 0.0 in labels with no predicted samples. Use `zero_division` parameter to control this behavior.\n",
      "  _warn_prf(average, modifier, f\"{metric.capitalize()} is\", len(result))\n",
      "c:\\Users\\admin\\anaconda3\\envs\\mer-gpu\\lib\\site-packages\\sklearn\\metrics\\_classification.py:1565: UndefinedMetricWarning: Precision is ill-defined and being set to 0.0 in labels with no predicted samples. Use `zero_division` parameter to control this behavior.\n",
      "  _warn_prf(average, modifier, f\"{metric.capitalize()} is\", len(result))\n"
     ]
    },
    {
     "name": "stdout",
     "output_type": "stream",
     "text": [
      "[DEBUG] Test Accuracy: 61.96%, Test F1 Score: 29.49%\n",
      "[DEBUG] Class 0 - Precision: 62.78%, Recall: 96.73%, F1-Score: 76.14%\n",
      "[DEBUG] Class 1 - Precision: 52.00%, Recall: 23.93%, F1-Score: 32.77%\n",
      "[DEBUG] Class 2 - Precision: 78.57%, Recall: 4.79%, F1-Score: 9.03%\n",
      "[DEBUG] Class 3 - Precision: 0.00%, Recall: 0.00%, F1-Score: 0.00%\n",
      "{'0': {'precision': 0.6277675276752768, 'recall': 0.9673063255152807, 'f1-score': 0.7613986013986014, 'support': 1407.0}, '1': {'precision': 0.52, 'recall': 0.2392638036809816, 'f1-score': 0.3277310924369748, 'support': 489.0}, '2': {'precision': 0.7857142857142857, 'recall': 0.04793028322440087, 'f1-score': 0.09034907597535935, 'support': 459.0}, '3': {'precision': 0.0, 'recall': 0.0, 'f1-score': 0.0, 'support': 66.0}, 'accuracy': 0.6195786864931846, 'macro avg': {'precision': 0.4833704533473906, 'recall': 0.3136251031051658, 'f1-score': 0.29486969245273387, 'support': 2421.0}, 'weighted avg': {'precision': 0.618831792061946, 'recall': 0.6195786864931846, 'f1-score': 0.5258234457836444, 'support': 2421.0}}\n"
     ]
    },
    {
     "name": "stderr",
     "output_type": "stream",
     "text": [
      "Epoch 4 Training:   0%|          | 0/735 [00:19<?, ?it/s]\n"
     ]
    },
    {
     "name": "stdout",
     "output_type": "stream",
     "text": [
      "[DEBUG] Epoch 4 train loss 1.0664115814935593, val loss 1.0855868874411834\n"
     ]
    },
    {
     "name": "stderr",
     "output_type": "stream",
     "text": [
      "Testing: 100%|██████████| 76/76 [00:01<00:00, 60.85it/s]\n",
      "c:\\Users\\admin\\anaconda3\\envs\\mer-gpu\\lib\\site-packages\\sklearn\\metrics\\_classification.py:1565: UndefinedMetricWarning: Precision is ill-defined and being set to 0.0 in labels with no predicted samples. Use `zero_division` parameter to control this behavior.\n",
      "  _warn_prf(average, modifier, f\"{metric.capitalize()} is\", len(result))\n",
      "c:\\Users\\admin\\anaconda3\\envs\\mer-gpu\\lib\\site-packages\\sklearn\\metrics\\_classification.py:1565: UndefinedMetricWarning: Precision is ill-defined and being set to 0.0 in labels with no predicted samples. Use `zero_division` parameter to control this behavior.\n",
      "  _warn_prf(average, modifier, f\"{metric.capitalize()} is\", len(result))\n",
      "c:\\Users\\admin\\anaconda3\\envs\\mer-gpu\\lib\\site-packages\\sklearn\\metrics\\_classification.py:1565: UndefinedMetricWarning: Precision is ill-defined and being set to 0.0 in labels with no predicted samples. Use `zero_division` parameter to control this behavior.\n",
      "  _warn_prf(average, modifier, f\"{metric.capitalize()} is\", len(result))\n"
     ]
    },
    {
     "name": "stdout",
     "output_type": "stream",
     "text": [
      "[DEBUG] Test Accuracy: 62.41%, Test F1 Score: 29.72%\n",
      "[DEBUG] Class 0 - Precision: 62.15%, Recall: 98.72%, F1-Score: 76.28%\n",
      "[DEBUG] Class 1 - Precision: 76.79%, Recall: 8.79%, F1-Score: 15.78%\n",
      "[DEBUG] Class 2 - Precision: 60.77%, Recall: 17.21%, F1-Score: 26.83%\n",
      "[DEBUG] Class 3 - Precision: 0.00%, Recall: 0.00%, F1-Score: 0.00%\n",
      "{'0': {'precision': 0.6214765100671141, 'recall': 0.9872068230277186, 'f1-score': 0.7627677100494233, 'support': 1407.0}, '1': {'precision': 0.7678571428571429, 'recall': 0.08793456032719836, 'f1-score': 0.1577981651376147, 'support': 489.0}, '2': {'precision': 0.6076923076923076, 'recall': 0.1721132897603486, 'f1-score': 0.26825127334465193, 'support': 459.0}, '3': {'precision': 0.0, 'recall': 0.0, 'f1-score': 0.0, 'support': 66.0}, 'accuracy': 0.624122263527468, 'macro avg': {'precision': 0.4992564901541412, 'recall': 0.31181366827881635, 'f1-score': 0.29720428713292246, 'support': 2421.0}, 'weighted avg': {'precision': 0.6314871382702774, 'recall': 0.624122263527468, 'f1-score': 0.5260242896559387, 'support': 2421.0}}\n"
     ]
    },
    {
     "name": "stderr",
     "output_type": "stream",
     "text": [
      "Epoch 5 Training:   0%|          | 0/735 [00:18<?, ?it/s]\n"
     ]
    },
    {
     "name": "stdout",
     "output_type": "stream",
     "text": [
      "[DEBUG] Epoch 5 train loss 1.056998691510181, val loss 1.0580877300940061\n"
     ]
    },
    {
     "name": "stderr",
     "output_type": "stream",
     "text": [
      "Testing: 100%|██████████| 76/76 [00:01<00:00, 62.28it/s]\n",
      "c:\\Users\\admin\\anaconda3\\envs\\mer-gpu\\lib\\site-packages\\sklearn\\metrics\\_classification.py:1565: UndefinedMetricWarning: Precision is ill-defined and being set to 0.0 in labels with no predicted samples. Use `zero_division` parameter to control this behavior.\n",
      "  _warn_prf(average, modifier, f\"{metric.capitalize()} is\", len(result))\n",
      "c:\\Users\\admin\\anaconda3\\envs\\mer-gpu\\lib\\site-packages\\sklearn\\metrics\\_classification.py:1565: UndefinedMetricWarning: Precision is ill-defined and being set to 0.0 in labels with no predicted samples. Use `zero_division` parameter to control this behavior.\n",
      "  _warn_prf(average, modifier, f\"{metric.capitalize()} is\", len(result))\n",
      "c:\\Users\\admin\\anaconda3\\envs\\mer-gpu\\lib\\site-packages\\sklearn\\metrics\\_classification.py:1565: UndefinedMetricWarning: Precision is ill-defined and being set to 0.0 in labels with no predicted samples. Use `zero_division` parameter to control this behavior.\n",
      "  _warn_prf(average, modifier, f\"{metric.capitalize()} is\", len(result))\n"
     ]
    },
    {
     "name": "stdout",
     "output_type": "stream",
     "text": [
      "[DEBUG] Test Accuracy: 62.91%, Test F1 Score: 34.63%\n",
      "[DEBUG] Class 0 - Precision: 64.46%, Recall: 93.60%, F1-Score: 76.35%\n",
      "[DEBUG] Class 1 - Precision: 54.21%, Recall: 21.06%, F1-Score: 30.34%\n",
      "[DEBUG] Class 2 - Precision: 54.79%, Recall: 22.44%, F1-Score: 31.84%\n",
      "[DEBUG] Class 3 - Precision: 0.00%, Recall: 0.00%, F1-Score: 0.00%\n",
      "{'0': {'precision': 0.644640234948605, 'recall': 0.9360341151385928, 'f1-score': 0.7634782608695653, 'support': 1407.0}, '1': {'precision': 0.5421052631578948, 'recall': 0.21063394683026584, 'f1-score': 0.30338733431516934, 'support': 489.0}, '2': {'precision': 0.5478723404255319, 'recall': 0.22440087145969498, 'f1-score': 0.31839258114374036, 'support': 459.0}, '3': {'precision': 0.0, 'recall': 0.0, 'f1-score': 0.0, 'support': 66.0}, 'accuracy': 0.6290788930194134, 'macro avg': {'precision': 0.4336544596330079, 'recall': 0.34276723335713843, 'f1-score': 0.3463145440821187, 'support': 2421.0}, 'weighted avg': {'precision': 0.5880097845981895, 'recall': 0.6290788930194134, 'f1-score': 0.5653500678515379, 'support': 2421.0}}\n"
     ]
    },
    {
     "name": "stderr",
     "output_type": "stream",
     "text": [
      "Epoch 6 Training:   0%|          | 0/735 [00:18<?, ?it/s]\n"
     ]
    },
    {
     "name": "stdout",
     "output_type": "stream",
     "text": [
      "[DEBUG] Epoch 6 train loss 1.0490722013168594, val loss 1.0782816300266667\n"
     ]
    },
    {
     "name": "stderr",
     "output_type": "stream",
     "text": [
      "Testing: 100%|██████████| 76/76 [00:01<00:00, 67.48it/s]\n",
      "c:\\Users\\admin\\anaconda3\\envs\\mer-gpu\\lib\\site-packages\\sklearn\\metrics\\_classification.py:1565: UndefinedMetricWarning: Precision is ill-defined and being set to 0.0 in labels with no predicted samples. Use `zero_division` parameter to control this behavior.\n",
      "  _warn_prf(average, modifier, f\"{metric.capitalize()} is\", len(result))\n",
      "c:\\Users\\admin\\anaconda3\\envs\\mer-gpu\\lib\\site-packages\\sklearn\\metrics\\_classification.py:1565: UndefinedMetricWarning: Precision is ill-defined and being set to 0.0 in labels with no predicted samples. Use `zero_division` parameter to control this behavior.\n",
      "  _warn_prf(average, modifier, f\"{metric.capitalize()} is\", len(result))\n",
      "c:\\Users\\admin\\anaconda3\\envs\\mer-gpu\\lib\\site-packages\\sklearn\\metrics\\_classification.py:1565: UndefinedMetricWarning: Precision is ill-defined and being set to 0.0 in labels with no predicted samples. Use `zero_division` parameter to control this behavior.\n",
      "  _warn_prf(average, modifier, f\"{metric.capitalize()} is\", len(result))\n"
     ]
    },
    {
     "name": "stdout",
     "output_type": "stream",
     "text": [
      "[DEBUG] Test Accuracy: 63.11%, Test F1 Score: 32.17%\n",
      "[DEBUG] Class 0 - Precision: 62.88%, Recall: 97.51%, F1-Score: 76.46%\n",
      "[DEBUG] Class 1 - Precision: 68.66%, Recall: 18.81%, F1-Score: 29.53%\n",
      "[DEBUG] Class 2 - Precision: 60.95%, Recall: 13.94%, F1-Score: 22.70%\n",
      "[DEBUG] Class 3 - Precision: 0.00%, Recall: 0.00%, F1-Score: 0.00%\n",
      "{'0': {'precision': 0.6287809349220899, 'recall': 0.9751243781094527, 'f1-score': 0.7645583728057955, 'support': 1407.0}, '1': {'precision': 0.6865671641791045, 'recall': 0.18813905930470348, 'f1-score': 0.2953451043338684, 'support': 489.0}, '2': {'precision': 0.6095238095238096, 'recall': 0.1394335511982571, 'f1-score': 0.22695035460992907, 'support': 459.0}, '3': {'precision': 0.0, 'recall': 0.0, 'f1-score': 0.0, 'support': 66.0}, 'accuracy': 0.631144155307724, 'macro avg': {'precision': 0.481217977156251, 'recall': 0.32567424715310334, 'f1-score': 0.32171345793739825, 'support': 2421.0}, 'weighted avg': {'precision': 0.6196602838869851, 'recall': 0.631144155307724, 'f1-score': 0.5470167696501337, 'support': 2421.0}}\n"
     ]
    },
    {
     "name": "stderr",
     "output_type": "stream",
     "text": [
      "Epoch 7 Training:   0%|          | 0/735 [00:18<?, ?it/s]\n"
     ]
    },
    {
     "name": "stdout",
     "output_type": "stream",
     "text": [
      "[DEBUG] Epoch 7 train loss 1.0432722160605346, val loss 1.1199391499945992\n"
     ]
    },
    {
     "name": "stderr",
     "output_type": "stream",
     "text": [
      "Testing: 100%|██████████| 76/76 [00:01<00:00, 55.13it/s]\n",
      "c:\\Users\\admin\\anaconda3\\envs\\mer-gpu\\lib\\site-packages\\sklearn\\metrics\\_classification.py:1565: UndefinedMetricWarning: Precision is ill-defined and being set to 0.0 in labels with no predicted samples. Use `zero_division` parameter to control this behavior.\n",
      "  _warn_prf(average, modifier, f\"{metric.capitalize()} is\", len(result))\n",
      "c:\\Users\\admin\\anaconda3\\envs\\mer-gpu\\lib\\site-packages\\sklearn\\metrics\\_classification.py:1565: UndefinedMetricWarning: Precision is ill-defined and being set to 0.0 in labels with no predicted samples. Use `zero_division` parameter to control this behavior.\n",
      "  _warn_prf(average, modifier, f\"{metric.capitalize()} is\", len(result))\n",
      "c:\\Users\\admin\\anaconda3\\envs\\mer-gpu\\lib\\site-packages\\sklearn\\metrics\\_classification.py:1565: UndefinedMetricWarning: Precision is ill-defined and being set to 0.0 in labels with no predicted samples. Use `zero_division` parameter to control this behavior.\n",
      "  _warn_prf(average, modifier, f\"{metric.capitalize()} is\", len(result))\n"
     ]
    },
    {
     "name": "stdout",
     "output_type": "stream",
     "text": [
      "[DEBUG] Test Accuracy: 61.96%, Test F1 Score: 31.36%\n",
      "[DEBUG] Class 0 - Precision: 63.00%, Recall: 95.24%, F1-Score: 75.83%\n",
      "[DEBUG] Class 1 - Precision: 50.68%, Recall: 22.90%, F1-Score: 31.55%\n",
      "[DEBUG] Class 2 - Precision: 65.75%, Recall: 10.46%, F1-Score: 18.05%\n",
      "[DEBUG] Class 3 - Precision: 0.00%, Recall: 0.00%, F1-Score: 0.00%\n",
      "{'0': {'precision': 0.6299952985425482, 'recall': 0.9523809523809523, 'f1-score': 0.758347481607244, 'support': 1407.0}, '1': {'precision': 0.5067873303167421, 'recall': 0.22903885480572597, 'f1-score': 0.3154929577464789, 'support': 489.0}, '2': {'precision': 0.6575342465753424, 'recall': 0.10457516339869281, 'f1-score': 0.18045112781954886, 'support': 459.0}, '3': {'precision': 0.0, 'recall': 0.0, 'f1-score': 0.0, 'support': 66.0}, 'accuracy': 0.6195786864931846, 'macro avg': {'precision': 0.44857921885865815, 'recall': 0.3214987426463428, 'f1-score': 0.31357289179331793, 'support': 2421.0}, 'weighted avg': {'precision': 0.5931559722231865, 'recall': 0.6195786864931846, 'f1-score': 0.5386608965834753, 'support': 2421.0}}\n"
     ]
    },
    {
     "name": "stderr",
     "output_type": "stream",
     "text": [
      "Epoch 8 Training:   0%|          | 0/735 [00:18<?, ?it/s]\n"
     ]
    },
    {
     "name": "stdout",
     "output_type": "stream",
     "text": [
      "[DEBUG] Epoch 8 train loss 1.0393448840193198, val loss 1.0564466291352321\n"
     ]
    },
    {
     "name": "stderr",
     "output_type": "stream",
     "text": [
      "Testing: 100%|██████████| 76/76 [00:01<00:00, 66.34it/s]\n",
      "c:\\Users\\admin\\anaconda3\\envs\\mer-gpu\\lib\\site-packages\\sklearn\\metrics\\_classification.py:1565: UndefinedMetricWarning: Precision is ill-defined and being set to 0.0 in labels with no predicted samples. Use `zero_division` parameter to control this behavior.\n",
      "  _warn_prf(average, modifier, f\"{metric.capitalize()} is\", len(result))\n",
      "c:\\Users\\admin\\anaconda3\\envs\\mer-gpu\\lib\\site-packages\\sklearn\\metrics\\_classification.py:1565: UndefinedMetricWarning: Precision is ill-defined and being set to 0.0 in labels with no predicted samples. Use `zero_division` parameter to control this behavior.\n",
      "  _warn_prf(average, modifier, f\"{metric.capitalize()} is\", len(result))\n",
      "c:\\Users\\admin\\anaconda3\\envs\\mer-gpu\\lib\\site-packages\\sklearn\\metrics\\_classification.py:1565: UndefinedMetricWarning: Precision is ill-defined and being set to 0.0 in labels with no predicted samples. Use `zero_division` parameter to control this behavior.\n",
      "  _warn_prf(average, modifier, f\"{metric.capitalize()} is\", len(result))\n"
     ]
    },
    {
     "name": "stdout",
     "output_type": "stream",
     "text": [
      "[DEBUG] Test Accuracy: 63.11%, Test F1 Score: 32.09%\n",
      "[DEBUG] Class 0 - Precision: 63.16%, Recall: 97.58%, F1-Score: 76.68%\n",
      "[DEBUG] Class 1 - Precision: 66.17%, Recall: 18.00%, F1-Score: 28.30%\n",
      "[DEBUG] Class 2 - Precision: 58.77%, Recall: 14.60%, F1-Score: 23.39%\n",
      "[DEBUG] Class 3 - Precision: 0.00%, Recall: 0.00%, F1-Score: 0.00%\n",
      "{'0': {'precision': 0.6315547378104875, 'recall': 0.9758351101634684, 'f1-score': 0.7668249092432281, 'support': 1407.0}, '1': {'precision': 0.6616541353383458, 'recall': 0.17995910020449898, 'f1-score': 0.2829581993569132, 'support': 489.0}, '2': {'precision': 0.5877192982456141, 'recall': 0.14596949891067537, 'f1-score': 0.2338568935427574, 'support': 459.0}, '3': {'precision': 0.0, 'recall': 0.0, 'f1-score': 0.0, 'support': 66.0}, 'accuracy': 0.631144155307724, 'macro avg': {'precision': 0.47023204284861186, 'recall': 0.3254409273196607, 'f1-score': 0.32091000053572466, 'support': 2421.0}, 'weighted avg': {'precision': 0.6121063800803569, 'recall': 0.631144155307724, 'f1-score': 0.5471414791106478, 'support': 2421.0}}\n"
     ]
    },
    {
     "name": "stderr",
     "output_type": "stream",
     "text": [
      "Epoch 9 Training:   0%|          | 0/735 [00:19<?, ?it/s]\n"
     ]
    },
    {
     "name": "stdout",
     "output_type": "stream",
     "text": [
      "[DEBUG] Epoch 9 train loss 1.0334974271099584, val loss 1.0642589816921635\n"
     ]
    },
    {
     "name": "stderr",
     "output_type": "stream",
     "text": [
      "Testing: 100%|██████████| 76/76 [00:01<00:00, 56.55it/s]\n",
      "c:\\Users\\admin\\anaconda3\\envs\\mer-gpu\\lib\\site-packages\\sklearn\\metrics\\_classification.py:1565: UndefinedMetricWarning: Precision is ill-defined and being set to 0.0 in labels with no predicted samples. Use `zero_division` parameter to control this behavior.\n",
      "  _warn_prf(average, modifier, f\"{metric.capitalize()} is\", len(result))\n",
      "c:\\Users\\admin\\anaconda3\\envs\\mer-gpu\\lib\\site-packages\\sklearn\\metrics\\_classification.py:1565: UndefinedMetricWarning: Precision is ill-defined and being set to 0.0 in labels with no predicted samples. Use `zero_division` parameter to control this behavior.\n",
      "  _warn_prf(average, modifier, f\"{metric.capitalize()} is\", len(result))\n",
      "c:\\Users\\admin\\anaconda3\\envs\\mer-gpu\\lib\\site-packages\\sklearn\\metrics\\_classification.py:1565: UndefinedMetricWarning: Precision is ill-defined and being set to 0.0 in labels with no predicted samples. Use `zero_division` parameter to control this behavior.\n",
      "  _warn_prf(average, modifier, f\"{metric.capitalize()} is\", len(result))\n"
     ]
    },
    {
     "name": "stdout",
     "output_type": "stream",
     "text": [
      "[DEBUG] Test Accuracy: 63.03%, Test F1 Score: 33.52%\n",
      "[DEBUG] Class 0 - Precision: 64.17%, Recall: 95.45%, F1-Score: 76.74%\n",
      "[DEBUG] Class 1 - Precision: 58.64%, Recall: 19.43%, F1-Score: 29.19%\n",
      "[DEBUG] Class 2 - Precision: 53.01%, Recall: 19.17%, F1-Score: 28.16%\n",
      "[DEBUG] Class 3 - Precision: 0.00%, Recall: 0.00%, F1-Score: 0.00%\n",
      "{'0': {'precision': 0.641662685140946, 'recall': 0.9545131485429993, 'f1-score': 0.7674285714285715, 'support': 1407.0}, '1': {'precision': 0.5864197530864198, 'recall': 0.19427402862985685, 'f1-score': 0.29185867895545314, 'support': 489.0}, '2': {'precision': 0.5301204819277109, 'recall': 0.19172113289760348, 'f1-score': 0.2816, 'support': 459.0}, '3': {'precision': 0.0, 'recall': 0.0, 'f1-score': 0.0, 'support': 66.0}, 'accuracy': 0.6303180503923999, 'macro avg': {'precision': 0.4395507300387692, 'recall': 0.3351270775176149, 'f1-score': 0.33522181259600614, 'support': 2421.0}, 'weighted avg': {'precision': 0.5918645016346095, 'recall': 0.6303180503923999, 'f1-score': 0.5583417158237161, 'support': 2421.0}}\n"
     ]
    },
    {
     "name": "stderr",
     "output_type": "stream",
     "text": [
      "Epoch 10 Training:   0%|          | 0/735 [00:19<?, ?it/s]\n"
     ]
    },
    {
     "name": "stdout",
     "output_type": "stream",
     "text": [
      "[DEBUG] Epoch 10 train loss 1.024952991357466, val loss 1.0593723890028501\n"
     ]
    },
    {
     "name": "stderr",
     "output_type": "stream",
     "text": [
      "Testing: 100%|██████████| 76/76 [00:01<00:00, 60.65it/s]\n",
      "c:\\Users\\admin\\anaconda3\\envs\\mer-gpu\\lib\\site-packages\\sklearn\\metrics\\_classification.py:1565: UndefinedMetricWarning: Precision is ill-defined and being set to 0.0 in labels with no predicted samples. Use `zero_division` parameter to control this behavior.\n",
      "  _warn_prf(average, modifier, f\"{metric.capitalize()} is\", len(result))\n",
      "c:\\Users\\admin\\anaconda3\\envs\\mer-gpu\\lib\\site-packages\\sklearn\\metrics\\_classification.py:1565: UndefinedMetricWarning: Precision is ill-defined and being set to 0.0 in labels with no predicted samples. Use `zero_division` parameter to control this behavior.\n",
      "  _warn_prf(average, modifier, f\"{metric.capitalize()} is\", len(result))\n",
      "c:\\Users\\admin\\anaconda3\\envs\\mer-gpu\\lib\\site-packages\\sklearn\\metrics\\_classification.py:1565: UndefinedMetricWarning: Precision is ill-defined and being set to 0.0 in labels with no predicted samples. Use `zero_division` parameter to control this behavior.\n",
      "  _warn_prf(average, modifier, f\"{metric.capitalize()} is\", len(result))\n"
     ]
    },
    {
     "name": "stdout",
     "output_type": "stream",
     "text": [
      "[DEBUG] Test Accuracy: 63.36%, Test F1 Score: 34.37%\n",
      "[DEBUG] Class 0 - Precision: 63.88%, Recall: 95.17%, F1-Score: 76.45%\n",
      "[DEBUG] Class 1 - Precision: 65.35%, Recall: 16.97%, F1-Score: 26.95%\n",
      "[DEBUG] Class 2 - Precision: 56.57%, Recall: 24.40%, F1-Score: 34.09%\n",
      "[DEBUG] Class 3 - Precision: 0.00%, Recall: 0.00%, F1-Score: 0.00%\n",
      "{'0': {'precision': 0.6388358778625954, 'recall': 0.9516702203269367, 'f1-score': 0.7644875820725093, 'support': 1407.0}, '1': {'precision': 0.6535433070866141, 'recall': 0.16973415132924335, 'f1-score': 0.2694805194805195, 'support': 489.0}, '2': {'precision': 0.5656565656565656, 'recall': 0.2440087145969499, 'f1-score': 0.3409436834094368, 'support': 459.0}, '3': {'precision': 0.0, 'recall': 0.0, 'f1-score': 0.0, 'support': 66.0}, 'accuracy': 0.6336224700536969, 'macro avg': {'precision': 0.46450893765144385, 'recall': 0.3413532715632825, 'f1-score': 0.3437279462406164, 'support': 2421.0}, 'weighted avg': {'precision': 0.6105167785850432, 'recall': 0.6336224700536969, 'f1-score': 0.5633635492304528, 'support': 2421.0}}\n"
     ]
    },
    {
     "name": "stderr",
     "output_type": "stream",
     "text": [
      "Epoch 11 Training:   0%|          | 0/735 [00:19<?, ?it/s]\n"
     ]
    },
    {
     "name": "stdout",
     "output_type": "stream",
     "text": [
      "[DEBUG] Epoch 11 train loss 1.02008357769778, val loss 1.0643900923038785\n"
     ]
    },
    {
     "name": "stderr",
     "output_type": "stream",
     "text": [
      "Testing: 100%|██████████| 76/76 [00:01<00:00, 56.24it/s]\n",
      "c:\\Users\\admin\\anaconda3\\envs\\mer-gpu\\lib\\site-packages\\sklearn\\metrics\\_classification.py:1565: UndefinedMetricWarning: Precision is ill-defined and being set to 0.0 in labels with no predicted samples. Use `zero_division` parameter to control this behavior.\n",
      "  _warn_prf(average, modifier, f\"{metric.capitalize()} is\", len(result))\n",
      "c:\\Users\\admin\\anaconda3\\envs\\mer-gpu\\lib\\site-packages\\sklearn\\metrics\\_classification.py:1565: UndefinedMetricWarning: Precision is ill-defined and being set to 0.0 in labels with no predicted samples. Use `zero_division` parameter to control this behavior.\n",
      "  _warn_prf(average, modifier, f\"{metric.capitalize()} is\", len(result))\n",
      "c:\\Users\\admin\\anaconda3\\envs\\mer-gpu\\lib\\site-packages\\sklearn\\metrics\\_classification.py:1565: UndefinedMetricWarning: Precision is ill-defined and being set to 0.0 in labels with no predicted samples. Use `zero_division` parameter to control this behavior.\n",
      "  _warn_prf(average, modifier, f\"{metric.capitalize()} is\", len(result))\n"
     ]
    },
    {
     "name": "stdout",
     "output_type": "stream",
     "text": [
      "[DEBUG] Test Accuracy: 62.74%, Test F1 Score: 35.07%\n",
      "[DEBUG] Class 0 - Precision: 64.16%, Recall: 92.61%, F1-Score: 75.80%\n",
      "[DEBUG] Class 1 - Precision: 58.08%, Recall: 19.84%, F1-Score: 29.57%\n",
      "[DEBUG] Class 2 - Precision: 53.36%, Recall: 25.93%, F1-Score: 34.90%\n",
      "[DEBUG] Class 3 - Precision: 0.00%, Recall: 0.00%, F1-Score: 0.00%\n",
      "{'0': {'precision': 0.6415558838010832, 'recall': 0.9260838663823738, 'f1-score': 0.7579988365328679, 'support': 1407.0}, '1': {'precision': 0.5808383233532934, 'recall': 0.1983640081799591, 'f1-score': 0.29573170731707316, 'support': 489.0}, '2': {'precision': 0.5336322869955157, 'recall': 0.25925925925925924, 'f1-score': 0.3489736070381232, 'support': 459.0}, '3': {'precision': 0.0, 'recall': 0.0, 'f1-score': 0.0, 'support': 66.0}, 'accuracy': 0.6274266831887649, 'macro avg': {'precision': 0.4390066235374731, 'recall': 0.34592678345539807, 'f1-score': 0.35067603772201605, 'support': 2421.0}, 'weighted avg': {'precision': 0.5913408873848931, 'recall': 0.6274266831887649, 'f1-score': 0.5664172050847965, 'support': 2421.0}}\n"
     ]
    },
    {
     "name": "stderr",
     "output_type": "stream",
     "text": [
      "Epoch 12 Training:   0%|          | 0/735 [00:18<?, ?it/s]\n"
     ]
    },
    {
     "name": "stdout",
     "output_type": "stream",
     "text": [
      "[DEBUG] Epoch 12 train loss 1.0135728919587168, val loss 1.08689625874946\n"
     ]
    },
    {
     "name": "stderr",
     "output_type": "stream",
     "text": [
      "Testing: 100%|██████████| 76/76 [00:01<00:00, 64.03it/s]\n",
      "c:\\Users\\admin\\anaconda3\\envs\\mer-gpu\\lib\\site-packages\\sklearn\\metrics\\_classification.py:1565: UndefinedMetricWarning: Precision is ill-defined and being set to 0.0 in labels with no predicted samples. Use `zero_division` parameter to control this behavior.\n",
      "  _warn_prf(average, modifier, f\"{metric.capitalize()} is\", len(result))\n",
      "c:\\Users\\admin\\anaconda3\\envs\\mer-gpu\\lib\\site-packages\\sklearn\\metrics\\_classification.py:1565: UndefinedMetricWarning: Precision is ill-defined and being set to 0.0 in labels with no predicted samples. Use `zero_division` parameter to control this behavior.\n",
      "  _warn_prf(average, modifier, f\"{metric.capitalize()} is\", len(result))\n",
      "c:\\Users\\admin\\anaconda3\\envs\\mer-gpu\\lib\\site-packages\\sklearn\\metrics\\_classification.py:1565: UndefinedMetricWarning: Precision is ill-defined and being set to 0.0 in labels with no predicted samples. Use `zero_division` parameter to control this behavior.\n",
      "  _warn_prf(average, modifier, f\"{metric.capitalize()} is\", len(result))\n"
     ]
    },
    {
     "name": "stdout",
     "output_type": "stream",
     "text": [
      "[DEBUG] Test Accuracy: 62.78%, Test F1 Score: 31.20%\n",
      "[DEBUG] Class 0 - Precision: 62.54%, Recall: 98.01%, F1-Score: 76.36%\n",
      "[DEBUG] Class 1 - Precision: 64.60%, Recall: 14.93%, F1-Score: 24.25%\n",
      "[DEBUG] Class 2 - Precision: 66.02%, Recall: 14.81%, F1-Score: 24.20%\n",
      "[DEBUG] Class 3 - Precision: 0.00%, Recall: 0.00%, F1-Score: 0.00%\n",
      "{'0': {'precision': 0.6253968253968254, 'recall': 0.9800995024875622, 'f1-score': 0.7635658914728682, 'support': 1407.0}, '1': {'precision': 0.6460176991150443, 'recall': 0.1492842535787321, 'f1-score': 0.2425249169435216, 'support': 489.0}, '2': {'precision': 0.6601941747572816, 'recall': 0.14814814814814814, 'f1-score': 0.24199288256227758, 'support': 459.0}, '3': {'precision': 0.0, 'recall': 0.0, 'f1-score': 0.0, 'support': 66.0}, 'accuracy': 0.6278397356464271, 'macro avg': {'precision': 0.4829021748172878, 'recall': 0.3193829760536106, 'f1-score': 0.31202092274466686, 'support': 2421.0}, 'weighted avg': {'precision': 0.6191099192127972, 'recall': 0.6278397356464271, 'f1-score': 0.5386231420007407, 'support': 2421.0}}\n"
     ]
    },
    {
     "name": "stderr",
     "output_type": "stream",
     "text": [
      "Epoch 13 Training:   0%|          | 0/735 [00:18<?, ?it/s]\n"
     ]
    },
    {
     "name": "stdout",
     "output_type": "stream",
     "text": [
      "[DEBUG] Epoch 13 train loss 1.0097366536555648, val loss 1.0627091605412333\n"
     ]
    },
    {
     "name": "stderr",
     "output_type": "stream",
     "text": [
      "Testing: 100%|██████████| 76/76 [00:01<00:00, 56.26it/s]\n",
      "c:\\Users\\admin\\anaconda3\\envs\\mer-gpu\\lib\\site-packages\\sklearn\\metrics\\_classification.py:1565: UndefinedMetricWarning: Precision is ill-defined and being set to 0.0 in labels with no predicted samples. Use `zero_division` parameter to control this behavior.\n",
      "  _warn_prf(average, modifier, f\"{metric.capitalize()} is\", len(result))\n",
      "c:\\Users\\admin\\anaconda3\\envs\\mer-gpu\\lib\\site-packages\\sklearn\\metrics\\_classification.py:1565: UndefinedMetricWarning: Precision is ill-defined and being set to 0.0 in labels with no predicted samples. Use `zero_division` parameter to control this behavior.\n",
      "  _warn_prf(average, modifier, f\"{metric.capitalize()} is\", len(result))\n",
      "c:\\Users\\admin\\anaconda3\\envs\\mer-gpu\\lib\\site-packages\\sklearn\\metrics\\_classification.py:1565: UndefinedMetricWarning: Precision is ill-defined and being set to 0.0 in labels with no predicted samples. Use `zero_division` parameter to control this behavior.\n",
      "  _warn_prf(average, modifier, f\"{metric.capitalize()} is\", len(result))\n"
     ]
    },
    {
     "name": "stdout",
     "output_type": "stream",
     "text": [
      "[DEBUG] Test Accuracy: 63.57%, Test F1 Score: 33.65%\n",
      "[DEBUG] Class 0 - Precision: 63.41%, Recall: 96.80%, F1-Score: 76.62%\n",
      "[DEBUG] Class 1 - Precision: 70.49%, Recall: 17.59%, F1-Score: 28.15%\n",
      "[DEBUG] Class 2 - Precision: 60.26%, Recall: 19.83%, F1-Score: 29.84%\n",
      "[DEBUG] Class 3 - Precision: 0.00%, Recall: 0.00%, F1-Score: 0.00%\n",
      "{'0': {'precision': 0.6340782122905028, 'recall': 0.9680170575692963, 'f1-score': 0.7662447257383966, 'support': 1407.0}, '1': {'precision': 0.7049180327868853, 'recall': 0.17586912065439672, 'f1-score': 0.281505728314239, 'support': 489.0}, '2': {'precision': 0.6026490066225165, 'recall': 0.19825708061002179, 'f1-score': 0.2983606557377049, 'support': 459.0}, '3': {'precision': 0.0, 'recall': 0.0, 'f1-score': 0.0, 'support': 66.0}, 'accuracy': 0.6356877323420075, 'macro avg': {'precision': 0.48541131292497613, 'recall': 0.33553581470842875, 'f1-score': 0.33652777744758516, 'support': 2421.0}, 'weighted avg': {'precision': 0.6251420308819742, 'recall': 0.6356877323420075, 'f1-score': 0.5587402607365525, 'support': 2421.0}}\n"
     ]
    },
    {
     "name": "stderr",
     "output_type": "stream",
     "text": [
      "Epoch 14 Training:   0%|          | 0/735 [00:19<?, ?it/s]\n"
     ]
    },
    {
     "name": "stdout",
     "output_type": "stream",
     "text": [
      "[DEBUG] Epoch 14 train loss 1.0029567133001729, val loss 1.0660762724123503\n"
     ]
    },
    {
     "name": "stderr",
     "output_type": "stream",
     "text": [
      "Testing: 100%|██████████| 76/76 [00:01<00:00, 62.72it/s]\n",
      "c:\\Users\\admin\\anaconda3\\envs\\mer-gpu\\lib\\site-packages\\sklearn\\metrics\\_classification.py:1565: UndefinedMetricWarning: Precision is ill-defined and being set to 0.0 in labels with no predicted samples. Use `zero_division` parameter to control this behavior.\n",
      "  _warn_prf(average, modifier, f\"{metric.capitalize()} is\", len(result))\n",
      "c:\\Users\\admin\\anaconda3\\envs\\mer-gpu\\lib\\site-packages\\sklearn\\metrics\\_classification.py:1565: UndefinedMetricWarning: Precision is ill-defined and being set to 0.0 in labels with no predicted samples. Use `zero_division` parameter to control this behavior.\n",
      "  _warn_prf(average, modifier, f\"{metric.capitalize()} is\", len(result))\n",
      "c:\\Users\\admin\\anaconda3\\envs\\mer-gpu\\lib\\site-packages\\sklearn\\metrics\\_classification.py:1565: UndefinedMetricWarning: Precision is ill-defined and being set to 0.0 in labels with no predicted samples. Use `zero_division` parameter to control this behavior.\n",
      "  _warn_prf(average, modifier, f\"{metric.capitalize()} is\", len(result))\n"
     ]
    },
    {
     "name": "stdout",
     "output_type": "stream",
     "text": [
      "[DEBUG] Test Accuracy: 62.87%, Test F1 Score: 33.30%\n",
      "[DEBUG] Class 0 - Precision: 63.62%, Recall: 95.45%, F1-Score: 76.35%\n",
      "[DEBUG] Class 1 - Precision: 64.57%, Recall: 16.77%, F1-Score: 26.62%\n",
      "[DEBUG] Class 2 - Precision: 53.01%, Recall: 21.13%, F1-Score: 30.22%\n",
      "[DEBUG] Class 3 - Precision: 0.00%, Recall: 0.00%, F1-Score: 0.00%\n",
      "{'0': {'precision': 0.636191378493605, 'recall': 0.9545131485429993, 'f1-score': 0.763501989766913, 'support': 1407.0}, '1': {'precision': 0.6456692913385826, 'recall': 0.16768916155419222, 'f1-score': 0.2662337662337662, 'support': 489.0}, '2': {'precision': 0.5300546448087432, 'recall': 0.2113289760348584, 'f1-score': 0.30218068535825543, 'support': 459.0}, '3': {'precision': 0.0, 'recall': 0.0, 'f1-score': 0.0, 'support': 66.0}, 'accuracy': 0.6286658405617513, 'macro avg': {'precision': 0.45297882866023265, 'recall': 0.3333828215330125, 'f1-score': 0.33297911033973365, 'support': 2421.0}, 'weighted avg': {'precision': 0.6006396674813227, 'recall': 0.6286658405617513, 'f1-score': 0.5547858512473347, 'support': 2421.0}}\n"
     ]
    },
    {
     "name": "stderr",
     "output_type": "stream",
     "text": [
      "Epoch 15 Training:   0%|          | 0/735 [00:19<?, ?it/s]\n"
     ]
    },
    {
     "name": "stdout",
     "output_type": "stream",
     "text": [
      "[DEBUG] Epoch 15 train loss 0.9992696695992735, val loss 1.0872572911413092\n"
     ]
    },
    {
     "name": "stderr",
     "output_type": "stream",
     "text": [
      "Testing: 100%|██████████| 76/76 [00:01<00:00, 54.58it/s]\n",
      "c:\\Users\\admin\\anaconda3\\envs\\mer-gpu\\lib\\site-packages\\sklearn\\metrics\\_classification.py:1565: UndefinedMetricWarning: Precision is ill-defined and being set to 0.0 in labels with no predicted samples. Use `zero_division` parameter to control this behavior.\n",
      "  _warn_prf(average, modifier, f\"{metric.capitalize()} is\", len(result))\n",
      "c:\\Users\\admin\\anaconda3\\envs\\mer-gpu\\lib\\site-packages\\sklearn\\metrics\\_classification.py:1565: UndefinedMetricWarning: Precision is ill-defined and being set to 0.0 in labels with no predicted samples. Use `zero_division` parameter to control this behavior.\n",
      "  _warn_prf(average, modifier, f\"{metric.capitalize()} is\", len(result))\n",
      "c:\\Users\\admin\\anaconda3\\envs\\mer-gpu\\lib\\site-packages\\sklearn\\metrics\\_classification.py:1565: UndefinedMetricWarning: Precision is ill-defined and being set to 0.0 in labels with no predicted samples. Use `zero_division` parameter to control this behavior.\n",
      "  _warn_prf(average, modifier, f\"{metric.capitalize()} is\", len(result))\n"
     ]
    },
    {
     "name": "stdout",
     "output_type": "stream",
     "text": [
      "[DEBUG] Test Accuracy: 63.07%, Test F1 Score: 32.58%\n",
      "[DEBUG] Class 0 - Precision: 63.51%, Recall: 96.87%, F1-Score: 76.72%\n",
      "[DEBUG] Class 1 - Precision: 62.32%, Recall: 17.59%, F1-Score: 27.43%\n",
      "[DEBUG] Class 2 - Precision: 56.93%, Recall: 16.99%, F1-Score: 26.17%\n",
      "[DEBUG] Class 3 - Precision: 0.00%, Recall: 0.00%, F1-Score: 0.00%\n",
      "{'0': {'precision': 0.6351351351351351, 'recall': 0.968727789623312, 'f1-score': 0.7672389529974669, 'support': 1407.0}, '1': {'precision': 0.6231884057971014, 'recall': 0.17586912065439672, 'f1-score': 0.2743221690590112, 'support': 489.0}, '2': {'precision': 0.5693430656934306, 'recall': 0.16993464052287582, 'f1-score': 0.26174496644295303, 'support': 459.0}, '3': {'precision': 0.0, 'recall': 0.0, 'f1-score': 0.0, 'support': 66.0}, 'accuracy': 0.630731102850062, 'macro avg': {'precision': 0.4569166516564168, 'recall': 0.32863288770014615, 'f1-score': 0.32582652212485774, 'support': 2421.0}, 'weighted avg': {'precision': 0.6029338012074359, 'recall': 0.630731102850062, 'f1-score': 0.550925108275344, 'support': 2421.0}}\n"
     ]
    },
    {
     "name": "stderr",
     "output_type": "stream",
     "text": [
      "Epoch 16 Training:   0%|          | 0/735 [00:19<?, ?it/s]\n"
     ]
    },
    {
     "name": "stdout",
     "output_type": "stream",
     "text": [
      "[DEBUG] Epoch 16 train loss 0.9910001996423111, val loss 1.0994347804471065\n"
     ]
    },
    {
     "name": "stderr",
     "output_type": "stream",
     "text": [
      "Testing: 100%|██████████| 76/76 [00:01<00:00, 63.25it/s]\n",
      "c:\\Users\\admin\\anaconda3\\envs\\mer-gpu\\lib\\site-packages\\sklearn\\metrics\\_classification.py:1565: UndefinedMetricWarning: Precision is ill-defined and being set to 0.0 in labels with no predicted samples. Use `zero_division` parameter to control this behavior.\n",
      "  _warn_prf(average, modifier, f\"{metric.capitalize()} is\", len(result))\n",
      "c:\\Users\\admin\\anaconda3\\envs\\mer-gpu\\lib\\site-packages\\sklearn\\metrics\\_classification.py:1565: UndefinedMetricWarning: Precision is ill-defined and being set to 0.0 in labels with no predicted samples. Use `zero_division` parameter to control this behavior.\n",
      "  _warn_prf(average, modifier, f\"{metric.capitalize()} is\", len(result))\n",
      "c:\\Users\\admin\\anaconda3\\envs\\mer-gpu\\lib\\site-packages\\sklearn\\metrics\\_classification.py:1565: UndefinedMetricWarning: Precision is ill-defined and being set to 0.0 in labels with no predicted samples. Use `zero_division` parameter to control this behavior.\n",
      "  _warn_prf(average, modifier, f\"{metric.capitalize()} is\", len(result))\n"
     ]
    },
    {
     "name": "stdout",
     "output_type": "stream",
     "text": [
      "[DEBUG] Test Accuracy: 62.70%, Test F1 Score: 31.78%\n",
      "[DEBUG] Class 0 - Precision: 62.76%, Recall: 97.01%, F1-Score: 76.21%\n",
      "[DEBUG] Class 1 - Precision: 68.60%, Recall: 12.07%, F1-Score: 20.52%\n",
      "[DEBUG] Class 2 - Precision: 58.75%, Recall: 20.48%, F1-Score: 30.37%\n",
      "[DEBUG] Class 3 - Precision: 0.00%, Recall: 0.00%, F1-Score: 0.00%\n",
      "{'0': {'precision': 0.6275862068965518, 'recall': 0.9701492537313433, 'f1-score': 0.7621440536013401, 'support': 1407.0}, '1': {'precision': 0.686046511627907, 'recall': 0.12065439672801637, 'f1-score': 0.20521739130434782, 'support': 489.0}, '2': {'precision': 0.5875, 'recall': 0.2047930283224401, 'f1-score': 0.3037156704361874, 'support': 459.0}, '3': {'precision': 0.0, 'recall': 0.0, 'f1-score': 0.0, 'support': 66.0}, 'accuracy': 0.6270136307311028, 'macro avg': {'precision': 0.47528317963111466, 'recall': 0.32389916969544996, 'f1-score': 0.3177692788354688, 'support': 2421.0}, 'weighted avg': {'precision': 0.614685269429779, 'recall': 0.6270136307311028, 'f1-score': 0.5419634368009588, 'support': 2421.0}}\n"
     ]
    },
    {
     "name": "stderr",
     "output_type": "stream",
     "text": [
      "Epoch 17 Training:   0%|          | 0/735 [00:19<?, ?it/s]\n"
     ]
    },
    {
     "name": "stdout",
     "output_type": "stream",
     "text": [
      "[DEBUG] Epoch 17 train loss 0.9838025757650128, val loss 1.084069558664372\n"
     ]
    },
    {
     "name": "stderr",
     "output_type": "stream",
     "text": [
      "Testing: 100%|██████████| 76/76 [00:01<00:00, 63.71it/s]\n",
      "c:\\Users\\admin\\anaconda3\\envs\\mer-gpu\\lib\\site-packages\\sklearn\\metrics\\_classification.py:1565: UndefinedMetricWarning: Precision is ill-defined and being set to 0.0 in labels with no predicted samples. Use `zero_division` parameter to control this behavior.\n",
      "  _warn_prf(average, modifier, f\"{metric.capitalize()} is\", len(result))\n",
      "c:\\Users\\admin\\anaconda3\\envs\\mer-gpu\\lib\\site-packages\\sklearn\\metrics\\_classification.py:1565: UndefinedMetricWarning: Precision is ill-defined and being set to 0.0 in labels with no predicted samples. Use `zero_division` parameter to control this behavior.\n",
      "  _warn_prf(average, modifier, f\"{metric.capitalize()} is\", len(result))\n",
      "c:\\Users\\admin\\anaconda3\\envs\\mer-gpu\\lib\\site-packages\\sklearn\\metrics\\_classification.py:1565: UndefinedMetricWarning: Precision is ill-defined and being set to 0.0 in labels with no predicted samples. Use `zero_division` parameter to control this behavior.\n",
      "  _warn_prf(average, modifier, f\"{metric.capitalize()} is\", len(result))\n"
     ]
    },
    {
     "name": "stdout",
     "output_type": "stream",
     "text": [
      "[DEBUG] Test Accuracy: 60.39%, Test F1 Score: 34.17%\n",
      "[DEBUG] Class 0 - Precision: 64.84%, Recall: 87.56%, F1-Score: 74.51%\n",
      "[DEBUG] Class 1 - Precision: 44.93%, Recall: 19.02%, F1-Score: 26.72%\n",
      "[DEBUG] Class 2 - Precision: 43.63%, Recall: 29.85%, F1-Score: 35.45%\n",
      "[DEBUG] Class 3 - Precision: 0.00%, Recall: 0.00%, F1-Score: 0.00%\n",
      "{'0': {'precision': 0.6484210526315789, 'recall': 0.8756218905472637, 'f1-score': 0.7450861808285455, 'support': 1407.0}, '1': {'precision': 0.4492753623188406, 'recall': 0.1901840490797546, 'f1-score': 0.2672413793103448, 'support': 489.0}, '2': {'precision': 0.43630573248407645, 'recall': 0.2984749455337691, 'f1-score': 0.35446313065976714, 'support': 459.0}, '3': {'precision': 0.0, 'recall': 0.0, 'f1-score': 0.0, 'support': 66.0}, 'accuracy': 0.6038826931020239, 'macro avg': {'precision': 0.38350053685862395, 'recall': 0.3410702212901968, 'f1-score': 0.3416976726996644, 'support': 2421.0}, 'weighted avg': {'precision': 0.5503049997673423, 'recall': 0.6038826931020239, 'f1-score': 0.5541990367126622, 'support': 2421.0}}\n"
     ]
    },
    {
     "name": "stderr",
     "output_type": "stream",
     "text": [
      "Epoch 18 Training:   0%|          | 0/735 [00:19<?, ?it/s]\n"
     ]
    },
    {
     "name": "stdout",
     "output_type": "stream",
     "text": [
      "[DEBUG] Epoch 18 train loss 0.9769994965621404, val loss 1.0955704944698434\n"
     ]
    },
    {
     "name": "stderr",
     "output_type": "stream",
     "text": [
      "Testing: 100%|██████████| 76/76 [00:01<00:00, 60.92it/s]\n",
      "c:\\Users\\admin\\anaconda3\\envs\\mer-gpu\\lib\\site-packages\\sklearn\\metrics\\_classification.py:1565: UndefinedMetricWarning: Precision is ill-defined and being set to 0.0 in labels with no predicted samples. Use `zero_division` parameter to control this behavior.\n",
      "  _warn_prf(average, modifier, f\"{metric.capitalize()} is\", len(result))\n",
      "c:\\Users\\admin\\anaconda3\\envs\\mer-gpu\\lib\\site-packages\\sklearn\\metrics\\_classification.py:1565: UndefinedMetricWarning: Precision is ill-defined and being set to 0.0 in labels with no predicted samples. Use `zero_division` parameter to control this behavior.\n",
      "  _warn_prf(average, modifier, f\"{metric.capitalize()} is\", len(result))\n",
      "c:\\Users\\admin\\anaconda3\\envs\\mer-gpu\\lib\\site-packages\\sklearn\\metrics\\_classification.py:1565: UndefinedMetricWarning: Precision is ill-defined and being set to 0.0 in labels with no predicted samples. Use `zero_division` parameter to control this behavior.\n",
      "  _warn_prf(average, modifier, f\"{metric.capitalize()} is\", len(result))\n"
     ]
    },
    {
     "name": "stdout",
     "output_type": "stream",
     "text": [
      "[DEBUG] Test Accuracy: 62.91%, Test F1 Score: 33.85%\n",
      "[DEBUG] Class 0 - Precision: 63.93%, Recall: 94.74%, F1-Score: 76.35%\n",
      "[DEBUG] Class 1 - Precision: 57.45%, Recall: 16.56%, F1-Score: 25.71%\n",
      "[DEBUG] Class 2 - Precision: 55.90%, Recall: 23.75%, F1-Score: 33.33%\n",
      "[DEBUG] Class 3 - Precision: 0.00%, Recall: 0.00%, F1-Score: 0.00%\n",
      "{'0': {'precision': 0.6393285371702638, 'recall': 0.9474058280028429, 'f1-score': 0.763459335624284, 'support': 1407.0}, '1': {'precision': 0.574468085106383, 'recall': 0.1656441717791411, 'f1-score': 0.2571428571428571, 'support': 489.0}, '2': {'precision': 0.558974358974359, 'recall': 0.2374727668845316, 'f1-score': 0.3333333333333333, 'support': 459.0}, '3': {'precision': 0.0, 'recall': 0.0, 'f1-score': 0.0, 'support': 66.0}, 'accuracy': 0.6290788930194134, 'macro avg': {'precision': 0.4431927453127515, 'recall': 0.3376306916666289, 'f1-score': 0.3384838815251186, 'support': 2421.0}, 'weighted avg': {'precision': 0.5935643850412281, 'recall': 0.6290788930194134, 'f1-score': 0.5588311203495352, 'support': 2421.0}}\n"
     ]
    },
    {
     "name": "stderr",
     "output_type": "stream",
     "text": [
      "Epoch 19 Training:   0%|          | 0/735 [00:20<?, ?it/s]\n"
     ]
    },
    {
     "name": "stdout",
     "output_type": "stream",
     "text": [
      "[DEBUG] Epoch 19 train loss 0.9719178752023346, val loss 1.11563399590944\n"
     ]
    },
    {
     "name": "stderr",
     "output_type": "stream",
     "text": [
      "Testing: 100%|██████████| 76/76 [00:01<00:00, 51.03it/s]\n",
      "c:\\Users\\admin\\anaconda3\\envs\\mer-gpu\\lib\\site-packages\\sklearn\\metrics\\_classification.py:1565: UndefinedMetricWarning: Precision is ill-defined and being set to 0.0 in labels with no predicted samples. Use `zero_division` parameter to control this behavior.\n",
      "  _warn_prf(average, modifier, f\"{metric.capitalize()} is\", len(result))\n",
      "c:\\Users\\admin\\anaconda3\\envs\\mer-gpu\\lib\\site-packages\\sklearn\\metrics\\_classification.py:1565: UndefinedMetricWarning: Precision is ill-defined and being set to 0.0 in labels with no predicted samples. Use `zero_division` parameter to control this behavior.\n",
      "  _warn_prf(average, modifier, f\"{metric.capitalize()} is\", len(result))\n",
      "c:\\Users\\admin\\anaconda3\\envs\\mer-gpu\\lib\\site-packages\\sklearn\\metrics\\_classification.py:1565: UndefinedMetricWarning: Precision is ill-defined and being set to 0.0 in labels with no predicted samples. Use `zero_division` parameter to control this behavior.\n",
      "  _warn_prf(average, modifier, f\"{metric.capitalize()} is\", len(result))\n"
     ]
    },
    {
     "name": "stdout",
     "output_type": "stream",
     "text": [
      "[DEBUG] Test Accuracy: 63.20%, Test F1 Score: 32.73%\n",
      "[DEBUG] Class 0 - Precision: 63.12%, Recall: 97.09%, F1-Score: 76.51%\n",
      "[DEBUG] Class 1 - Precision: 68.75%, Recall: 15.75%, F1-Score: 25.62%\n",
      "[DEBUG] Class 2 - Precision: 60.00%, Recall: 18.95%, F1-Score: 28.81%\n",
      "[DEBUG] Class 3 - Precision: 0.00%, Recall: 0.00%, F1-Score: 0.00%\n",
      "{'0': {'precision': 0.6312384473197782, 'recall': 0.9708599857853589, 'f1-score': 0.765051806216746, 'support': 1407.0}, '1': {'precision': 0.6875, 'recall': 0.1574642126789366, 'f1-score': 0.2562396006655574, 'support': 489.0}, '2': {'precision': 0.6, 'recall': 0.1895424836601307, 'f1-score': 0.28807947019867547, 'support': 459.0}, '3': {'precision': 0.0, 'recall': 0.0, 'f1-score': 0.0, 'support': 66.0}, 'accuracy': 0.6319702602230484, 'macro avg': {'precision': 0.4796846118299446, 'recall': 0.32946667053110656, 'f1-score': 0.3273427192702447, 'support': 2421.0}, 'weighted avg': {'precision': 0.6194712909454474, 'recall': 0.6319702602230484, 'f1-score': 0.5509944373786085, 'support': 2421.0}}\n"
     ]
    },
    {
     "name": "stderr",
     "output_type": "stream",
     "text": [
      "Epoch 20 Training:   0%|          | 0/735 [00:20<?, ?it/s]\n"
     ]
    },
    {
     "name": "stdout",
     "output_type": "stream",
     "text": [
      "[DEBUG] Epoch 20 train loss 0.9659197167474396, val loss 1.1056136081093235\n"
     ]
    },
    {
     "name": "stderr",
     "output_type": "stream",
     "text": [
      "Testing: 100%|██████████| 76/76 [00:01<00:00, 57.87it/s]"
     ]
    },
    {
     "name": "stdout",
     "output_type": "stream",
     "text": [
      "[DEBUG] Test Accuracy: 62.25%, Test F1 Score: 33.25%\n",
      "[DEBUG] Class 0 - Precision: 63.80%, Recall: 93.96%, F1-Score: 76.00%\n",
      "[DEBUG] Class 1 - Precision: 49.75%, Recall: 20.45%, F1-Score: 28.99%\n",
      "[DEBUG] Class 2 - Precision: 57.43%, Recall: 18.52%, F1-Score: 28.01%\n",
      "[DEBUG] Class 3 - Precision: 0.00%, Recall: 0.00%, F1-Score: 0.00%\n",
      "{'0': {'precision': 0.638030888030888, 'recall': 0.9395877754086709, 'f1-score': 0.7599885024432308, 'support': 1407.0}, '1': {'precision': 0.4975124378109453, 'recall': 0.20449897750511248, 'f1-score': 0.2898550724637681, 'support': 489.0}, '2': {'precision': 0.5743243243243243, 'recall': 0.18518518518518517, 'f1-score': 0.2800658978583196, 'support': 459.0}, '3': {'precision': 0.0, 'recall': 0.0, 'f1-score': 0.0, 'support': 66.0}, 'accuracy': 0.6224700536968195, 'macro avg': {'precision': 0.4274669125415394, 'recall': 0.33231798452474215, 'f1-score': 0.33247736819132967, 'support': 2421.0}, 'weighted avg': {'precision': 0.5801767477959011, 'recall': 0.6224700536968195, 'f1-score': 0.5533222637296062, 'support': 2421.0}}\n"
     ]
    },
    {
     "name": "stderr",
     "output_type": "stream",
     "text": [
      "\n",
      "c:\\Users\\admin\\anaconda3\\envs\\mer-gpu\\lib\\site-packages\\sklearn\\metrics\\_classification.py:1565: UndefinedMetricWarning: Precision is ill-defined and being set to 0.0 in labels with no predicted samples. Use `zero_division` parameter to control this behavior.\n",
      "  _warn_prf(average, modifier, f\"{metric.capitalize()} is\", len(result))\n",
      "c:\\Users\\admin\\anaconda3\\envs\\mer-gpu\\lib\\site-packages\\sklearn\\metrics\\_classification.py:1565: UndefinedMetricWarning: Precision is ill-defined and being set to 0.0 in labels with no predicted samples. Use `zero_division` parameter to control this behavior.\n",
      "  _warn_prf(average, modifier, f\"{metric.capitalize()} is\", len(result))\n",
      "c:\\Users\\admin\\anaconda3\\envs\\mer-gpu\\lib\\site-packages\\sklearn\\metrics\\_classification.py:1565: UndefinedMetricWarning: Precision is ill-defined and being set to 0.0 in labels with no predicted samples. Use `zero_division` parameter to control this behavior.\n",
      "  _warn_prf(average, modifier, f\"{metric.capitalize()} is\", len(result))\n"
     ]
    }
   ],
   "source": [
    "graphModel = GraphModel(768, 128, 64, args['device'], args).to(args['device'])\n",
    "optimizer = torch.optim.Adam(graphModel.parameters(), lr=0.001, weight_decay=1e-5)\n",
    "criterion = nn.CrossEntropyLoss()\n",
    "train(graphModel, train_loader, val_loader, optimizer, criterion, args, epochs=20)\n"
   ]
  },
  {
   "cell_type": "code",
   "execution_count": 35,
   "metadata": {},
   "outputs": [
    {
     "name": "stderr",
     "output_type": "stream",
     "text": [
      "Testing: 100%|██████████| 195/195 [00:03<00:00, 59.11it/s]"
     ]
    },
    {
     "name": "stdout",
     "output_type": "stream",
     "text": [
      "[DEBUG] Test Accuracy: 65.17%, Test F1 Score: 32.94%\n",
      "[DEBUG] Class 0 - Precision: 65.62%, Recall: 97.19%, F1-Score: 78.34%\n",
      "[DEBUG] Class 1 - Precision: 61.56%, Recall: 18.99%, F1-Score: 29.02%\n",
      "[DEBUG] Class 2 - Precision: 60.77%, Recall: 15.27%, F1-Score: 24.40%\n",
      "[DEBUG] Class 3 - Precision: 0.00%, Recall: 0.00%, F1-Score: 0.00%\n",
      "{'0': {'precision': 0.6561548109657768, 'recall': 0.971868365180467, 'f1-score': 0.7833992940421436, 'support': 3768.0}, '1': {'precision': 0.6155913978494624, 'recall': 0.18988391376451078, 'f1-score': 0.2902408111533587, 'support': 1206.0}, '2': {'precision': 0.6076923076923076, 'recall': 0.15265700483091788, 'f1-score': 0.244015444015444, 'support': 1035.0}, '3': {'precision': 0.0, 'recall': 0.0, 'f1-score': 0.0, 'support': 204.0}, 'accuracy': 0.6516980524706261, 'macro avg': {'precision': 0.4698596291268867, 'recall': 0.32860232094397396, 'f1-score': 0.3294138873027366, 'support': 6213.0}, 'weighted avg': {'precision': 0.6186634624154252, 'recall': 0.6516980524706261, 'f1-score': 0.5720964015383442, 'support': 6213.0}}\n"
     ]
    },
    {
     "name": "stderr",
     "output_type": "stream",
     "text": [
      "\n",
      "c:\\Users\\admin\\anaconda3\\envs\\mer-gpu\\lib\\site-packages\\sklearn\\metrics\\_classification.py:1565: UndefinedMetricWarning: Precision is ill-defined and being set to 0.0 in labels with no predicted samples. Use `zero_division` parameter to control this behavior.\n",
      "  _warn_prf(average, modifier, f\"{metric.capitalize()} is\", len(result))\n",
      "c:\\Users\\admin\\anaconda3\\envs\\mer-gpu\\lib\\site-packages\\sklearn\\metrics\\_classification.py:1565: UndefinedMetricWarning: Precision is ill-defined and being set to 0.0 in labels with no predicted samples. Use `zero_division` parameter to control this behavior.\n",
      "  _warn_prf(average, modifier, f\"{metric.capitalize()} is\", len(result))\n",
      "c:\\Users\\admin\\anaconda3\\envs\\mer-gpu\\lib\\site-packages\\sklearn\\metrics\\_classification.py:1565: UndefinedMetricWarning: Precision is ill-defined and being set to 0.0 in labels with no predicted samples. Use `zero_division` parameter to control this behavior.\n",
      "  _warn_prf(average, modifier, f\"{metric.capitalize()} is\", len(result))\n"
     ]
    },
    {
     "data": {
      "text/plain": [
       "(0.6516980524706261, 0.3294138873027366)"
      ]
     },
     "execution_count": 35,
     "metadata": {},
     "output_type": "execute_result"
    }
   ],
   "source": [
    "# load model\n",
    "graphmodel = graphModel.load_state_dict(torch.load('best_model.pth'))\n",
    "evaluate(graphModel, test_loader, args)"
   ]
  },
  {
   "cell_type": "code",
   "execution_count": 36,
   "metadata": {},
   "outputs": [
    {
     "data": {
      "text/plain": [
       "<All keys matched successfully>"
      ]
     },
     "execution_count": 36,
     "metadata": {},
     "output_type": "execute_result"
    }
   ],
   "source": []
  },
  {
   "cell_type": "code",
   "execution_count": 4,
   "metadata": {},
   "outputs": [],
   "source": [
    "import pandas as pd\n",
    "\n",
    "train_df = pd.read_csv('../data/csv/train_sent_emo.csv')\n",
    "val_df = pd.read_csv('../data/csv/dev_sent_emo.csv')\n",
    "test_df = pd.read_csv('../data/csv/test_sent_emo.csv')"
   ]
  },
  {
   "cell_type": "code",
   "execution_count": 5,
   "metadata": {},
   "outputs": [
    {
     "data": {
      "text/html": [
       "<div>\n",
       "<style scoped>\n",
       "    .dataframe tbody tr th:only-of-type {\n",
       "        vertical-align: middle;\n",
       "    }\n",
       "\n",
       "    .dataframe tbody tr th {\n",
       "        vertical-align: top;\n",
       "    }\n",
       "\n",
       "    .dataframe thead th {\n",
       "        text-align: right;\n",
       "    }\n",
       "</style>\n",
       "<table border=\"1\" class=\"dataframe\">\n",
       "  <thead>\n",
       "    <tr style=\"text-align: right;\">\n",
       "      <th></th>\n",
       "      <th>Sr No.</th>\n",
       "      <th>Utterance</th>\n",
       "      <th>Speaker</th>\n",
       "      <th>Emotion</th>\n",
       "      <th>Sentiment</th>\n",
       "      <th>Dialogue_ID</th>\n",
       "      <th>Utterance_ID</th>\n",
       "      <th>Season</th>\n",
       "      <th>Episode</th>\n",
       "      <th>StartTime</th>\n",
       "      <th>EndTime</th>\n",
       "    </tr>\n",
       "  </thead>\n",
       "  <tbody>\n",
       "    <tr>\n",
       "      <th>0</th>\n",
       "      <td>1</td>\n",
       "      <td>also I was the point person on my companys tr...</td>\n",
       "      <td>Chandler</td>\n",
       "      <td>neutral</td>\n",
       "      <td>neutral</td>\n",
       "      <td>0</td>\n",
       "      <td>0</td>\n",
       "      <td>8</td>\n",
       "      <td>21</td>\n",
       "      <td>00:16:16,059</td>\n",
       "      <td>00:16:21,731</td>\n",
       "    </tr>\n",
       "    <tr>\n",
       "      <th>1</th>\n",
       "      <td>2</td>\n",
       "      <td>You mustve had your hands full.</td>\n",
       "      <td>The Interviewer</td>\n",
       "      <td>neutral</td>\n",
       "      <td>neutral</td>\n",
       "      <td>0</td>\n",
       "      <td>1</td>\n",
       "      <td>8</td>\n",
       "      <td>21</td>\n",
       "      <td>00:16:21,940</td>\n",
       "      <td>00:16:23,442</td>\n",
       "    </tr>\n",
       "    <tr>\n",
       "      <th>2</th>\n",
       "      <td>3</td>\n",
       "      <td>That I did. That I did.</td>\n",
       "      <td>Chandler</td>\n",
       "      <td>neutral</td>\n",
       "      <td>neutral</td>\n",
       "      <td>0</td>\n",
       "      <td>2</td>\n",
       "      <td>8</td>\n",
       "      <td>21</td>\n",
       "      <td>00:16:23,442</td>\n",
       "      <td>00:16:26,389</td>\n",
       "    </tr>\n",
       "    <tr>\n",
       "      <th>3</th>\n",
       "      <td>4</td>\n",
       "      <td>So lets talk a little bit about your duties.</td>\n",
       "      <td>The Interviewer</td>\n",
       "      <td>neutral</td>\n",
       "      <td>neutral</td>\n",
       "      <td>0</td>\n",
       "      <td>3</td>\n",
       "      <td>8</td>\n",
       "      <td>21</td>\n",
       "      <td>00:16:26,820</td>\n",
       "      <td>00:16:29,572</td>\n",
       "    </tr>\n",
       "    <tr>\n",
       "      <th>4</th>\n",
       "      <td>5</td>\n",
       "      <td>My duties?  All right.</td>\n",
       "      <td>Chandler</td>\n",
       "      <td>surprise</td>\n",
       "      <td>positive</td>\n",
       "      <td>0</td>\n",
       "      <td>4</td>\n",
       "      <td>8</td>\n",
       "      <td>21</td>\n",
       "      <td>00:16:34,452</td>\n",
       "      <td>00:16:40,917</td>\n",
       "    </tr>\n",
       "    <tr>\n",
       "      <th>...</th>\n",
       "      <td>...</td>\n",
       "      <td>...</td>\n",
       "      <td>...</td>\n",
       "      <td>...</td>\n",
       "      <td>...</td>\n",
       "      <td>...</td>\n",
       "      <td>...</td>\n",
       "      <td>...</td>\n",
       "      <td>...</td>\n",
       "      <td>...</td>\n",
       "      <td>...</td>\n",
       "    </tr>\n",
       "    <tr>\n",
       "      <th>9984</th>\n",
       "      <td>10474</td>\n",
       "      <td>You or me?</td>\n",
       "      <td>Chandler</td>\n",
       "      <td>neutral</td>\n",
       "      <td>neutral</td>\n",
       "      <td>1038</td>\n",
       "      <td>13</td>\n",
       "      <td>2</td>\n",
       "      <td>3</td>\n",
       "      <td>00:00:48,173</td>\n",
       "      <td>00:00:50,799</td>\n",
       "    </tr>\n",
       "    <tr>\n",
       "      <th>9985</th>\n",
       "      <td>10475</td>\n",
       "      <td>I got it. Uh, Joey, women don't have Adam's ap...</td>\n",
       "      <td>Ross</td>\n",
       "      <td>neutral</td>\n",
       "      <td>neutral</td>\n",
       "      <td>1038</td>\n",
       "      <td>14</td>\n",
       "      <td>2</td>\n",
       "      <td>3</td>\n",
       "      <td>00:00:51,009</td>\n",
       "      <td>00:00:53,594</td>\n",
       "    </tr>\n",
       "    <tr>\n",
       "      <th>9986</th>\n",
       "      <td>10476</td>\n",
       "      <td>You guys are messing with me, right?</td>\n",
       "      <td>Joey</td>\n",
       "      <td>surprise</td>\n",
       "      <td>positive</td>\n",
       "      <td>1038</td>\n",
       "      <td>15</td>\n",
       "      <td>2</td>\n",
       "      <td>3</td>\n",
       "      <td>00:01:00,518</td>\n",
       "      <td>00:01:03,520</td>\n",
       "    </tr>\n",
       "    <tr>\n",
       "      <th>9987</th>\n",
       "      <td>10477</td>\n",
       "      <td>Yeah.</td>\n",
       "      <td>All</td>\n",
       "      <td>neutral</td>\n",
       "      <td>neutral</td>\n",
       "      <td>1038</td>\n",
       "      <td>16</td>\n",
       "      <td>2</td>\n",
       "      <td>3</td>\n",
       "      <td>00:01:05,398</td>\n",
       "      <td>00:01:07,274</td>\n",
       "    </tr>\n",
       "    <tr>\n",
       "      <th>9988</th>\n",
       "      <td>10478</td>\n",
       "      <td>That was a good one. For a second there, I was...</td>\n",
       "      <td>Joey</td>\n",
       "      <td>joy</td>\n",
       "      <td>positive</td>\n",
       "      <td>1038</td>\n",
       "      <td>17</td>\n",
       "      <td>2</td>\n",
       "      <td>3</td>\n",
       "      <td>00:01:08,401</td>\n",
       "      <td>00:01:12,071</td>\n",
       "    </tr>\n",
       "  </tbody>\n",
       "</table>\n",
       "<p>9989 rows × 11 columns</p>\n",
       "</div>"
      ],
      "text/plain": [
       "      Sr No.                                          Utterance  \\\n",
       "0          1  also I was the point person on my companys tr...   \n",
       "1          2                   You mustve had your hands full.   \n",
       "2          3                            That I did. That I did.   \n",
       "3          4      So lets talk a little bit about your duties.   \n",
       "4          5                             My duties?  All right.   \n",
       "...      ...                                                ...   \n",
       "9984   10474                                         You or me?   \n",
       "9985   10475  I got it. Uh, Joey, women don't have Adam's ap...   \n",
       "9986   10476               You guys are messing with me, right?   \n",
       "9987   10477                                              Yeah.   \n",
       "9988   10478  That was a good one. For a second there, I was...   \n",
       "\n",
       "              Speaker   Emotion Sentiment  Dialogue_ID  Utterance_ID  Season  \\\n",
       "0            Chandler   neutral   neutral            0             0       8   \n",
       "1     The Interviewer   neutral   neutral            0             1       8   \n",
       "2            Chandler   neutral   neutral            0             2       8   \n",
       "3     The Interviewer   neutral   neutral            0             3       8   \n",
       "4            Chandler  surprise  positive            0             4       8   \n",
       "...               ...       ...       ...          ...           ...     ...   \n",
       "9984         Chandler   neutral   neutral         1038            13       2   \n",
       "9985             Ross   neutral   neutral         1038            14       2   \n",
       "9986             Joey  surprise  positive         1038            15       2   \n",
       "9987              All   neutral   neutral         1038            16       2   \n",
       "9988             Joey       joy  positive         1038            17       2   \n",
       "\n",
       "      Episode     StartTime       EndTime  \n",
       "0          21  00:16:16,059  00:16:21,731  \n",
       "1          21  00:16:21,940  00:16:23,442  \n",
       "2          21  00:16:23,442  00:16:26,389  \n",
       "3          21  00:16:26,820  00:16:29,572  \n",
       "4          21  00:16:34,452  00:16:40,917  \n",
       "...       ...           ...           ...  \n",
       "9984        3  00:00:48,173  00:00:50,799  \n",
       "9985        3  00:00:51,009  00:00:53,594  \n",
       "9986        3  00:01:00,518  00:01:03,520  \n",
       "9987        3  00:01:05,398  00:01:07,274  \n",
       "9988        3  00:01:08,401  00:01:12,071  \n",
       "\n",
       "[9989 rows x 11 columns]"
      ]
     },
     "execution_count": 5,
     "metadata": {},
     "output_type": "execute_result"
    }
   ],
   "source": [
    "train_df"
   ]
  },
  {
   "cell_type": "code",
   "execution_count": 8,
   "metadata": {},
   "outputs": [
    {
     "data": {
      "text/plain": [
       "(9989, 1109, 2610)"
      ]
     },
     "execution_count": 8,
     "metadata": {},
     "output_type": "execute_result"
    }
   ],
   "source": [
    "len(train_df), len(val_df), len(test_df)\n"
   ]
  },
  {
   "cell_type": "markdown",
   "metadata": {},
   "source": [
    "**GFPush, GRAPH_DROP**"
   ]
  },
  {
   "cell_type": "code",
   "execution_count": 8,
   "metadata": {},
   "outputs": [
    {
     "name": "stdout",
     "output_type": "stream",
     "text": [
      "[DEBUG] Prepared features shape: torch.Size([29964, 768])\n",
      "[DEBUG] Prepared labels shape: torch.Size([29964])\n",
      "[DEBUG] Prepared lengths: [9988, 9988, 9988]\n",
      "[DEBUG] Prepared features shape: torch.Size([3324, 768])\n",
      "[DEBUG] Prepared labels shape: torch.Size([3324])\n",
      "[DEBUG] Prepared lengths: [1108, 1108, 1108]\n",
      "[DEBUG] Prepared features shape: torch.Size([7830, 768])\n",
      "[DEBUG] Prepared labels shape: torch.Size([7830])\n",
      "[DEBUG] Prepared lengths: [2610, 2610, 2610]\n",
      "GraphModel --> Edge type: ['temp', 'multi']\n",
      "GraphModel --> Window past: 2\n",
      "GraphModel --> Window future: 2\n"
     ]
    },
    {
     "name": "stderr",
     "output_type": "stream",
     "text": [
      "Epoch 1 Training:   0%|          | 0/937 [00:00<?, ?it/s]\n"
     ]
    },
    {
     "ename": "ValueError",
     "evalue": "Invalid edge_index values: max = 31, min = 0, x.size(0) = 16",
     "output_type": "error",
     "traceback": [
      "\u001b[1;31m---------------------------------------------------------------------------\u001b[0m",
      "\u001b[1;31mValueError\u001b[0m                                Traceback (most recent call last)",
      "Cell \u001b[1;32mIn[8], line 31\u001b[0m\n\u001b[0;32m     29\u001b[0m optimizer \u001b[38;5;241m=\u001b[39m torch\u001b[38;5;241m.\u001b[39moptim\u001b[38;5;241m.\u001b[39mAdam(graphModel\u001b[38;5;241m.\u001b[39mparameters(), lr\u001b[38;5;241m=\u001b[39m\u001b[38;5;241m0.001\u001b[39m, weight_decay\u001b[38;5;241m=\u001b[39m\u001b[38;5;241m1e-5\u001b[39m)\n\u001b[0;32m     30\u001b[0m criterion \u001b[38;5;241m=\u001b[39m nn\u001b[38;5;241m.\u001b[39mCrossEntropyLoss()\n\u001b[1;32m---> 31\u001b[0m \u001b[43mtrain\u001b[49m\u001b[43m(\u001b[49m\u001b[43mgraphModel\u001b[49m\u001b[43m,\u001b[49m\u001b[43m \u001b[49m\u001b[43mtrain_loader\u001b[49m\u001b[43m,\u001b[49m\u001b[43m \u001b[49m\u001b[43mval_loader\u001b[49m\u001b[43m,\u001b[49m\u001b[43m \u001b[49m\u001b[43moptimizer\u001b[49m\u001b[43m,\u001b[49m\u001b[43m \u001b[49m\u001b[43mcriterion\u001b[49m\u001b[43m,\u001b[49m\u001b[43m \u001b[49m\u001b[43margs\u001b[49m\u001b[43m,\u001b[49m\u001b[43m \u001b[49m\u001b[43mepochs\u001b[49m\u001b[38;5;241;43m=\u001b[39;49m\u001b[38;5;241;43m50\u001b[39;49m\u001b[43m)\u001b[49m\n",
      "File \u001b[1;32mc:\\Users\\admin\\Desktop\\Conite_MULIMODAL_EMOTION_RECOGNITION\\MER_Graph_Attention_Transformers\\trainning\\trainning.py:22\u001b[0m, in \u001b[0;36mtrain_model\u001b[1;34m(model, train_loader, val_loader, optimizer, criterion, args, epochs)\u001b[0m\n\u001b[0;32m     19\u001b[0m labels \u001b[38;5;241m=\u001b[39m labels\u001b[38;5;241m.\u001b[39mto(args[\u001b[38;5;124m'\u001b[39m\u001b[38;5;124mdevice\u001b[39m\u001b[38;5;124m'\u001b[39m])\n\u001b[0;32m     21\u001b[0m optimizer\u001b[38;5;241m.\u001b[39mzero_grad()\n\u001b[1;32m---> 22\u001b[0m out \u001b[38;5;241m=\u001b[39m \u001b[43mmodel\u001b[49m\u001b[43m(\u001b[49m\u001b[43mfeatures\u001b[49m\u001b[43m,\u001b[49m\u001b[43m \u001b[49m\u001b[43mlengths\u001b[49m\u001b[38;5;241;43m=\u001b[39;49m\u001b[43mtorch\u001b[49m\u001b[38;5;241;43m.\u001b[39;49m\u001b[43mtensor\u001b[49m\u001b[43m(\u001b[49m\u001b[43m[\u001b[49m\u001b[38;5;28;43mlen\u001b[39;49m\u001b[43m(\u001b[49m\u001b[43mfeatures\u001b[49m\u001b[43m)\u001b[49m\u001b[43m]\u001b[49m\u001b[43m)\u001b[49m\u001b[38;5;241;43m.\u001b[39;49m\u001b[43mto\u001b[49m\u001b[43m(\u001b[49m\u001b[43margs\u001b[49m\u001b[43m[\u001b[49m\u001b[38;5;124;43m'\u001b[39;49m\u001b[38;5;124;43mdevice\u001b[39;49m\u001b[38;5;124;43m'\u001b[39;49m\u001b[43m]\u001b[49m\u001b[43m)\u001b[49m\u001b[43m)\u001b[49m\n\u001b[0;32m     23\u001b[0m loss \u001b[38;5;241m=\u001b[39m criterion(out, labels)\n\u001b[0;32m     24\u001b[0m loss\u001b[38;5;241m.\u001b[39mbackward()\n",
      "File \u001b[1;32mc:\\Users\\admin\\anaconda3\\envs\\mer-gpu\\lib\\site-packages\\torch\\nn\\modules\\module.py:1130\u001b[0m, in \u001b[0;36mModule._call_impl\u001b[1;34m(self, *input, **kwargs)\u001b[0m\n\u001b[0;32m   1126\u001b[0m \u001b[38;5;66;03m# If we don't have any hooks, we want to skip the rest of the logic in\u001b[39;00m\n\u001b[0;32m   1127\u001b[0m \u001b[38;5;66;03m# this function, and just call forward.\u001b[39;00m\n\u001b[0;32m   1128\u001b[0m \u001b[38;5;28;01mif\u001b[39;00m \u001b[38;5;129;01mnot\u001b[39;00m (\u001b[38;5;28mself\u001b[39m\u001b[38;5;241m.\u001b[39m_backward_hooks \u001b[38;5;129;01mor\u001b[39;00m \u001b[38;5;28mself\u001b[39m\u001b[38;5;241m.\u001b[39m_forward_hooks \u001b[38;5;129;01mor\u001b[39;00m \u001b[38;5;28mself\u001b[39m\u001b[38;5;241m.\u001b[39m_forward_pre_hooks \u001b[38;5;129;01mor\u001b[39;00m _global_backward_hooks\n\u001b[0;32m   1129\u001b[0m         \u001b[38;5;129;01mor\u001b[39;00m _global_forward_hooks \u001b[38;5;129;01mor\u001b[39;00m _global_forward_pre_hooks):\n\u001b[1;32m-> 1130\u001b[0m     \u001b[38;5;28;01mreturn\u001b[39;00m forward_call(\u001b[38;5;241m*\u001b[39m\u001b[38;5;28minput\u001b[39m, \u001b[38;5;241m*\u001b[39m\u001b[38;5;241m*\u001b[39mkwargs)\n\u001b[0;32m   1131\u001b[0m \u001b[38;5;66;03m# Do not call functions when jit is used\u001b[39;00m\n\u001b[0;32m   1132\u001b[0m full_backward_hooks, non_full_backward_hooks \u001b[38;5;241m=\u001b[39m [], []\n",
      "File \u001b[1;32mc:\\Users\\admin\\Desktop\\Conite_MULIMODAL_EMOTION_RECOGNITION\\MER_Graph_Attention_Transformers\\models\\GraphModel.py:60\u001b[0m, in \u001b[0;36mGraphModel.forward\u001b[1;34m(self, x, lengths)\u001b[0m\n\u001b[0;32m     57\u001b[0m \u001b[38;5;28;01mif\u001b[39;00m \u001b[38;5;28mself\u001b[39m\u001b[38;5;241m.\u001b[39mgfp:\n\u001b[0;32m     58\u001b[0m     node_features, edge_index, node_type \u001b[38;5;241m=\u001b[39m gfpush(node_features, edge_index, node_type, top_k\u001b[38;5;241m=\u001b[39m\u001b[38;5;241m0.5\u001b[39m)\n\u001b[1;32m---> 60\u001b[0m out_gnn \u001b[38;5;241m=\u001b[39m \u001b[38;5;28;43mself\u001b[39;49m\u001b[38;5;241;43m.\u001b[39;49m\u001b[43mgnn\u001b[49m\u001b[43m(\u001b[49m\u001b[43mnode_features\u001b[49m\u001b[43m,\u001b[49m\u001b[43m \u001b[49m\u001b[43medge_index\u001b[49m\u001b[43m,\u001b[49m\u001b[43m \u001b[49m\u001b[43medge_type\u001b[49m\u001b[43m)\u001b[49m\n\u001b[0;32m     61\u001b[0m out_gnn \u001b[38;5;241m=\u001b[39m \u001b[38;5;28mself\u001b[39m\u001b[38;5;241m.\u001b[39mmulti_concat(out_gnn, lengths)\n\u001b[0;32m     63\u001b[0m \u001b[38;5;28;01mreturn\u001b[39;00m out_gnn\n",
      "File \u001b[1;32mc:\\Users\\admin\\anaconda3\\envs\\mer-gpu\\lib\\site-packages\\torch\\nn\\modules\\module.py:1130\u001b[0m, in \u001b[0;36mModule._call_impl\u001b[1;34m(self, *input, **kwargs)\u001b[0m\n\u001b[0;32m   1126\u001b[0m \u001b[38;5;66;03m# If we don't have any hooks, we want to skip the rest of the logic in\u001b[39;00m\n\u001b[0;32m   1127\u001b[0m \u001b[38;5;66;03m# this function, and just call forward.\u001b[39;00m\n\u001b[0;32m   1128\u001b[0m \u001b[38;5;28;01mif\u001b[39;00m \u001b[38;5;129;01mnot\u001b[39;00m (\u001b[38;5;28mself\u001b[39m\u001b[38;5;241m.\u001b[39m_backward_hooks \u001b[38;5;129;01mor\u001b[39;00m \u001b[38;5;28mself\u001b[39m\u001b[38;5;241m.\u001b[39m_forward_hooks \u001b[38;5;129;01mor\u001b[39;00m \u001b[38;5;28mself\u001b[39m\u001b[38;5;241m.\u001b[39m_forward_pre_hooks \u001b[38;5;129;01mor\u001b[39;00m _global_backward_hooks\n\u001b[0;32m   1129\u001b[0m         \u001b[38;5;129;01mor\u001b[39;00m _global_forward_hooks \u001b[38;5;129;01mor\u001b[39;00m _global_forward_pre_hooks):\n\u001b[1;32m-> 1130\u001b[0m     \u001b[38;5;28;01mreturn\u001b[39;00m forward_call(\u001b[38;5;241m*\u001b[39m\u001b[38;5;28minput\u001b[39m, \u001b[38;5;241m*\u001b[39m\u001b[38;5;241m*\u001b[39mkwargs)\n\u001b[0;32m   1131\u001b[0m \u001b[38;5;66;03m# Do not call functions when jit is used\u001b[39;00m\n\u001b[0;32m   1132\u001b[0m full_backward_hooks, non_full_backward_hooks \u001b[38;5;241m=\u001b[39m [], []\n",
      "File \u001b[1;32mc:\\Users\\admin\\Desktop\\Conite_MULIMODAL_EMOTION_RECOGNITION\\MER_Graph_Attention_Transformers\\models\\GNN.py:17\u001b[0m, in \u001b[0;36mGNN.forward\u001b[1;34m(self, x, edge_index, edge_type)\u001b[0m\n\u001b[0;32m     15\u001b[0m \u001b[38;5;28;01mdef\u001b[39;00m\u001b[38;5;250m \u001b[39m\u001b[38;5;21mforward\u001b[39m(\u001b[38;5;28mself\u001b[39m, x, edge_index, edge_type):\n\u001b[0;32m     16\u001b[0m     \u001b[38;5;28;01mif\u001b[39;00m edge_index\u001b[38;5;241m.\u001b[39mmax() \u001b[38;5;241m>\u001b[39m\u001b[38;5;241m=\u001b[39m x\u001b[38;5;241m.\u001b[39msize(\u001b[38;5;241m0\u001b[39m) \u001b[38;5;129;01mor\u001b[39;00m edge_index\u001b[38;5;241m.\u001b[39mmin() \u001b[38;5;241m<\u001b[39m \u001b[38;5;241m0\u001b[39m:\n\u001b[1;32m---> 17\u001b[0m         \u001b[38;5;28;01mraise\u001b[39;00m \u001b[38;5;167;01mValueError\u001b[39;00m(\u001b[38;5;124mf\u001b[39m\u001b[38;5;124m\"\u001b[39m\u001b[38;5;124mInvalid edge_index values: max = \u001b[39m\u001b[38;5;132;01m{\u001b[39;00medge_index\u001b[38;5;241m.\u001b[39mmax()\u001b[38;5;132;01m}\u001b[39;00m\u001b[38;5;124m, min = \u001b[39m\u001b[38;5;132;01m{\u001b[39;00medge_index\u001b[38;5;241m.\u001b[39mmin()\u001b[38;5;132;01m}\u001b[39;00m\u001b[38;5;124m, x.size(0) = \u001b[39m\u001b[38;5;132;01m{\u001b[39;00mx\u001b[38;5;241m.\u001b[39msize(\u001b[38;5;241m0\u001b[39m)\u001b[38;5;132;01m}\u001b[39;00m\u001b[38;5;124m\"\u001b[39m)\n\u001b[0;32m     19\u001b[0m     x \u001b[38;5;241m=\u001b[39m \u001b[38;5;28mself\u001b[39m\u001b[38;5;241m.\u001b[39mrgcn(x, edge_index, edge_type)\n\u001b[0;32m     20\u001b[0m     x \u001b[38;5;241m=\u001b[39m torch\u001b[38;5;241m.\u001b[39mrelu(x)\n",
      "\u001b[1;31mValueError\u001b[0m: Invalid edge_index values: max = 31, min = 0, x.size(0) = 16"
     ]
    }
   ],
   "source": [
    "# data = load_data(data_type='loaders_datasets_reduced_label_dim_4.pt')\n",
    "data = load_data(data_type='loaders_datasets.pt')\n",
    "args = {\n",
    "    'modalities': ['audio', 'text', 'video'],\n",
    "    'edge_type': ['temp', 'multi'],\n",
    "    'wp': 2,\n",
    "    'wf': 2,\n",
    "    'crossmodal_nheads':2,\n",
    "    'num_crossmodal':2,\n",
    "    'self_att_nheads': 2,\n",
    "    'num_self_att':2,\n",
    "    \n",
    "    'device': torch.device('cuda' if torch.cuda.is_available() else 'cpu'),\n",
    "    'gfpush': True,\n",
    "    'drop_nodes': True\n",
    "}\n",
    "\n",
    "\n",
    "train_features, train_labels, train_lengths = prepare_graph_data(data['train'], args)\n",
    "dev_features, dev_labels, dev_lengths = prepare_graph_data(data['val'], args)\n",
    "test_features, test_labels, test_lengths = prepare_graph_data(data['test'], args)\n",
    "\n",
    "train_loader = prepare_dataloaders(train_features, train_labels, train_lengths, batch_size=32, equilibrate=False)\n",
    "val_loader = prepare_dataloaders(dev_features, dev_labels, dev_lengths, batch_size=32)\n",
    "test_loader = prepare_dataloaders(test_features, test_labels, test_lengths, batch_size=32)\n",
    "\n",
    "crossmodal_model = CrossmodalNet(inchannels=256, args=args).to(args['device'])  \n",
    "graphModel = GraphModel(768, 128, 64, args['device'], args).to(args['device'])\n",
    "optimizer = torch.optim.Adam(graphModel.parameters(), lr=0.001, weight_decay=1e-5)\n",
    "criterion = nn.CrossEntropyLoss()\n",
    "train(graphModel, train_loader, val_loader, optimizer, criterion, args, epochs=50)\n"
   ]
  },
  {
   "cell_type": "code",
   "execution_count": 11,
   "metadata": {},
   "outputs": [
    {
     "data": {
      "text/plain": [
       "(0.7286985701779982, 0.08090166326232857, 0.1903997665596732)"
      ]
     },
     "execution_count": 11,
     "metadata": {},
     "output_type": "execute_result"
    }
   ],
   "source": [
    "9989 / (9989 + 1109 + 2610), 1109 / (9989 + 1109 + 2610), 2610 / (9989 + 1109 + 2610)"
   ]
  },
  {
   "cell_type": "code",
   "execution_count": 13,
   "metadata": {},
   "outputs": [
    {
     "data": {
      "text/plain": [
       "Emotion\n",
       "neutral     4710\n",
       "joy         1743\n",
       "surprise    1205\n",
       "anger       1109\n",
       "sadness      683\n",
       "disgust      271\n",
       "fear         268\n",
       "Name: count, dtype: int64"
      ]
     },
     "execution_count": 13,
     "metadata": {},
     "output_type": "execute_result"
    }
   ],
   "source": [
    "train_df['Emotion'].value_counts()"
   ]
  },
  {
   "cell_type": "code",
   "execution_count": 15,
   "metadata": {},
   "outputs": [
    {
     "data": {
      "image/png": "[encoded data removed]",
      "text/plain": [
       "<Figure size 640x480 with 1 Axes>"
      ]
     },
     "metadata": {},
     "output_type": "display_data"
    }
   ],
   "source": [
    "# plot duration of the audio files\n",
    "import matplotlib.pyplot as plt\n",
    "import numpy as np\n",
    "import pandas as pd\n",
    "\n",
    "train_df['StartTime'] = pd.to_datetime(train_df['StartTime'], format='%H:%M:%S,%f')\n",
    "train_df['EndTime'] = pd.to_datetime(train_df['EndTime'], format='%H:%M:%S,%f')\n",
    "\n",
    "train_df['Duration'] = (train_df['EndTime'] - train_df['StartTime']).dt.total_seconds()\n",
    "\n",
    "plt.hist(train_df['Duration'], bins=20)\n",
    "plt.xlabel('Duration (seconds)')\n",
    "plt.ylabel('Frequency')\n",
    "plt.title('Histogram of Audio File Durations')\n",
    "plt.show()"
   ]
  },
  {
   "cell_type": "code",
   "execution_count": 16,
   "metadata": {},
   "outputs": [
    {
     "data": {
      "text/plain": [
       "count    9989.000000\n",
       "mean        3.138618\n",
       "std         2.425505\n",
       "min         0.006000\n",
       "25%         1.552000\n",
       "50%         2.460000\n",
       "75%         3.919000\n",
       "max        41.040000\n",
       "Name: Duration, dtype: float64"
      ]
     },
     "execution_count": 16,
     "metadata": {},
     "output_type": "execute_result"
    }
   ],
   "source": [
    "train_df['Duration'].describe()"
   ]
  },
  {
   "cell_type": "code",
   "execution_count": 1,
   "metadata": {},
   "outputs": [
    {
     "name": "stderr",
     "output_type": "stream",
     "text": [
      "c:\\Users\\admin\\anaconda3\\envs\\mer-gpu\\lib\\site-packages\\tqdm\\auto.py:21: TqdmWarning: IProgress not found. Please update jupyter and ipywidgets. See https://ipywidgets.readthedocs.io/en/stable/user_install.html\n",
      "  from .autonotebook import tqdm as notebook_tqdm\n"
     ]
    },
    {
     "name": "stdout",
     "output_type": "stream",
     "text": [
      "[DEBUG] Prepared features shape: torch.Size([29964, 768])\n",
      "[DEBUG] Prepared labels shape: torch.Size([29964])\n",
      "[DEBUG] Prepared lengths: [9988, 9988, 9988]\n",
      "[DEBUG] Prepared features shape: torch.Size([3324, 768])\n",
      "[DEBUG] Prepared labels shape: torch.Size([3324])\n",
      "[DEBUG] Prepared lengths: [1108, 1108, 1108]\n",
      "[DEBUG] Prepared features shape: torch.Size([7830, 768])\n",
      "[DEBUG] Prepared labels shape: torch.Size([7830])\n",
      "[DEBUG] Prepared lengths: [2610, 2610, 2610]\n"
     ]
    }
   ],
   "source": [
    "import sys, os\n",
    "sys.path.append(os.path.abspath(os.path.join('..')))\n",
    "from processing.preprocessing import prepare_graph_data, prepare_dataloaders\n",
    "from models.MultiHeadAttention import MultiheadAttention\n",
    "from models.CrossModalNet import CrossmodalNet\n",
    "from models.Transformers import TransformerEncoder\n",
    "from models.CombineModel import CombinedModel\n",
    "from models.GraphModel import GraphModel, GraphModel_CFusion\n",
    "from trainning.trainning import train_model as train\n",
    "from trainning.trainning import evaluate_model as evaluate\n",
    "import torch\n",
    "import torch.nn as nn\n",
    "\n",
    "\n",
    "from data.loaddata import load_data\n",
    "import torch\n",
    "\n",
    "\n",
    "data = load_data(data_type='loaders_datasets.pt')\n",
    "args = {\n",
    "    'modalities': ['audio', 'text', 'video'],\n",
    "    'edge_type': ['temp', 'multi'],\n",
    "    'wp': 2,\n",
    "    'wf': 2,\n",
    "    'crossmodal_nheads':2,\n",
    "    'num_crossmodal':2,\n",
    "    'self_att_nheads': 2,\n",
    "    'num_self_att':2,\n",
    "    \n",
    "    'device': torch.device('cuda' if torch.cuda.is_available() else 'cpu'),\n",
    "    'gfpush': False,\n",
    "    'drop_nodes': False,\n",
    "    'num_classes': 7\n",
    "\n",
    "}\n",
    "\n",
    "# data = load_data(data_type='loaders_datasets_reduced_label_dim_4.pt')\n",
    "train_features, train_labels, train_lengths = prepare_graph_data(data['train'], args)\n",
    "dev_features, dev_labels, dev_lengths = prepare_graph_data(data['val'], args)\n",
    "test_features, test_labels, test_lengths = prepare_graph_data(data['test'], args)\n",
    "\n",
    "train_loader = prepare_dataloaders(train_features, train_labels, train_lengths, batch_size=32, equilibrate=False)\n",
    "val_loader = prepare_dataloaders(dev_features, dev_labels, dev_lengths, batch_size=32)\n",
    "test_loader = prepare_dataloaders(test_features, test_labels, test_lengths, batch_size=32)\n",
    "\n",
    "graphCFusionModel = GraphModel_CFusion(768, 128, 64, args['device'], args).to(args['device'])\n",
    "optimizer = torch.optim.Adam(graphCFusionModel.parameters(), lr=0.001, weight_decay=1e-5)\n",
    "criterion = nn.CrossEntropyLoss()\n"
   ]
  },
  {
   "cell_type": "code",
   "execution_count": 2,
   "metadata": {},
   "outputs": [
    {
     "name": "stderr",
     "output_type": "stream",
     "text": [
      "Epoch 1 Training:   0%|          | 0/937 [00:34<?, ?it/s]\n",
      "c:\\Users\\admin\\anaconda3\\envs\\mer-gpu\\lib\\site-packages\\sklearn\\metrics\\_classification.py:1565: UndefinedMetricWarning: Precision is ill-defined and being set to 0.0 in labels with no predicted samples. Use `zero_division` parameter to control this behavior.\n",
      "  _warn_prf(average, modifier, f\"{metric.capitalize()} is\", len(result))\n"
     ]
    },
    {
     "name": "stdout",
     "output_type": "stream",
     "text": [
      "[DEBUG] Epoch 1 train loss 1.5527, val loss 1.5665, val acc 44.68%, val f1 13.08%, val precision 18.02%, val recall 16.88%\n"
     ]
    },
    {
     "name": "stderr",
     "output_type": "stream",
     "text": [
      "Epoch 2 Training:   0%|          | 0/937 [00:31<?, ?it/s]\n",
      "c:\\Users\\admin\\anaconda3\\envs\\mer-gpu\\lib\\site-packages\\sklearn\\metrics\\_classification.py:1565: UndefinedMetricWarning: Precision is ill-defined and being set to 0.0 in labels with no predicted samples. Use `zero_division` parameter to control this behavior.\n",
      "  _warn_prf(average, modifier, f\"{metric.capitalize()} is\", len(result))\n"
     ]
    },
    {
     "name": "stdout",
     "output_type": "stream",
     "text": [
      "[DEBUG] Epoch 2 train loss 1.4891, val loss 1.5664, val acc 45.01%, val f1 14.01%, val precision 22.68%, val recall 17.27%\n"
     ]
    },
    {
     "name": "stderr",
     "output_type": "stream",
     "text": [
      "Epoch 3 Training:   0%|          | 0/937 [00:30<?, ?it/s]\n",
      "c:\\Users\\admin\\anaconda3\\envs\\mer-gpu\\lib\\site-packages\\sklearn\\metrics\\_classification.py:1565: UndefinedMetricWarning: Precision is ill-defined and being set to 0.0 in labels with no predicted samples. Use `zero_division` parameter to control this behavior.\n",
      "  _warn_prf(average, modifier, f\"{metric.capitalize()} is\", len(result))\n"
     ]
    },
    {
     "name": "stdout",
     "output_type": "stream",
     "text": [
      "[DEBUG] Epoch 3 train loss 1.4676, val loss 1.5343, val acc 46.69%, val f1 17.55%, val precision 26.81%, val recall 19.42%\n"
     ]
    },
    {
     "name": "stderr",
     "output_type": "stream",
     "text": [
      "Epoch 4 Training:   0%|          | 0/937 [00:31<?, ?it/s]\n",
      "c:\\Users\\admin\\anaconda3\\envs\\mer-gpu\\lib\\site-packages\\sklearn\\metrics\\_classification.py:1565: UndefinedMetricWarning: Precision is ill-defined and being set to 0.0 in labels with no predicted samples. Use `zero_division` parameter to control this behavior.\n",
      "  _warn_prf(average, modifier, f\"{metric.capitalize()} is\", len(result))\n"
     ]
    },
    {
     "name": "stdout",
     "output_type": "stream",
     "text": [
      "[DEBUG] Epoch 4 train loss 1.4470, val loss 1.5450, val acc 46.60%, val f1 16.92%, val precision 27.06%, val recall 19.02%\n"
     ]
    },
    {
     "name": "stderr",
     "output_type": "stream",
     "text": [
      "Epoch 5 Training:   0%|          | 0/937 [00:30<?, ?it/s]\n",
      "c:\\Users\\admin\\anaconda3\\envs\\mer-gpu\\lib\\site-packages\\sklearn\\metrics\\_classification.py:1565: UndefinedMetricWarning: Precision is ill-defined and being set to 0.0 in labels with no predicted samples. Use `zero_division` parameter to control this behavior.\n",
      "  _warn_prf(average, modifier, f\"{metric.capitalize()} is\", len(result))\n"
     ]
    },
    {
     "name": "stdout",
     "output_type": "stream",
     "text": [
      "[DEBUG] Epoch 5 train loss 1.4356, val loss 1.5216, val acc 47.26%, val f1 18.77%, val precision 27.26%, val recall 20.20%\n"
     ]
    },
    {
     "name": "stderr",
     "output_type": "stream",
     "text": [
      "Epoch 6 Training:   0%|          | 0/937 [00:31<?, ?it/s]\n",
      "c:\\Users\\admin\\anaconda3\\envs\\mer-gpu\\lib\\site-packages\\sklearn\\metrics\\_classification.py:1565: UndefinedMetricWarning: Precision is ill-defined and being set to 0.0 in labels with no predicted samples. Use `zero_division` parameter to control this behavior.\n",
      "  _warn_prf(average, modifier, f\"{metric.capitalize()} is\", len(result))\n"
     ]
    },
    {
     "name": "stdout",
     "output_type": "stream",
     "text": [
      "[DEBUG] Epoch 6 train loss 1.4312, val loss 1.5186, val acc 46.72%, val f1 18.31%, val precision 26.98%, val recall 19.86%\n"
     ]
    },
    {
     "name": "stderr",
     "output_type": "stream",
     "text": [
      "Epoch 7 Training:   0%|          | 0/937 [00:31<?, ?it/s]\n",
      "c:\\Users\\admin\\anaconda3\\envs\\mer-gpu\\lib\\site-packages\\sklearn\\metrics\\_classification.py:1565: UndefinedMetricWarning: Precision is ill-defined and being set to 0.0 in labels with no predicted samples. Use `zero_division` parameter to control this behavior.\n",
      "  _warn_prf(average, modifier, f\"{metric.capitalize()} is\", len(result))\n"
     ]
    },
    {
     "name": "stdout",
     "output_type": "stream",
     "text": [
      "[DEBUG] Epoch 7 train loss 1.4288, val loss 1.5023, val acc 46.93%, val f1 18.81%, val precision 36.46%, val recall 20.10%\n"
     ]
    },
    {
     "name": "stderr",
     "output_type": "stream",
     "text": [
      "Epoch 8 Training:   0%|          | 0/937 [00:30<?, ?it/s]\n",
      "c:\\Users\\admin\\anaconda3\\envs\\mer-gpu\\lib\\site-packages\\sklearn\\metrics\\_classification.py:1565: UndefinedMetricWarning: Precision is ill-defined and being set to 0.0 in labels with no predicted samples. Use `zero_division` parameter to control this behavior.\n",
      "  _warn_prf(average, modifier, f\"{metric.capitalize()} is\", len(result))\n"
     ]
    },
    {
     "name": "stdout",
     "output_type": "stream",
     "text": [
      "[DEBUG] Epoch 8 train loss 1.4219, val loss 1.5252, val acc 46.96%, val f1 18.06%, val precision 27.47%, val recall 19.77%\n"
     ]
    },
    {
     "name": "stderr",
     "output_type": "stream",
     "text": [
      "Epoch 9 Training:   0%|          | 0/937 [00:30<?, ?it/s]\n",
      "c:\\Users\\admin\\anaconda3\\envs\\mer-gpu\\lib\\site-packages\\sklearn\\metrics\\_classification.py:1565: UndefinedMetricWarning: Precision is ill-defined and being set to 0.0 in labels with no predicted samples. Use `zero_division` parameter to control this behavior.\n",
      "  _warn_prf(average, modifier, f\"{metric.capitalize()} is\", len(result))\n"
     ]
    },
    {
     "name": "stdout",
     "output_type": "stream",
     "text": [
      "[DEBUG] Epoch 9 train loss 1.4230, val loss 1.5210, val acc 47.11%, val f1 18.00%, val precision 28.94%, val recall 19.66%\n"
     ]
    },
    {
     "name": "stderr",
     "output_type": "stream",
     "text": [
      "Epoch 10 Training:   0%|          | 0/937 [00:30<?, ?it/s]\n",
      "c:\\Users\\admin\\anaconda3\\envs\\mer-gpu\\lib\\site-packages\\sklearn\\metrics\\_classification.py:1565: UndefinedMetricWarning: Precision is ill-defined and being set to 0.0 in labels with no predicted samples. Use `zero_division` parameter to control this behavior.\n",
      "  _warn_prf(average, modifier, f\"{metric.capitalize()} is\", len(result))\n"
     ]
    },
    {
     "name": "stdout",
     "output_type": "stream",
     "text": [
      "[DEBUG] Epoch 10 train loss 1.4182, val loss 1.5139, val acc 47.23%, val f1 18.42%, val precision 27.84%, val recall 20.00%\n"
     ]
    },
    {
     "name": "stderr",
     "output_type": "stream",
     "text": [
      "Epoch 11 Training:   0%|          | 0/937 [00:30<?, ?it/s]\n",
      "c:\\Users\\admin\\anaconda3\\envs\\mer-gpu\\lib\\site-packages\\sklearn\\metrics\\_classification.py:1565: UndefinedMetricWarning: Precision is ill-defined and being set to 0.0 in labels with no predicted samples. Use `zero_division` parameter to control this behavior.\n",
      "  _warn_prf(average, modifier, f\"{metric.capitalize()} is\", len(result))\n"
     ]
    },
    {
     "name": "stdout",
     "output_type": "stream",
     "text": [
      "[DEBUG] Epoch 11 train loss 1.4163, val loss 1.5125, val acc 47.71%, val f1 19.60%, val precision 37.83%, val recall 20.77%\n",
      "Epoch 00011: reducing learning rate of group 0 to 5.0000e-04.\n"
     ]
    },
    {
     "name": "stderr",
     "output_type": "stream",
     "text": [
      "Epoch 12 Training:   0%|          | 0/937 [00:31<?, ?it/s]\n",
      "c:\\Users\\admin\\anaconda3\\envs\\mer-gpu\\lib\\site-packages\\sklearn\\metrics\\_classification.py:1565: UndefinedMetricWarning: Precision is ill-defined and being set to 0.0 in labels with no predicted samples. Use `zero_division` parameter to control this behavior.\n",
      "  _warn_prf(average, modifier, f\"{metric.capitalize()} is\", len(result))\n"
     ]
    },
    {
     "name": "stdout",
     "output_type": "stream",
     "text": [
      "[DEBUG] Epoch 12 train loss 1.4076, val loss 1.5151, val acc 47.17%, val f1 18.24%, val precision 28.94%, val recall 19.82%\n"
     ]
    },
    {
     "name": "stderr",
     "output_type": "stream",
     "text": [
      "Epoch 13 Training:   0%|          | 0/937 [00:31<?, ?it/s]\n",
      "c:\\Users\\admin\\anaconda3\\envs\\mer-gpu\\lib\\site-packages\\sklearn\\metrics\\_classification.py:1565: UndefinedMetricWarning: Precision is ill-defined and being set to 0.0 in labels with no predicted samples. Use `zero_division` parameter to control this behavior.\n",
      "  _warn_prf(average, modifier, f\"{metric.capitalize()} is\", len(result))\n"
     ]
    },
    {
     "name": "stdout",
     "output_type": "stream",
     "text": [
      "[DEBUG] Epoch 13 train loss 1.4024, val loss 1.5053, val acc 47.44%, val f1 19.35%, val precision 36.02%, val recall 20.48%\n"
     ]
    },
    {
     "name": "stderr",
     "output_type": "stream",
     "text": [
      "Epoch 14 Training:   0%|          | 0/937 [00:30<?, ?it/s]\n",
      "c:\\Users\\admin\\anaconda3\\envs\\mer-gpu\\lib\\site-packages\\sklearn\\metrics\\_classification.py:1565: UndefinedMetricWarning: Precision is ill-defined and being set to 0.0 in labels with no predicted samples. Use `zero_division` parameter to control this behavior.\n",
      "  _warn_prf(average, modifier, f\"{metric.capitalize()} is\", len(result))\n"
     ]
    },
    {
     "name": "stdout",
     "output_type": "stream",
     "text": [
      "[DEBUG] Epoch 14 train loss 1.4030, val loss 1.5108, val acc 47.26%, val f1 18.75%, val precision 32.63%, val recall 20.11%\n"
     ]
    },
    {
     "name": "stderr",
     "output_type": "stream",
     "text": [
      "Epoch 15 Training:   0%|          | 0/937 [00:31<?, ?it/s]\n",
      "c:\\Users\\admin\\anaconda3\\envs\\mer-gpu\\lib\\site-packages\\sklearn\\metrics\\_classification.py:1565: UndefinedMetricWarning: Precision is ill-defined and being set to 0.0 in labels with no predicted samples. Use `zero_division` parameter to control this behavior.\n",
      "  _warn_prf(average, modifier, f\"{metric.capitalize()} is\", len(result))\n"
     ]
    },
    {
     "name": "stdout",
     "output_type": "stream",
     "text": [
      "[DEBUG] Epoch 15 train loss 1.3978, val loss 1.5083, val acc 47.47%, val f1 18.95%, val precision 33.05%, val recall 20.33%\n",
      "Epoch 00015: reducing learning rate of group 0 to 2.5000e-04.\n"
     ]
    },
    {
     "name": "stderr",
     "output_type": "stream",
     "text": [
      "Epoch 16 Training:   0%|          | 0/937 [00:31<?, ?it/s]\n",
      "c:\\Users\\admin\\anaconda3\\envs\\mer-gpu\\lib\\site-packages\\sklearn\\metrics\\_classification.py:1565: UndefinedMetricWarning: Precision is ill-defined and being set to 0.0 in labels with no predicted samples. Use `zero_division` parameter to control this behavior.\n",
      "  _warn_prf(average, modifier, f\"{metric.capitalize()} is\", len(result))\n"
     ]
    },
    {
     "name": "stdout",
     "output_type": "stream",
     "text": [
      "[DEBUG] Epoch 16 train loss 1.3898, val loss 1.5063, val acc 47.89%, val f1 20.20%, val precision 37.97%, val recall 21.03%\n"
     ]
    },
    {
     "name": "stderr",
     "output_type": "stream",
     "text": [
      "Epoch 17 Training:   0%|          | 0/937 [00:31<?, ?it/s]\n",
      "c:\\Users\\admin\\anaconda3\\envs\\mer-gpu\\lib\\site-packages\\sklearn\\metrics\\_classification.py:1565: UndefinedMetricWarning: Precision is ill-defined and being set to 0.0 in labels with no predicted samples. Use `zero_division` parameter to control this behavior.\n",
      "  _warn_prf(average, modifier, f\"{metric.capitalize()} is\", len(result))\n"
     ]
    },
    {
     "name": "stdout",
     "output_type": "stream",
     "text": [
      "[DEBUG] Epoch 17 train loss 1.3891, val loss 1.5050, val acc 47.83%, val f1 20.27%, val precision 35.83%, val recall 21.09%\n"
     ]
    },
    {
     "name": "stderr",
     "output_type": "stream",
     "text": [
      "Epoch 18 Training:   0%|          | 0/937 [00:30<?, ?it/s]\n",
      "c:\\Users\\admin\\anaconda3\\envs\\mer-gpu\\lib\\site-packages\\sklearn\\metrics\\_classification.py:1565: UndefinedMetricWarning: Precision is ill-defined and being set to 0.0 in labels with no predicted samples. Use `zero_division` parameter to control this behavior.\n",
      "  _warn_prf(average, modifier, f\"{metric.capitalize()} is\", len(result))\n"
     ]
    },
    {
     "name": "stdout",
     "output_type": "stream",
     "text": [
      "[DEBUG] Epoch 18 train loss 1.3849, val loss 1.5020, val acc 47.89%, val f1 20.42%, val precision 36.59%, val recall 21.18%\n"
     ]
    },
    {
     "name": "stderr",
     "output_type": "stream",
     "text": [
      "Epoch 19 Training:   0%|          | 0/937 [00:31<?, ?it/s]\n",
      "c:\\Users\\admin\\anaconda3\\envs\\mer-gpu\\lib\\site-packages\\sklearn\\metrics\\_classification.py:1565: UndefinedMetricWarning: Precision is ill-defined and being set to 0.0 in labels with no predicted samples. Use `zero_division` parameter to control this behavior.\n",
      "  _warn_prf(average, modifier, f\"{metric.capitalize()} is\", len(result))\n"
     ]
    },
    {
     "name": "stdout",
     "output_type": "stream",
     "text": [
      "[DEBUG] Epoch 19 train loss 1.3852, val loss 1.5021, val acc 47.56%, val f1 19.76%, val precision 33.82%, val recall 20.76%\n"
     ]
    },
    {
     "name": "stderr",
     "output_type": "stream",
     "text": [
      "Epoch 20 Training:   0%|          | 0/937 [00:31<?, ?it/s]\n",
      "c:\\Users\\admin\\anaconda3\\envs\\mer-gpu\\lib\\site-packages\\sklearn\\metrics\\_classification.py:1565: UndefinedMetricWarning: Precision is ill-defined and being set to 0.0 in labels with no predicted samples. Use `zero_division` parameter to control this behavior.\n",
      "  _warn_prf(average, modifier, f\"{metric.capitalize()} is\", len(result))\n"
     ]
    },
    {
     "name": "stdout",
     "output_type": "stream",
     "text": [
      "[DEBUG] Epoch 20 train loss 1.3844, val loss 1.4960, val acc 48.23%, val f1 20.54%, val precision 39.39%, val recall 21.25%\n"
     ]
    },
    {
     "name": "stderr",
     "output_type": "stream",
     "text": [
      "Epoch 21 Training:   0%|          | 0/937 [00:31<?, ?it/s]\n",
      "c:\\Users\\admin\\anaconda3\\envs\\mer-gpu\\lib\\site-packages\\sklearn\\metrics\\_classification.py:1565: UndefinedMetricWarning: Precision is ill-defined and being set to 0.0 in labels with no predicted samples. Use `zero_division` parameter to control this behavior.\n",
      "  _warn_prf(average, modifier, f\"{metric.capitalize()} is\", len(result))\n"
     ]
    },
    {
     "name": "stdout",
     "output_type": "stream",
     "text": [
      "[DEBUG] Epoch 21 train loss 1.3820, val loss 1.5021, val acc 47.80%, val f1 20.12%, val precision 38.21%, val recall 20.94%\n"
     ]
    },
    {
     "name": "stderr",
     "output_type": "stream",
     "text": [
      "Epoch 22 Training:   0%|          | 0/937 [00:31<?, ?it/s]\n",
      "c:\\Users\\admin\\anaconda3\\envs\\mer-gpu\\lib\\site-packages\\sklearn\\metrics\\_classification.py:1565: UndefinedMetricWarning: Precision is ill-defined and being set to 0.0 in labels with no predicted samples. Use `zero_division` parameter to control this behavior.\n",
      "  _warn_prf(average, modifier, f\"{metric.capitalize()} is\", len(result))\n"
     ]
    },
    {
     "name": "stdout",
     "output_type": "stream",
     "text": [
      "[DEBUG] Epoch 22 train loss 1.3811, val loss 1.4939, val acc 47.89%, val f1 20.19%, val precision 35.89%, val recall 21.00%\n"
     ]
    },
    {
     "name": "stderr",
     "output_type": "stream",
     "text": [
      "Epoch 23 Training:   0%|          | 0/937 [00:31<?, ?it/s]\n",
      "c:\\Users\\admin\\anaconda3\\envs\\mer-gpu\\lib\\site-packages\\sklearn\\metrics\\_classification.py:1565: UndefinedMetricWarning: Precision is ill-defined and being set to 0.0 in labels with no predicted samples. Use `zero_division` parameter to control this behavior.\n",
      "  _warn_prf(average, modifier, f\"{metric.capitalize()} is\", len(result))\n"
     ]
    },
    {
     "name": "stdout",
     "output_type": "stream",
     "text": [
      "[DEBUG] Epoch 23 train loss 1.3788, val loss 1.5018, val acc 48.16%, val f1 20.98%, val precision 36.04%, val recall 21.47%\n"
     ]
    },
    {
     "name": "stderr",
     "output_type": "stream",
     "text": [
      "Epoch 24 Training:   0%|          | 0/937 [00:30<?, ?it/s]\n",
      "c:\\Users\\admin\\anaconda3\\envs\\mer-gpu\\lib\\site-packages\\sklearn\\metrics\\_classification.py:1565: UndefinedMetricWarning: Precision is ill-defined and being set to 0.0 in labels with no predicted samples. Use `zero_division` parameter to control this behavior.\n",
      "  _warn_prf(average, modifier, f\"{metric.capitalize()} is\", len(result))\n"
     ]
    },
    {
     "name": "stdout",
     "output_type": "stream",
     "text": [
      "[DEBUG] Epoch 24 train loss 1.3780, val loss 1.4974, val acc 47.50%, val f1 20.36%, val precision 33.89%, val recall 21.04%\n"
     ]
    },
    {
     "name": "stderr",
     "output_type": "stream",
     "text": [
      "Epoch 25 Training:   0%|          | 0/937 [00:30<?, ?it/s]\n",
      "c:\\Users\\admin\\anaconda3\\envs\\mer-gpu\\lib\\site-packages\\sklearn\\metrics\\_classification.py:1565: UndefinedMetricWarning: Precision is ill-defined and being set to 0.0 in labels with no predicted samples. Use `zero_division` parameter to control this behavior.\n",
      "  _warn_prf(average, modifier, f\"{metric.capitalize()} is\", len(result))\n"
     ]
    },
    {
     "name": "stdout",
     "output_type": "stream",
     "text": [
      "[DEBUG] Epoch 25 train loss 1.3750, val loss 1.5004, val acc 47.86%, val f1 20.54%, val precision 35.88%, val recall 21.16%\n"
     ]
    },
    {
     "name": "stderr",
     "output_type": "stream",
     "text": [
      "Epoch 26 Training:   0%|          | 0/937 [00:31<?, ?it/s]\n",
      "c:\\Users\\admin\\anaconda3\\envs\\mer-gpu\\lib\\site-packages\\sklearn\\metrics\\_classification.py:1565: UndefinedMetricWarning: Precision is ill-defined and being set to 0.0 in labels with no predicted samples. Use `zero_division` parameter to control this behavior.\n",
      "  _warn_prf(average, modifier, f\"{metric.capitalize()} is\", len(result))\n"
     ]
    },
    {
     "name": "stdout",
     "output_type": "stream",
     "text": [
      "[DEBUG] Epoch 26 train loss 1.3740, val loss 1.4942, val acc 47.92%, val f1 20.86%, val precision 34.52%, val recall 21.38%\n",
      "Epoch 00026: reducing learning rate of group 0 to 1.2500e-04.\n"
     ]
    },
    {
     "name": "stderr",
     "output_type": "stream",
     "text": [
      "Epoch 27 Training:   0%|          | 0/937 [00:31<?, ?it/s]\n",
      "c:\\Users\\admin\\anaconda3\\envs\\mer-gpu\\lib\\site-packages\\sklearn\\metrics\\_classification.py:1565: UndefinedMetricWarning: Precision is ill-defined and being set to 0.0 in labels with no predicted samples. Use `zero_division` parameter to control this behavior.\n",
      "  _warn_prf(average, modifier, f\"{metric.capitalize()} is\", len(result))\n"
     ]
    },
    {
     "name": "stdout",
     "output_type": "stream",
     "text": [
      "[DEBUG] Epoch 27 train loss 1.3691, val loss 1.4921, val acc 47.92%, val f1 20.58%, val precision 35.00%, val recall 21.21%\n"
     ]
    },
    {
     "name": "stderr",
     "output_type": "stream",
     "text": [
      "Epoch 28 Training:   0%|          | 0/937 [00:31<?, ?it/s]\n",
      "c:\\Users\\admin\\anaconda3\\envs\\mer-gpu\\lib\\site-packages\\sklearn\\metrics\\_classification.py:1565: UndefinedMetricWarning: Precision is ill-defined and being set to 0.0 in labels with no predicted samples. Use `zero_division` parameter to control this behavior.\n",
      "  _warn_prf(average, modifier, f\"{metric.capitalize()} is\", len(result))\n"
     ]
    },
    {
     "name": "stdout",
     "output_type": "stream",
     "text": [
      "[DEBUG] Epoch 28 train loss 1.3675, val loss 1.4965, val acc 47.68%, val f1 20.99%, val precision 34.86%, val recall 21.39%\n"
     ]
    },
    {
     "name": "stderr",
     "output_type": "stream",
     "text": [
      "Epoch 29 Training:   0%|          | 0/937 [00:31<?, ?it/s]\n",
      "c:\\Users\\admin\\anaconda3\\envs\\mer-gpu\\lib\\site-packages\\sklearn\\metrics\\_classification.py:1565: UndefinedMetricWarning: Precision is ill-defined and being set to 0.0 in labels with no predicted samples. Use `zero_division` parameter to control this behavior.\n",
      "  _warn_prf(average, modifier, f\"{metric.capitalize()} is\", len(result))\n"
     ]
    },
    {
     "name": "stdout",
     "output_type": "stream",
     "text": [
      "[DEBUG] Epoch 29 train loss 1.3652, val loss 1.4938, val acc 48.04%, val f1 21.11%, val precision 35.44%, val recall 21.50%\n"
     ]
    },
    {
     "name": "stderr",
     "output_type": "stream",
     "text": [
      "Epoch 30 Training:   0%|          | 0/937 [00:31<?, ?it/s]\n"
     ]
    },
    {
     "name": "stdout",
     "output_type": "stream",
     "text": [
      "[DEBUG] Epoch 30 train loss 1.3650, val loss 1.4933, val acc 48.13%, val f1 21.64%, val precision 35.18%, val recall 21.87%\n"
     ]
    },
    {
     "name": "stderr",
     "output_type": "stream",
     "text": [
      "c:\\Users\\admin\\anaconda3\\envs\\mer-gpu\\lib\\site-packages\\sklearn\\metrics\\_classification.py:1565: UndefinedMetricWarning: Precision is ill-defined and being set to 0.0 in labels with no predicted samples. Use `zero_division` parameter to control this behavior.\n",
      "  _warn_prf(average, modifier, f\"{metric.capitalize()} is\", len(result))\n"
     ]
    }
   ],
   "source": [
    "graph_cfusion_model = train(graphCFusionModel, train_loader, val_loader, optimizer, criterion, args, epochs=30, save_model='graph_cfusion_best_model.pth', log_file='graph_model_train_log.txt')\n"
   ]
  },
  {
   "cell_type": "code",
   "execution_count": 12,
   "metadata": {},
   "outputs": [
    {
     "name": "stderr",
     "output_type": "stream",
     "text": [
      "Testing:   1%|          | 3/245 [00:00<00:09, 26.59it/s]"
     ]
    },
    {
     "name": "stderr",
     "output_type": "stream",
     "text": [
      "Testing: 100%|██████████| 245/245 [00:04<00:00, 53.37it/s]"
     ]
    },
    {
     "name": "stdout",
     "output_type": "stream",
     "text": [
      "[DEBUG] Test Accuracy: 52.58%, Test F1 Score: 21.57%\n",
      "[DEBUG] Class 0 - Precision: 53.63%, Recall: 94.69%, F1-Score: 68.48%\n",
      "[DEBUG] Class 1 - Precision: 50.00%, Recall: 17.66%, F1-Score: 26.10%\n",
      "[DEBUG] Class 2 - Precision: 43.20%, Recall: 14.11%, F1-Score: 21.27%\n",
      "[DEBUG] Class 3 - Precision: 0.00%, Recall: 0.00%, F1-Score: 0.00%\n",
      "[DEBUG] Class 4 - Precision: 36.62%, Recall: 4.17%, F1-Score: 7.48%\n",
      "[DEBUG] Class 5 - Precision: 0.00%, Recall: 0.00%, F1-Score: 0.00%\n",
      "[DEBUG] Class 6 - Precision: 47.95%, Recall: 19.45%, F1-Score: 27.68%\n",
      "{'0': {'precision': 0.5362994137982865, 'recall': 0.9469214437367304, 'f1-score': 0.6847711352077536, 'support': 3768.0}, '1': {'precision': 0.5, 'recall': 0.17661691542288557, 'f1-score': 0.2610294117647059, 'support': 1206.0}, '2': {'precision': 0.4319526627218935, 'recall': 0.14106280193236714, 'f1-score': 0.21267297887836853, 'support': 1035.0}, '3': {'precision': 0.0, 'recall': 0.0, 'f1-score': 0.0, 'support': 204.0}, '4': {'precision': 0.36619718309859156, 'recall': 0.041666666666666664, 'f1-score': 0.07482014388489208, 'support': 624.0}, '5': {'precision': 0.0, 'recall': 0.0, 'f1-score': 0.0, 'support': 150.0}, '6': {'precision': 0.47953216374269003, 'recall': 0.19454329774614473, 'f1-score': 0.2767932489451477, 'support': 843.0}, 'accuracy': 0.5257982120051086, 'macro avg': {'precision': 0.33056877476592306, 'recall': 0.2144015893578278, 'f1-score': 0.2157267026686954, 'support': 7830.0}, 'weighted avg': {'precision': 0.4730012584160551, 'recall': 0.5257982120051086, 'f1-score': 0.43360921070690855, 'support': 7830.0}}\n"
     ]
    },
    {
     "name": "stderr",
     "output_type": "stream",
     "text": [
      "\n",
      "c:\\Users\\admin\\anaconda3\\envs\\mer-gpu\\lib\\site-packages\\sklearn\\metrics\\_classification.py:1565: UndefinedMetricWarning: Precision is ill-defined and being set to 0.0 in labels with no predicted samples. Use `zero_division` parameter to control this behavior.\n",
      "  _warn_prf(average, modifier, f\"{metric.capitalize()} is\", len(result))\n",
      "c:\\Users\\admin\\anaconda3\\envs\\mer-gpu\\lib\\site-packages\\sklearn\\metrics\\_classification.py:1565: UndefinedMetricWarning: Precision is ill-defined and being set to 0.0 in labels with no predicted samples. Use `zero_division` parameter to control this behavior.\n",
      "  _warn_prf(average, modifier, f\"{metric.capitalize()} is\", len(result))\n",
      "c:\\Users\\admin\\anaconda3\\envs\\mer-gpu\\lib\\site-packages\\sklearn\\metrics\\_classification.py:1565: UndefinedMetricWarning: Precision is ill-defined and being set to 0.0 in labels with no predicted samples. Use `zero_division` parameter to control this behavior.\n",
      "  _warn_prf(average, modifier, f\"{metric.capitalize()} is\", len(result))\n"
     ]
    },
    {
     "data": {
      "text/plain": [
       "(0.5257982120051086, 0.2157267026686954)"
      ]
     },
     "execution_count": 12,
     "metadata": {},
     "output_type": "execute_result"
    }
   ],
   "source": [
    "graphCFusionModel.load_state_dict(torch.load('graph_cfusion_best_model.pth'))\n",
    "evaluate(graphCFusionModel, test_loader, args, log_file='graph_model_test_log.txt')"
   ]
  },
  {
   "cell_type": "code",
   "execution_count": null,
   "metadata": {},
   "outputs": [
    {
     "name": "stderr",
     "output_type": "stream",
     "text": [
      "Testing: 100%|██████████| 245/245 [00:05<00:00, 44.49it/s]"
     ]
    },
    {
     "name": "stdout",
     "output_type": "stream",
     "text": [
      "[DEBUG] Test Accuracy: 52.85%, Test F1 Score: 21.52%\n",
      "[DEBUG] Class 0 - Precision: 53.45%, Recall: 95.73%, F1-Score: 68.60%\n",
      "[DEBUG] Class 1 - Precision: 51.36%, Recall: 18.74%, F1-Score: 27.46%\n",
      "[DEBUG] Class 2 - Precision: 45.67%, Recall: 11.21%, F1-Score: 18.00%\n",
      "[DEBUG] Class 3 - Precision: 0.00%, Recall: 0.00%, F1-Score: 0.00%\n",
      "[DEBUG] Class 4 - Precision: 43.59%, Recall: 5.45%, F1-Score: 9.69%\n",
      "[DEBUG] Class 5 - Precision: 0.00%, Recall: 0.00%, F1-Score: 0.00%\n",
      "[DEBUG] Class 6 - Precision: 50.00%, Recall: 18.39%, F1-Score: 26.89%\n",
      "{'0': {'precision': 0.5345287492590397, 'recall': 0.957271762208068, 'f1-score': 0.6860022822365919, 'support': 3768.0}, '1': {'precision': 0.5136363636363637, 'recall': 0.18739635157545606, 'f1-score': 0.27460510328068044, 'support': 1206.0}, '2': {'precision': 0.4566929133858268, 'recall': 0.11207729468599034, 'f1-score': 0.1799844840961986, 'support': 1035.0}, '3': {'precision': 0.0, 'recall': 0.0, 'f1-score': 0.0, 'support': 204.0}, '4': {'precision': 0.4358974358974359, 'recall': 0.05448717948717949, 'f1-score': 0.09686609686609686, 'support': 624.0}, '5': {'precision': 0.0, 'recall': 0.0, 'f1-score': 0.0, 'support': 150.0}, '6': {'precision': 0.5, 'recall': 0.18386714116251482, 'f1-score': 0.2688638334778838, 'support': 843.0}, 'accuracy': 0.5284802043422733, 'macro avg': {'precision': 0.34867935173980946, 'recall': 0.21358567558845837, 'f1-score': 0.21518882856535024, 'support': 7830.0}, 'weighted avg': {'precision': 0.4852780264505551, 'recall': 0.5284802043422733, 'f1-score': 0.43287496183012064, 'support': 7830.0}}\n"
     ]
    },
    {
     "name": "stderr",
     "output_type": "stream",
     "text": [
      "\n",
      "c:\\Users\\admin\\anaconda3\\envs\\mer-gpu\\lib\\site-packages\\sklearn\\metrics\\_classification.py:1565: UndefinedMetricWarning: Precision is ill-defined and being set to 0.0 in labels with no predicted samples. Use `zero_division` parameter to control this behavior.\n",
      "  _warn_prf(average, modifier, f\"{metric.capitalize()} is\", len(result))\n",
      "c:\\Users\\admin\\anaconda3\\envs\\mer-gpu\\lib\\site-packages\\sklearn\\metrics\\_classification.py:1565: UndefinedMetricWarning: Precision is ill-defined and being set to 0.0 in labels with no predicted samples. Use `zero_division` parameter to control this behavior.\n",
      "  _warn_prf(average, modifier, f\"{metric.capitalize()} is\", len(result))\n",
      "c:\\Users\\admin\\anaconda3\\envs\\mer-gpu\\lib\\site-packages\\sklearn\\metrics\\_classification.py:1565: UndefinedMetricWarning: Precision is ill-defined and being set to 0.0 in labels with no predicted samples. Use `zero_division` parameter to control this behavior.\n",
      "  _warn_prf(average, modifier, f\"{metric.capitalize()} is\", len(result))\n"
     ]
    },
    {
     "data": {
      "text/plain": [
       "(0.5284802043422733, 0.21518882856535024)"
      ]
     },
     "execution_count": 2,
     "metadata": {},
     "output_type": "execute_result"
    }
   ],
   "source": [
    "graphmodel = graphModel.load_state_dict(torch.load('graph_cfusion_best_model.pth'))\n",
    "evaluate(graphModel, test_loader, args, log_file='graph_model_test_log.txt')"
   ]
  },
  {
   "cell_type": "code",
   "execution_count": null,
   "metadata": {},
   "outputs": [],
   "source": []
  }
 ],
 "metadata": {
  "kernelspec": {
   "display_name": "mer-gpu",
   "language": "python",
   "name": "python3"
  },
  "language_info": {
   "codemirror_mode": {
    "name": "ipython",
    "version": 3
   },
   "file_extension": ".py",
   "mimetype": "text/x-python",
   "name": "python",
   "nbconvert_exporter": "python",
   "pygments_lexer": "ipython3",
   "version": "3.9.21"
  }
 },
 "nbformat": 4,
 "nbformat_minor": 2
}
